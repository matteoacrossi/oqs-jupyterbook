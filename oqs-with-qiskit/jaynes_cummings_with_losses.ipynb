{
 "cells": [
  {
   "cell_type": "markdown",
   "metadata": {
    "tags": [
     "hide_input"
    ]
   },
   "source": [
    "$\\newcommand{\\Mn}{M_n(\\mathbb{C})}$\n",
    "$\\newcommand{\\Mq}{M_2(\\mathbb{C})}$\n",
    "$\\newcommand{\\Mk}{M_k(\\mathbb{C})}$\n",
    "$\\newcommand{\\Mm}{M_m(\\mathbb{C})}$\n",
    "$\\newcommand{\\Mnm}{M_{n \\times m}(\\mathbb{C})}$\n",
    "$\\newcommand{\\Mnp}{M_n^+(\\mathbb{C})}$\n",
    "$\\newcommand{\\ra}{\\,\\rightarrow\\,}$\n",
    "$\\newcommand{\\id}{\\mbox{id}}$\n",
    "$\\newcommand{\\ot}{ {\\,\\otimes\\,}}$\n",
    "$\\newcommand{\\Cd}{ {\\mathbb{C}^d}}$\n",
    "$\\newcommand{\\Rn}{ {\\mathbb{R}^n}}$"
   ]
  },
  {
   "cell_type": "markdown",
   "metadata": {},
   "source": [
    "# Jaynes-Cummings model with losses\n",
    "\n",
    "## The model and its exact solution <a id='model'></a>"
   ]
  },
  {
   "cell_type": "markdown",
   "metadata": {},
   "source": [
    "We will now study a paradigmatic example of an open quantum system amenable to an exact solution. Solving the dynamics exactly, to all orders in the coupling constant, allows us to compare the exact approach with perturbative TCL solutions."
   ]
  },
  {
   "cell_type": "markdown",
   "metadata": {},
   "source": [
    "The physical model we investigate is a two-level atom in a bosonic reservoir at zero temperature. The total Hamiltonian is  ($\\hbar=1$)\n",
    "\n",
    "$$\n",
    "H=H_{S}+H_{E}+H_{I}\n",
    "$$\n",
    "\n",
    "where\n",
    "\n",
    "\\begin{equation}\n",
    "\\begin{aligned}\n",
    "&H_{S}=\\frac{\\omega_{0}}{2}\\sigma_{z},\\\\\n",
    "&H_{E}=\\sum_{k}\\omega_{k}b_{k}^{\\dagger}b_{k},\\\\\n",
    "&H_{I}=\\sum_{k}(g_{k}\\sigma_{+}b_{k}+g_{k}^{*}\\sigma_{-}b_{k}^{\\dagger}),\n",
    "\\end{aligned}\n",
    "\\label{hams}\n",
    "\\tag{7.1}\n",
    "\\end{equation}\n",
    "\n",
    "where $\\sigma_{z}$ is the Pauli matrix, $\\sigma_{\\pm}$ the raising and lowering operators, $b_{k}^{\\dagger}, b_{k}$ the bosonic creation/annihilation operators of the environment, the index $\\{k\\}$ labels the different field modes of the reservoir with frequencies $\\omega_k$, and $g_k$ are the coupling constants.\n",
    "The interaction Hamiltonian describes a process where an excitation is exchanged between the system and the environment. It is important to remark that this type of interaction conserves the total number of excitations initially present in the total system, and indeed the existence of this constant of motion is crucial for the derivation of an exact solution. In the following we will derive the exact solution for the total closed system and, from this solution, we will obtain the dynamics of the open system."
   ]
  },
  {
   "cell_type": "markdown",
   "metadata": {},
   "source": [
    "Assuming that only one excitation is present in the total system, the total Hilbert space is spanned by the following states $\\{|\\psi_{0}\\rangle=|g\\rangle\\otimes|0\\rangle, |\\psi_{1}\\rangle=|e\\rangle\\otimes|0\\rangle, |\\psi_{k}\\rangle=|g\\rangle\\otimes|1_{k}\\rangle\\}$, where $|0\\rangle=\\otimes_{k}|0_{k}\\rangle$ is the multimode vacuum state of the reservoir, $|1_{k}\\rangle$ denotes the state with one photon in mode $k$ of the environment and $|e\\rangle$ and $|g\\rangle$ are the excited and ground states of the two-level atom, respectively."
   ]
  },
  {
   "cell_type": "markdown",
   "metadata": {},
   "source": [
    "Let us consider the Schrödinger equation in the interaction picture\n",
    "\n",
    "$$\n",
    "\\frac{d}{dt}|\\psi(t)\\rangle=-iH_{I}(t)|\\psi(t)\\rangle\n",
    "$$\n",
    "\n",
    "where \n",
    "\n",
    "$$H_{I}(t)=\\exp[i(H_{S}+H_{E})t]H_I\\exp[-i(H_{S}+H_{E})t]=\\sum_{k}g_{k}\\sigma_{+}(t)b_{k}(t)+g_{k}^{*}\\sigma_{-}(t)b_{k}(t)^{\\dagger},$$ \n",
    "\n",
    "with $\\sigma_{\\pm}(t)=\\sigma_{\\pm}(0)e^{\\pm i\\omega_{0}t}$ and $b_{k}(t)=b_{k}e^{-i \\omega_k t}$. \n",
    "\n",
    "Since the total number of excitations $N$, given by\n",
    "\n",
    "$$\n",
    "N=\\sigma_{+}\\sigma_{-}+\\sum_{k}b_{k}^{\\dagger}b_{k}\n",
    "$$\n",
    "\n",
    "is a constant of motion, i.e. $[H,N]=0$, the total state of the system $|\\psi(t)\\rangle$ can be written as\n",
    "\n",
    "\\begin{equation}\n",
    "    |\\psi(t)\\rangle=c_{0}(t)|\\psi_{0}\\rangle+c_{1}(t)|\\psi_{1}\\rangle+\\sum_{k}c_{k}(t)|\\psi_{k}\\rangle.\n",
    "\\label{psit}\n",
    "\\tag{7.2}\n",
    "\\end{equation}"
   ]
  },
  {
   "cell_type": "markdown",
   "metadata": {},
   "source": [
    "Noting that $H_{I}(t)|\\psi_{0}\\rangle=0$, one can see that the amplitude $c_{0}(t)=c_0$ is constant. Inserting (\\ref{psit}) in the Schrödinger equation we get the following set of coupled differential equations for the coefficients\n",
    "\n",
    "\\begin{equation}\n",
    "\\begin{cases}\n",
    "\\dot{c}_{1}=-i\\sum_{k}g_{k}e^{i(\\omega_{0}-\\omega_{k})t}c_{k}\\\\\n",
    "\\dot{c}_{k}=-ig_{k}^*e^{-i(\\omega_{0}-\\omega_{k})t}c_{1}\\\\\n",
    "\\end{cases}\n",
    "\\label{ed1}\n",
    "\\tag{7.3}\n",
    "\\end{equation}\n",
    "\n",
    "We can formally solve the equation for the $c_{k}$'s, assuming that $c_k(0) = 0$,\n",
    "\n",
    "\\begin{equation}\n",
    "\\begin{aligned}\n",
    "&c_{k}(t)=- ig_{k}^{*}\\int_{0}^{t}dt'e^{-i(\\omega_{0}-\\omega_{k})t'}c_{1}(t')\n",
    "\\end{aligned}\n",
    "\\label{ed2}\n",
    "\\tag{7.4}\n",
    "\\end{equation}\n",
    "\n",
    "and, inserting Eq. (\\ref{ed2}) in the equation for $c_1(t)$, we obtain\n",
    "\n",
    "\\begin{equation}\n",
    "\\dot{c}_{1}(t)=- \\sum_{k}|g_{k}|^{2}\\int_{0}^{t}dt'e^{-i(\\omega_{0}-\\omega_{k})(t-t')}c_{1}(t'). \\label{eq:c1}\n",
    "\\tag{7.5}\n",
    "\\end{equation}"
   ]
  },
  {
   "cell_type": "markdown",
   "metadata": {},
   "source": [
    "Passing to the continuum limit, i.e. replacing the discrete spectral distribution with a continuous spectral density, \n",
    "\n",
    "$$\n",
    "\\sum_{k}|g_{k}|^{2}\\to\\int d\\omega J(\\omega)\n",
    "$$\n",
    "\n",
    "we can define the reservoir correlation function $f (t-t')$ as follows\n",
    "\n",
    "$$\n",
    "f(t-t')=\\int d\\omega J(\\omega)e^{i(\\omega_{0}-\\omega)(t-t')}.\n",
    "$$\n",
    "\n",
    "It is a simple but useful exercise to show that, if  the environment is in the vacuum state $\\varrho_{B}=|0\\rangle \\langle0|$, then $\\int d\\omega J(\\omega) e^{-i\\omega(t-t')}=\\textrm{Tr}_{B}[B(t)B^{\\dagger}(t')\\varrho_{B}]$, where $B(t)=\\sum_k g_k b_k \\exp(-i\\omega_k t)$. Moreover, if $J(\\omega)$ is an integrable function, we can exchange the order of integration in Eq. (\\ref{eq:c1}) obtaining\n",
    "\n",
    "\\begin{equation}\n",
    "\\dot{c}_{1}(t)=-\\int_{0}^{t}dt' f(t-t')c_{1}(t').\n",
    "\\label{integrodiff}\n",
    "\\tag{7.6}\n",
    "\\end{equation}"
   ]
  },
  {
   "cell_type": "markdown",
   "metadata": {},
   "source": [
    "The reduced density matrix of the two-level system is obtained from the total system pure state by tracing over the reservoir degrees of freedom:\n",
    "\n",
    "$$\n",
    "\\begin{aligned}\n",
    "\\varrho_{S}(t)&=\\textrm{Tr}_{B}\\{|\\psi(t)\\rangle\\langle\\psi(t)|\\}=\\langle 0|\\psi(t)\\rangle\\langle\\psi(t)|0\\rangle+\\sum_{k}\\langle 1_{k}|\\psi(t)\\rangle\\langle\\psi(t)|1_{k}\\rangle\\\\\n",
    "&=|c_{0}|^{2}|g\\rangle\\langle g|+c_{0}^{*}c_{1}(t)|g\\rangle\\langle e|+c_{1}^{*}(t)c_{0}|e\\rangle\\langle g|\\\\\n",
    "&+\\sum_{k}|c_{k}(t)|^{2}|g\\rangle\\langle g|+|c_{1}(t)|^{2}{|e\\rangle\\langle e|}.\n",
    "\\end{aligned}\n",
    "$$\n",
    "\n",
    "Since $|c_{0}|^{2}+|c_{1}(t)|^{2}+\\sum_{k}|c_{k}(t)|^{2}=1$ we can rewrite $\\varrho_{S}(t)$ as follows\n",
    "\n",
    "\\begin{equation}\n",
    "\\varrho_{S}(t)=\n",
    "\\left(\n",
    "\\begin{array}{cc}\n",
    " |c_{1}(t)|^{2} & c_{0}^{*}c_{1}(t) \\\\\n",
    " c_{0}c_{1}^{*}(t) & 1- |c_{1}(t)|^{2}    \n",
    " \\end{array}\n",
    "\\right).\n",
    "\\label{rohs}\n",
    "\\tag{7.7}\n",
    "\\end{equation}\n",
    "\n",
    "The equation above shows that the dynamics of the reduced system only depends on the coefficient $c_1(t)$ and on the initial condition $c_0$. "
   ]
  },
  {
   "cell_type": "markdown",
   "metadata": {},
   "source": [
    "Let us define \n",
    "\n",
    "\\begin{eqnarray}\n",
    "S(t)&=&-2\\Im\\left[\\frac{\\dot{c}_{1}(t)}{c_{1}(t)}\\right], \\label{eq:St}\n",
    "\\tag{7.8}\n",
    "\\end{eqnarray}\n",
    "\\begin{eqnarray}\n",
    "\\gamma(t)&=&-2\\Re\\left[\\frac{\\dot{c}_{1}(t)}{c_{1}(t)}\\right],\\label{eq:g}\n",
    "\\tag{7.9}\n",
    "\\end{eqnarray}\n",
    "\n",
    "i.e. the time-dependent Lamb shift $S(t)$ and the decay rate $\\gamma(t)$ are the imaginary and real part, respectively, of the ratio between the derivative of $c_1(t)$ and the coefficient itself.\n",
    "\n",
    "By deriving the solution for the reduced density matrix, i.e. Eq. (\\ref{rohs}), it is straightforward to show that the master equation is given by\n",
    "\n",
    "\\begin{equation}\n",
    "\\frac{d\\varrho_{S}}{dt}(t)=-\\frac{iS(t)}{2}\\left[\\sigma_{z},\\varrho_{S}(t)\\right]+\\gamma(t)\\left[\\sigma_{-}\\varrho_{S}(t)\\sigma_{+}-\\frac{1}{2}\\{\\sigma_{+}\\sigma_{-},\\varrho_{S}(t)\\}\\right].\n",
    "\\label{me}\n",
    "\\tag{7.10}\n",
    "\\end{equation}"
   ]
  },
  {
   "cell_type": "markdown",
   "metadata": {},
   "source": [
    "This is the exact master equation for the system dynamics. However, for the equation above to be considered a proper master equation, the Lamb shift $S(t)$ and the decay rate $\\gamma(t)$ should be properties of the open system only and should not depend on the initial state of the system. This does not seem to be the case from Eqs. (\\ref{eq:St})-(\\ref{eq:g}). One should notice that, as Eq. (\\ref{integrodiff}) is a first order integro-differential equation, it admits one independent solution only, and in particular it admits a solution of the form $c_1(t) = c f(t)$, with $f(t)$ a time dependent function and $c$ a constant. Hence, the general solution can be written as $c_1(t)=c_1(0) f(t)$, which eliminates the dependence on the initial condition in both $S(t)$ and $\\gamma(t)$."
   ]
  },
  {
   "cell_type": "markdown",
   "metadata": {},
   "source": [
    "Another important remark is that  Eq. (\\ref{me}) is exact; however, it is in time local form, i.e. it does not contain memory kernels. One could argue whether this equation always exists (remember our discussion on the existence of the inverse superoperator $(\\textrm{I}- \\Sigma(t))^{-1}$ in the TCL projection operator derivation). It is easy to see that the time-dependent decay rate diverges if $c_1(t)=0$ (and $\\dot{c}_1(t)\\neq 0$) for certain time instants. In this case, even if the solution of the master equation is well defined, the master equation is not. In other words a TCL master equation does not exist."
   ]
  },
  {
   "cell_type": "markdown",
   "metadata": {},
   "source": [
    "Finally, we note that, in order to apply the method described in this section, we have assumed that the spectral density function is integrable. This is not the case, for example, in certain models of photonic band gap materials, wherein\n",
    "\n",
    "\\begin{eqnarray}\n",
    "J(\\omega)= \\frac{c}{\\sqrt{\\omega - \\omega_e}} \\theta(\\omega - \\omega_e).\n",
    "\\tag{7.11}\n",
    "\\end{eqnarray}"
   ]
  },
  {
   "cell_type": "markdown",
   "metadata": {},
   "source": [
    "## Lorentzian spectral density <a id='Lor'></a>"
   ]
  },
  {
   "cell_type": "markdown",
   "metadata": {},
   "source": [
    "A paradigmatic example of an exact model for an open quantum system is the case of a two level atom interacting with the electromagnetic field in the vacuum, with a Lorentzian spectral density\n",
    "\n",
    "\\begin{equation}\n",
    "J(\\omega)=\\frac{1}{2\\pi}\\frac{\\gamma_{0}\\lambda^{2}}{(\\omega_{0}-\\omega)^{2}+\\lambda^{2}}.\n",
    "\\label{lor}\n",
    "\\tag{7.12}\n",
    "\\end{equation} \n",
    "\n",
    "A Lorentzian spectrum describes, for example the quantized field inside a single mode high Q optical cavity. For this type of spectrum, the correlation function $f(t-t')=\\int d\\omega J(\\omega)e^{i(\\omega_{0}-\\omega)(t-t')}=\\frac{\\gamma_{0}\\lambda}{2}e^{-\\lambda(t-t')}$ describes an exponential decay with rate $\\lambda$."
   ]
  },
  {
   "cell_type": "markdown",
   "metadata": {},
   "source": [
    "If we now take the Laplace transform of Eq. (\\ref{integrodiff}), namely $s\\tilde{c}(s)-c(0)=-\\tilde{f}(s)\\tilde{c}(s)$ (See [Appendix 7.4](#appendix) at the end of this chapter), we get \n",
    "\n",
    "$$\\tilde{c}(s)=\\left[\\frac{1}{s+\\tilde{f}(s)}\\right]c(0).$$ \n",
    "\n",
    "Performing the inverse Laplace transform leads to\n",
    "\n",
    "$$\n",
    "\\begin{aligned}\n",
    "\\textrm{Lap}^{-1}\\left[\\frac{1}{s+\\tilde{f}(s)}\\right]&=\\sum_{k}\\frac{1}{(n_{k}-1)!}\\left(\\frac{d^{(n_{k}-1)}}{ds}\\right)\\frac{e^{st}}{s+\\tilde{f}(s)}(s-p_{k})^{n_{k}}\\Bigg |_{s=p_{k}}\\\\\n",
    "\\\\\n",
    "&= \\left(\\frac{s_{+}+\\lambda}{s_{+}-s_{-}}\\right)e^{s_{+}t}+\\left(\\frac{s_{-}+\\lambda}{s_{-}-s_{+}}\\right)e^{s_{-}t}.\n",
    "\\end{aligned}$$\n",
    "\n",
    "Hence, we get to the following solution\n",
    "\n",
    "\\begin{equation}\n",
    "c_{1}(t)=c_{1}(0)e^{-\\lambda t/2}\\left[\\cosh\\left(\\frac{\\lambda t}{2}\\sqrt{1-2R}\\right)+\\frac{1}{\\sqrt{1-2R}}\\sinh\\left(\\frac{\\lambda t}{2}\\sqrt{1-2R}\\right)\\right].\n",
    "\\label{c1lor}\n",
    "\\tag{7.13}\n",
    "\\end{equation}\n",
    "\n",
    "where $R=\\gamma_{0}/\\lambda$. From this equation we can calculate the reduced density matrix elements, e.g. the excited state probability $\\varrho_{ee}(t)=\\left|c_{1}(t)\\right|^{2}$."
   ]
  },
  {
   "cell_type": "markdown",
   "metadata": {},
   "source": [
    "### Weak and strong coupling\n",
    "\n",
    "We can switch from weak to strong coupling by varying the $R$ parameter, which quantifies the competitive effects of coupling and dissipation. [Figure 1](#figure_1) (left) shows the dynamics of $ρ_{ee}(t)$ in a wide range of values of $R$. The existence of zeros in $ρ_{ee}(t)$ for strong couplings ($R > 1/2$) signals that a TCL master equation does not exist. The right curve depicts the spectral density corresponding to the chosen value of $R$."
   ]
  },
  {
   "cell_type": "code",
   "execution_count": 3,
   "metadata": {
    "tags": [
     "hide_input"
    ]
   },
   "outputs": [
    {
     "data": {
      "text/html": [
       "\n",
       "        <iframe\n",
       "            width=\"900\"\n",
       "            height=\"350\"\n",
       "            src=\"./gen_plots/jaynescummings.html\"\n",
       "            frameborder=\"0\"\n",
       "            allowfullscreen\n",
       "        ></iframe>\n",
       "        "
      ],
      "text/plain": [
       "<IPython.lib.display.IFrame at 0x10bbefe50>"
      ]
     },
     "execution_count": 3,
     "metadata": {},
     "output_type": "execute_result"
    }
   ],
   "source": [
    "from IPython.display import IFrame\n",
    "\n",
    "IFrame(src='./gen_plots/jaynescummings.html', width=900, height=350)"
   ]
  },
  {
   "cell_type": "markdown",
   "metadata": {},
   "source": [
    "<a id=\"figure_1\"></a>\n",
    "**Figure 1.** This *interactive plot* shows the dynamics of $ρ_{ee}(t)$ in a wide range of values of $R$ for $\\gamma_0 = 1$. The existence of zeros in $ρ_{ee}(t)$ for strong couplings ($R > 1/2$) signals that a TCL master equation does not exist. The right curve depicts the spectral density corresponding to the chosen value of $R$. Drag the slider to change $R$."
   ]
  },
  {
   "cell_type": "markdown",
   "metadata": {},
   "source": [
    "### Master equation\n",
    "\n",
    "Recalling Eq.(\\ref{eq:g}) we can derive the time dependent decay rate $\\gamma(t)$ for the Lorentzian spectrum\n",
    "    \n",
    "$$\n",
    "\\gamma(t)=-2\\Re \\left\\{\\frac{\\dot{c}_{1}(t)}{c_{1}(t)} \\right\\} =\\frac{2\\gamma_{0} \\sinh\\left(\\frac{\\lambda t}{2}\\sqrt{1-2R}\\right)}{\\sqrt{1-2R}\\cosh\\left(\\frac{\\lambda t}{2}\\sqrt{1-2R}\\right)+\\sinh\\left(\\frac{\\lambda t}{2}\\sqrt{1-2R}\\right)}\n",
    "$$\n",
    "\n",
    "which diverges in the strong coupling limit.  Formally, this means that the superoperator $[\\textrm{I}-\\Sigma(t))]^{-1}$ is not defined."
   ]
  },
  {
   "cell_type": "markdown",
   "metadata": {},
   "source": [
    "### TCL2\n",
    "\n",
    "Using the TCL projection operator technique one can derive the following time-local master equation \n",
    "    \n",
    "\\begin{equation}\n",
    "\\frac{d\\varrho_{s}(t)}{dt}=\\left[\\sum_{n=1}^{\\infty}\\alpha_{n}K_{n}(t)\\right]\\varrho_{s}(t).\n",
    "\\label{tclmast}\n",
    "\\tag{7.14}\n",
    "\\end{equation}\n",
    "\n",
    "One can show that the operatorial form of the master equation looks the same at any expansion order (neglecting Lamb-Shift terms)\n",
    "\n",
    "\\begin{equation}\n",
    "\\frac{d\\varrho_{s}(t)}{dt}=\\left[\\sum_{n=1}^{\\infty}\\alpha_{2n}\\gamma_{2n}(t)\\right]L\\varrho_{s}(t)\n",
    "\\label{tclmast2}\n",
    "\\tag{7.15}\n",
    "\\end{equation}\n",
    "\n",
    "where $L$ is the GKSL operator. To the second order in the coupling constant $\\alpha$ we get \n",
    "\n",
    "$$\\gamma_{2}(t)+iS_{2}(t)=2\\int_{0}^{t}dt_{1}f(t-t_{1}).$$ \n",
    "\n",
    "For the Lorentzian spectrum we find\n",
    "\n",
    "\\begin{equation}\n",
    "S_{2}(t)=0,\\qquad\\gamma_{2}(t)=\\gamma_{0}(1-e^{-\\lambda t}).\n",
    "\\label{tcl2}\n",
    "\\tag{7.16}\n",
    "\\end{equation}"
   ]
  },
  {
   "cell_type": "markdown",
   "metadata": {},
   "source": [
    "## Markovian and strong coupling limits of the exact solution <a id='limits'></a>"
   ]
  },
  {
   "cell_type": "markdown",
   "metadata": {},
   "source": [
    "Recalling (\\ref{c1lor})\n",
    "\n",
    "$$\\varrho_{11}(t)=\\Bigg|c_{1}(0)e^{-\\lambda t/2}\\left[\\cosh\\left(\\frac{\\lambda t}{2}\\sqrt{1-2R}\\right)+\\frac{1}{\\sqrt{1-2R}}\\sinh\\left(\\frac{\\lambda t}{2}\\sqrt{1-2R}\\right)\\right]\\Bigg|^{2},$$\n",
    "\n",
    "where the correlation time of the reservoir is $\\tau=1/\\lambda$. In the Markovian limit $\\lambda\\to\\infty$ but $\\lambda\\gamma_{0}$ is constant ($\\gamma_{0}\\to 0$). In other words the Markovian limit in this model corresponds at taking both a flat reservoir spectrum $\\lambda\\to\\infty$  and very weak coupling $\\gamma_{0}\\to 0$, the two assumptions are not independent."
   ]
  },
  {
   "cell_type": "markdown",
   "metadata": {},
   "source": [
    "By expanding the above equation in the $R\\to0$ limit we get\n",
    "\n",
    "$$\n",
    "\\begin{aligned}\n",
    "c_{1}(t)&\\approx c_{1}(0)e^{-\\frac{\\lambda t}{2}}\\left[\\frac{e^{(1-2R)\\lambda t/2}}{2}+\\frac{(1+2R)e^{(1-2R)\\lambda t/2}}{2}\\right]\\\\\n",
    "&= c_{1}(0)e^{-\\frac{\\lambda t}{2}}e^{(1-2R)\\lambda t/2}\\approx c_{1}(0)e^{-\\frac{R\\lambda t}{2}}=c_{1}(0)e^{-\\frac{\\gamma_{0}t}{2}}.\n",
    "\\end{aligned}\n",
    "$$\n",
    "\n",
    "Hence,\n",
    "\n",
    "\\begin{equation}\n",
    "\\varrho_{11}^{\\textrm{Mark}}(t)=\\varrho_{11}(0)e^{-2\\gamma_{0}t}.\n",
    "\\label{marklim}\n",
    "\\tag{7.17}\n",
    "\\end{equation}\n",
    "\n",
    "This limit also leads to $J(\\omega)\\to\\gamma_{0}/2\\pi, f(\\tau)\\to\\gamma_{0}\\delta(\\tau)$. \n",
    "\n",
    "In the opposite limit, known as the strong coupling limit, where $\\gamma_{0}\\to\\infty$ and $\\lambda\\to0$ we have approximately unitary dynamics (Jaynes-Cummings type)\n",
    "\n",
    "\\begin{equation}\n",
    "\\varrho_{11}^{\\textrm{JC}}(t)\\approx\\varrho_{11}(0)\\cos\\left(\\frac{\\lambda\\gamma_{0}}{2}t\\right).\n",
    "\\label{jclim}\n",
    "\\tag{7.18}\n",
    "\\end{equation}"
   ]
  },
  {
   "cell_type": "markdown",
   "metadata": {},
   "source": [
    "## Example in Qiskit: Jaynes-Cummings model <a id='IBMJaynes'></a>"
   ]
  },
  {
   "cell_type": "markdown",
   "metadata": {},
   "source": [
    "To simulate the Jaynes-Cummings model, we consider one qubit as the system ($q_1$) and one extra qubit ($q_2$) to implement the dynamical map. In other words, we do not simulate the dynamics of system and environment, but only the resulting channel on the system qubit. Nevertheless, we will refer to $q_2$ as environment qubit. Given that the only parameter of the channel is $c_1(t)$ (which is itself parametrized by time), the following circuit results in such dynamics:"
   ]
  },
  {
   "cell_type": "code",
   "execution_count": 2,
   "metadata": {},
   "outputs": [
    {
     "data": {
      "image/png": "[encoded data removed]",
      "text/plain": [
       "<Figure size 397.32x325.08 with 1 Axes>"
      ]
     },
     "execution_count": 2,
     "metadata": {},
     "output_type": "execute_result"
    }
   ],
   "source": [
    "###########################################\n",
    "#  Amplitude damping channel on IBMQ_VIGO #\n",
    "###########################################\n",
    "\n",
    "# Quantum register\n",
    "q = QuantumRegister(5, name='q')\n",
    "\n",
    "# Quantum circuit\n",
    "ad = QuantumCircuit(q)\n",
    "\n",
    "# Amplitude damping channel acting on system qubit\n",
    "## Qubit identification\n",
    "system = 1\n",
    "environment = 2\n",
    "\n",
    "# Define rotation angle\n",
    "theta = 0.0\n",
    "\n",
    "# Construct circuit\n",
    "ad.x(q[system])\n",
    "ad.cu3(theta, 0.0, 0.0, q[system], q[environment])\n",
    "ad.cx(q[environment], q[system])\n",
    "\n",
    "# Draw circuit\n",
    "ad.draw(output='mpl')"
   ]
  },
  {
   "cell_type": "markdown",
   "metadata": {},
   "source": [
    "For an arbitrary pure state of the system $|\\psi\\rangle_s = \\alpha |0\\rangle_s + \\beta |1\\rangle_s$ (notice that we chose $\\alpha = 1$ and $\\beta = 0$ in the above circuit), and setting the state of the environment to vacuum $|0\\rangle_e$, the two gates between the system and environment qubits transform the joint state into $\\alpha |0\\rangle_s|0\\rangle_e + \\beta \\cos \\theta |1\\rangle_s|0\\rangle_e + \\beta \\sin \\theta |0\\rangle_s|1\\rangle_e$. Therefore, identifying the states $|0\\rangle_s$ and $|1\\rangle_s$ with the ground and excited states respectively, and by choosing $\\theta = \\arccos{c_1(t)}$, the reduced state of the system becomes Eq. (\\ref{rohs}).\n",
    "\n",
    "In [Figure 2](#fig_2) we show the experimental results obtained by running this circuit for different values of $t$ on `ibmq_vigo`."
   ]
  },
  {
   "cell_type": "markdown",
   "metadata": {},
   "source": [
    "<a id='fig_2'></a>\n",
    "\n",
    "<img src=\"images/fig_ad_pop.png\">"
   ]
  },
  {
   "cell_type": "markdown",
   "metadata": {},
   "source": [
    "**Figure 2.** Experimental simulation of the amplitude damping channel. The points show the population of the excited state of the system qubit as a function of the simulation parameter $t$ for different values of the coupling a) $R = 0.2$ and b) $R = 100$. In both cases $\\gamma_0 = 1$. The dashed lines show the theoretical prediction."
   ]
  },
  {
   "cell_type": "markdown",
   "metadata": {},
   "source": [
    "## Appendix: Some useful properties of Laplace transform <a id='appendix'></a>"
   ]
  },
  {
   "cell_type": "markdown",
   "metadata": {},
   "source": [
    "Given a function $f$ we define its Laplace transform $F$ as\n",
    "\n",
    "$$\n",
    "F(s)=\\textrm{Lap}[f(t)]=\\int_{0}^{+\\infty}dte^{-st}f(t)=\\tilde{f}(s)\\qquad s\\in\\mathbb{C}.\n",
    "$$"
   ]
  },
  {
   "cell_type": "markdown",
   "metadata": {},
   "source": [
    "Below are some important properties to remember\n",
    "\n",
    "- $\\textrm{Lap}[\\alpha f(t)+\\beta g(t)]=\\alpha\\tilde{f}(s)+\\beta\\tilde{g}(s),$\n",
    "- $\\textrm{Lap}\\left[\\frac{df}{dt}(t)\\right]=s\\tilde{f}(s)-f(0),$\n",
    "- $\\textrm{Lap} [f*g(t)]=\\tilde{f}(s)\\tilde{g}(s),\\qquad f*g(t)=\\int_{0}^{t}dt_{1}f(t-t_{1})g(t_{1}).$"
   ]
  },
  {
   "cell_type": "markdown",
   "metadata": {},
   "source": [
    "Also, some important and useful Laplace transforms to keep in mind\n",
    "\n",
    "- $\\textrm{Lap}[\\alpha]=\\frac{\\alpha}{s},$\n",
    "- $\\textrm{Lap}[t]=\\frac{1}{s^{2}},$\n",
    "- $\\textrm{Lap}[e^{\\alpha t}]=\\frac{1}{s-\\alpha}\\qquad\\mathfrak{Re}[s]>\\mathfrak{Re}[\\alpha].$"
   ]
  },
  {
   "cell_type": "markdown",
   "metadata": {},
   "source": [
    "The inverse Laplace transform is defined as\n",
    "$$\n",
    "\\textrm{Lap}^{-1}[\\tilde{f}(s)]=f(t)=\\frac{1}{2\\pi i}\\int_{\\gamma-i\\infty}^{\\gamma+i\\infty}ds e^{st}\\tilde{f}(s).\n",
    "$$"
   ]
  },
  {
   "cell_type": "markdown",
   "metadata": {},
   "source": [
    "In order to compute it we need the Residue theorem\n",
    "$$\n",
    "\\oint_{\\gamma}dzf(z)=2\\pi i\\sum_{k=1}^{n}\\textrm{Res}[f,p_{k}],\n",
    "$$\n",
    "\n",
    "where $\\gamma$ is a continuous path in the complex plane and $p_{k}$ is a $n_{k}$ order pole for the function $f$. The residues are defined as\n",
    "\n",
    "$$\n",
    "\\textrm{Res}[f,p_{k}]=\\frac{1}{(n_{k}-1)!}\\lim_{z\\to p_{k}}\\left(\\frac{\\partial}{\\partial z}\\right)^{(n_{k}-1)}\\left[f(z)(z-p_{k})^{n_{}k}\\right].\n",
    "$$ "
   ]
  },
  {
   "cell_type": "markdown",
   "metadata": {},
   "source": [
    "It immediately follows that\n",
    "$$\n",
    "\\textrm{Lap}^{-1}[\\tilde{f}(s)]=\\sum_{k=1}^{n}\\frac{1}{(n_{k}-1)!}\\left(\\frac{\\partial}{\\partial s}\\right)^{(n_{k}-1)}\\left[e^{st}\\tilde{f}(s)(s-p_{k})^{n_{}k}\\right].\n",
    "$$"
   ]
  }
 ],
 "metadata": {
  "celltoolbar": "Edit Metadata",
  "kernelspec": {
   "display_name": "Python 3",
   "language": "python",
   "name": "python3"
  },
  "language_info": {
   "codemirror_mode": {
    "name": "ipython",
    "version": 3
   },
   "file_extension": ".py",
   "mimetype": "text/x-python",
   "name": "python",
   "nbconvert_exporter": "python",
   "pygments_lexer": "ipython3",
   "version": "3.7.2"
  }
 },
 "nbformat": 4,
 "nbformat_minor": 2
}