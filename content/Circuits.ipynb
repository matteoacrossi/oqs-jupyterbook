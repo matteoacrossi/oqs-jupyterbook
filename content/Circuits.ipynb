{
 "cells": [
  {
   "cell_type": "code",
   "execution_count": 2,
   "metadata": {},
   "outputs": [],
   "source": [
    "import numpy as np\n",
    "import matplotlib.pyplot as plt\n",
    "\n",
    "from datetime import datetime\n",
    "import json\n",
    "import copy\n",
    "\n",
    "# Main qiskit imports\n",
    "from qiskit import QuantumRegister, ClassicalRegister\n",
    "from qiskit import QuantumCircuit, execute, Aer, IBMQ\n",
    "\n",
    "# Error mitigation\n",
    "from qiskit.ignis.mitigation.measurement import (complete_meas_cal, \n",
    "                                                CompleteMeasFitter, \n",
    "                                                MeasurementFilter)\n",
    "\n",
    "# Utility functions\n",
    "from qiskit.tools.jupyter import *\n",
    "from qiskit.tools.monitor import job_monitor\n",
    "from qiskit.providers.jobstatus import JobStatus"
   ]
  },
  {
   "cell_type": "code",
   "execution_count": 15,
   "metadata": {},
   "outputs": [
    {
     "data": {
      "text/plain": [
       "<qiskit.circuit.instructionset.InstructionSet at 0x1acf3c2ec88>"
      ]
     },
     "execution_count": 15,
     "metadata": {},
     "output_type": "execute_result"
    }
   ],
   "source": [
    "# We create the quantum circuits\n",
    "q = QuantumRegister(5, name='q')\n",
    "\n",
    "## Index of the system qubit\n",
    "system = [2, 1]\n",
    "\n",
    "p = 0.3\n",
    "## Indices of the ancillary qubits\n",
    "ancilla = 0\n",
    "\n",
    "## zz pump  \n",
    "zz = QuantumCircuit(q)\n",
    "    \n",
    "theta = 2 * np.arcsin(np.sqrt(p))\n",
    "    \n",
    "# Map information to ancilla\n",
    "zz.cx(q[system[0]], q[system[1]])\n",
    "zz.x(q[ancilla])\n",
    "zz.cx(q[system][1], q[ancilla])\n",
    "    \n",
    "# Conditional rotation\n",
    "zz.cu3(theta, 0.0, 0.0, q[ancilla], q[system[1]])\n",
    "    \n",
    "# Inverse mapping\n",
    "zz.cx(q[system[1]], q[ancilla])\n",
    "zz.cx(q[system[0]], q[system[1]])"
   ]
  },
  {
   "cell_type": "code",
   "execution_count": 16,
   "metadata": {},
   "outputs": [
    {
     "data": {
      "image/png": "[encoded data removed]",
      "text/plain": [
       "<Figure size 517.72x325.08 with 1 Axes>"
      ]
     },
     "execution_count": 16,
     "metadata": {},
     "output_type": "execute_result"
    }
   ],
   "source": [
    "zz.draw(output='mpl')"
   ]
  },
  {
   "cell_type": "code",
   "execution_count": 8,
   "metadata": {},
   "outputs": [
    {
     "data": {
      "text/plain": [
       "<qiskit.circuit.instructionset.InstructionSet at 0x1acf2a4edd8>"
      ]
     },
     "execution_count": 8,
     "metadata": {},
     "output_type": "execute_result"
    }
   ],
   "source": [
    "# We create the quantum circuits\n",
    "q = QuantumRegister(5, name='q')\n",
    "\n",
    "## Index of the system qubit\n",
    "system = [2, 1]\n",
    "\n",
    "p = 0.3\n",
    "## Indices of the ancillary qubits\n",
    "ancilla = 4\n",
    "\n",
    "## xx pump\n",
    "xx = QuantumCircuit(q)\n",
    "\n",
    "theta = 2 * np.arcsin(np.sqrt(p))\n",
    "    \n",
    "# Map information to ancilla\n",
    "xx.cx(q[system[0]], q[system[1]])\n",
    "xx.h(q[system[0]])\n",
    "xx.x(q[ancilla])\n",
    "xx.cx(q[system[0]], q[ancilla])\n",
    "    \n",
    "# Conditional rotation\n",
    "xx.cu3(theta, 0.0, 0.0, q[ancilla], q[system[0]])\n",
    "    \n",
    "# Inverse mapping\n",
    "xx.cx(q[system[0]], q[ancilla])\n",
    "xx.h(q[system[0]])\n",
    "xx.cx(q[system[0]], q[system[1]])"
   ]
  },
  {
   "cell_type": "code",
   "execution_count": 9,
   "metadata": {},
   "outputs": [
    {
     "data": {
      "image/png": "[encoded data removed]",
      "text/plain": [
       "<Figure size 638.12x325.08 with 1 Axes>"
      ]
     },
     "execution_count": 9,
     "metadata": {},
     "output_type": "execute_result"
    }
   ],
   "source": [
    "xx.draw(output = 'mpl')"
   ]
  },
  {
   "cell_type": "code",
   "execution_count": 10,
   "metadata": {},
   "outputs": [
    {
     "data": {
      "text/plain": [
       "<qiskit.circuit.instructionset.InstructionSet at 0x1acf2b2a6d8>"
      ]
     },
     "execution_count": 10,
     "metadata": {},
     "output_type": "execute_result"
    }
   ],
   "source": [
    "# We create the quantum circuits\n",
    "q = QuantumRegister(5, name='q')\n",
    "\n",
    "## Index of the system qubit\n",
    "system = [2, 1]\n",
    "\n",
    "p = 0.3\n",
    "## Indices of the ancillary qubits\n",
    "ancillae = 0,4\n",
    "\n",
    "zx = QuantumCircuit(q)\n",
    "    \n",
    "theta = 2 * np.arcsin(np.sqrt(p))\n",
    "    \n",
    "# ZZ pump\n",
    "## Map information to ancilla\n",
    "zx.cx(q[system[0]], q[system[1]])\n",
    "zx.x(q[ancillae[0]])\n",
    "zx.cx(q[system[1]], q[ancillae[0]])\n",
    "    \n",
    "## Conditional rotation\n",
    "zx.cu3(theta, 0.0, 0.0, q[ancillae[0]], q[system[1]])\n",
    "    \n",
    "## Inverse mapping\n",
    "zx.cx(q[system[1]], q[ancillae[0]])\n",
    "    \n",
    "# XX pump\n",
    "## Map information to ancilla\n",
    "zx.h(q[system[0]])\n",
    "zx.x(q[ancillae[1]])\n",
    "zx.cx(q[system[0]], q[ancillae[1]])\n",
    "    \n",
    "## Conditional rotation\n",
    "zx.cu3(theta, 0.0, 0.0, q[ancillae[1]], q[system[0]])\n",
    "    \n",
    "## Inverse mapping\n",
    "zx.cx(q[system[0]], q[ancillae[1]])\n",
    "zx.h(q[system[0]])\n",
    "zx.cx(q[system[0]], q[system[1]])"
   ]
  },
  {
   "cell_type": "code",
   "execution_count": 11,
   "metadata": {},
   "outputs": [
    {
     "data": {
      "image/png": "[encoded data removed]",
      "text/plain": [
       "<Figure size 698.32x325.08 with 1 Axes>"
      ]
     },
     "execution_count": 11,
     "metadata": {},
     "output_type": "execute_result"
    }
   ],
   "source": [
    "zx.draw(output = 'mpl')"
   ]
  },
  {
   "cell_type": "code",
   "execution_count": 12,
   "metadata": {},
   "outputs": [
    {
     "data": {
      "text/plain": [
       "<qiskit.circuit.instructionset.InstructionSet at 0x1acf3b339b0>"
      ]
     },
     "execution_count": 12,
     "metadata": {},
     "output_type": "execute_result"
    }
   ],
   "source": [
    "## 2.1.\n",
    "\n",
    "## We create the quantum circuits\n",
    "q = QuantumRegister(2, name='q')\n",
    "\n",
    "## We create qubits\n",
    "system = [0, 1]\n",
    "\n",
    "bell = QuantumCircuit(q)\n",
    "\n",
    "# Creating a Bell state\n",
    "bell.x(q[system[0]])\n",
    "bell.x(q[system[1]])\n",
    "bell.h(q[system[0]])\n",
    "bell.cx(q[system[0]], q[system[1]])"
   ]
  },
  {
   "cell_type": "code",
   "execution_count": 13,
   "metadata": {},
   "outputs": [
    {
     "data": {
      "image/png": "[encoded data removed]",
      "text/plain": [
       "<Figure size 337.12x144.48 with 1 Axes>"
      ]
     },
     "execution_count": 13,
     "metadata": {},
     "output_type": "execute_result"
    }
   ],
   "source": [
    "bell.draw(output = 'mpl')"
   ]
  },
  {
   "cell_type": "code",
   "execution_count": 18,
   "metadata": {},
   "outputs": [
    {
     "data": {
      "text/plain": [
       "<qiskit.circuit.instructionset.InstructionSet at 0x1acf3cfc080>"
      ]
     },
     "execution_count": 18,
     "metadata": {},
     "output_type": "execute_result"
    }
   ],
   "source": [
    "## Exercise 2.1.1.\n",
    "\n",
    "## We create the quantum circuits\n",
    "q = QuantumRegister(2, name='q')\n",
    "\n",
    "## We create qubits\n",
    "system = [0, 1]\n",
    "\n",
    "entangled = QuantumCircuit(q)\n",
    "\n",
    "# Creating an entangled state\n",
    "entangled.h(q[system[0]])\n",
    "entangled.s(q[system[0]])\n",
    "entangled.cx(q[system[0]], q[system[1]])\n",
    "entangled.h(q[system[0]])"
   ]
  },
  {
   "cell_type": "code",
   "execution_count": 19,
   "metadata": {},
   "outputs": [
    {
     "data": {
      "image/png": "[encoded data removed]",
      "text/plain": [
       "<Figure size 397.32x144.48 with 1 Axes>"
      ]
     },
     "execution_count": 19,
     "metadata": {},
     "output_type": "execute_result"
    }
   ],
   "source": [
    "entangled.draw(output = 'mpl')"
   ]
  },
  {
   "cell_type": "code",
   "execution_count": 20,
   "metadata": {},
   "outputs": [
    {
     "data": {
      "text/plain": [
       "<qiskit.circuit.instructionset.InstructionSet at 0x1acf3e20160>"
      ]
     },
     "execution_count": 20,
     "metadata": {},
     "output_type": "execute_result"
    }
   ],
   "source": [
    "## 2.2.\n",
    "\n",
    "## We create the quantum circuits\n",
    "q = QuantumRegister(2, name='q')\n",
    "\n",
    "## We create qubits\n",
    "system = [0, 1]\n",
    "\n",
    "cir = QuantumCircuit(q)\n",
    "\n",
    "# Creating CNOT gate\n",
    "cir.cx(q[system[0]], q[system[1]])"
   ]
  },
  {
   "cell_type": "code",
   "execution_count": 21,
   "metadata": {},
   "outputs": [
    {
     "data": {
      "image/png": "[encoded data removed]",
      "text/plain": [
       "<Figure size 216.72x144.48 with 1 Axes>"
      ]
     },
     "execution_count": 21,
     "metadata": {},
     "output_type": "execute_result"
    }
   ],
   "source": [
    "cir.draw(output = 'mpl')"
   ]
  },
  {
   "cell_type": "code",
   "execution_count": 24,
   "metadata": {},
   "outputs": [
    {
     "data": {
      "text/plain": [
       "<qiskit.circuit.instructionset.InstructionSet at 0x1acf3d187b8>"
      ]
     },
     "execution_count": 24,
     "metadata": {},
     "output_type": "execute_result"
    }
   ],
   "source": [
    "## Exercise 2.2.1.\n",
    "\n",
    "## We create the quantum circuits\n",
    "q = QuantumRegister(2, name='q')\n",
    "\n",
    "## We create qubits\n",
    "system = [0, 1]\n",
    "\n",
    "cir = QuantumCircuit(q)\n",
    "\n",
    "# Creating an entangled state\n",
    "cir.h(q[system[1]])\n",
    "cir.cz(q[system[0]], q[system[1]])\n",
    "cir.cx(q[system[1]], q[system[0]])"
   ]
  },
  {
   "cell_type": "code",
   "execution_count": 25,
   "metadata": {},
   "outputs": [
    {
     "data": {
      "image/png": "[encoded data removed]",
      "text/plain": [
       "<Figure size 337.12x144.48 with 1 Axes>"
      ]
     },
     "execution_count": 25,
     "metadata": {},
     "output_type": "execute_result"
    }
   ],
   "source": [
    "cir.draw(output = 'mpl')"
   ]
  },
  {
   "cell_type": "code",
   "execution_count": 16,
   "metadata": {},
   "outputs": [
    {
     "data": {
      "text/plain": [
       "<qiskit.circuit.instructionset.InstructionSet at 0x213c41528d0>"
      ]
     },
     "execution_count": 16,
     "metadata": {},
     "output_type": "execute_result"
    }
   ],
   "source": [
    "# We create the quantum circuits\n",
    "q = QuantumRegister(5, name='q')\n",
    "\n",
    "## Indices of the system and environment qubits\n",
    "sys = 1\n",
    "env = 2\n",
    "\n",
    "ad = QuantumCircuit(q)\n",
    "    \n",
    "# Rotation angle\n",
    "theta = 3.14\n",
    "    \n",
    "# Channel\n",
    "ad.x(q[sys])\n",
    "ad.cu3(theta, 0.0, 0.0, q[sys], q[env])\n",
    "ad.cx(q[env], q[sys])"
   ]
  },
  {
   "cell_type": "code",
   "execution_count": 17,
   "metadata": {},
   "outputs": [
    {
     "data": {
      "image/png": "[encoded data removed]",
      "text/plain": [
       "<Figure size 397.32x325.08 with 1 Axes>"
      ]
     },
     "execution_count": 17,
     "metadata": {},
     "output_type": "execute_result"
    }
   ],
   "source": [
    "ad.draw(output = 'mpl')"
   ]
  },
  {
   "cell_type": "code",
   "execution_count": 20,
   "metadata": {},
   "outputs": [
    {
     "ename": "NameError",
     "evalue": "name 'observable' is not defined",
     "output_type": "error",
     "traceback": [
      "\u001b[1;31m---------------------------------------------------------------------------\u001b[0m",
      "\u001b[1;31mNameError\u001b[0m                                 Traceback (most recent call last)",
      "\u001b[1;32m<ipython-input-20-910203c3fd85>\u001b[0m in \u001b[0;36m<module>\u001b[1;34m\u001b[0m\n\u001b[0;32m     17\u001b[0m \u001b[1;33m\u001b[0m\u001b[0m\n\u001b[0;32m     18\u001b[0m \u001b[1;31m# Masurement of the corresponding observable\u001b[0m\u001b[1;33m\u001b[0m\u001b[1;33m\u001b[0m\u001b[1;33m\u001b[0m\u001b[0m\n\u001b[1;32m---> 19\u001b[1;33m \u001b[1;32mif\u001b[0m \u001b[0mobservable\u001b[0m \u001b[1;33m==\u001b[0m \u001b[1;34m'xx'\u001b[0m\u001b[1;33m:\u001b[0m\u001b[1;33m\u001b[0m\u001b[1;33m\u001b[0m\u001b[0m\n\u001b[0m\u001b[0;32m     20\u001b[0m     \u001b[0mad\u001b[0m\u001b[1;33m.\u001b[0m\u001b[0mh\u001b[0m\u001b[1;33m(\u001b[0m\u001b[0msys\u001b[0m\u001b[1;33m)\u001b[0m\u001b[1;33m\u001b[0m\u001b[1;33m\u001b[0m\u001b[0m\n\u001b[0;32m     21\u001b[0m     \u001b[0mad\u001b[0m\u001b[1;33m.\u001b[0m\u001b[0mh\u001b[0m\u001b[1;33m(\u001b[0m\u001b[0manc\u001b[0m\u001b[1;33m)\u001b[0m\u001b[1;33m\u001b[0m\u001b[1;33m\u001b[0m\u001b[0m\n",
      "\u001b[1;31mNameError\u001b[0m: name 'observable' is not defined"
     ]
    }
   ],
   "source": [
    "q = QuantumRegister(5, name=\"q\")\n",
    "c = ClassicalRegister(2, name=\"c\")\n",
    "\n",
    "## Indices of the system, environment and ancillary qubits\n",
    "sys = 1\n",
    "env = 2\n",
    "anc = 3\n",
    "\n",
    "ad = QuantumCircuit(q, c)\n",
    "    \n",
    "# Rotation angle\n",
    "theta = 3.14\n",
    "    \n",
    "# Channel\n",
    "ad.cu3(theta, 0.0, 0.0, q[sys], q[env])\n",
    "ad.cx(q[env], q[sys])\n",
    "    \n",
    "# Masurement of the corresponding observable\n",
    "if observable == 'xx':\n",
    "    ad.h(sys)\n",
    "    ad.h(anc)\n",
    "elif observable == 'yy':\n",
    "    ad.sdg(sys)\n",
    "    ad.h(sys)\n",
    "    ad.sdg(anc)\n",
    "    ad.h(anc)\n",
    "ad.measure(sys,c[0])\n",
    "ad.measure(anc,c[1])"
   ]
  },
  {
   "cell_type": "code",
   "execution_count": null,
   "metadata": {},
   "outputs": [],
   "source": []
  }
 ],
 "metadata": {
  "kernelspec": {
   "display_name": "Python 3",
   "language": "python",
   "name": "python3"
  },
  "language_info": {
   "codemirror_mode": {
    "name": "ipython",
    "version": 3
   },
   "file_extension": ".py",
   "mimetype": "text/x-python",
   "name": "python",
   "nbconvert_exporter": "python",
   "pygments_lexer": "ipython3",
   "version": "3.7.2"
  }
 },
 "nbformat": 4,
 "nbformat_minor": 2
}
