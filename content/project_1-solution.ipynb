{
 "cells": [
  {
   "cell_type": "markdown",
   "metadata": {},
   "source": [
    "# Project 1: Depolarizing channel\n",
    "# Solution"
   ]
  },
  {
   "cell_type": "code",
   "execution_count": 1,
   "metadata": {},
   "outputs": [],
   "source": [
    "# Imports\n",
    "import numpy as np\n",
    "from qiskit import QuantumRegister, QuantumCircuit, Aer, execute\n",
    "from qiskit.ignis.verification.tomography import state_tomography_circuits, StateTomographyFitter\n",
    "import matplotlib.pyplot as plt\n",
    "from qiskit.tools.qi.qi import partial_trace\n",
    "from qiskit.quantum_info.states import DensityMatrix"
   ]
  },
  {
   "cell_type": "markdown",
   "metadata": {},
   "source": [
    "## Task 1\n",
    "\n",
    "Create a function that returns a quantum circuit implementing a depolarizing channels with parameter $p$ on a specified qubit `system`, using three ancillary qubits `ancillae = [a1, a2, a3]`."
   ]
  },
  {
   "cell_type": "code",
   "execution_count": 2,
   "metadata": {},
   "outputs": [],
   "source": [
    "def depolarizing_channel(q, p, system, ancillae):\n",
    "    \"\"\"Returns a QuantumCircuit implementing depolarizing channel on q[system]\n",
    "    \n",
    "    Args:\n",
    "        q (QuantumRegister): the register to use for the circuit\n",
    "        p (float): the probability for the channel between 0 and 1\n",
    "        system (int): index of the system qubit\n",
    "        ancillae (list): list of indices for the ancillary qubits\n",
    "        \n",
    "    Returns:\n",
    "        A QuantumCircuit object\n",
    "    \"\"\"\n",
    "    \n",
    "    dc = QuantumCircuit(q)\n",
    "   \n",
    "    # \n",
    "    theta = 1/2 * np.arccos(1-2*p)\n",
    "    \n",
    "    #\n",
    "    dc.ry(theta, q[ancillae[0]])\n",
    "    dc.ry(theta, q[ancillae[1]])\n",
    "    dc.ry(theta, q[ancillae[2]])\n",
    "\n",
    "    dc.cx(q[ancillae[0]], q[system])\n",
    "    dc.cy(q[ancillae[1]], q[system])\n",
    "    dc.cz(q[ancillae[2]], q[system])\n",
    "\n",
    "    return dc"
   ]
  },
  {
   "cell_type": "markdown",
   "metadata": {},
   "source": [
    "## Task 2\n",
    "Write a circuit that prepares the `system` qubit in an initial state that has non-zero populations and coherences (both real and imaginary parts)"
   ]
  },
  {
   "cell_type": "code",
   "execution_count": 3,
   "metadata": {},
   "outputs": [
    {
     "data": {
      "text/plain": [
       "<qiskit.circuit.instructionset.InstructionSet at 0x131851e50>"
      ]
     },
     "execution_count": 3,
     "metadata": {},
     "output_type": "execute_result"
    }
   ],
   "source": [
    "# We create the quantum circuit\n",
    "q = QuantumRegister(5, name='q')\n",
    "\n",
    "# Index of the system qubit\n",
    "system = 2\n",
    "\n",
    "# Indices of the ancillary qubits\n",
    "ancillae = [1, 3, 4]\n",
    "\n",
    "# Prepare the qubit in a state that has coherence and different populations \n",
    "prepare_state = QuantumCircuit(q)\n",
    "prepare_state.u3(np.pi/4, np.pi/4, 0, q[system])"
   ]
  },
  {
   "cell_type": "markdown",
   "metadata": {},
   "source": [
    "## Task 3\n",
    "\n",
    "For different values of $p \\in [0, 1]$: \n",
    "1. Concatenate `prepare_state` and `depolarizing_channel` in a circuit and create the corresponding  `tomography_circuits` (check the [preliminaries](preliminaries.html) for help with the tomography).\n",
    "2. Execute the `tomography_circuits` in the simulator and collect the rsults"
   ]
  },
  {
   "cell_type": "code",
   "execution_count": 4,
   "metadata": {},
   "outputs": [],
   "source": [
    "# For example, let's consider 10 equally spaced values of p\n",
    "p_values = np.linspace(0, 1, 10)\n",
    "\n",
    "# Here we will create a list of results for each different value of p\n",
    "tomography_circuits = []\n",
    "\n",
    "for p in p_values:\n",
    "    circ = prepare_state + depolarizing_channel(q, p, system, ancillae)\n",
    "    tomography_circuits.append(state_tomography_circuits(circ, q[system]))\n",
    "\n",
    "tomography_results = []\n",
    "for tomo_circ in tomography_circuits:\n",
    "    job = execute(tomo_circ, Aer.get_backend('qasm_simulator'), shots=8192)\n",
    "    tomography_results.append(job.result())"
   ]
  },
  {
   "cell_type": "markdown",
   "metadata": {},
   "source": [
    "## Task 4\n",
    "1. Process the results of the simulation by performing the tomographic reconstruction.\n",
    "2. Find analytically what is the density matrix of the system qubit after the depolarizing channel as a function of $p$.\n",
    "3. Plot the values of $\\rho_{11}$, $\\rho_{22}$, $\\Re \\rho_{12}$, $\\Im \\rho_{12}$ as functions of $p$ and compare them to the analytical prediction.\n",
    "\n",
    "Up to the statistical errors due to the finite number of shots, the simulated points should match the analytical prediction."
   ]
  },
  {
   "cell_type": "code",
   "execution_count": 5,
   "metadata": {},
   "outputs": [
    {
     "data": {
      "image/png": "[encoded data removed]",
      "text/plain": [
       "<Figure size 432x288 with 1 Axes>"
      ]
     },
     "metadata": {
      "needs_background": "light"
     },
     "output_type": "display_data"
    }
   ],
   "source": [
    "tomo_rhos = np.zeros((2,2,len(p_values)), dtype=complex)\n",
    "\n",
    "for (i, p) in enumerate(p_values):\n",
    "    tomo_fitter = StateTomographyFitter(tomography_results[i], tomography_circuits[i])\n",
    "    tomo_rhos[:,:,i] = tomo_fitter.fit()\n",
    "\n",
    "# Simulated results\n",
    "plt.plot(p_values, np.real(tomo_rhos[0,1,:]),\"C0*\", label='Re $\\\\rho_{01}$')\n",
    "plt.plot(p_values, np.imag(tomo_rhos[0,1,:]),\"C1*\", label='Im $\\\\rho_{01}$')\n",
    "plt.plot(p_values, np.real(tomo_rhos[0,0,:]),\"C2x\", label='$\\\\rho_{00}$')\n",
    "plt.plot(p_values, np.real(tomo_rhos[1,1,:]),\"C3x\", label='$\\\\rho_{11}$')\n",
    "\n",
    "# Theoretical prediction\n",
    "\n",
    "# We obtain the density operator of the initial state\n",
    "rho0 = partial_trace(DensityMatrix.from_instruction(prepare_state).data, [0, 1, 3, 4])\n",
    "\n",
    "plt.plot(p_values, np.real(rho0[0,1])*(1-p_values), \"C0\", linewidth=.5)\n",
    "plt.plot(p_values, np.imag(rho0[0,1])*(1-p_values), \"C1\", linewidth=.5)\n",
    "plt.plot(p_values, 0.5*p_values + np.real(rho0[0,0])*(1-p_values), \"C2\", linewidth=.5)\n",
    "plt.plot(p_values, 0.5*p_values + np.real(rho0[1,1])*(1-p_values), \"C3\", linewidth=.5)\n",
    "\n",
    "plt.xlabel('p')\n",
    "plt.ylabel('$\\\\rho_{xx}$')\n",
    "plt.legend();\n",
    "\n",
    "plt.title(\"SIMULATION Depol. channel. Full tomo. $|\\\\psi_0\\\\rangle = U_3(\\\\pi/4,\\\\pi/4,0)|0\\\\rangle$\");"
   ]
  }
 ],
 "metadata": {
  "kernelspec": {
   "display_name": "Python 3",
   "language": "python",
   "name": "python3"
  },
  "language_info": {
   "codemirror_mode": {
    "name": "ipython",
    "version": 3
   },
   "file_extension": ".py",
   "mimetype": "text/x-python",
   "name": "python",
   "nbconvert_exporter": "python",
   "pygments_lexer": "ipython3",
   "version": "3.7.1"
  }
 },
 "nbformat": 4,
 "nbformat_minor": 2
}
