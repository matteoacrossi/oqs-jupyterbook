{
 "cells": [
  {
   "cell_type": "markdown",
   "metadata": {
    "tags": [
     "hide_input"
    ]
   },
   "source": [
    "$\\newcommand{\\Mn}{M_n(\\mathbb{C})}$\n",
    "$\\newcommand{\\Mq}{M_2(\\mathbb{C})}$\n",
    "$\\newcommand{\\Mk}{M_k(\\mathbb{C})}$\n",
    "$\\newcommand{\\Mm}{M_m(\\mathbb{C})}$\n",
    "$\\newcommand{\\Mnm}{M_{n \\times m}(\\mathbb{C})}$\n",
    "$\\newcommand{\\Mnp}{M_n^+(\\mathbb{C})}$\n",
    "$\\newcommand{\\ra}{\\,\\rightarrow\\,}$\n",
    "$\\newcommand{\\id}{\\mbox{id}}$\n",
    "$\\newcommand{\\ot}{ {\\,\\otimes\\,}}$\n",
    "$\\newcommand{\\Cd}{ {\\mathbb{C}^d}}$\n",
    "$\\newcommand{\\Rn}{ {\\mathbb{R}^n}}$"
   ]
  },
  {
   "cell_type": "markdown",
   "metadata": {},
   "source": [
    "## 7.1. The model and its exact solution <a id='model'></a>"
   ]
  },
  {
   "cell_type": "markdown",
   "metadata": {},
   "source": [
    "We will now study a paradigmatic example of an open quantum system amenable to an exact solution. Solving the dynamics exactly, to all orders in the coupling constant, allows us to compare the exact approach with perturbative TCL solutions."
   ]
  },
  {
   "cell_type": "markdown",
   "metadata": {},
   "source": [
    "The physical model we investigate is a two-level atom in a bosonic reservoir at zero temperature. The total Hamiltonian is  ($\\hbar=1$)\n",
    "\n",
    "$$\n",
    "H=H_{S}+H_{E}+H_{I}\n",
    "$$\n",
    "\n",
    "where\n",
    "\n",
    "\\begin{equation}\n",
    "\\begin{aligned}\n",
    "&H_{S}=\\frac{\\omega_{0}}{2}\\sigma_{z},\\\\\n",
    "&H_{E}=\\sum_{k}\\omega_{k}b_{k}^{\\dagger}b_{k},\\\\\n",
    "&H_{I}=\\sum_{k}(g_{k}\\sigma_{+}b_{k}+g_{k}^{*}\\sigma_{-}b_{k}^{\\dagger}),\n",
    "\\end{aligned}\n",
    "\\label{hams}\n",
    "\\tag{7.1}\n",
    "\\end{equation}\n",
    "\n",
    "where $\\sigma_{z}$ is the Pauli matrix, $\\sigma_{\\pm}$ the raising and lowering operators, $b_{k}^{\\dagger}, b_{k}$ the bosonic creation/annihilation operators of the environment, the index $\\{k\\}$ labels the different field modes of the reservoir with frequencies $\\omega_k$, and $g_k$ are the coupling constants.\n",
    "The interaction Hamiltonian describes a process where an excitation is exchanged between the system and the environment. It is important to remark that this type of interaction conserves the total number of excitations initially present in the total system, and indeed the existence of this constant of motion is crucial for the derivation of an exact solution. In the following we will derive the exact solution for the total closed system and, from this solution, we will obtain the dynamics of the open system."
   ]
  },
  {
   "cell_type": "markdown",
   "metadata": {},
   "source": [
    "Assuming that only one excitation is present in the total system, the total Hilbert space is spanned by the following states $\\{|\\psi_{0}\\rangle=|g\\rangle\\otimes|0\\rangle, |\\psi_{1}\\rangle=|e\\rangle\\otimes|0\\rangle, |\\psi_{k}\\rangle=|g\\rangle\\otimes|1_{k}\\rangle\\}$, where $|0\\rangle=\\otimes_{k}|0_{k}\\rangle$ is the multimode vacuum state of the reservoir, $|1_{k}\\rangle$ denotes the state with one photon in mode $k$ of the environment and $|e\\rangle$ and $|g\\rangle$ are the excited and ground states of the two-level atom, respectively."
   ]
  },
  {
   "cell_type": "markdown",
   "metadata": {},
   "source": [
    "Let us consider the Schrödinger equation in the interaction picture\n",
    "\n",
    "$$\n",
    "\\frac{d}{dt}|\\psi(t)\\rangle=-iH_{I}(t)|\\psi(t)\\rangle\n",
    "$$\n",
    "\n",
    "where \n",
    "\n",
    "$$H_{I}(t)=\\exp[i(H_{S}+H_{E})t]H_I\\exp[-i(H_{S}+H_{E})t]=\\sum_{k}g_{k}\\sigma_{+}(t)b_{k}(t)+g_{k}^{*}\\sigma_{-}(t)b_{k}(t)^{\\dagger},$$ \n",
    "\n",
    "with $\\sigma_{\\pm}(t)=\\sigma_{\\pm}(0)e^{\\pm i\\omega_{0}t}$ and $b_{k}(t)=b_{k}e^{-i \\omega_k t}$. \n",
    "\n",
    "Since the total number of excitations $N$, given by\n",
    "\n",
    "$$\n",
    "N=\\sigma_{+}\\sigma_{-}+\\sum_{k}b_{k}^{\\dagger}b_{k}\n",
    "$$\n",
    "\n",
    "is a constant of motion, i.e. $[H,N]=0$, the total state of the system $|\\psi(t)\\rangle$ can be written as\n",
    "\n",
    "\\begin{equation}\n",
    "    |\\psi(t)\\rangle=c_{0}(t)|\\psi_{0}\\rangle+c_{1}(t)|\\psi_{1}\\rangle+\\sum_{k}c_{k}(t)|\\psi_{k}\\rangle.\n",
    "\\label{psit}\n",
    "\\tag{7.2}\n",
    "\\end{equation}"
   ]
  },
  {
   "cell_type": "markdown",
   "metadata": {},
   "source": [
    "Noting that $H_{I}(t)|\\psi_{0}\\rangle=0$, one can see that the amplitude $c_{0}(t)=c_0$ is constant. Inserting (\\ref{psit}) in the Schrödinger equation we get the following set of coupled differential equations for the coefficients\n",
    "\n",
    "\\begin{equation}\n",
    "\\begin{cases}\n",
    "\\dot{c}_{1}=-i\\sum_{k}g_{k}e^{i(\\omega_{0}-\\omega_{k})t}c_{k}\\\\\n",
    "\\dot{c}_{k}=-ig_{k}^*e^{-i(\\omega_{0}-\\omega_{k})t}c_{1}\\\\\n",
    "\\end{cases}\n",
    "\\label{ed1}\n",
    "\\tag{7.3}\n",
    "\\end{equation}\n",
    "\n",
    "We can formally solve the equation for the $c_{k}$'s, assuming that $c_k(0) = 0$,\n",
    "\n",
    "\\begin{equation}\n",
    "\\begin{aligned}\n",
    "&c_{k}(t)=- ig_{k}^{*}\\int_{0}^{t}dt'e^{-i(\\omega_{0}-\\omega_{k})t'}c_{1}(t')\n",
    "\\end{aligned}\n",
    "\\label{ed2}\n",
    "\\tag{7.4}\n",
    "\\end{equation}\n",
    "\n",
    "and, inserting Eq. (\\ref{ed2}) in the equation for $c_1(t)$, we obtain\n",
    "\n",
    "\\begin{equation}\n",
    "\\dot{c}_{1}(t)=- \\sum_{k}|g_{k}|^{2}\\int_{0}^{t}dt'e^{-i(\\omega_{0}-\\omega_{k})(t-t')}c_{1}(t'). \\label{eq:c1}\n",
    "\\tag{7.5}\n",
    "\\end{equation}"
   ]
  },
  {
   "cell_type": "markdown",
   "metadata": {},
   "source": [
    "Passing to the continuum limit, i.e. replacing the discrete spectral distribution with a continuous spectral density, \n",
    "\n",
    "$$\n",
    "\\sum_{k}|g_{k}|^{2}\\to\\int d\\omega J(\\omega)\n",
    "$$\n",
    "\n",
    "we can define the reservoir correlation function $f (t-t')$ as follows\n",
    "\n",
    "$$\n",
    "f(t-t')=\\int d\\omega J(\\omega)e^{i(\\omega_{0}-\\omega)(t-t')}.\n",
    "$$\n",
    "\n",
    "It is a simple but useful exercise to show that, if  the environment is in the vacuum state $\\varrho_{B}=|0\\rangle \\langle0|$, then $\\int d\\omega J(\\omega) e^{-i\\omega(t-t')}=\\textrm{Tr}_{B}[B(t)B^{\\dagger}(t')\\varrho_{B}]$, where $B(t)=\\sum_k g_k b_k \\exp(-i\\omega_k t)$. Moreover, if $J(\\omega)$ is an integrable function, we can exchange the order of integration in Eq. (\\ref{eq:c1}) obtaining\n",
    "\n",
    "\\begin{equation}\n",
    "\\dot{c}_{1}(t)=-\\int_{0}^{t}dt' f(t-t')c_{1}(t').\n",
    "\\label{integrodiff}\n",
    "\\tag{7.6}\n",
    "\\end{equation}"
   ]
  },
  {
   "cell_type": "markdown",
   "metadata": {},
   "source": [
    "The reduced density matrix of the two-level system is obtained from the total system pure state by tracing over the reservoir degrees of freedom:\n",
    "\n",
    "$$\n",
    "\\begin{aligned}\n",
    "\\varrho_{S}(t)&=\\textrm{Tr}_{B}\\{|\\psi(t)\\rangle\\langle\\psi(t)|\\}=\\langle 0|\\psi(t)\\rangle\\langle\\psi(t)|0\\rangle+\\sum_{k}\\langle 1_{k}|\\psi(t)\\rangle\\langle\\psi(t)|1_{k}\\rangle\\\\\n",
    "&=|c_{0}|^{2}|g\\rangle\\langle g|+c_{0}^{*}c_{1}(t)|g\\rangle\\langle e|+c_{1}^{*}(t)c_{0}|e\\rangle\\langle g|\\\\\n",
    "&+\\sum_{k}|c_{k}(t)|^{2}|g\\rangle\\langle g|+|c_{1}(t)|^{2}{|e\\rangle\\langle e|}.\n",
    "\\end{aligned}\n",
    "$$\n",
    "\n",
    "Since $|c_{0}|^{2}+|c_{1}(t)|^{2}+\\sum_{k}|c_{k}(t)|^{2}=1$ we can rewrite $\\varrho_{S}(t)$ as follows\n",
    "\n",
    "\\begin{equation}\n",
    "\\varrho_{S}(t)=\n",
    "\\left(\n",
    "\\begin{array}{cc}\n",
    " |c_{1}(t)|^{2} & c_{0}^{*}c_{1}(t) \\\\\n",
    " c_{0}c_{1}^{*}(t) & 1- |c_{1}(t)|^{2}    \n",
    " \\end{array}\n",
    "\\right).\n",
    "\\label{rohs}\n",
    "\\tag{7.7}\n",
    "\\end{equation}\n",
    "\n",
    "The equation above shows that the dynamics of the reduced system only depends on the coefficient $c_1(t)$ and on the initial condition $c_0$. "
   ]
  },
  {
   "cell_type": "markdown",
   "metadata": {},
   "source": [
    "Let us define \n",
    "\n",
    "\\begin{eqnarray}\n",
    "S(t)&=&-2\\Im\\left[\\frac{\\dot{c}_{1}(t)}{c_{1}(t)}\\right], \\label{eq:St}\n",
    "\\tag{7.8}\n",
    "\\end{eqnarray}\n",
    "\\begin{eqnarray}\n",
    "\\gamma(t)&=&-2\\Re\\left[\\frac{\\dot{c}_{1}(t)}{c_{1}(t)}\\right],\\label{eq:g}\n",
    "\\tag{7.9}\n",
    "\\end{eqnarray}\n",
    "\n",
    "i.e. the time-dependent Lamb shift $S(t)$ and the decay rate $\\gamma(t)$ are the imaginary and real part, respectively, of the ratio between the derivative of $c_1(t)$ and the coefficient itself.\n",
    "\n",
    "By deriving the solution for the reduced density matrix, i.e. Eq. (\\ref{rohs}), it is straightforward to show that the master equation is given by\n",
    "\n",
    "\\begin{equation}\n",
    "\\frac{d\\varrho_{S}}{dt}(t)=-\\frac{iS(t)}{2}\\left[\\sigma_{z},\\varrho_{S}(t)\\right]+\\gamma(t)\\left[\\sigma_{-}\\varrho_{S}(t)\\sigma_{+}-\\frac{1}{2}\\{\\sigma_{+}\\sigma_{-},\\varrho_{S}(t)\\}\\right].\n",
    "\\label{me}\n",
    "\\tag{7.10}\n",
    "\\end{equation}"
   ]
  },
  {
   "cell_type": "markdown",
   "metadata": {},
   "source": [
    "This is the exact master equation for the system dynamics. However, for the equation above to be considered a proper master equation, the Lamb shift $S(t)$ and the decay rate $\\gamma(t)$ should be properties of the open system only and should not depend on the initial state of the system. This does not seem to be the case from Eqs. (\\ref{eq:St})-(\\ref{eq:g}). One should notice that, as Eq. (\\ref{integrodiff}) is a first order integro-differential equation, it admits one independent solution only, and in particular it admits a solution of the form $c_1(t) = c f(t)$, with $f(t)$ a time dependent function and $c$ a constant. Hence, the general solution can be written as $c_1(t)=c_1(0) f(t)$, which eliminates the dependence on the initial condition in both $S(t)$ and $\\gamma(t)$."
   ]
  },
  {
   "cell_type": "markdown",
   "metadata": {},
   "source": [
    "Another important remark is that  Eq. (\\ref{me}) is exact; however, it is in time local form, i.e. it does not contain memory kernels. One could argue whether this equation always exists (remember our discussion on the existence of the inverse superoperator $(\\textrm{I}- \\Sigma(t))^{-1}$ in the TCL projection operator derivation). It is easy to see that the time-dependent decay rate diverges if $c_1(t)=0$ (and $\\dot{c}_1(t)\\neq 0$) for certain time instants. In this case, even if the solution of the master equation is well defined, the master equation is not. In other words a TCL master equation does not exist."
   ]
  },
  {
   "cell_type": "markdown",
   "metadata": {},
   "source": [
    "Finally, we note that, in order to apply the method described in this section, we have assumed that the spectral density function is integrable. This is not the case, for example, in certain models of photonic band gap materials, wherein\n",
    "\n",
    "\\begin{eqnarray}\n",
    "J(\\omega)= \\frac{c}{\\sqrt{\\omega - \\omega_e}} \\theta(\\omega - \\omega_e).\n",
    "\\tag{7.11}\n",
    "\\end{eqnarray}"
   ]
  },
  {
   "cell_type": "markdown",
   "metadata": {},
   "source": [
    "## 7.2. Lorentzian spectral density <a id='Lor'></a>"
   ]
  },
  {
   "cell_type": "markdown",
   "metadata": {},
   "source": [
    "A paradigmatic example of an exact model for an open quantum system is the case of a two level atom interacting with the electromagnetic field in the vacuum, with a Lorentzian spectral density\n",
    "\n",
    "\\begin{equation}\n",
    "J(\\omega)=\\frac{1}{2\\pi}\\frac{\\gamma_{0}\\lambda^{2}}{(\\omega_{0}-\\omega)^{2}+\\lambda^{2}}.\n",
    "\\label{lor}\n",
    "\\tag{7.12}\n",
    "\\end{equation} \n",
    "\n",
    "A Lorentzian spectrum describes, for example the quantized field inside a single mode high Q optical cavity. For this type of spectrum, the correlation function $f(t-t')=\\int d\\omega J(\\omega)e^{i(\\omega_{0}-\\omega)(t-t')}=\\frac{\\gamma_{0}\\lambda}{2}e^{-\\lambda(t-t')}$ describes an exponential decay with rate $\\lambda$."
   ]
  },
  {
   "cell_type": "markdown",
   "metadata": {},
   "source": [
    "If we now take the Laplace transform of Eq. (\\ref{integrodiff}), namely $s\\tilde{c}(s)-c(0)=-\\tilde{f}(s)\\tilde{c}(s)$ (See [Appendix 7.4](#appendix) at the end of this chapter), we get \n",
    "\n",
    "$$\\tilde{c}(s)=\\left[\\frac{1}{s+\\tilde{f}(s)}\\right]c(0).$$ \n",
    "\n",
    "Performing the inverse Laplace transform leads to\n",
    "\n",
    "$$\n",
    "\\begin{aligned}\n",
    "\\textrm{Lap}^{-1}\\left[\\frac{1}{s+\\tilde{f}(s)}\\right]&=\\sum_{k}\\frac{1}{(n_{k}-1)!}\\left(\\frac{d^{(n_{k}-1)}}{ds}\\right)\\frac{e^{st}}{s+\\tilde{f}(s)}(s-p_{k})^{n_{k}}\\Bigg |_{s=p_{k}}\\\\\n",
    "\\\\\n",
    "&= \\left(\\frac{s_{+}+\\lambda}{s_{+}-s_{-}}\\right)e^{s_{+}t}+\\left(\\frac{s_{-}+\\lambda}{s_{-}-s_{+}}\\right)e^{s_{-}t}.\n",
    "\\end{aligned}$$\n",
    "\n",
    "Hence, we get to the following solution\n",
    "\n",
    "\\begin{equation}\n",
    "c_{1}(t)=c_{1}(0)e^{-\\lambda t/2}\\left[\\cosh\\left(\\frac{\\lambda t}{2}\\sqrt{1-2R}\\right)+\\frac{1}{\\sqrt{1-2R}}\\sinh\\left(\\frac{\\lambda t}{2}\\sqrt{1-2R}\\right)\\right].\n",
    "\\label{c1lor}\n",
    "\\tag{7.13}\n",
    "\\end{equation}\n",
    "\n",
    "where $R=\\gamma_{0}/\\lambda$. From this equation we can calculate the reduced density matrix elements, e.g. the excited state probability $\\varrho_{ee}(t)=\\left|c_{1}(t)\\right|^{2}$."
   ]
  },
  {
   "cell_type": "markdown",
   "metadata": {},
   "source": [
    "### Weak and strong coupling\n",
    "\n",
    "We can switch from weak to strong coupling by varying the $R$ parameter, which quantifies the competitive effects of coupling and dissipation. [Figure 1](#figure_1) (left) shows the dynamics of $ρ_{ee}(t)$ in a wide range of values of $R$. The existence of zeros in $ρ_{ee}(t)$ for strong couplings ($R > 1/2$) signals that a TCL master equation does not exist. The right curve depicts the spectral density corresponding to the chosen value of $R$."
   ]
  },
  {
   "cell_type": "code",
   "execution_count": 3,
   "metadata": {
    "tags": [
     "hide_input"
    ]
   },
   "outputs": [
    {
     "data": {
      "text/html": [
       "\n",
       "        <iframe\n",
       "            width=\"900\"\n",
       "            height=\"350\"\n",
       "            src=\"./gen_plots/jaynescummings.html\"\n",
       "            frameborder=\"0\"\n",
       "            allowfullscreen\n",
       "        ></iframe>\n",
       "        "
      ],
      "text/plain": [
       "<IPython.lib.display.IFrame at 0x10bbefe50>"
      ]
     },
     "execution_count": 3,
     "metadata": {},
     "output_type": "execute_result"
    }
   ],
   "source": [
    "from IPython.display import IFrame\n",
    "\n",
    "IFrame(src='./gen_plots/jaynescummings.html', width=900, height=350)"
   ]
  },
  {
   "cell_type": "markdown",
   "metadata": {},
   "source": [
    "<a id=\"figure_1\"></a>\n",
    "**Figure 1.** This *interactive plot* shows the dynamics of $ρ_{ee}(t)$ in a wide range of values of $R$ for $\\gamma_0 = 1$. The existence of zeros in $ρ_{ee}(t)$ for strong couplings ($R > 1/2$) signals that a TCL master equation does not exist. The right curve depicts the spectral density corresponding to the chosen value of $R$. Drag the slider to change $R$."
   ]
  },
  {
   "cell_type": "markdown",
   "metadata": {},
   "source": [
    "### Master equation\n",
    "\n",
    "Recalling Eq.(\\ref{eq:g}) we can derive the time dependent decay rate $\\gamma(t)$ for the Lorentzian spectrum\n",
    "    \n",
    "$$\n",
    "\\gamma(t)=-2\\Re \\left\\{\\frac{\\dot{c}_{1}(t)}{c_{1}(t)} \\right\\} =\\frac{2\\gamma_{0} \\sinh\\left(\\frac{\\lambda t}{2}\\sqrt{1-2R}\\right)}{\\sqrt{1-2R}\\cosh\\left(\\frac{\\lambda t}{2}\\sqrt{1-2R}\\right)+\\sinh\\left(\\frac{\\lambda t}{2}\\sqrt{1-2R}\\right)}\n",
    "$$\n",
    "\n",
    "which diverges in the strong coupling limit.  Formally, this means that the superoperator $[\\textrm{I}-\\Sigma(t))]^{-1}$ is not defined."
   ]
  },
  {
   "cell_type": "markdown",
   "metadata": {},
   "source": [
    "### TCL2\n",
    "\n",
    "Using the TCL projection operator technique one can derive the following time-local master equation \n",
    "    \n",
    "\\begin{equation}\n",
    "\\frac{d\\varrho_{s}(t)}{dt}=\\left[\\sum_{n=1}^{\\infty}\\alpha_{n}K_{n}(t)\\right]\\varrho_{s}(t).\n",
    "\\label{tclmast}\n",
    "\\tag{7.14}\n",
    "\\end{equation}\n",
    "\n",
    "One can show that the operatorial form of the master equation looks the same at any expansion order (neglecting Lamb-Shift terms)\n",
    "\n",
    "\\begin{equation}\n",
    "\\frac{d\\varrho_{s}(t)}{dt}=\\left[\\sum_{n=1}^{\\infty}\\alpha_{2n}\\gamma_{2n}(t)\\right]L\\varrho_{s}(t)\n",
    "\\label{tclmast2}\n",
    "\\tag{7.15}\n",
    "\\end{equation}\n",
    "\n",
    "where $L$ is the GKSL operator. To the second order in the coupling constant $\\alpha$ we get \n",
    "\n",
    "$$\\gamma_{2}(t)+iS_{2}(t)=2\\int_{0}^{t}dt_{1}f(t-t_{1}).$$ \n",
    "\n",
    "For the Lorentzian spectrum we find\n",
    "\n",
    "\\begin{equation}\n",
    "S_{2}(t)=0,\\qquad\\gamma_{2}(t)=\\gamma_{0}(1-e^{-\\lambda t}).\n",
    "\\label{tcl2}\n",
    "\\tag{7.16}\n",
    "\\end{equation}"
   ]
  },
  {
   "cell_type": "markdown",
   "metadata": {},
   "source": [
    "## 7.3. Markovian and strong coupling limits of the exact solution <a id='limits'></a>"
   ]
  },
  {
   "cell_type": "markdown",
   "metadata": {},
   "source": [
    "Recalling (\\ref{c1lor})\n",
    "\n",
    "$$\\varrho_{11}(t)=\\Bigg|c_{1}(0)e^{-\\lambda t/2}\\left[\\cosh\\left(\\frac{\\lambda t}{2}\\sqrt{1-2R}\\right)+\\frac{1}{\\sqrt{1-2R}}\\sinh\\left(\\frac{\\lambda t}{2}\\sqrt{1-2R}\\right)\\right]\\Bigg|^{2},$$\n",
    "\n",
    "where the correlation time of the reservoir is $\\tau=1/\\lambda$. In the Markovian limit $\\lambda\\to\\infty$ but $\\lambda\\gamma_{0}$ is constant ($\\gamma_{0}\\to 0$). In other words the Markovian limit in this model corresponds at taking both a flat reservoir spectrum $\\lambda\\to\\infty$  and very weak coupling $\\gamma_{0}\\to 0$, the two assumptions are not independent."
   ]
  },
  {
   "cell_type": "markdown",
   "metadata": {},
   "source": [
    "By expanding the above equation in the $R\\to0$ limit we get\n",
    "\n",
    "$$\n",
    "\\begin{aligned}\n",
    "c_{1}(t)&\\approx c_{1}(0)e^{-\\frac{\\lambda t}{2}}\\left[\\frac{e^{(1-2R)\\lambda t/2}}{2}+\\frac{(1+2R)e^{(1-2R)\\lambda t/2}}{2}\\right]\\\\\n",
    "&= c_{1}(0)e^{-\\frac{\\lambda t}{2}}e^{(1-2R)\\lambda t/2}\\approx c_{1}(0)e^{-\\frac{R\\lambda t}{2}}=c_{1}(0)e^{-\\frac{\\gamma_{0}t}{2}}.\n",
    "\\end{aligned}\n",
    "$$\n",
    "\n",
    "Hence,\n",
    "\n",
    "\\begin{equation}\n",
    "\\varrho_{11}^{\\textrm{Mark}}(t)=\\varrho_{11}(0)e^{-2\\gamma_{0}t}.\n",
    "\\label{marklim}\n",
    "\\tag{7.17}\n",
    "\\end{equation}\n",
    "\n",
    "This limit also leads to $J(\\omega)\\to\\gamma_{0}/2\\pi, f(\\tau)\\to\\gamma_{0}\\delta(\\tau)$. \n",
    "\n",
    "In the opposite limit, known as the strong coupling limit, where $\\gamma_{0}\\to\\infty$ and $\\lambda\\to0$ we have approximately unitary dynamics (Jaynes-Cummings type)\n",
    "\n",
    "\\begin{equation}\n",
    "\\varrho_{11}^{\\textrm{JC}}(t)\\approx\\varrho_{11}(0)\\cos\\left(\\frac{\\lambda\\gamma_{0}}{2}t\\right).\n",
    "\\label{jclim}\n",
    "\\tag{7.18}\n",
    "\\end{equation}"
   ]
  },
  {
   "cell_type": "markdown",
   "metadata": {},
   "source": [
    "## Example in Qiskit: Jaynes-Cummings model <a id='IBMJaynes'></a>"
   ]
  },
  {
   "cell_type": "markdown",
   "metadata": {},
   "source": [
    "To simulate the Jaynes-Cummings model, we consider one qubit as the system ($q_1$) and one extra qubit ($q_2$) to implement the dynamical map. In other words, we do not simulate the dynamics of system and environment, but only the resulting channel on the system qubit. Nevertheless, we will refer to $q_2$ as environment qubit. Given that the only parameter of the channel is $c_1(t)$ (which is itself parametrized by time), the following circuit results in such dynamics:"
   ]
  },
  {
   "cell_type": "code",
   "execution_count": 2,
   "metadata": {},
   "outputs": [
    {
     "output_type": "execute_result",
     "data": {
      "text/plain": [
       "<Figure size 267.197x325.08 with 1 Axes>"
      ],
      "image/svg+xml": "<?xml version=\"1.0\" encoding=\"utf-8\" standalone=\"no\"?>\n<!DOCTYPE svg PUBLIC \"-//W3C//DTD SVG 1.1//EN\"\n  \"http://www.w3.org/Graphics/SVG/1.1/DTD/svg11.dtd\">\n<svg height=\"259.8354pt\" version=\"1.1\" viewBox=\"0 0 216.134036 259.8354\" width=\"216.134036pt\" xmlns=\"http://www.w3.org/2000/svg\" xmlns:xlink=\"http://www.w3.org/1999/xlink\">\n <metadata>\n  <rdf:RDF xmlns:cc=\"http://creativecommons.org/ns#\" xmlns:dc=\"http://purl.org/dc/elements/1.1/\" xmlns:rdf=\"http://www.w3.org/1999/02/22-rdf-syntax-ns#\">\n   <cc:Work>\n    <dc:type rdf:resource=\"http://purl.org/dc/dcmitype/StillImage\"/>\n    <dc:date>2021-05-10T15:18:08.422359</dc:date>\n    <dc:format>image/svg+xml</dc:format>\n    <dc:creator>\n     <cc:Agent>\n      <dc:title>Matplotlib v3.4.2, https://matplotlib.org/</dc:title>\n     </cc:Agent>\n    </dc:creator>\n   </cc:Work>\n  </rdf:RDF>\n </metadata>\n <defs>\n  <style type=\"text/css\">*{stroke-linecap:butt;stroke-linejoin:round;}</style>\n </defs>\n <g id=\"figure_1\">\n  <g id=\"patch_1\">\n   <path d=\"M 0 259.8354 \nL 216.134036 259.8354 \nL 216.134036 0 \nL 0 0 \nz\n\" style=\"fill:#ffffff;\"/>\n  </g>\n  <g id=\"axes_1\">\n   <g id=\"line2d_1\">\n    <path clip-path=\"url(#pbabe204649)\" d=\"M 63.490836 43.5608 \nL 204.388936 43.5608 \n\" style=\"fill:none;stroke:#000000;stroke-linecap:square;stroke-width:2;\"/>\n   </g>\n   <g id=\"line2d_2\">\n    <path clip-path=\"url(#pbabe204649)\" d=\"M 63.490836 89.0118 \nL 204.388936 89.0118 \n\" style=\"fill:none;stroke:#000000;stroke-linecap:square;stroke-width:2;\"/>\n   </g>\n   <g id=\"line2d_3\">\n    <path clip-path=\"url(#pbabe204649)\" d=\"M 63.490836 134.4628 \nL 204.388936 134.4628 \n\" style=\"fill:none;stroke:#000000;stroke-linecap:square;stroke-width:2;\"/>\n   </g>\n   <g id=\"line2d_4\">\n    <path clip-path=\"url(#pbabe204649)\" d=\"M 63.490836 179.9138 \nL 204.388936 179.9138 \n\" style=\"fill:none;stroke:#000000;stroke-linecap:square;stroke-width:2;\"/>\n   </g>\n   <g id=\"line2d_5\">\n    <path clip-path=\"url(#pbabe204649)\" d=\"M 63.490836 225.3648 \nL 204.388936 225.3648 \n\" style=\"fill:none;stroke:#000000;stroke-linecap:square;stroke-width:2;\"/>\n   </g>\n   <g id=\"line2d_6\">\n    <path clip-path=\"url(#pbabe204649)\" d=\"M 133.485376 134.4628 \nL 133.485376 89.0118 \n\" style=\"fill:none;stroke:#bb8bff;stroke-linecap:square;stroke-width:2;\"/>\n   </g>\n   <g id=\"line2d_7\">\n    <path clip-path=\"url(#pbabe204649)\" d=\"M 178.936376 134.4628 \nL 178.936376 89.0118 \n\" style=\"fill:none;stroke:#6fa4ff;stroke-linecap:square;stroke-width:2;\"/>\n   </g>\n   <g id=\"patch_2\">\n    <path clip-path=\"url(#pbabe204649)\" d=\"M 73.262801 103.783375 \nL 102.805951 103.783375 \nL 102.805951 74.240225 \nL 73.262801 74.240225 \nz\n\" style=\"fill:#05bab6;stroke:#05bab6;stroke-linejoin:miter;stroke-width:1.5;\"/>\n   </g>\n   <g id=\"patch_3\">\n    <path clip-path=\"url(#pbabe204649)\" d=\"M 133.485376 93.443272 \nC 134.660616 93.443272 135.78788 92.976345 136.618901 92.145324 \nC 137.449921 91.314304 137.916849 90.18704 137.916849 89.0118 \nC 137.916849 87.83656 137.449921 86.709296 136.618901 85.878276 \nC 135.78788 85.047255 134.660616 84.580327 133.485376 84.580327 \nC 132.310136 84.580327 131.182872 85.047255 130.351852 85.878276 \nC 129.520832 86.709296 129.053904 87.83656 129.053904 89.0118 \nC 129.053904 90.18704 129.520832 91.314304 130.351852 92.145324 \nC 131.182872 92.976345 132.310136 93.443272 133.485376 93.443272 \nz\n\" style=\"fill:#bb8bff;stroke:#bb8bff;stroke-linejoin:miter;stroke-width:1.5;\"/>\n   </g>\n   <g id=\"patch_4\">\n    <path clip-path=\"url(#pbabe204649)\" d=\"M 118.713801 149.234375 \nL 148.256951 149.234375 \nL 148.256951 119.691225 \nL 118.713801 119.691225 \nz\n\" style=\"fill:#bb8bff;stroke:#bb8bff;stroke-linejoin:miter;stroke-width:1.5;\"/>\n   </g>\n   <g id=\"patch_5\">\n    <path clip-path=\"url(#pbabe204649)\" d=\"M 178.936376 138.894273 \nC 180.111616 138.894273 181.23888 138.427345 182.069901 137.596324 \nC 182.900921 136.765304 183.367849 135.63804 183.367849 134.4628 \nC 183.367849 133.28756 182.900921 132.160296 182.069901 131.329276 \nC 181.23888 130.498255 180.111616 130.031328 178.936376 130.031328 \nC 177.761136 130.031328 176.633872 130.498255 175.802852 131.329276 \nC 174.971832 132.160296 174.504904 133.28756 174.504904 134.4628 \nC 174.504904 135.63804 174.971832 136.765304 175.802852 137.596324 \nC 176.633872 138.427345 177.761136 138.894273 178.936376 138.894273 \nz\n\" style=\"fill:#6fa4ff;stroke:#6fa4ff;stroke-linejoin:miter;stroke-width:1.5;\"/>\n   </g>\n   <g id=\"patch_6\">\n    <path clip-path=\"url(#pbabe204649)\" d=\"M 178.936376 99.351902 \nC 181.678603 99.351902 184.308885 98.262404 186.247933 96.323357 \nC 188.18698 94.384309 189.276479 91.754027 189.276479 89.0118 \nC 189.276479 86.269573 188.18698 83.639291 186.247933 81.700243 \nC 184.308885 79.761196 181.678603 78.671697 178.936376 78.671697 \nC 176.194149 78.671697 173.563867 79.761196 171.62482 81.700243 \nC 169.685772 83.639291 168.596274 86.269573 168.596274 89.0118 \nC 168.596274 91.754027 169.685772 94.384309 171.62482 96.323357 \nC 173.563867 98.262404 176.194149 99.351902 178.936376 99.351902 \nz\n\" style=\"fill:#6fa4ff;stroke:#6fa4ff;stroke-linejoin:miter;stroke-width:2;\"/>\n   </g>\n   <g id=\"line2d_8\">\n    <path clip-path=\"url(#pbabe204649)\" d=\"M 178.936376 94.92043 \nL 178.936376 83.10317 \n\" style=\"fill:none;stroke:#ffffff;stroke-linecap:square;stroke-width:2;\"/>\n   </g>\n   <g id=\"line2d_9\">\n    <path clip-path=\"url(#pbabe204649)\" d=\"M 173.027746 89.0118 \nL 184.845006 89.0118 \n\" style=\"fill:none;stroke:#ffffff;stroke-linecap:square;stroke-width:2;\"/>\n   </g>\n   <g id=\"text_1\">\n    <g clip-path=\"url(#pbabe204649)\">\n     <!-- X -->\n     <g transform=\"translate(83.581876 92.598987)scale(0.13 -0.13)\">\n      <defs>\n       <path d=\"M 403 4666 \nL 1081 4666 \nL 2241 2931 \nL 3406 4666 \nL 4084 4666 \nL 2584 2425 \nL 4184 0 \nL 3506 0 \nL 2194 1984 \nL 872 0 \nL 191 0 \nL 1856 2491 \nL 403 4666 \nz\n\" id=\"DejaVuSans-58\" transform=\"scale(0.015625)\"/>\n      </defs>\n      <use xlink:href=\"#DejaVuSans-58\"/>\n     </g>\n    </g>\n   </g>\n   <g id=\"text_2\">\n    <g clip-path=\"url(#pbabe204649)\">\n     <!-- $\\mathrm{U}_3$ -->\n     <g transform=\"translate(125.555376 133.618515)scale(0.13 -0.13)\">\n      <defs>\n       <path d=\"M 556 4666 \nL 1191 4666 \nL 1191 1831 \nQ 1191 1081 1462 751 \nQ 1734 422 2344 422 \nQ 2950 422 3222 751 \nQ 3494 1081 3494 1831 \nL 3494 4666 \nL 4128 4666 \nL 4128 1753 \nQ 4128 841 3676 375 \nQ 3225 -91 2344 -91 \nQ 1459 -91 1007 375 \nQ 556 841 556 1753 \nL 556 4666 \nz\n\" id=\"DejaVuSans-55\" transform=\"scale(0.015625)\"/>\n       <path d=\"M 2597 2516 \nQ 3050 2419 3304 2112 \nQ 3559 1806 3559 1356 \nQ 3559 666 3084 287 \nQ 2609 -91 1734 -91 \nQ 1441 -91 1130 -33 \nQ 819 25 488 141 \nL 488 750 \nQ 750 597 1062 519 \nQ 1375 441 1716 441 \nQ 2309 441 2620 675 \nQ 2931 909 2931 1356 \nQ 2931 1769 2642 2001 \nQ 2353 2234 1838 2234 \nL 1294 2234 \nL 1294 2753 \nL 1863 2753 \nQ 2328 2753 2575 2939 \nQ 2822 3125 2822 3475 \nQ 2822 3834 2567 4026 \nQ 2313 4219 1838 4219 \nQ 1578 4219 1281 4162 \nQ 984 4106 628 3988 \nL 628 4550 \nQ 988 4650 1302 4700 \nQ 1616 4750 1894 4750 \nQ 2613 4750 3031 4423 \nQ 3450 4097 3450 3541 \nQ 3450 3153 3228 2886 \nQ 3006 2619 2597 2516 \nz\n\" id=\"DejaVuSans-33\" transform=\"scale(0.015625)\"/>\n      </defs>\n      <use transform=\"translate(0 0.09375)\" xlink:href=\"#DejaVuSans-55\"/>\n      <use transform=\"translate(74.150391 -16.3125)scale(0.7)\" xlink:href=\"#DejaVuSans-33\"/>\n     </g>\n    </g>\n   </g>\n   <g id=\"text_3\">\n    <g clip-path=\"url(#pbabe204649)\">\n     <!-- 0, 0, 0 -->\n     <g transform=\"translate(120.765376 145.533245)scale(0.08 -0.08)\">\n      <defs>\n       <path d=\"M 2034 4250 \nQ 1547 4250 1301 3770 \nQ 1056 3291 1056 2328 \nQ 1056 1369 1301 889 \nQ 1547 409 2034 409 \nQ 2525 409 2770 889 \nQ 3016 1369 3016 2328 \nQ 3016 3291 2770 3770 \nQ 2525 4250 2034 4250 \nz\nM 2034 4750 \nQ 2819 4750 3233 4129 \nQ 3647 3509 3647 2328 \nQ 3647 1150 3233 529 \nQ 2819 -91 2034 -91 \nQ 1250 -91 836 529 \nQ 422 1150 422 2328 \nQ 422 3509 836 4129 \nQ 1250 4750 2034 4750 \nz\n\" id=\"DejaVuSans-30\" transform=\"scale(0.015625)\"/>\n       <path d=\"M 750 794 \nL 1409 794 \nL 1409 256 \nL 897 -744 \nL 494 -744 \nL 750 256 \nL 750 794 \nz\n\" id=\"DejaVuSans-2c\" transform=\"scale(0.015625)\"/>\n       <path id=\"DejaVuSans-20\" transform=\"scale(0.015625)\"/>\n      </defs>\n      <use xlink:href=\"#DejaVuSans-30\"/>\n      <use x=\"63.623047\" xlink:href=\"#DejaVuSans-2c\"/>\n      <use x=\"95.410156\" xlink:href=\"#DejaVuSans-20\"/>\n      <use x=\"127.197266\" xlink:href=\"#DejaVuSans-30\"/>\n      <use x=\"190.820312\" xlink:href=\"#DejaVuSans-2c\"/>\n      <use x=\"222.607422\" xlink:href=\"#DejaVuSans-20\"/>\n      <use x=\"254.394531\" xlink:href=\"#DejaVuSans-30\"/>\n     </g>\n    </g>\n   </g>\n   <g id=\"text_4\">\n    <g clip-path=\"url(#pbabe204649)\">\n     <!-- ${q}_{0}$ -->\n     <g transform=\"translate(36.363136 48.011777)scale(0.1625 -0.1625)\">\n      <defs>\n       <path d=\"M 2669 525 \nQ 2438 222 2123 65 \nQ 1809 -91 1428 -91 \nQ 897 -91 595 267 \nQ 294 625 294 1253 \nQ 294 1759 480 2231 \nQ 666 2703 1013 3078 \nQ 1238 3322 1530 3453 \nQ 1822 3584 2144 3584 \nQ 2531 3584 2781 3431 \nQ 3031 3278 3144 2969 \nL 3244 3494 \nL 3822 3494 \nL 2888 -1319 \nL 2309 -1319 \nL 2669 525 \nz\nM 891 1338 \nQ 891 875 1084 633 \nQ 1278 391 1644 391 \nQ 2188 391 2572 911 \nQ 2956 1431 2956 2175 \nQ 2956 2625 2757 2864 \nQ 2559 3103 2188 3103 \nQ 1916 3103 1684 2976 \nQ 1453 2850 1281 2606 \nQ 1100 2350 995 2006 \nQ 891 1663 891 1338 \nz\n\" id=\"DejaVuSans-Oblique-71\" transform=\"scale(0.015625)\"/>\n      </defs>\n      <use xlink:href=\"#DejaVuSans-Oblique-71\"/>\n      <use transform=\"translate(63.476562 -16.40625)scale(0.7)\" xlink:href=\"#DejaVuSans-30\"/>\n     </g>\n    </g>\n   </g>\n   <g id=\"text_5\">\n    <g clip-path=\"url(#pbabe204649)\">\n     <!-- ${q}_{1}$ -->\n     <g transform=\"translate(36.363136 93.462777)scale(0.1625 -0.1625)\">\n      <defs>\n       <path d=\"M 794 531 \nL 1825 531 \nL 1825 4091 \nL 703 3866 \nL 703 4441 \nL 1819 4666 \nL 2450 4666 \nL 2450 531 \nL 3481 531 \nL 3481 0 \nL 794 0 \nL 794 531 \nz\n\" id=\"DejaVuSans-31\" transform=\"scale(0.015625)\"/>\n      </defs>\n      <use xlink:href=\"#DejaVuSans-Oblique-71\"/>\n      <use transform=\"translate(63.476562 -16.40625)scale(0.7)\" xlink:href=\"#DejaVuSans-31\"/>\n     </g>\n    </g>\n   </g>\n   <g id=\"text_6\">\n    <g clip-path=\"url(#pbabe204649)\">\n     <!-- ${q}_{2}$ -->\n     <g transform=\"translate(36.363136 138.913777)scale(0.1625 -0.1625)\">\n      <defs>\n       <path d=\"M 1228 531 \nL 3431 531 \nL 3431 0 \nL 469 0 \nL 469 531 \nQ 828 903 1448 1529 \nQ 2069 2156 2228 2338 \nQ 2531 2678 2651 2914 \nQ 2772 3150 2772 3378 \nQ 2772 3750 2511 3984 \nQ 2250 4219 1831 4219 \nQ 1534 4219 1204 4116 \nQ 875 4013 500 3803 \nL 500 4441 \nQ 881 4594 1212 4672 \nQ 1544 4750 1819 4750 \nQ 2544 4750 2975 4387 \nQ 3406 4025 3406 3419 \nQ 3406 3131 3298 2873 \nQ 3191 2616 2906 2266 \nQ 2828 2175 2409 1742 \nQ 1991 1309 1228 531 \nz\n\" id=\"DejaVuSans-32\" transform=\"scale(0.015625)\"/>\n      </defs>\n      <use xlink:href=\"#DejaVuSans-Oblique-71\"/>\n      <use transform=\"translate(63.476562 -16.40625)scale(0.7)\" xlink:href=\"#DejaVuSans-32\"/>\n     </g>\n    </g>\n   </g>\n   <g id=\"text_7\">\n    <g clip-path=\"url(#pbabe204649)\">\n     <!-- ${q}_{3}$ -->\n     <g transform=\"translate(36.363136 184.364777)scale(0.1625 -0.1625)\">\n      <use xlink:href=\"#DejaVuSans-Oblique-71\"/>\n      <use transform=\"translate(63.476562 -16.40625)scale(0.7)\" xlink:href=\"#DejaVuSans-33\"/>\n     </g>\n    </g>\n   </g>\n   <g id=\"text_8\">\n    <g clip-path=\"url(#pbabe204649)\">\n     <!-- ${q}_{4}$ -->\n     <g transform=\"translate(36.363136 229.815777)scale(0.1625 -0.1625)\">\n      <defs>\n       <path d=\"M 2419 4116 \nL 825 1625 \nL 2419 1625 \nL 2419 4116 \nz\nM 2253 4666 \nL 3047 4666 \nL 3047 1625 \nL 3713 1625 \nL 3713 1100 \nL 3047 1100 \nL 3047 0 \nL 2419 0 \nL 2419 1100 \nL 313 1100 \nL 313 1709 \nL 2253 4666 \nz\n\" id=\"DejaVuSans-34\" transform=\"scale(0.015625)\"/>\n      </defs>\n      <use xlink:href=\"#DejaVuSans-Oblique-71\"/>\n      <use transform=\"translate(63.476562 -16.40625)scale(0.7)\" xlink:href=\"#DejaVuSans-34\"/>\n     </g>\n    </g>\n   </g>\n  </g>\n </g>\n <defs>\n  <clipPath id=\"pbabe204649\">\n   <rect height=\"245.4354\" width=\"201.734036\" x=\"7.2\" y=\"7.2\"/>\n  </clipPath>\n </defs>\n</svg>\n",
      "image/png": "[encoded data removed]"
     },
     "metadata": {},
     "execution_count": 2
    }
   ],
   "source": [
    "###########################################\n",
    "#  Amplitude damping channel on IBMQ_VIGO #\n",
    "###########################################\n",
    "from qiskit import QuantumRegister, QuantumCircuit\n",
    "\n",
    "# Quantum register\n",
    "q = QuantumRegister(5, name='q')\n",
    "\n",
    "# Quantum circuit\n",
    "ad = QuantumCircuit(q)\n",
    "\n",
    "# Amplitude damping channel acting on system qubit\n",
    "## Qubit identification\n",
    "system = 1\n",
    "environment = 2\n",
    "\n",
    "# Define rotation angle\n",
    "theta = 0.0\n",
    "\n",
    "# Construct circuit\n",
    "ad.x(q[system])\n",
    "ad.cu3(theta, 0.0, 0.0, q[system], q[environment])\n",
    "ad.cx(q[environment], q[system])\n",
    "\n",
    "# Draw circuit\n",
    "ad.draw(output='mpl')"
   ]
  },
  {
   "cell_type": "markdown",
   "metadata": {},
   "source": [
    "For an arbitrary pure state of the system $|\\psi\\rangle_s = \\alpha |0\\rangle_s + \\beta |1\\rangle_s$ (notice that we chose $\\alpha = 1$ and $\\beta = 0$ in the above circuit), and setting the state of the environment to vacuum $|0\\rangle_e$, the two gates between the system and environment qubits transform the joint state into $\\alpha |0\\rangle_s|0\\rangle_e + \\beta \\cos \\theta |1\\rangle_s|0\\rangle_e + \\beta \\sin \\theta |0\\rangle_s|1\\rangle_e$. Therefore, identifying the states $|0\\rangle_s$ and $|1\\rangle_s$ with the ground and excited states respectively, and by choosing $\\theta = \\arccos{c_1(t)}$, the reduced state of the system becomes Eq. (\\ref{rohs}).\n",
    "\n",
    "In [Figure 2](#fig_2) we show the experimental results obtained by running this circuit for different values of $t$ on `ibmq_vigo`."
   ]
  },
  {
   "cell_type": "markdown",
   "metadata": {},
   "source": [
    "<a id='fig_2'></a>\n",
    "\n",
    "<img src=\"images/fig_ad_pop.png\">"
   ]
  },
  {
   "cell_type": "markdown",
   "metadata": {},
   "source": [
    "**Figure 2.** Experimental simulation of the amplitude damping channel. The points show the population of the excited state of the system qubit as a function of the simulation parameter $t$ for different values of the coupling a) $R = 0.2$ and b) $R = 100$. In both cases $\\gamma_0 = 1$. The dashed lines show the theoretical prediction."
   ]
  },
  {
   "cell_type": "markdown",
   "metadata": {},
   "source": [
    "## 7.4. Appendix: Some useful properties of Laplace transform <a id='appendix'></a>"
   ]
  },
  {
   "cell_type": "markdown",
   "metadata": {},
   "source": [
    "Given a function $f$ we define its Laplace transform $F$ as\n",
    "\n",
    "$$\n",
    "F(s)=\\textrm{Lap}[f(t)]=\\int_{0}^{+\\infty}dte^{-st}f(t)=\\tilde{f}(s)\\qquad s\\in\\mathbb{C}.\n",
    "$$"
   ]
  },
  {
   "cell_type": "markdown",
   "metadata": {},
   "source": [
    "Below are some important properties to remember\n",
    "\n",
    "- $\\textrm{Lap}[\\alpha f(t)+\\beta g(t)]=\\alpha\\tilde{f}(s)+\\beta\\tilde{g}(s),$\n",
    "- $\\textrm{Lap}\\left[\\frac{df}{dt}(t)\\right]=s\\tilde{f}(s)-f(0),$\n",
    "- $\\textrm{Lap} [f*g(t)]=\\tilde{f}(s)\\tilde{g}(s),\\qquad f*g(t)=\\int_{0}^{t}dt_{1}f(t-t_{1})g(t_{1}).$"
   ]
  },
  {
   "cell_type": "markdown",
   "metadata": {},
   "source": [
    "Also, some important and useful Laplace transforms to keep in mind\n",
    "\n",
    "- $\\textrm{Lap}[\\alpha]=\\frac{\\alpha}{s},$\n",
    "- $\\textrm{Lap}[t]=\\frac{1}{s^{2}},$\n",
    "- $\\textrm{Lap}[e^{\\alpha t}]=\\frac{1}{s-\\alpha}\\qquad\\mathfrak{Re}[s]>\\mathfrak{Re}[\\alpha].$"
   ]
  },
  {
   "cell_type": "markdown",
   "metadata": {},
   "source": [
    "The inverse Laplace transform is defined as\n",
    "$$\n",
    "\\textrm{Lap}^{-1}[\\tilde{f}(s)]=f(t)=\\frac{1}{2\\pi i}\\int_{\\gamma-i\\infty}^{\\gamma+i\\infty}ds e^{st}\\tilde{f}(s).\n",
    "$$"
   ]
  },
  {
   "cell_type": "markdown",
   "metadata": {},
   "source": [
    "In order to compute it we need the Residue theorem\n",
    "$$\n",
    "\\oint_{\\gamma}dzf(z)=2\\pi i\\sum_{k=1}^{n}\\textrm{Res}[f,p_{k}],\n",
    "$$\n",
    "\n",
    "where $\\gamma$ is a continuous path in the complex plane and $p_{k}$ is a $n_{k}$ order pole for the function $f$. The residues are defined as\n",
    "\n",
    "$$\n",
    "\\textrm{Res}[f,p_{k}]=\\frac{1}{(n_{k}-1)!}\\lim_{z\\to p_{k}}\\left(\\frac{\\partial}{\\partial z}\\right)^{(n_{k}-1)}\\left[f(z)(z-p_{k})^{n_{}k}\\right].\n",
    "$$ "
   ]
  },
  {
   "cell_type": "markdown",
   "metadata": {},
   "source": [
    "It immediately follows that\n",
    "$$\n",
    "\\textrm{Lap}^{-1}[\\tilde{f}(s)]=\\sum_{k=1}^{n}\\frac{1}{(n_{k}-1)!}\\left(\\frac{\\partial}{\\partial s}\\right)^{(n_{k}-1)}\\left[e^{st}\\tilde{f}(s)(s-p_{k})^{n_{}k}\\right].\n",
    "$$"
   ]
  }
 ],
 "metadata": {
  "celltoolbar": "Edit Metadata",
  "kernelspec": {
   "display_name": "Python 3",
   "language": "python",
   "name": "python3"
  },
  "language_info": {
   "codemirror_mode": {
    "name": "ipython",
    "version": 3
   },
   "file_extension": ".py",
   "mimetype": "text/x-python",
   "name": "python",
   "nbconvert_exporter": "python",
   "pygments_lexer": "ipython3",
   "version": "3.8.5"
  }
 },
 "nbformat": 4,
 "nbformat_minor": 2
}