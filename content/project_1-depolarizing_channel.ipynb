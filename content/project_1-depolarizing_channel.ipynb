{
 "cells": [
  {
   "cell_type": "markdown",
   "metadata": {},
   "source": [
    "# Project 1: Depolarizing channel"
   ]
  },
  {
   "cell_type": "markdown",
   "metadata": {},
   "source": [
    "In this project we will implement the **depolarizing channel** in qiskit and test it with state tomography on the simulator and on a real device.\n",
    "\n",
    "We introduced the depolarizing channel in Chapter 5 where we showed the circuit that implements it.\n",
    "\n",
    "Here it is again, for reference"
   ]
  },
  {
   "cell_type": "code",
   "execution_count": 16,
   "metadata": {},
   "outputs": [],
   "source": [
    "# imports\n",
    "import numpy as np\n",
    "from qiskit import QuantumRegister, QuantumCircuit"
   ]
  },
  {
   "cell_type": "code",
   "execution_count": 4,
   "metadata": {},
   "outputs": [
    {
     "data": {
      "image/png": "[encoded data removed]",
      "text/plain": [
       "<Figure size 397.32x264.88 with 1 Axes>"
      ]
     },
     "execution_count": 4,
     "metadata": {},
     "output_type": "execute_result"
    }
   ],
   "source": [
    "####################################\n",
    "#  Depolarizing channel on IBMQX2  #\n",
    "####################################\n",
    "\n",
    "# Quantum register\n",
    "q = QuantumRegister(4, name=\"q\")\n",
    "\n",
    "# Quantum circuit\n",
    "depolarizing = QuantumCircuit(q)\n",
    "\n",
    "# Depolarizing channel acting on q_2\n",
    "## Qubit identification\n",
    "system = 0\n",
    "a_0 = 1\n",
    "a_1 = 2\n",
    "a_2 = 3\n",
    "\n",
    "## Define rotation angle\n",
    "theta = 0.0\n",
    "\n",
    "## Construct circuit\n",
    "depolarizing.ry(theta, q[a_0])\n",
    "depolarizing.ry(theta, q[a_1])\n",
    "depolarizing.ry(theta, q[a_2])\n",
    "depolarizing.cx(q[a_0], q[system])\n",
    "depolarizing.cy(q[a_1], q[system])\n",
    "depolarizing.cz(q[a_2], q[system])\n",
    "\n",
    "# Draw circuit\n",
    "depolarizing.draw(output='mpl')"
   ]
  },
  {
   "cell_type": "markdown",
   "metadata": {},
   "source": [
    "## Task 1\n",
    "\n",
    "Create a function that returns a quantum circuit implementing a depolarizing channels with parameter $p$ on a specified qubit `system`, using three ancillary qubits `ancillae = [a1, a2, a3]`."
   ]
  },
  {
   "cell_type": "code",
   "execution_count": 15,
   "metadata": {},
   "outputs": [],
   "source": [
    "def depolarizing_channel(q, p, system, ancillae):\n",
    "    \"\"\"Returns a QuantumCircuit implementing depolarizing channel on q[system]\n",
    "    \n",
    "    Args:\n",
    "        q (QuantumRegister): the register to use for the circuit\n",
    "        p (float): the probability for the channel between 0 and 1\n",
    "        system (int): index of the system qubit\n",
    "        ancillae (list): list of indices for the ancillary qubits\n",
    "        \n",
    "    Returns:\n",
    "        A QuantumCircuit object\n",
    "    \"\"\"\n",
    "    \n",
    "    # Write the code here..."
   ]
  },
  {
   "cell_type": "markdown",
   "metadata": {},
   "source": [
    "## Task 2\n",
    "Write a circuit `prepare_state` that prepares the `system` qubit in an initial state that has non-zero populations and coherences (both real and imaginary parts)"
   ]
  },
  {
   "cell_type": "code",
   "execution_count": null,
   "metadata": {},
   "outputs": [],
   "source": [
    "# Let's fix the quantum register and the qubit assignments\n",
    "\n",
    "# We create the quantum circuit\n",
    "q = QuantumRegister(5, name='q')\n",
    "\n",
    "# Index of the system qubit\n",
    "system = 2\n",
    "\n",
    "# Indices of the ancillary qubits\n",
    "ancillae = [1, 3, 4]"
   ]
  },
  {
   "cell_type": "markdown",
   "metadata": {},
   "source": [
    "## Task 3\n",
    "\n",
    "For different values of $p \\in [0, 1]$: \n",
    "\n",
    "1. Concatenate `prepare_state` and `depolarizing_channel` in a circuit and create the corresponding  `tomography_circuits` (check the [preliminaries](preliminaries.html) for help with the tomography).\n",
    "2. Execute the `tomography_circuits` in the simulator and collect the rsults"
   ]
  },
  {
   "cell_type": "code",
   "execution_count": null,
   "metadata": {},
   "outputs": [],
   "source": [
    "# For example, let's consider 10 equally spaced values of p\n",
    "p_values = np.linspace(0, 1, 10)"
   ]
  },
  {
   "cell_type": "markdown",
   "metadata": {},
   "source": [
    "## Task 4\n",
    "1. Process the results of the simulation by performing the tomographic reconstruction.\n",
    "2. Find analytically what is the density matrix of the system qubit after the depolarizing channel as a function of $p$.\n",
    "3. Plot the values of $\\rho_{11}$, $\\rho_{22}$, $\\Re \\rho_{12}$, $\\Im \\rho_{12}$ as functions of $p$ and compare them to the analytical prediction.\n",
    "\n",
    "Up to the statistical errors due to the finite number of shots, the simulated points should match the analytical prediction."
   ]
  },
  {
   "cell_type": "markdown",
   "metadata": {},
   "source": [
    "## Homework\n",
    "Perform Tasks 3-5 on a real device, and include error mitigation (check the [preliminaries](preliminaries.html) for instructions). Compare the results with the simulation."
   ]
  }
 ],
 "metadata": {
  "kernelspec": {
   "display_name": "Python 3",
   "language": "python",
   "name": "python3"
  },
  "language_info": {
   "codemirror_mode": {
    "name": "ipython",
    "version": 3
   },
   "file_extension": ".py",
   "mimetype": "text/x-python",
   "name": "python",
   "nbconvert_exporter": "python",
   "pygments_lexer": "ipython3",
   "version": "3.7.4"
  }
 },
 "nbformat": 4,
 "nbformat_minor": 2
}
