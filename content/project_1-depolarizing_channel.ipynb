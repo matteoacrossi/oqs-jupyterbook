{
 "cells": [
  {
   "cell_type": "markdown",
   "metadata": {},
   "source": [
    "In this project we will implement the **depolarizing channel** in qiskit and test it with state tomography on the simulator and on a real device.\n",
    "\n",
    "We introduced the depolarizing channel in Chapter 5 where we showed the circuit that implements it.\n",
    "\n",
    "Here it is again, for reference"
   ]
  },
  {
   "cell_type": "code",
   "execution_count": 1,
   "metadata": {},
   "outputs": [],
   "source": [
    "# imports\n",
    "import numpy as np\n",
    "from qiskit import QuantumRegister, QuantumCircuit"
   ]
  },
  {
   "cell_type": "code",
   "execution_count": 2,
   "metadata": {},
   "outputs": [
    {
     "output_type": "execute_result",
     "data": {
      "text/plain": [
       "<Figure size 327.397x264.88 with 1 Axes>"
      ],
      "image/svg+xml": "<?xml version=\"1.0\" encoding=\"utf-8\" standalone=\"no\"?>\n<!DOCTYPE svg PUBLIC \"-//W3C//DTD SVG 1.1//EN\"\n  \"http://www.w3.org/Graphics/SVG/1.1/DTD/svg11.dtd\">\n<svg height=\"214.3844pt\" version=\"1.1\" viewBox=\"0 0 261.585036 214.3844\" width=\"261.585036pt\" xmlns=\"http://www.w3.org/2000/svg\" xmlns:xlink=\"http://www.w3.org/1999/xlink\">\n <metadata>\n  <rdf:RDF xmlns:cc=\"http://creativecommons.org/ns#\" xmlns:dc=\"http://purl.org/dc/elements/1.1/\" xmlns:rdf=\"http://www.w3.org/1999/02/22-rdf-syntax-ns#\">\n   <cc:Work>\n    <dc:type rdf:resource=\"http://purl.org/dc/dcmitype/StillImage\"/>\n    <dc:date>2021-05-10T15:19:18.159615</dc:date>\n    <dc:format>image/svg+xml</dc:format>\n    <dc:creator>\n     <cc:Agent>\n      <dc:title>Matplotlib v3.4.2, https://matplotlib.org/</dc:title>\n     </cc:Agent>\n    </dc:creator>\n   </cc:Work>\n  </rdf:RDF>\n </metadata>\n <defs>\n  <style type=\"text/css\">*{stroke-linecap:butt;stroke-linejoin:round;}</style>\n </defs>\n <g id=\"figure_1\">\n  <g id=\"patch_1\">\n   <path d=\"M 0 214.3844 \nL 261.585036 214.3844 \nL 261.585036 0 \nL 0 0 \nz\n\" style=\"fill:#ffffff;\"/>\n  </g>\n  <g id=\"axes_1\">\n   <g id=\"line2d_1\">\n    <path clip-path=\"url(#pdd6f7afad8)\" d=\"M 63.490836 43.5608 \nL 249.839936 43.5608 \n\" style=\"fill:none;stroke:#000000;stroke-linecap:square;stroke-width:2;\"/>\n   </g>\n   <g id=\"line2d_2\">\n    <path clip-path=\"url(#pdd6f7afad8)\" d=\"M 63.490836 89.0118 \nL 249.839936 89.0118 \n\" style=\"fill:none;stroke:#000000;stroke-linecap:square;stroke-width:2;\"/>\n   </g>\n   <g id=\"line2d_3\">\n    <path clip-path=\"url(#pdd6f7afad8)\" d=\"M 63.490836 134.4628 \nL 249.839936 134.4628 \n\" style=\"fill:none;stroke:#000000;stroke-linecap:square;stroke-width:2;\"/>\n   </g>\n   <g id=\"line2d_4\">\n    <path clip-path=\"url(#pdd6f7afad8)\" d=\"M 63.490836 179.9138 \nL 249.839936 179.9138 \n\" style=\"fill:none;stroke:#000000;stroke-linecap:square;stroke-width:2;\"/>\n   </g>\n   <g id=\"line2d_5\">\n    <path clip-path=\"url(#pdd6f7afad8)\" d=\"M 133.485376 89.0118 \nL 133.485376 43.5608 \n\" style=\"fill:none;stroke:#6fa4ff;stroke-linecap:square;stroke-width:2;\"/>\n   </g>\n   <g id=\"line2d_6\">\n    <path clip-path=\"url(#pdd6f7afad8)\" d=\"M 178.936376 134.4628 \nL 178.936376 43.5608 \n\" style=\"fill:none;stroke:#6fa4ff;stroke-linecap:square;stroke-width:2;\"/>\n   </g>\n   <g id=\"line2d_7\">\n    <path clip-path=\"url(#pdd6f7afad8)\" d=\"M 224.387376 179.9138 \nL 224.387376 43.5608 \n\" style=\"fill:none;stroke:#6fa4ff;stroke-linecap:square;stroke-width:2;\"/>\n   </g>\n   <g id=\"patch_2\">\n    <path clip-path=\"url(#pdd6f7afad8)\" d=\"M 73.262801 103.783375 \nL 102.805951 103.783375 \nL 102.805951 74.240225 \nL 73.262801 74.240225 \nz\n\" style=\"fill:#bb8bff;stroke:#bb8bff;stroke-linejoin:miter;stroke-width:1.5;\"/>\n   </g>\n   <g id=\"patch_3\">\n    <path clip-path=\"url(#pdd6f7afad8)\" d=\"M 73.262801 149.234375 \nL 102.805951 149.234375 \nL 102.805951 119.691225 \nL 73.262801 119.691225 \nz\n\" style=\"fill:#bb8bff;stroke:#bb8bff;stroke-linejoin:miter;stroke-width:1.5;\"/>\n   </g>\n   <g id=\"patch_4\">\n    <path clip-path=\"url(#pdd6f7afad8)\" d=\"M 73.262801 194.685375 \nL 102.805951 194.685375 \nL 102.805951 165.142225 \nL 73.262801 165.142225 \nz\n\" style=\"fill:#bb8bff;stroke:#bb8bff;stroke-linejoin:miter;stroke-width:1.5;\"/>\n   </g>\n   <g id=\"patch_5\">\n    <path clip-path=\"url(#pdd6f7afad8)\" d=\"M 133.485376 93.443272 \nC 134.660616 93.443272 135.78788 92.976345 136.618901 92.145324 \nC 137.449921 91.314304 137.916849 90.18704 137.916849 89.0118 \nC 137.916849 87.83656 137.449921 86.709296 136.618901 85.878276 \nC 135.78788 85.047255 134.660616 84.580327 133.485376 84.580327 \nC 132.310136 84.580327 131.182872 85.047255 130.351852 85.878276 \nC 129.520832 86.709296 129.053904 87.83656 129.053904 89.0118 \nC 129.053904 90.18704 129.520832 91.314304 130.351852 92.145324 \nC 131.182872 92.976345 132.310136 93.443272 133.485376 93.443272 \nz\n\" style=\"fill:#6fa4ff;stroke:#6fa4ff;stroke-linejoin:miter;stroke-width:1.5;\"/>\n   </g>\n   <g id=\"patch_6\">\n    <path clip-path=\"url(#pdd6f7afad8)\" d=\"M 133.485376 53.900903 \nC 136.227603 53.900903 138.857885 52.811404 140.796933 50.872357 \nC 142.73598 48.933309 143.825479 46.303027 143.825479 43.5608 \nC 143.825479 40.818573 142.73598 38.188291 140.796933 36.249243 \nC 138.857885 34.310196 136.227603 33.220697 133.485376 33.220697 \nC 130.743149 33.220697 128.112867 34.310196 126.17382 36.249243 \nC 124.234772 38.188291 123.145274 40.818573 123.145274 43.5608 \nC 123.145274 46.303027 124.234772 48.933309 126.17382 50.872357 \nC 128.112867 52.811404 130.743149 53.900903 133.485376 53.900903 \nz\n\" style=\"fill:#6fa4ff;stroke:#6fa4ff;stroke-linejoin:miter;stroke-width:2;\"/>\n   </g>\n   <g id=\"patch_7\">\n    <path clip-path=\"url(#pdd6f7afad8)\" d=\"M 178.936376 138.894273 \nC 180.111616 138.894273 181.23888 138.427345 182.069901 137.596324 \nC 182.900921 136.765304 183.367849 135.63804 183.367849 134.4628 \nC 183.367849 133.28756 182.900921 132.160296 182.069901 131.329276 \nC 181.23888 130.498255 180.111616 130.031328 178.936376 130.031328 \nC 177.761136 130.031328 176.633872 130.498255 175.802852 131.329276 \nC 174.971832 132.160296 174.504904 133.28756 174.504904 134.4628 \nC 174.504904 135.63804 174.971832 136.765304 175.802852 137.596324 \nC 176.633872 138.427345 177.761136 138.894273 178.936376 138.894273 \nz\n\" style=\"fill:#6fa4ff;stroke:#6fa4ff;stroke-linejoin:miter;stroke-width:1.5;\"/>\n   </g>\n   <g id=\"patch_8\">\n    <path clip-path=\"url(#pdd6f7afad8)\" d=\"M 164.164801 58.332375 \nL 193.707951 58.332375 \nL 193.707951 28.789225 \nL 164.164801 28.789225 \nz\n\" style=\"fill:#6fa4ff;stroke:#6fa4ff;stroke-linejoin:miter;stroke-width:1.5;\"/>\n   </g>\n   <g id=\"patch_9\">\n    <path clip-path=\"url(#pdd6f7afad8)\" d=\"M 224.387376 184.345273 \nC 225.562616 184.345273 226.68988 183.878345 227.520901 183.047324 \nC 228.351921 182.216304 228.818849 181.08904 228.818849 179.9138 \nC 228.818849 178.73856 228.351921 177.611296 227.520901 176.780276 \nC 226.68988 175.949255 225.562616 175.482327 224.387376 175.482327 \nC 223.212136 175.482327 222.084872 175.949255 221.253852 176.780276 \nC 220.422832 177.611296 219.955904 178.73856 219.955904 179.9138 \nC 219.955904 181.08904 220.422832 182.216304 221.253852 183.047324 \nC 222.084872 183.878345 223.212136 184.345273 224.387376 184.345273 \nz\n\" style=\"fill:#6fa4ff;stroke:#6fa4ff;stroke-linejoin:miter;stroke-width:1.5;\"/>\n   </g>\n   <g id=\"patch_10\">\n    <path clip-path=\"url(#pdd6f7afad8)\" d=\"M 224.387376 47.992272 \nC 225.562616 47.992272 226.68988 47.525345 227.520901 46.694324 \nC 228.351921 45.863304 228.818849 44.73604 228.818849 43.5608 \nC 228.818849 42.38556 228.351921 41.258296 227.520901 40.427276 \nC 226.68988 39.596255 225.562616 39.129328 224.387376 39.129328 \nC 223.212136 39.129328 222.084872 39.596255 221.253852 40.427276 \nC 220.422832 41.258296 219.955904 42.38556 219.955904 43.5608 \nC 219.955904 44.73604 220.422832 45.863304 221.253852 46.694324 \nC 222.084872 47.525345 223.212136 47.992272 224.387376 47.992272 \nz\n\" style=\"fill:#6fa4ff;stroke:#6fa4ff;stroke-linejoin:miter;stroke-width:1.5;\"/>\n   </g>\n   <g id=\"line2d_8\">\n    <path clip-path=\"url(#pdd6f7afad8)\" d=\"M 133.485376 49.46943 \nL 133.485376 37.65217 \n\" style=\"fill:none;stroke:#ffffff;stroke-linecap:square;stroke-width:2;\"/>\n   </g>\n   <g id=\"line2d_9\">\n    <path clip-path=\"url(#pdd6f7afad8)\" d=\"M 127.576746 43.5608 \nL 139.394006 43.5608 \n\" style=\"fill:none;stroke:#ffffff;stroke-linecap:square;stroke-width:2;\"/>\n   </g>\n   <g id=\"text_1\">\n    <g clip-path=\"url(#pdd6f7afad8)\">\n     <!-- $\\mathrm{R}_\\mathrm{Y}$ -->\n     <g transform=\"translate(80.494376 88.167515)scale(0.13 -0.13)\">\n      <defs>\n       <path d=\"M 2841 2188 \nQ 3044 2119 3236 1894 \nQ 3428 1669 3622 1275 \nL 4263 0 \nL 3584 0 \nL 2988 1197 \nQ 2756 1666 2539 1819 \nQ 2322 1972 1947 1972 \nL 1259 1972 \nL 1259 0 \nL 628 0 \nL 628 4666 \nL 2053 4666 \nQ 2853 4666 3247 4331 \nQ 3641 3997 3641 3322 \nQ 3641 2881 3436 2590 \nQ 3231 2300 2841 2188 \nz\nM 1259 4147 \nL 1259 2491 \nL 2053 2491 \nQ 2509 2491 2742 2702 \nQ 2975 2913 2975 3322 \nQ 2975 3731 2742 3939 \nQ 2509 4147 2053 4147 \nL 1259 4147 \nz\n\" id=\"DejaVuSans-52\" transform=\"scale(0.015625)\"/>\n       <path d=\"M -13 4666 \nL 666 4666 \nL 1959 2747 \nL 3244 4666 \nL 3922 4666 \nL 2272 2222 \nL 2272 0 \nL 1638 0 \nL 1638 2222 \nL -13 4666 \nz\n\" id=\"DejaVuSans-59\" transform=\"scale(0.015625)\"/>\n      </defs>\n      <use transform=\"translate(0 0.09375)\" xlink:href=\"#DejaVuSans-52\"/>\n      <use transform=\"translate(70.439453 -16.3125)scale(0.7)\" xlink:href=\"#DejaVuSans-59\"/>\n     </g>\n    </g>\n   </g>\n   <g id=\"text_2\">\n    <g clip-path=\"url(#pdd6f7afad8)\">\n     <!-- 0 -->\n     <g transform=\"translate(85.489376 100.082245)scale(0.08 -0.08)\">\n      <defs>\n       <path d=\"M 2034 4250 \nQ 1547 4250 1301 3770 \nQ 1056 3291 1056 2328 \nQ 1056 1369 1301 889 \nQ 1547 409 2034 409 \nQ 2525 409 2770 889 \nQ 3016 1369 3016 2328 \nQ 3016 3291 2770 3770 \nQ 2525 4250 2034 4250 \nz\nM 2034 4750 \nQ 2819 4750 3233 4129 \nQ 3647 3509 3647 2328 \nQ 3647 1150 3233 529 \nQ 2819 -91 2034 -91 \nQ 1250 -91 836 529 \nQ 422 1150 422 2328 \nQ 422 3509 836 4129 \nQ 1250 4750 2034 4750 \nz\n\" id=\"DejaVuSans-30\" transform=\"scale(0.015625)\"/>\n      </defs>\n      <use xlink:href=\"#DejaVuSans-30\"/>\n     </g>\n    </g>\n   </g>\n   <g id=\"text_3\">\n    <g clip-path=\"url(#pdd6f7afad8)\">\n     <!-- $\\mathrm{R}_\\mathrm{Y}$ -->\n     <g transform=\"translate(80.494376 133.618515)scale(0.13 -0.13)\">\n      <use transform=\"translate(0 0.09375)\" xlink:href=\"#DejaVuSans-52\"/>\n      <use transform=\"translate(70.439453 -16.3125)scale(0.7)\" xlink:href=\"#DejaVuSans-59\"/>\n     </g>\n    </g>\n   </g>\n   <g id=\"text_4\">\n    <g clip-path=\"url(#pdd6f7afad8)\">\n     <!-- 0 -->\n     <g transform=\"translate(85.489376 145.533245)scale(0.08 -0.08)\">\n      <use xlink:href=\"#DejaVuSans-30\"/>\n     </g>\n    </g>\n   </g>\n   <g id=\"text_5\">\n    <g clip-path=\"url(#pdd6f7afad8)\">\n     <!-- $\\mathrm{R}_\\mathrm{Y}$ -->\n     <g transform=\"translate(80.494376 179.069515)scale(0.13 -0.13)\">\n      <use transform=\"translate(0 0.09375)\" xlink:href=\"#DejaVuSans-52\"/>\n      <use transform=\"translate(70.439453 -16.3125)scale(0.7)\" xlink:href=\"#DejaVuSans-59\"/>\n     </g>\n    </g>\n   </g>\n   <g id=\"text_6\">\n    <g clip-path=\"url(#pdd6f7afad8)\">\n     <!-- 0 -->\n     <g transform=\"translate(85.489376 190.984245)scale(0.08 -0.08)\">\n      <use xlink:href=\"#DejaVuSans-30\"/>\n     </g>\n    </g>\n   </g>\n   <g id=\"text_7\">\n    <g clip-path=\"url(#pdd6f7afad8)\">\n     <!-- Y -->\n     <g transform=\"translate(174.966298 47.147987)scale(0.13 -0.13)\">\n      <use xlink:href=\"#DejaVuSans-59\"/>\n     </g>\n    </g>\n   </g>\n   <g id=\"text_8\">\n    <g clip-path=\"url(#pdd6f7afad8)\">\n     <!-- ${q}_{0}$ -->\n     <g transform=\"translate(36.363136 48.011777)scale(0.1625 -0.1625)\">\n      <defs>\n       <path d=\"M 2669 525 \nQ 2438 222 2123 65 \nQ 1809 -91 1428 -91 \nQ 897 -91 595 267 \nQ 294 625 294 1253 \nQ 294 1759 480 2231 \nQ 666 2703 1013 3078 \nQ 1238 3322 1530 3453 \nQ 1822 3584 2144 3584 \nQ 2531 3584 2781 3431 \nQ 3031 3278 3144 2969 \nL 3244 3494 \nL 3822 3494 \nL 2888 -1319 \nL 2309 -1319 \nL 2669 525 \nz\nM 891 1338 \nQ 891 875 1084 633 \nQ 1278 391 1644 391 \nQ 2188 391 2572 911 \nQ 2956 1431 2956 2175 \nQ 2956 2625 2757 2864 \nQ 2559 3103 2188 3103 \nQ 1916 3103 1684 2976 \nQ 1453 2850 1281 2606 \nQ 1100 2350 995 2006 \nQ 891 1663 891 1338 \nz\n\" id=\"DejaVuSans-Oblique-71\" transform=\"scale(0.015625)\"/>\n      </defs>\n      <use xlink:href=\"#DejaVuSans-Oblique-71\"/>\n      <use transform=\"translate(63.476562 -16.40625)scale(0.7)\" xlink:href=\"#DejaVuSans-30\"/>\n     </g>\n    </g>\n   </g>\n   <g id=\"text_9\">\n    <g clip-path=\"url(#pdd6f7afad8)\">\n     <!-- ${q}_{1}$ -->\n     <g transform=\"translate(36.363136 93.462777)scale(0.1625 -0.1625)\">\n      <defs>\n       <path d=\"M 794 531 \nL 1825 531 \nL 1825 4091 \nL 703 3866 \nL 703 4441 \nL 1819 4666 \nL 2450 4666 \nL 2450 531 \nL 3481 531 \nL 3481 0 \nL 794 0 \nL 794 531 \nz\n\" id=\"DejaVuSans-31\" transform=\"scale(0.015625)\"/>\n      </defs>\n      <use xlink:href=\"#DejaVuSans-Oblique-71\"/>\n      <use transform=\"translate(63.476562 -16.40625)scale(0.7)\" xlink:href=\"#DejaVuSans-31\"/>\n     </g>\n    </g>\n   </g>\n   <g id=\"text_10\">\n    <g clip-path=\"url(#pdd6f7afad8)\">\n     <!-- ${q}_{2}$ -->\n     <g transform=\"translate(36.363136 138.913777)scale(0.1625 -0.1625)\">\n      <defs>\n       <path d=\"M 1228 531 \nL 3431 531 \nL 3431 0 \nL 469 0 \nL 469 531 \nQ 828 903 1448 1529 \nQ 2069 2156 2228 2338 \nQ 2531 2678 2651 2914 \nQ 2772 3150 2772 3378 \nQ 2772 3750 2511 3984 \nQ 2250 4219 1831 4219 \nQ 1534 4219 1204 4116 \nQ 875 4013 500 3803 \nL 500 4441 \nQ 881 4594 1212 4672 \nQ 1544 4750 1819 4750 \nQ 2544 4750 2975 4387 \nQ 3406 4025 3406 3419 \nQ 3406 3131 3298 2873 \nQ 3191 2616 2906 2266 \nQ 2828 2175 2409 1742 \nQ 1991 1309 1228 531 \nz\n\" id=\"DejaVuSans-32\" transform=\"scale(0.015625)\"/>\n      </defs>\n      <use xlink:href=\"#DejaVuSans-Oblique-71\"/>\n      <use transform=\"translate(63.476562 -16.40625)scale(0.7)\" xlink:href=\"#DejaVuSans-32\"/>\n     </g>\n    </g>\n   </g>\n   <g id=\"text_11\">\n    <g clip-path=\"url(#pdd6f7afad8)\">\n     <!-- ${q}_{3}$ -->\n     <g transform=\"translate(36.363136 184.364777)scale(0.1625 -0.1625)\">\n      <defs>\n       <path d=\"M 2597 2516 \nQ 3050 2419 3304 2112 \nQ 3559 1806 3559 1356 \nQ 3559 666 3084 287 \nQ 2609 -91 1734 -91 \nQ 1441 -91 1130 -33 \nQ 819 25 488 141 \nL 488 750 \nQ 750 597 1062 519 \nQ 1375 441 1716 441 \nQ 2309 441 2620 675 \nQ 2931 909 2931 1356 \nQ 2931 1769 2642 2001 \nQ 2353 2234 1838 2234 \nL 1294 2234 \nL 1294 2753 \nL 1863 2753 \nQ 2328 2753 2575 2939 \nQ 2822 3125 2822 3475 \nQ 2822 3834 2567 4026 \nQ 2313 4219 1838 4219 \nQ 1578 4219 1281 4162 \nQ 984 4106 628 3988 \nL 628 4550 \nQ 988 4650 1302 4700 \nQ 1616 4750 1894 4750 \nQ 2613 4750 3031 4423 \nQ 3450 4097 3450 3541 \nQ 3450 3153 3228 2886 \nQ 3006 2619 2597 2516 \nz\n\" id=\"DejaVuSans-33\" transform=\"scale(0.015625)\"/>\n      </defs>\n      <use xlink:href=\"#DejaVuSans-Oblique-71\"/>\n      <use transform=\"translate(63.476562 -16.40625)scale(0.7)\" xlink:href=\"#DejaVuSans-33\"/>\n     </g>\n    </g>\n   </g>\n  </g>\n </g>\n <defs>\n  <clipPath id=\"pdd6f7afad8\">\n   <rect height=\"199.9844\" width=\"247.185036\" x=\"7.2\" y=\"7.2\"/>\n  </clipPath>\n </defs>\n</svg>\n",
      "image/png": "[encoded data removed]"
     },
     "metadata": {},
     "execution_count": 2
    }
   ],
   "source": [
    "####################################\n",
    "#  Depolarizing channel on IBMQX2  #\n",
    "####################################\n",
    "\n",
    "# Quantum register\n",
    "q = QuantumRegister(4, name=\"q\")\n",
    "\n",
    "# Quantum circuit\n",
    "depolarizing = QuantumCircuit(q)\n",
    "\n",
    "# Depolarizing channel acting on q_2\n",
    "## Qubit identification\n",
    "system = 0\n",
    "a_0 = 1\n",
    "a_1 = 2\n",
    "a_2 = 3\n",
    "\n",
    "## Define rotation angle\n",
    "theta = 0.0\n",
    "\n",
    "## Construct circuit\n",
    "depolarizing.ry(theta, q[a_0])\n",
    "depolarizing.ry(theta, q[a_1])\n",
    "depolarizing.ry(theta, q[a_2])\n",
    "depolarizing.cx(q[a_0], q[system])\n",
    "depolarizing.cy(q[a_1], q[system])\n",
    "depolarizing.cz(q[a_2], q[system])\n",
    "\n",
    "# Draw circuit\n",
    "depolarizing.draw(output='mpl')"
   ]
  },
  {
   "cell_type": "markdown",
   "metadata": {},
   "source": [
    "## Task 1\n",
    "\n",
    "Create a function that returns a quantum circuit implementing a depolarizing channels with parameter $p$ on a specified qubit `system`, using three ancillary qubits `ancillae = [a1, a2, a3]`."
   ]
  },
  {
   "cell_type": "code",
   "execution_count": 15,
   "metadata": {},
   "outputs": [],
   "source": [
    "def depolarizing_channel(q, p, system, ancillae):\n",
    "    \"\"\"Returns a QuantumCircuit implementing depolarizing channel on q[system]\n",
    "    \n",
    "    Args:\n",
    "        q (QuantumRegister): the register to use for the circuit\n",
    "        p (float): the probability for the channel between 0 and 1\n",
    "        system (int): index of the system qubit\n",
    "        ancillae (list): list of indices for the ancillary qubits\n",
    "        \n",
    "    Returns:\n",
    "        A QuantumCircuit object\n",
    "    \"\"\"\n",
    "    \n",
    "    # Write the code here..."
   ]
  },
  {
   "cell_type": "markdown",
   "metadata": {},
   "source": [
    "## Task 2\n",
    "Write a circuit `prepare_state` that prepares the `system` qubit in an initial state that has non-zero populations and coherences (both real and imaginary parts)"
   ]
  },
  {
   "cell_type": "code",
   "execution_count": null,
   "metadata": {},
   "outputs": [],
   "source": [
    "# Let's fix the quantum register and the qubit assignments\n",
    "\n",
    "# We create the quantum circuit\n",
    "q = QuantumRegister(5, name='q')\n",
    "\n",
    "# Index of the system qubit\n",
    "system = 2\n",
    "\n",
    "# Indices of the ancillary qubits\n",
    "ancillae = [1, 3, 4]"
   ]
  },
  {
   "cell_type": "markdown",
   "metadata": {},
   "source": [
    "## Task 3\n",
    "\n",
    "For different values of $p \\in [0, 1]$: \n",
    "\n",
    "1. Concatenate `prepare_state` and `depolarizing_channel` in a circuit and create the corresponding  `tomography_circuits` (check the [preliminaries](preliminaries.html) for help with the tomography).\n",
    "2. Execute the `tomography_circuits` in the simulator and collect the rsults"
   ]
  },
  {
   "cell_type": "code",
   "execution_count": null,
   "metadata": {},
   "outputs": [],
   "source": [
    "# For example, let's consider 10 equally spaced values of p\n",
    "p_values = np.linspace(0, 1, 10)"
   ]
  },
  {
   "cell_type": "markdown",
   "metadata": {},
   "source": [
    "## Task 4\n",
    "1. Process the results of the simulation by performing the tomographic reconstruction.\n",
    "2. Find analytically what is the density matrix of the system qubit after the depolarizing channel as a function of $p$.\n",
    "3. Plot the values of $\\rho_{11}$, $\\rho_{22}$, $\\Re \\rho_{12}$, $\\Im \\rho_{12}$ as functions of $p$ and compare them to the analytical prediction.\n",
    "\n",
    "Up to the statistical errors due to the finite number of shots, the simulated points should match the analytical prediction."
   ]
  },
  {
   "cell_type": "markdown",
   "metadata": {},
   "source": [
    "## Homework\n",
    "Perform Tasks 3-5 on a real device, and include error mitigation (check the [preliminaries](preliminaries.html) for instructions). Compare the results with the simulation."
   ]
  }
 ],
 "metadata": {
  "kernelspec": {
   "display_name": "Python 3",
   "language": "python",
   "name": "python3"
  },
  "language_info": {
   "codemirror_mode": {
    "name": "ipython",
    "version": 3
   },
   "file_extension": ".py",
   "mimetype": "text/x-python",
   "name": "python",
   "nbconvert_exporter": "python",
   "pygments_lexer": "ipython3",
   "version": "3.8.5"
  }
 },
 "nbformat": 4,
 "nbformat_minor": 2
}