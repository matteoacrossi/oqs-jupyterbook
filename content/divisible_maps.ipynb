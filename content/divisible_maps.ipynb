{
 "cells": [
  {
   "cell_type": "markdown",
   "metadata": {
    "tags": [
     "hide_input"
    ]
   },
   "source": [
    "$\\newcommand{\\Mn}{M_n(\\mathbb{C})}$\n",
    "$\\newcommand{\\Mq}{M_2(\\mathbb{C})}$\n",
    "$\\newcommand{\\Mk}{M_k(\\mathbb{C})}$\n",
    "$\\newcommand{\\Mm}{M_m(\\mathbb{C})}$\n",
    "$\\newcommand{\\Mnm}{M_{n \\times m}(\\mathbb{C})}$\n",
    "$\\newcommand{\\Mnp}{M_n^+(\\mathbb{C})}$\n",
    "$\\newcommand{\\ra}{\\,\\rightarrow\\,}$\n",
    "$\\newcommand{\\id}{\\mbox{id} }$\n",
    "$\\newcommand{\\ot}{ {\\,\\otimes\\,} }$\n",
    "$\\newcommand{\\Cd}{ {\\mathbb{C}^d} }$\n",
    "$\\newcommand{\\Rn}{ {\\mathbb{R}^n} }$\n",
    "$\\newcommand{\\asterisk}{*}$"
   ]
  },
  {
   "cell_type": "markdown",
   "metadata": {},
   "source": [
    "We have discussed how to describe the quantum evolution of open quantum systems and we have introduced the concept of dynamical map $\\Lambda_t$ and its time-dependent generator $L_t$. The latter quantity is also known as the dissipator and describes the form of the master equation. The connection between the two is given by Eq. ([2.29](preliminaries.html#mjx-eqn-Lambda-t)). A very important problem in the theory of open quantum systems is the following:\n",
    " \n",
    "**Problem 1**\n",
    "\n",
    "> What are the properties of the local time-dependent generator $L_t$ that guarantee $\\Lambda_t$, as defined by the T-product exponential formula ([2.29](preliminaries.html#mjx-eqn-Lambda-t)), defines a legitimate dynamical map?\n",
    "\n",
    "The formulation of our problem is pretty simple, but in general the answer is not known. In fact, it turns out that the answer is only known for the special case of time-independent generators, giving rise to Markovian semigroups. In this case the answer to this important problem is given by the GKSL theorem discussed in **[Chapter 4](markovian_semigroups.html)**. But what about more general types of generators? "
   ]
  },
  {
   "cell_type": "markdown",
   "metadata": {},
   "source": [
    "Let us observe that if we knew a dynamical map $\\Lambda_t$ that was invertible, i.e. there exists $\\Lambda_t^{-1} : \\Mn \\ra \\Mn$ such that $\\Lambda_t^{-1} \\Lambda_t = \\Lambda_t \\Lambda_t^{-1} = \\mathbb{1}_n$, then\n",
    "\n",
    "\\begin{equation}\n",
    "    \\dot{\\Lambda}_t = \\dot{\\Lambda}_t \\Lambda_t^{-1} \\Lambda_t = L_t \\, \\Lambda_t\\ ,\n",
    "\\tag{5.1}\n",
    "\\end{equation}\n",
    "\n",
    "where we defined\n",
    "\\begin{equation}\n",
    "    L_t := \\dot{\\Lambda}_t \\Lambda_t^{-1} \\ .\n",
    "\\tag{5.2}\n",
    "\\end{equation}\n",
    "\n",
    "It should be stressed that the inverse of $\\Lambda_t$ need not be CP. One may prove that if $\\Lambda_t$ is CP then $\\Lambda_t^{-1}$ is CP  if and only if $\\Lambda_t(\\rho) = U_t \\rho U_t^\\dagger$ with unitary $U_t$."
   ]
  },
  {
   "cell_type": "markdown",
   "metadata": {},
   "source": [
    "### Example 6 <a id='ex6'></a>"
   ]
  },
  {
   "cell_type": "markdown",
   "metadata": {},
   "source": [
    "> Consider a unitary dynamical map $\\mathcal{U}_t$ defined in ([2.23](preliminaries.html#mjx-eqn-UUU)). It is clear that $\\mathcal{U}_t$ is invertible and $\\mathcal{U}_t^{-1} = \\mathcal{U}_{-t}$ is CP. One finds for the corresponding generator\n",
    "> \\begin{equation}\n",
    "    L_t(\\rho) = [\\dot{\\mathcal{U} }_t \\mathcal{U}_{-t}](\\rho)  = \\dot{U}_t (U_t^\\dagger \\rho U_t) U_t^\\dagger + {U}_t (U_t^\\dagger \\rho U_t) \\dot{U}_t^\\dagger \\ ,\n",
    "\\tag{5.3}\n",
    "\\end{equation}\n",
    "> \n",
    "> and hence recalling that $U_t$ satisfies the Schrödinger equation $\\dot{U}_t = -iHU_t$, one obtains $L_t(\\rho) = -i[H,\\rho]$."
   ]
  },
  {
   "cell_type": "markdown",
   "metadata": {},
   "source": [
    "In this course instead of analyzing this problem in full generality we restrict ourselves to study special classes of dynamical maps and corresponding local generators.\n",
    "Specifically we analyze 3 important classes of generators\n",
    "\n",
    "- $C_1$ - a class of time-independent generators giving rise to Markovian semigroups,\n",
    "- $C_2 $ - a class of time-dependent generators giving rise to commutative dynamics,\n",
    "- $C_3 $ - a class of time-dependent generators giving rise to the so-called divisible dynamical maps."
   ]
  },
  {
   "cell_type": "markdown",
   "metadata": {},
   "source": [
    "## 5.1. Commutative dynamics <a id='com'></a>"
   ]
  },
  {
   "cell_type": "markdown",
   "metadata": {},
   "source": [
    "We call a dynamical map $\\Lambda_t$ commutative if $[\\Lambda_t,\\Lambda_u]=0$ for all $t,u\\geq 0$. It means that for each $A\\in \\Mn$ one has\n",
    "\n",
    "\\begin{equation}\n",
    "    \\Lambda_t(\\Lambda_u(A)) = \\Lambda_u(\\Lambda_t(A)) \\ .\n",
    "\\tag{5.4}\n",
    "\\end{equation}\n",
    "\n",
    "It is easy to show that commutativity of $\\Lambda_t$ is equivalent to commutativity of the local generator\n",
    "\n",
    "\\begin{equation}\\label{[]=0}\n",
    "    [L_t,L_u]=0\\ ,\n",
    "\\tag{5.5}\n",
    "\\end{equation}\n",
    "\n",
    "for any $t,u \\geq 0$.  Note that in this case  the formula ([2.30](preliminaries.html#mjx-eqn-Dyson)) considerably simplifies: the 'T' product drops out and the solution is fully controlled by the integral $\\int_0^t L_u du$:\n",
    "\\begin{equation}\\label{Dyson-com}\n",
    "    \\Lambda_t = \\exp\\left( \\int_0^t L_u du\\right) = \\mathbb{1}_n + \\int_0^t   L_{u}du + \\frac 12 \\left( \\int_0^{t}  L_{u}du \\right)^2 + \\ldots \\ .\n",
    "\\tag{5.6}\n",
    "\\end{equation}"
   ]
  },
  {
   "cell_type": "markdown",
   "metadata": {},
   "source": [
    "Now, it follows from Theorem 3 that if $\\Lambda = e^M$, then $\\Lambda$ is a quantum channel if $M$ is a GKSL generator. Therefore, one has the following\n",
    "\n",
    "**Theorem 4**\n",
    "\n",
    "> If $L_t$ satisfies (\\ref{[]=0}), then $L_t$ is a legitimate generator if $\\int_0^t L_\\tau d\\tau$ is a GKSL generator for all $t\\geq 0$.\n",
    "\n",
    "Note that, if $L_t = L$ is time independent, then $\\int_0^t L_udu = tL$ and the above theorem reproduces **Theorem 3**."
   ]
  },
  {
   "cell_type": "markdown",
   "metadata": {},
   "source": [
    "It is clear that if $L$ is a legitimate GKSL generator and $f: \\mathbb{R}_+ \\ra \\mathbb{R}$ an arbitrary function, then $L_t = f(t) L$ generates a commutative dynamical map $\\Lambda_t$ iff $\\int_0^t f(u) du \\geq 0$ for all $t\\geq 0$. A typical example of commutative dynamics is provided by\n",
    "\n",
    "\\begin{equation}\n",
    "    L_t = \\omega(t) L_0 + a_1(t) L_1 + \\ldots + a_N(t) L_N\\ ,\n",
    "\\tag{5.7}\n",
    "\\end{equation}\n",
    "\n",
    "where $[L_\\alpha,L_\\beta]=0$ with $L_0(\\rho) =  -i[H,\\rho]$, and for $\\alpha>0$ the generators $L_\\alpha$ are purely dephasing, that is, $L_\\alpha(\\rho) = \\Phi_\\alpha(\\rho) - \\frac 12 \\{ \\Phi_\\alpha^*(\\mathbb{I}),\\rho\\}$.  One has for the corresponding dynamical map\n",
    "\n",
    "\\begin{equation}\n",
    "    \\Lambda_t = e^{\\Omega(t)L_0} \\cdot e^{A_1(t)L_1} \\cdot \\ldots\\cdot e^{A_N(t)L_N}\\ ,\n",
    "\\tag{5.8}\n",
    "\\end{equation}\n",
    "\n",
    "with\n",
    "$$ \\Omega(t) = \\int_0^t \\omega(u)du\\ ; \\ \\ \\ \\ A_\\alpha(t) = \\int_0^t a_\\alpha(u)du\\  . $$\n",
    "\n",
    "It is clear that $\\Lambda_t$ is CP iff $A_\\alpha(t) \\geq 0$ for all $\\alpha=1,\\ldots,N$."
   ]
  },
  {
   "cell_type": "markdown",
   "metadata": {},
   "source": [
    "### Example 7 <a id='ex7'></a>"
   ]
  },
  {
   "cell_type": "markdown",
   "metadata": {},
   "source": [
    "> Consider a qubit generator $L_0(\\rho) = -i[\\sigma_3,\\rho]$ together with $L_1,L_2,L_3$ defined in ([5.27](#LLL)). One easily proves\n",
    "> \n",
    "> \\begin{equation}\n",
    "    [L_0,L_\\alpha] = [L_3,L_\\alpha]=0 \\ ; \\ \\ \\ \\alpha=1,2,3\\ ,\n",
    "\\tag{5.9}\n",
    "\\end{equation}\n",
    "> \n",
    "> and\n",
    "> \\begin{equation}\\label{L-L}\n",
    "    [L_1,L_2] = L_1 - L_2 \\ .\n",
    "\\tag{5.10}\n",
    "\\end{equation}\n",
    "> \n",
    "> Define the time-dependent commutative generator\n",
    "> \n",
    "> \\begin{equation}\n",
    "    L_t = \\frac{\\omega(t)}{2} L_0 + \\frac{\\delta(t)}{2} ( \\mu_1 L_1 + \\mu_2 L_2) + \\frac{\\gamma(t)}{2} L_z\\ ,\n",
    "\\tag{5.11}\n",
    "\\end{equation}\n",
    "> \n",
    "> with $\\mu_1,\\mu_2 \\geq 0$ and $\\mu_1 + \\mu_2=1$. Defining\n",
    "> \n",
    "> \\begin{equation}\n",
    "    \\Omega(t) = \\int_0^t \\omega(u)du\\ ; \\ \\ \\Delta(t) = \\int_0^t \\delta(u)du\\ ; \\ \\ \\Gamma(t) = \\int_0^t \\gamma(u)du\\ ,\n",
    "\\tag{5.12}\n",
    "\\end{equation}\n",
    "> \n",
    "> one finds that if $\\Delta(t) \\geq 0$ and $\\Gamma(t) \\geq 0$, then $L_t$ is a legitimate generator.\n",
    "The time evolution of $\\rho$ has the following form: the off-diagonal elements evolve according to\n",
    "> \n",
    "> $$\\rho_{12} \\ra e^{\\Omega(t) + \\frac 12 \\Delta(t) + \\Gamma(t)} \\rho_{12}\\ , $$\n",
    ">\n",
    "> and diagonal elements\n",
    "> \n",
    "> \\begin{eqnarray*}\n",
    "  \\rho_{11} &\\ra & \\rho_{11}\\, e^{-\\Delta(t)} + \\mu_1 \\Big[ 1 - e^{-\\Delta(t)}  \\Big] \\ ,\\\\\n",
    "  \\rho_{22} &\\ra & \\rho_{22}\\, e^{-\\Delta(t)} + \\mu_2 \\Big[ 1 - e^{-\\Delta(t)}  \\Big] \\ .\n",
    "\\end{eqnarray*}\n",
    ">\n",
    "> If $\\Delta(t) \\ra \\infty$ for $t\\ra \\infty$, then the dynamics possess an equilibrium state\n",
    ">\n",
    "> $$  \\rho_t \\ \\ \\longrightarrow \\ \\ \\left( \\begin{array}{cc} \\mu_1 & 0 \\\\ 0 & \\mu_2 \\end{array} \\right) \\ . $$"
   ]
  },
  {
   "cell_type": "markdown",
   "metadata": {},
   "source": [
    "### Example 8 (Random unitary qubit dynamics) <a id='ex8'></a>"
   ]
  },
  {
   "cell_type": "markdown",
   "metadata": {},
   "source": [
    "> Consider the following time-dependent generator\n",
    "> \\begin{equation}\\label{Pauli}\n",
    "    L_t(\\rho) = \\frac 12 \\sum_{k=1}^3 \\gamma_k(t) (\\sigma_k \\rho\\, \\sigma_k - \\rho)\\ ,\n",
    "\\tag{5.13}\n",
    "\\end{equation}\n",
    "> \n",
    "> where $\\{\\sigma_1,\\sigma_2,\\sigma_3\\}$ are Pauli matrices.  It is easy to prove that $[L_t,L_u]=0$ and hence $L_t$ generates a legitimate dynamical map iff\n",
    "> \n",
    "> $$  \\Gamma_1(t) \\geq 0 \\ ; \\ \\ \\Gamma_2(t) \\geq 0 \\ ; \\ \\ \\Gamma_3(t) \\geq 0 \\ , $$\n",
    "> \n",
    "> where $\\Gamma_k(t) = \\int_0^t \\gamma_k(u)du$.  One finds that the corresponding dynamical map $\\Lambda_t$ is given by\n",
    "> \n",
    "> \\begin{equation}\\label{RU}\n",
    "    \\Lambda_t(\\rho) = \\sum_{\\alpha=0}^3 p_\\alpha(t) \\sigma_\\alpha \\rho\\, \\sigma_\\alpha \\ ,\n",
    "\\tag{5.14}\n",
    "\\end{equation}\n",
    "> \n",
    "> where $\\sigma_0 = \\mathbb{I}_2$ and\n",
    "> \n",
    "> \\begin{eqnarray*}\n",
    "p_0(t) &=&\\frac{1}{4}\\, [1+ \\lambda_3(t) + \\lambda_2(t) + \\lambda_1(t)] \\ , \\\\\n",
    "p_1(t) &=&\\frac{1}{4}\\, [1- \\lambda_3(t) - \\lambda_2(t) + \\lambda_1(t)] \\ ,\\\\\n",
    "p_2(t) &=&\\frac{1}{4}\\, [1- \\lambda_3(t) + \\lambda_2(t) - \\lambda_1(t)] \\ ,\\\\\n",
    "p_3(t) &=&\\frac{1}{4}\\, [1+ \\lambda_3(t) - \\lambda_2(t) - \\lambda_1(t)] \\ ,\n",
    "\\end{eqnarray*}\n",
    "> \n",
    "> with\n",
    "> $$ \\lambda_1(t) = e^{-\\Gamma_2(t) - \\Gamma_3(t)}\\ , $$\n",
    "> \n",
    "> and similarly for $\\lambda_2(t)$ and $\\lambda_3(t)$. Interestingly $\\Lambda_t(\\sigma_k)=\\lambda_k(t)\\sigma_k$.\n",
    "The formula (\\ref{RU}) defines so-called random unitary dynamics. Note that\n",
    "> \n",
    "> $$ p_0(t) + p_1(t) + p_2(t) +  p_3(t)=1 \\ . $$\n",
    "> \n",
    "> Moreover, $p_\\alpha(t) \\geq 0$ for $\\alpha=0,1,2,3$ iff $\\Gamma_k(t) \\geq 0$ for $k=1,2,3$. Note that $\\Lambda_t$ is unital. Actually, in the case of qubits any unital dynamical map is random unitary, i.e.\n",
    "> \n",
    "> \\begin{equation}\\label{}\n",
    "    \\Lambda_t(\\rho) = \\sum_k p_k(t) U_k(t) \\rho U_k^\\dagger(t)\\ ,\n",
    "\\tag{5.15}\n",
    "\\end{equation}\n",
    "> \n",
    "> where $p_k(t)$ defines time-dependent probability distribution and $U_k(t)$ is a family of time-dependent unitary matrices. It is no longer true for $n$-level systems with $n>2$."
   ]
  },
  {
   "cell_type": "markdown",
   "metadata": {},
   "source": [
    "## IBM Q example: Pauli channel <a id='IBMPauli'></a>"
   ]
  },
  {
   "cell_type": "markdown",
   "metadata": {},
   "source": [
    "The most general single-qubit open quantum system model is the time-dependent Pauli channel. The master equation in this case takes the form (see Eq. (\\ref{Pauli}))\n",
    "\n",
    "\\begin{equation}\n",
    "\\frac{d\\rho_{S} }{dt}(t)=\\frac{1}{2}\\sum_i\\gamma_i(t)\\left[\\sigma_i\\rho_{S}(t)\\sigma_i-\\rho_{S}(t)\\right].\n",
    "\\label{PauliME}\n",
    "\\end{equation}"
   ]
  },
  {
   "cell_type": "markdown",
   "metadata": {},
   "source": [
    "Generally, the dynamics described by the master equation above is not phase-covariant [[1](#1)], except for the case in which $\\gamma_x(t)=\\gamma_y(t)$. Moreover, since the decay rates may take negative values, conditions for complete positivity must be imposed, and they are given in terms of a set of inequalities involving all the three decay rates, as one can see, e.g., from Ref. [[2](#2)].\n",
    "<!--\n",
    "**In Sec.~\\ref{sec:discussion} we present the simulation of a specific form of time-dependent Pauli channel proposed in Ref.~\\cite{Hall2014} and used as an example of eternal non-Markovianity, i.e.~an open quantum system dynamics for which the dynamical map is non-CP-divisible for all times $t$. More precisely, we use this experimental simulation to demonstrate a phenomenon predicted in Ref.~\\cite{BognaWork}, namely the presence of oscillations in the extractable work. This shows an application of open quantum system simulation on the IBM Q Experience processors to fields other than quantum information theory, specifically quantum thermodynamics for the example here considered.** What? Is example Markovian or non-Markovian???? -->"
   ]
  },
  {
   "cell_type": "markdown",
   "metadata": {},
   "source": [
    "At a specific time instant $t$, the Pauli channel can be written as\n",
    "\\begin{equation} \n",
    " \\mathcal{E} (\\rho) = \\sum_{i=0}^3 p_i \\sigma_i \\rho \\sigma_i,\n",
    "\\end{equation}\n",
    " \n",
    "with $0 \\leq p_i \\leq 1$ and $\\sum_i p_i = 1$. The depolarizing channel is a special case of the Pauli channel where $p_1 = p_2 = p_3 = p/4$. "
   ]
  },
  {
   "cell_type": "markdown",
   "metadata": {},
   "source": [
    "It is possible to implement the general Pauli channel with just two ancillary qubits, by preparing them in the suitable entangled state. The first qubit acts as the control for a controlled-$X$ (CNOT) gate, and the second one for a controlled-$Y$. Notice that applying both an X and a Y gates is effectively equivalent to applying a Z gate."
   ]
  },
  {
   "cell_type": "markdown",
   "metadata": {},
   "source": [
    "The state $|\\psi \\rangle$ of the ancillae needed for the Pauli channel can be implemented by the following circuit:"
   ]
  },
  {
   "cell_type": "code",
   "execution_count": 2,
   "metadata": {},
   "outputs": [
    {
     "data": {
      "image/png": "[encoded data removed]",
      "text/plain": [
       "<Figure size 457.52x325.08 with 1 Axes>"
      ]
     },
     "execution_count": 2,
     "metadata": {},
     "output_type": "execute_result"
    }
   ],
   "source": [
    "#############################\n",
    "#  Pauli channel on IBMQX2  #\n",
    "#############################\n",
    "\n",
    "from qiskit import QuantumRegister, QuantumCircuit\n",
    "\n",
    "# Quantum register\n",
    "q = QuantumRegister(5, name=\"q\")\n",
    "\n",
    "# Quantum circuit\n",
    "pauli = QuantumCircuit(q)\n",
    "\n",
    "# Pauli channel acting on q_2\n",
    "## Qubit identification\n",
    "system = 2\n",
    "a_0 = 3\n",
    "a_1 = 4\n",
    "\n",
    "## Define rotation angles\n",
    "theta_1 = 0.0\n",
    "theta_2 = 0.0\n",
    "theta_3 = 0.0\n",
    "\n",
    "## Construct circuit\n",
    "pauli.ry(theta_1, q[a_0])\n",
    "pauli.cx(q[a_0], q[a_1])\n",
    "pauli.ry(theta_2, q[a_0])\n",
    "pauli.ry(theta_3, q[a_1])\n",
    "pauli.cx(q[a_0], q[system])\n",
    "pauli.cy(q[a_1], q[system])\n",
    "\n",
    "# Draw circuit\n",
    "pauli.draw(output='mpl')"
   ]
  },
  {
   "cell_type": "markdown",
   "metadata": {},
   "source": [
    "The circuit is parametrised by the three angles $\\theta_1,\\theta_2,\\theta_3$. The state of the two ancillae is as follows:\n",
    "\\begin{equation*}\n",
    "        \\begin{split}\n",
    "        | \\psi \\rangle =& (c_1 c_2 c_3 + s_1 s_2 s_3) | 00 \\rangle + \\\\\n",
    "                    & (c_1 c_2 s_3 - s_1 s_2 c_3) | 01 \\rangle + \\\\\n",
    "                    & (c_1 s_2 c_3 - s_1 c_2 s_3) | 10 \\rangle + \\\\\n",
    "                    & (s_1 c_2 c_3  + c_1 s_2 s_3) | 11 \\rangle\n",
    "        \\end{split}\n",
    "\\end{equation*}\n",
    "    \n",
    "where $c_i \\equiv \\cos \\theta_i$ and $s_i \\equiv \\sin \\theta_i$."
   ]
  },
  {
   "cell_type": "markdown",
   "metadata": {},
   "source": [
    "The angles $\\theta_i$ can be found by solving the following system of equations: \n",
    "\n",
    "\\begin{equation}\\label{eq:pauli_equations}\n",
    "    \\begin{cases}\n",
    "        p_0  = |\\langle 00|\\psi \\rangle|^2 = (c_1 c_2 c_3 + s_1 s_2 s_3)^2 & \\\\\n",
    "        p_1  = |\\langle 01|\\psi \\rangle|^2 = (c_1 c_2 s_3 - s_1 s_2 c_3)^2 & \\\\\n",
    "        p_2  = |\\langle 10|\\psi \\rangle|^2 = (c_1 s_2 c_3 - s_1 c_2 s_3)^2 & \\\\\n",
    "        p_3  = |\\langle 11|\\psi \\rangle|^2 = (s_1 c_2 c_3 + c_1 s_2 s_3)^2 & \n",
    "    \\end{cases}\n",
    "\\end{equation}"
   ]
  },
  {
   "cell_type": "markdown",
   "metadata": {},
   "source": [
    "The above system of equations allows for multiple analytical solutions whose expressions are too cumbersome to be reported here. The choice of the solution to use in each case depends on a number of factors, such as the gate fidelity for the specific values of the parameters."
   ]
  },
  {
   "cell_type": "markdown",
   "metadata": {},
   "source": [
    "## IBM Q Example: Depolarizing channel<a id='IBMDep'></a>"
   ]
  },
  {
   "cell_type": "markdown",
   "metadata": {},
   "source": [
    "The depolarizing channel is one of the most common models of qubit decoherence due to its nice symmetry properties. We can describe it by stating that, with probability $p$ the qubit remains intact, while with probability $1-p$ an error occurs. The error can be a bit flip error, described by the action of $\\sigma_x$, a phase flip error, described by the action of $\\sigma_z$, or both, described by the action of $\\sigma_y$. The dynamical map of a Markovian open quantum system subjected to depolarizing noise can be written as\n",
    "\n",
    "\\begin{eqnarray}\\label{depolarising_channel}\n",
    "\\Phi_t \\rho_S = \\left[1-\\frac 3 4 p(t)\\right] \\rho_S + \\frac{p(t)}{4} \\sum_i \\sigma_i \\rho_S \\sigma_i,\n",
    "\\end{eqnarray}\n",
    "\n",
    "where $i=x,y,z$ and $p(t)=1 - e^{-\\gamma t}$, with $\\gamma$ the Markovian decay rate. "
   ]
  },
  {
   "cell_type": "markdown",
   "metadata": {},
   "source": [
    "Please note that in Pauli channel example for $\\gamma_i(t) = \\gamma$, we recover the Markovian depolarizing channel."
   ]
  },
  {
   "cell_type": "code",
   "execution_count": 3,
   "metadata": {},
   "outputs": [
    {
     "data": {
      "image/png": "[encoded data removed]",
      "text/plain": [
       "<Figure size 397.32x325.08 with 1 Axes>"
      ]
     },
     "execution_count": 3,
     "metadata": {},
     "output_type": "execute_result"
    }
   ],
   "source": [
    "####################################\n",
    "#  Depolarizing channel on IBMQX2  #\n",
    "####################################\n",
    "\n",
    "# Quantum register\n",
    "q = QuantumRegister(5, name=\"q\")\n",
    "\n",
    "# Quantum circuit\n",
    "depolarizing = QuantumCircuit(q)\n",
    "\n",
    "# Depolarizing channel acting on q_2\n",
    "## Qubit identification\n",
    "system = 2\n",
    "a_0 = 1\n",
    "a_1 = 3\n",
    "a_2 = 4\n",
    "\n",
    "\n",
    "## Define rotation angles\n",
    "theta = 0.0\n",
    "\n",
    "## Construct circuit\n",
    "depolarizing.ry(theta, q[a_0])\n",
    "depolarizing.ry(theta, q[a_1])\n",
    "depolarizing.ry(theta, q[a_2])\n",
    "depolarizing.cx(q[a_0], q[system])\n",
    "depolarizing.cy(q[a_1], q[system])\n",
    "depolarizing.cz(q[a_2], q[system])\n",
    "\n",
    "# Draw circuit\n",
    "depolarizing.draw(output='mpl')"
   ]
  },
  {
   "cell_type": "markdown",
   "metadata": {},
   "source": [
    "The depolarizing channel can be implemented, for any value of $p\\equiv p(t) \\in [0, 1]$, with the circuit shown in the figure above. \n",
    "Three ancillary qubits are prepared in a state $| \\psi_\\theta \\rangle = \\cos \\theta/2 | 0 \\rangle + \\sin \\theta/2 | 1 \\rangle$,\n",
    "and are used as controls for, respectively, a controlled-$X$ (CNOT), a controlled-$Y$ and a controlled-$Z$ rotation.\n",
    "This way, each gate will be applied with a probability $\\sin^2 \\theta/2$."
   ]
  },
  {
   "cell_type": "markdown",
   "metadata": {},
   "source": [
    "The rotation angle $\\theta$ must be chosen so that each of the gates is \n",
    "applied with probability $p$. Notice that applying $X$ and then $Y$, \n",
    "but not applying $Z$ is equivalent (up to global phases) to just applying $Z$, and so on. The resulting equation that binds $\\theta$ to $p$ is thus\n",
    "\n",
    "\\begin{equation}\n",
    "    \\sin^2 \\frac \\theta 2 \\cos^4\\frac\\theta2 + \\sin^4 \\frac\\theta 2 \\cos^2 \\frac \\theta 2 = \\frac p 4,\n",
    "\\end{equation}\n",
    "with solution $\\theta(p) = \\frac 12 \\arccos(1 - 2 p)$."
   ]
  },
  {
   "cell_type": "markdown",
   "metadata": {},
   "source": [
    "Notice that the circuit for the Pauli channel can be used also for the depolarizing channel, instead of the three-qubit circuit of the figure above, but it proves to be less accurate on the IBM Q Experience devices, presumably because of the required entanglement between the two qubits."
   ]
  },
  {
   "cell_type": "markdown",
   "metadata": {},
   "source": [
    "One could also think to implement the Pauli channel by generalising the depolarizing channel circuit, specifically, by allowing for the three ancillae to be prepared in different states. One can see, however, that this cannot be done in the most general case."
   ]
  },
  {
   "cell_type": "markdown",
   "metadata": {},
   "source": [
    "<img src=\"images/fig_dep.png\">\n",
    "<a id='fig_1'></a>\n",
    "\n",
    "**Figure 1.** elements of the density matrix of a qubit affected by a depolarizing channel for different values of the parameter $p$.\n"
   ]
  },
  {
   "cell_type": "markdown",
   "metadata": {},
   "source": [
    "In [Figure 1](#fig_1), we plot the qubit density matrix elements for various values of $p$, comparing the experimental data with the theoretical prediction. For exemplary purposes, we choose a specific initial state possessing non-zero coherences."
   ]
  },
  {
   "cell_type": "markdown",
   "metadata": {},
   "source": [
    "## 5.2. Markovian evolution - divisible dynamical maps <a id='div'></a>"
   ]
  },
  {
   "cell_type": "markdown",
   "metadata": {},
   "source": [
    "We call a dynamical map $\\Lambda_t$ **_divisible_** if for any $t \\geq s \\geq 0$ one has the following decomposition\n",
    "\n",
    "\\begin{equation}\n",
    "    \\Lambda_t = V_{t,s}\\, \\Lambda_s \\ ,\n",
    "\\tag{5.16}\n",
    "\\end{equation}\n",
    "\n",
    "with a completely positive propagator $V_{t,s}$. Note, that if $\\Lambda_t$ is invertible then\n",
    "\n",
    "\\begin{equation}\n",
    "    V_{t,s} = \\Lambda_t \\, \\Lambda_s^{-1} \\ ,\n",
    "\\tag{5.17}\n",
    "\\end{equation}\n",
    "\n",
    "and hence  $V_{t,s}$ satisfies an inhomogeneous composition law\n",
    "\n",
    "\\begin{equation}\n",
    "    V_{t,s} V_{s,u} = V_{t,u}\\ ,\n",
    "\\tag{5.18}\n",
    "\\end{equation}\n",
    "\n",
    "for any $t\\geq s \\geq u$."
   ]
  },
  {
   "cell_type": "markdown",
   "metadata": {},
   "source": [
    "The above formula provides a generalization of the semi-group composition law ([4.2](markovian_semigroups.html#mjx-eqn-c-low)). Here we assume the following extended definition of Markovian evolution: **_a\n",
    "dynamical map $\\Lambda_t$ corresponds to Markovian evolution if and only if it is divisible_**.\n",
    "\n",
    "Interestingly, the property of being Markovian (or divisible) is fully characterized in terms of the local generator $L_t$. Note, that if $\\Lambda_t$ satisfies ([2.28](preliminaries.html#mjx-eqn-ME)) then $V_{t,s}$ satisfies\n",
    "\\begin{equation}\\label{Local-V}\n",
    "    \\frac{d}{dt}\\, V_{t,s} = L_t V_{t,s}\\ ,     \\ \\ \\ V_{s,s}=\\mathbb{1}\\ ,\n",
    "\\tag{5.19}\n",
    "\\end{equation}\n",
    "\n",
    "and the corresponding solution reads\n",
    "\\begin{equation}\n",
    " V_{t,s} = {\\rm T} \\, \\exp\\left( \\int_s^t L_u du \\right)\\ .\n",
    "\\tag{5.20}\n",
    "\\end{equation}\n",
    "\n",
    "It is clear that $\\Lambda_t = V_{t,0}$ which shows that divisibility puts very strong requirements upon the dynamical map $\\Lambda_t$."
   ]
  },
  {
   "cell_type": "markdown",
   "metadata": {},
   "source": [
    "One proves  the following\n",
    "\n",
    "**Theorem 5**\n",
    "\n",
    "> The map $\\Lambda_t$ is divisible if and only if $L_t$ is a GKSL generator  for all $t$, that is,\n",
    "> \n",
    "> \\begin{equation}\n",
    "    L_t(\\rho) = -i[H(t),\\rho] + \\frac 12 \\sum_k \\left( [V_k(t),\\rho V^\\dagger_k(t)] + [V_k(t)\\rho,V^\\dagger_k(t)] \\right) \\ ,\n",
    "\\tag{5.21}\n",
    "\\end{equation}\n",
    "> \n",
    "> with time-dependent Hamiltonian $H(t)$ and noise operators $V_k(t)$."
   ]
  },
  {
   "cell_type": "markdown",
   "metadata": {},
   "source": [
    "**Remark 3**\n",
    "\n",
    "> If\n",
    ">\\begin{equation}\n",
    "    L_t = \\omega(t) L_0 + a_1(t) L_1 + \\ldots + a_N(t) L_N\\ ,\n",
    "\\tag{5.22}\n",
    "\\end{equation}\n",
    ">\n",
    "> where  $L_0(\\rho) =  -i[H,\\rho]$, and for $\\alpha>0$ the generators $L_\\alpha$ are purely dissipative and linearly independent, then $L_t$ generates Markovian  evolution if and only if $a_1(t),\\ldots,a_N(t) \\geq 0$."
   ]
  },
  {
   "cell_type": "markdown",
   "metadata": {},
   "source": [
    "### Example 9 <a id='ex9'></a>"
   ]
  },
  {
   "cell_type": "markdown",
   "metadata": {},
   "source": [
    "> Consider a qubit generator\n",
    "> \\begin{equation}\n",
    "    L_t(\\rho) = \\frac 12 {\\gamma(t)} L_3(\\rho) = \\frac 12 {\\gamma(t)} (\\sigma_z \\rho \\sigma_z - \\rho)\\ ,\n",
    "\\tag{5.23}\n",
    "\\end{equation}\n",
    "> \n",
    "> and introduce $   \\Gamma(t) = \\int_0^t \\gamma(\\tau)d\\tau$, then it is clear that\n",
    "> \n",
    "> \\begin{equation}\n",
    "    \\Lambda_t(\\rho) = \\frac 12 \\Big[ 1+ e^{-\\Gamma(t)} \\Big]\\, \\rho + \\frac 12 \\Big[ 1- e^{-\\Gamma(t)} \\Big]\\, \\sigma_z \\rho \\sigma_z\\ ,\n",
    "\\tag{5.24}\n",
    "\\end{equation}\n",
    "> \n",
    "> and hence\n",
    "> 1. $L_t$ is a legitimate generator iff $\\,\\Gamma(t)\\geq 0$,\n",
    "> 2. $L_t$ generates Markovian evolution iff $\\gamma(t) \\geq 0$,\n",
    "> 3. $L_t$ generates a Markovian semigroup iff $\\gamma(t) = {\\rm const.} >0$."
   ]
  },
  {
   "cell_type": "markdown",
   "metadata": {},
   "source": [
    "### Example 10 <a id='ex10'></a>"
   ]
  },
  {
   "cell_type": "markdown",
   "metadata": {},
   "source": [
    "> Let us consider a qubit generator defined by $H = \\frac \\omega 2 \\sigma_z$ and the following CP map\n",
    "> \n",
    "> \\begin{equation}\n",
    "    \\Phi(\\rho) = \\gamma_1 \\sigma_+ \\rho\\, \\sigma_- + \\gamma_2 \\sigma_-  \\rho\\,\\sigma_+ + \\gamma \\sigma_z  \\rho\\, \\sigma_z\\ ,\n",
    "\\tag{5.25}\n",
    "\\end{equation}\n",
    "> \n",
    "> where $\\sigma_+ = |2 \\rangle \\langle 1|$ and $\\sigma_-=|1 \\rangle \\langle 2|=\\sigma_+^\\dagger$ are standard qubit raising and lowering operators. The corresponding generator reads $L(\\rho) = - i[H,\\rho] + L_D(\\rho)$ with the dissipative part\n",
    "> \n",
    "> \\begin{equation}\n",
    "L_D = \\frac{\\gamma_1}{2}  L_1 + \\frac{\\gamma_2}{2}  L_2 + \\frac{\\gamma}{2} L_z\\ ,\n",
    "\\tag{5.26}\n",
    "\\end{equation}\n",
    "> \n",
    "> where <a id='LLL'></a>\n",
    "\\begin{eqnarray} \\label{LLL}\n",
    "    L_1(\\rho) &=& [\\sigma_+, \\rho\\sigma_-] + [\\sigma_+ \\rho, \\sigma_-]  \\ ,\\nonumber \\\\\n",
    "    L_2(\\rho) &=& [\\sigma_-, \\rho\\sigma_+] + [\\sigma_- \\rho,\\sigma_+] \\ , \\\\\n",
    "    L_3(\\rho) &=& \\sigma_z \\rho\\sigma_z - \\rho \\ . \\nonumber\n",
    "\\tag{5.27}\n",
    "\\end{eqnarray}\n",
    "> \n",
    "> $L_1$ corresponds to pumping (heating) process, $L_2$ corresponds to relaxation (cooling), and $L_3$ is responsible for  pure decoherence.\n",
    "> To solve the master equation $\\dot{\\rho}_t = L\\rho_t$ let us parameterize $\\rho_t$ as follows\n",
    "> \n",
    "> \\begin{equation}\n",
    "    \\rho_t = p_1(t) P_1 + p_2(t) P_2 + \\alpha(t) \\sigma_+ + \\overline{\\alpha(t)} \\sigma_-\\ ,\n",
    "\\tag{5.28}\n",
    "\\end{equation}\n",
    "> \n",
    "> with $P_k=|k \\rangle \\langle k|$. Using the following relations\n",
    "> \n",
    "> \\begin{eqnarray*}\n",
    "  L(P_1) &=& {\\gamma_1} (P_2 - P_1) = - \\gamma_1\\, \\sigma_3\\ , \\\\\n",
    "  L(P_2) &=& {\\gamma_2} (P_1 - P_2) = \\gamma_2\\, \\sigma_3 \\ , \\\\\n",
    "  L(\\sigma_+) &=& (i \\omega - \\eta)\\, \\sigma_+\\ ,\\\\\n",
    "  L(\\sigma_-) &=& (-i\\omega - \\eta)\\, \\sigma_-\\ ,\n",
    "\\end{eqnarray*}\n",
    "> \n",
    "> where one finds the following Pauli master equations  for the probability distribution $(p_1(t),p_2(t))$\n",
    "> \n",
    "> \\begin{eqnarray}\n",
    "  \\dot{p}_1(t)  &=  &- \\gamma_1\\, p_1(t) + \\gamma_2\\, p_2(t) \\ ,\n",
    "\\tag{5.29}\n",
    "\\end{eqnarray}\n",
    "> \\begin{eqnarray}\n",
    "  \\dot{p}_2(t)  &=  & \\ \\ \\, \\gamma_1\\, p_1(t) - \\gamma_2\\, p_2(t) \\ ,\n",
    "  \\tag{5.30}\n",
    "\\end{eqnarray}\n",
    "> \n",
    "> together with $\\alpha(t) = e^{(i \\omega - \\eta)t}\\alpha(0)$. The corresponding solution reads\n",
    "> \n",
    "> \\begin{eqnarray}\n",
    "  p_1(t) &=& p_1(0)\\, e^{-( \\gamma_1 + \\gamma_2)t} + p_1^* \\Big[ 1 - e^{-( \\gamma_1 + \\gamma_1)t}  \\Big] \\ ,\n",
    "\\tag{5.31}\n",
    "\\end{eqnarray}\n",
    "> \\begin{eqnarray}\n",
    "  p_2(t) &=& p_2(0)\\, e^{-( \\gamma_1 + \\gamma_2)t} + p_2^* \\Big[ 1 - e^{-( \\gamma_2 + \\gamma_2)t}  \\Big] \\ ,\n",
    "\\tag{5.32}\n",
    "\\end{eqnarray}\n",
    "> \n",
    "> where we introduced\n",
    "> \n",
    "> \\begin{equation}\\label{p*}\n",
    "    p_1^* = \\frac{\\gamma_1}{\\gamma_1 + \\gamma_2}\\ , \\ \\ \\ \\   p_2^* = \\frac{\\gamma_2}{\\gamma_1 + \\gamma_2}\\ .\n",
    "\\tag{5.33}\n",
    "\\end{equation}\n",
    "> \n",
    "> Hence, we have purely classical evolution of the probability vector $(p_1(t),p_2(t))$ on the diagonal of $\\rho_t$ and very simple evolution of the off-diagonal element $\\alpha(t)$. Note that asymptotically one obtains a completely decohered density operator\n",
    "> \n",
    "> $$  \\rho_t \\ \\ \\longrightarrow \\ \\ \\left( \\begin{array}{cc} p_1^* & 0 \\\\ 0 & p_2^* \\end{array} \\right) \\ . $$\n",
    "> \n",
    "> In particular if $\\gamma_1=\\gamma_2$ a state $\\rho_t$ relaxes to the maximally mixed state (a state becomes completely depolarized)."
   ]
  },
  {
   "cell_type": "markdown",
   "metadata": {},
   "source": [
    "## IBM Q example: Markovian reservoir engineering <a id='IBMMark'></a>"
   ]
  },
  {
   "cell_type": "markdown",
   "metadata": {},
   "source": [
    "### Theory <a id='theory'></a>"
   ]
  },
  {
   "cell_type": "markdown",
   "metadata": {},
   "source": [
    "For decades, noise induced by the environment has been considered the archetype enemy of quantum technologies. This is because very often the interaction between a quantum system and its surroundings leads to the fast disappearance of quantum properties, notoriously coherences and entanglement, playing a key role in providing quantum advantage.\n",
    "This point of view drastically changed as soon as physicists demonstrated that appropriate manipulation of an artificial environment (quantum reservoir engineering) would allow one to steer the open system towards, e.g., a maximally entangled state [[3](#3),[4](#4)], hence turning upside down the perspective of the environment as an enemy. \n",
    "\n",
    "Following the lines of Ref. [[3](#3)], we experimentally simulate a semigroup Markovian master equation for a two-qubit open system having as asymptotic stationary state the Bell state $|\\psi_- \\rangle = \\frac{1}{\\sqrt{2} }(|01\\rangle - |10\\rangle)$, where we indicate with $|0\\rangle$ and $|1\\rangle$ the computational basis of each qubit and we use the notation $| 01\\rangle = |0\\rangle_1 |1\\rangle _2$. This allows us to prepare a maximally entangled state as a result of the dissipative open system dynamics."
   ]
  },
  {
   "cell_type": "markdown",
   "metadata": {},
   "source": [
    "The four Bell states are:\n",
    "\n",
    "\\begin{align}\n",
    "|\\psi_- \\rangle = \\frac{1}{\\sqrt{2} }(|01\\rangle - |10\\rangle) \\\\\n",
    "|\\psi_+ \\rangle = \\frac{1}{\\sqrt{2} }(|01\\rangle + |10\\rangle) \\\\\n",
    "|\\phi_- \\rangle = \\frac{1}{\\sqrt{2} }(|00\\rangle - |11\\rangle)  \\\\\n",
    "|\\phi_+ \\rangle = \\frac{1}{\\sqrt{2} }(|00\\rangle + |11\\rangle) \n",
    "\\end{align}\n",
    "\n",
    "Each of them is uniquely determined as an eigenstate with eigenvalues $\\pm1$ with respect to $\\sigma_z^{(1)} \\otimes \\sigma_z^{(2)}$ and  $\\sigma_x^{(1)}\\otimes\\sigma_x^{(2)}$, where $\\sigma_x^{(i)}$ and $\\sigma_z^{(i)}$, with $i=1,2$, are the $x$ and $z$ Pauli operators of qubit 1 and 2."
   ]
  },
  {
   "cell_type": "markdown",
   "metadata": {},
   "source": [
    "The dissipative dynamics that pumps two qubits from an arbitrary initial state into the Bell state $|\\Psi_- \\rangle $ is realised by the composition of two channels that pump from\n",
    "the $+1$ into the $-1$ eigenspaces of the stabiliser operators $\\sigma_z^{(1)} \\otimes \\sigma_z^{(2)}$ and  $\\sigma_x^{(1)} \\otimes \\sigma_x^{(2)}$. "
   ]
  },
  {
   "cell_type": "markdown",
   "metadata": {},
   "source": [
    "Specifically, we consider the two $p$-parametrised families of CPTP maps $\\Phi_{zz} \\rho_S = E_{1z}  \\rho_S  E_{1z}^{\\dagger} + E_{2z}  \\rho_S  E_{2z}^{\\dagger} $, with \n",
    "\n",
    "\\begin{equation}\\label{KrausZZ}\n",
    "\\begin{aligned}\n",
    "E_{1z} &=\\sqrt{p} \\mathbb{I}^{(1)} \\otimes \\sigma_x^{(2)} \\frac{1}{2}\\left( \\mathbb{I}+ \\sigma_z^{(1)} \\otimes \\sigma_z^{(2)} \\right), \\\\\n",
    "E_{2z}  &= \\frac{1}{2} \\left( \\mathbb{I}-\\sigma_z^{(1)}\\otimes\\sigma_z^{(2)} \\right) \\\\\n",
    "&+ \\sqrt{1-p} \\frac{1}{2} \\left( \\mathbb{I}+ \\sigma_z^{(1)}\\otimes\\sigma_z^{(2)} \\right),\n",
    "\\end{aligned}\n",
    "\\end{equation}\n",
    "\n",
    "and $\\Phi_{xx}\\rho_S = E_{1x}  \\rho_S  E_{1x}^{\\dagger} + E_{2x}  \\rho_S  E_{2x}^{\\dagger} $, where $E_{1x}$ and $E_{2x}$ have the same form of  $E_{1z}$ and $E_{2z}$ in equations, provided that we replace $\\sigma_x^{(2)}$ with $\\sigma_z^{(2)}$ and $\\sigma_z^{(1)}\\otimes\\sigma_z^{(2)}$ with $\\sigma_x^{(1)}\\otimes\\sigma_x^{(2)}$."
   ]
  },
  {
   "cell_type": "markdown",
   "metadata": {},
   "source": [
    "By changing the parameter $0 \\le p \\le 1$ we simulate different types of open quantum system dynamics. For $p\\ll1$, the repeated application of, e.g., $\\Phi_{zz}$ generates a master equation of Lindblad form with jump operator operator $V=\\frac{1}{2}  \\mathbb{I}^{(1)}\\otimes\\sigma_x^{(2)}\\left( \\mathbb{I}+ \\sigma_z^{(1)} \\otimes \\sigma_z^{(2)} \\right)$. For $p=1$, the map $\\phi_{xx} \\circ \\Phi_{zz}$ generates $|\\psi_- \\rangle $ for any initial state. "
   ]
  },
  {
   "cell_type": "markdown",
   "metadata": {},
   "source": [
    "### Circuit implementation <a id='circuit'></a>"
   ]
  },
  {
   "cell_type": "markdown",
   "metadata": {},
   "source": [
    "In Ref. [[3](#3)], the authors provide the circuits for the implementation of the Bell-state pumping. However, these are composed of gates that are natural to the trapped-ions platform used in that work, so their direct implementation on the IBM Q Experience devices would result in far too long circuits. Therefore, we propose a different set of circuits that follow the same basic working principles, but have been designed specifically keeping in mind the characteristics of the IBM Q Experience platform."
   ]
  },
  {
   "cell_type": "markdown",
   "metadata": {},
   "source": [
    "The pumping circuits proposed in Ref. [[3](#3)] are composed of four parts:\n",
    "\n",
    "   1. The relevant information regarding the state of the system (that is, whether the system is in the $+1$ or the $-1$ eigenspaces of the stabiliser operators) is mapped into an ancilla.\n",
    "\n",
    "   2. The state of the system is modified depending on the state of the ancilla.\n",
    "\n",
    "   3. The mapping circuit is reversed. \n",
    "\n",
    "   4. At this stage, the system has been pumped, but if the ancilla is to be used again for a new pumping cycle, it needs to be reset, which is the fourth step. \n",
    "\n",
    "We follow these same lines, designing circuits that perform these same steps while minimising the number of gates involved. Before we explain the resulting circuits, let us mention that, since the IBM Q Experience devices are not equipped with the reset operation, we must use a different ancilla for every pump."
   ]
  },
  {
   "cell_type": "markdown",
   "metadata": {},
   "source": [
    "The way we map the eigenspace information into an ancilla is by first applying a CNOT gate between the system qubits. Suppose that qubits $s_1$ and $s_2$ are initially in some Bell state, for instance, $| \\phi^{\\pm} \\rangle = (| 00 \\rangle \\pm | 11 \\rangle)/\\sqrt{2}$. A CNOT gate controlled by $s_1$ transforms the state into $|\\pm\\rangle|0\\rangle$. Instead, $| \\psi^{\\pm} \\rangle$ would be transformed into $|\\pm\\rangle|1\\rangle$. Hence, we see that the information regarding the $\\sigma_x^{(1)}\\otimes\\sigma_x^{(2)}$ eigenspace (namely, the sign) is contained in the state of $s_1$ after the transformation, whereas the one corresponding to the $\\sigma_z^{(1)}\\otimes\\sigma_z^{(2)}$ is in qubit $s_2$. "
   ]
  },
  {
   "cell_type": "markdown",
   "metadata": {},
   "source": [
    "Now, let us consider the circuit implementing the $\\sigma_z^{(1)}\\otimes\\sigma_z^{(2)}$ pump:"
   ]
  },
  {
   "cell_type": "code",
   "execution_count": 5,
   "metadata": {},
   "outputs": [
    {
     "data": {
      "image/png": "[encoded data removed]",
      "text/plain": [
       "<Figure size 517.72x325.08 with 1 Axes>"
      ]
     },
     "execution_count": 5,
     "metadata": {},
     "output_type": "execute_result"
    }
   ],
   "source": [
    "#######################\n",
    "#  ZZ pump on IBMQX2  #\n",
    "#######################\n",
    "import numpy as np\n",
    "\n",
    "# Quantum register\n",
    "q = QuantumRegister(5, name='q')\n",
    "\n",
    "# Quantum circuit  \n",
    "zz = QuantumCircuit(q)\n",
    "\n",
    "# ZZ pump acting on system qubits\n",
    "## Qubit identification\n",
    "system = [2, 1]\n",
    "a_zz = 0\n",
    "\n",
    "## Define pump efficiency \n",
    "## and corresponding rotation\n",
    "p = 0.5\n",
    "theta = 2 * np.arcsin(np.sqrt(p))\n",
    "\n",
    "## Construct circuit\n",
    "### Map information to ancilla\n",
    "zz.cx(q[system[0]], q[system[1]])\n",
    "zz.x(q[a_zz])\n",
    "zz.cx(q[system[1]], q[a_zz])\n",
    "    \n",
    "### Conditional rotation\n",
    "zz.cu3(theta, 0.0, 0.0, q[a_zz], q[system[1]])\n",
    "    \n",
    "### Inverse mapping\n",
    "zz.cx(q[system[1]], q[a_zz])\n",
    "zz.cx(q[system[0]], q[system[1]])\n",
    "\n",
    "# Draw circuit\n",
    "zz.draw(output='mpl')"
   ]
  },
  {
   "cell_type": "markdown",
   "metadata": {},
   "source": [
    "To map the eigenspace information into the environment ancilla $a_\\textrm{ZZ}$, we apply a CNOT controlled by the relevant qubit, $s_2$. After these two gates (and considering that the initial state of the ancilla is $|1\\rangle$), $a_\\textrm{ZZ}$ will be in state $|1\\rangle$ if the initial state of the system is $| \\phi^{\\pm} \\rangle$ and $|0\\rangle$ if it is $| \\psi^{\\pm} \\rangle$. Therefore, the conditional rotation gate only acts in the former case, while it does not modify the state in the latter. The angle of the controlled rotation, in turn, controls the efficiency of the pump $p$ via the relation $\\theta = 2 \\arcsin{\\sqrt{p} }$. Finally, the last two CNOT gates simply revert the mapping part of the circuit. \n",
    "\n",
    "The working principle of the $\\sigma_x^{(1)}\\otimes\\sigma_x^{(2)}$ pump is essentially the same. However, we need to add an extra Hadamard gate to transform the state of $s_1$ before mapping the information to the ancilla $a_\\textrm{XX}$:"
   ]
  },
  {
   "cell_type": "code",
   "execution_count": 6,
   "metadata": {},
   "outputs": [
    {
     "data": {
      "image/png": "[encoded data removed]",
      "text/plain": [
       "<Figure size 638.12x325.08 with 1 Axes>"
      ]
     },
     "execution_count": 6,
     "metadata": {},
     "output_type": "execute_result"
    }
   ],
   "source": [
    "#######################\n",
    "#  XX pump on IBMQX2  #\n",
    "#######################\n",
    "\n",
    "# Quantum register\n",
    "q = QuantumRegister(5, name='q')\n",
    "\n",
    "# Quantum circuit  \n",
    "xx = QuantumCircuit(q)\n",
    "\n",
    "# XX pump acting on system qubits\n",
    "## Qubit identification\n",
    "system = [2, 1]\n",
    "a_xx = 4\n",
    "\n",
    "## Define pump efficiency \n",
    "## and corresponding rotation\n",
    "p = 0.5\n",
    "theta = 2 * np.arcsin(np.sqrt(p))\n",
    "\n",
    "## Construct circuit\n",
    "### Map information to ancilla\n",
    "xx.cx(q[system[0]], q[system[1]])\n",
    "xx.h(q[system[0]])\n",
    "xx.x(q[a_xx])\n",
    "xx.cx(q[system[0]], q[a_xx])\n",
    "    \n",
    "### Conditional rotation\n",
    "xx.cu3(theta, 0.0, 0.0, q[a_xx], q[system[0]])\n",
    "    \n",
    "### Inverse mapping\n",
    "xx.cx(q[system[0]], q[a_xx])\n",
    "xx.h(q[system[0]])\n",
    "xx.cx(q[system[0]], q[system[1]])\n",
    "\n",
    "# Draw circuit\n",
    "xx.draw(output='mpl')"
   ]
  },
  {
   "cell_type": "markdown",
   "metadata": {},
   "source": [
    "As for the composite pump, we can simply concatenate the two circuits. Notice that in the direct concatenation there would be two consecutive CNOTs between the system qubits, which can be removed."
   ]
  },
  {
   "cell_type": "code",
   "execution_count": 7,
   "metadata": {},
   "outputs": [
    {
     "data": {
      "image/png": "[encoded data removed]",
      "text/plain": [
       "<Figure size 698.32x325.08 with 1 Axes>"
      ]
     },
     "execution_count": 7,
     "metadata": {},
     "output_type": "execute_result"
    }
   ],
   "source": [
    "###########################\n",
    "#  ZZ-XX pumps on IBMQX2  #\n",
    "###########################\n",
    "\n",
    "# Quantum register\n",
    "q = QuantumRegister(5, name='q')\n",
    "\n",
    "# Quantum circuit  \n",
    "zz_xx = QuantumCircuit(q)\n",
    "\n",
    "# ZZ and XX pumps acting on system qubits\n",
    "## Qubit identification\n",
    "system = [2, 1]\n",
    "a_zz = 0\n",
    "a_xx = 4\n",
    "\n",
    "## Define pump efficiency \n",
    "## and corresponding rotation\n",
    "p = 0.5\n",
    "theta = 2 * np.arcsin(np.sqrt(p))\n",
    "\n",
    "## Construct circuit\n",
    "## ZZ pump\n",
    "### Map information to ancilla\n",
    "zz_xx.cx(q[system[0]], q[system[1]])\n",
    "zz_xx.x(q[a_zz])\n",
    "zz_xx.cx(q[system[1]], q[a_zz])\n",
    "    \n",
    "### Conditional rotation\n",
    "zz_xx.cu3(theta, 0.0, 0.0, q[a_zz], q[system[1]])\n",
    "    \n",
    "### Inverse mapping\n",
    "zz_xx.cx(q[system[1]], q[a_zz])\n",
    "#zz_xx.cx(q[system[0]], q[system[1]])\n",
    "\n",
    "## XX pump\n",
    "### Map information to ancilla\n",
    "#zz_xx.cx(q[system[0]], q[system[1]])\n",
    "zz_xx.h(q[system[0]])\n",
    "zz_xx.x(q[a_xx])\n",
    "zz_xx.cx(q[system[0]], q[a_xx])\n",
    "    \n",
    "### Conditional rotation\n",
    "zz_xx.cu3(theta, 0.0, 0.0, q[a_xx], q[system[0]])\n",
    "    \n",
    "### Inverse mapping\n",
    "zz_xx.cx(q[system[0]], q[a_xx])\n",
    "zz_xx.h(q[system[0]])\n",
    "zz_xx.cx(q[system[0]], q[system[1]])\n",
    "\n",
    "# Draw circuit\n",
    "zz_xx.draw(output='mpl')"
   ]
  },
  {
   "cell_type": "markdown",
   "metadata": {},
   "source": [
    "In the figure below we show the action of the dissipative pumping maps $\\Phi_{xx}$, $\\Phi_{zz}$ and their composition $\\Phi_{xx} \\circ \\Phi_{zz}$ as a function of $p$, for a maximally mixed initial state. We compare the theoretical prediction (dashed lines) with the experimental data. Our results show a very good agreement between theory and experiment for the implementation of both the two families of maps and their composition. In the latter case, the results are more sensitive to errors because of the larger depth of the circuit implementing the composition of maps."
   ]
  },
  {
   "cell_type": "markdown",
   "metadata": {},
   "source": [
    "<a id='fig_2'></a>\n",
    "\n",
    "<img src=\"images/fig_mar_res_eng.png\">\n",
    "Figure 2"
   ]
  },
  {
   "cell_type": "markdown",
   "metadata": {},
   "source": [
    "Regarding the measurement process, the IBM Q Experience platform only enables measurement in the computational basis. Hence, to assess the probabilities for each of the Bell states, we need to change basis by applying again a combination of CNOT and Hadamard to the system qubits, so $| \\phi^{+} \\rangle$ is mapped into $|00\\rangle$, etc. Again, notice that this would result in repeated consecutive gates, the effect of which amounts to identity, so they can be removed from the circuits. Finally, in [Figure 2](#fig_2) we show the results starting from the maximally mixed state. To do so, we simulated the circuits preparing the system in four different initial conditions, $| 00 \\rangle$, $| 01 \\rangle$, $| 10 \\rangle$ and $| 11 \\rangle$ and averaged the corresponding results."
   ]
  },
  {
   "cell_type": "markdown",
   "metadata": {},
   "source": [
    "## References <a id='ref'></a>\n",
    "\n",
    "[1] [A. Holevo, Rep. Math. Phys. **32**, 211 (1993).](https://doi.org/10.1016/0034-4877%2893%2990014-6\n",
    ") <a id='1'></a>\n",
    "\n",
    "[2] [D. Chruściński and S. Maniscalco, Phys. Rev. Lett. **112**, 120404 (2014)](https://doi.org/10.1103/PhysRevLett.112.120404) <a id='2'></a> \n",
    "\n",
    "[3] [ J. T. Barreiro, M. Müller, P. Schindler, D. Nigg, T. Monz, M. Chwalla, M. Hennrich, C. F. Roos, P. Zoller, and R. Blatt, Nature **470**, 486 (2011)](https://doi.org/10.1038/nature09801) <a id='3'></a>\n",
    "\n",
    "[4] [ J. T. Barreiro, P. Schindler, O. Gühne, T. Monz, M. Chwalla, C. F. Roos, M. Hennrich, and R. Blatt, Nat. Phys. **6**, 943 (2010).](https://doi.org/10.1038/nphys1781) <a id='4'></a>"
   ]
  },
  {
   "cell_type": "code",
   "execution_count": null,
   "metadata": {},
   "outputs": [],
   "source": []
  }
 ],
 "metadata": {
  "celltoolbar": "Edit Metadata",
  "kernelspec": {
   "display_name": "Python 3",
   "language": "python",
   "name": "python3"
  },
  "language_info": {
   "codemirror_mode": {
    "name": "ipython",
    "version": 3
   },
   "file_extension": ".py",
   "mimetype": "text/x-python",
   "name": "python",
   "nbconvert_exporter": "python",
   "pygments_lexer": "ipython3",
   "version": "3.7.4"
  }
 },
 "nbformat": 4,
 "nbformat_minor": 2
}
