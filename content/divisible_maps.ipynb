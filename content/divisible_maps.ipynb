{
 "cells": [
  {
   "cell_type": "markdown",
   "metadata": {
    "tags": [
     "hide_input"
    ]
   },
   "source": [
    "$\\newcommand{\\Mn}{M_n(\\mathbb{C})}$\n",
    "$\\newcommand{\\Mq}{M_2(\\mathbb{C})}$\n",
    "$\\newcommand{\\Mk}{M_k(\\mathbb{C})}$\n",
    "$\\newcommand{\\Mm}{M_m(\\mathbb{C})}$\n",
    "$\\newcommand{\\Mnm}{M_{n \\times m}(\\mathbb{C})}$\n",
    "$\\newcommand{\\Mnp}{M_n^+(\\mathbb{C})}$\n",
    "$\\newcommand{\\ra}{\\,\\rightarrow\\,}$\n",
    "$\\newcommand{\\id}{\\mbox{id} }$\n",
    "$\\newcommand{\\ot}{ {\\,\\otimes\\,} }$\n",
    "$\\newcommand{\\Cd}{ {\\mathbb{C}^d} }$\n",
    "$\\newcommand{\\Rn}{ {\\mathbb{R}^n} }$\n",
    "$\\newcommand{\\asterisk}{*}$"
   ]
  },
  {
   "cell_type": "markdown",
   "metadata": {},
   "source": [
    "We have discussed how to describe the quantum evolution of open quantum systems and we have introduced the concept of dynamical map $\\Lambda_t$ and its time-dependent generator $L_t$. The latter quantity is also known as the dissipator and describes the form of the master equation. The connection between the two is given by Eq. ([2.29](preliminaries.html#mjx-eqn-Lambda-t)). A very important problem in the theory of open quantum systems is the following:\n",
    " \n",
    "**Problem 1**\n",
    "\n",
    "> What are the properties of the local time-dependent generator $L_t$ that guarantee $\\Lambda_t$, as defined by the T-product exponential formula ([2.29](preliminaries.html#mjx-eqn-Lambda-t)), defines a legitimate dynamical map?\n",
    "\n",
    "The formulation of our problem is pretty simple, but in general the answer is not known. In fact, it turns out that the answer is only known for the special case of time-independent generators, giving rise to Markovian semigroups. In this case the answer to this important problem is given by the GKSL theorem discussed in **[Chapter 4](markovian_semigroups.html)**. But what about more general types of generators? "
   ]
  },
  {
   "cell_type": "markdown",
   "metadata": {},
   "source": [
    "Let us observe that if we knew a dynamical map $\\Lambda_t$ that was invertible, i.e. there exists $\\Lambda_t^{-1} : \\Mn \\ra \\Mn$ such that $\\Lambda_t^{-1} \\Lambda_t = \\Lambda_t \\Lambda_t^{-1} = \\mathbb{1}_n$, then\n",
    "\n",
    "\\begin{equation}\n",
    "    \\dot{\\Lambda}_t = \\dot{\\Lambda}_t \\Lambda_t^{-1} \\Lambda_t = L_t \\, \\Lambda_t\\ ,\n",
    "\\tag{5.1}\n",
    "\\end{equation}\n",
    "\n",
    "where we defined\n",
    "\\begin{equation}\n",
    "    L_t := \\dot{\\Lambda}_t \\Lambda_t^{-1} \\ .\n",
    "\\tag{5.2}\n",
    "\\end{equation}\n",
    "\n",
    "It should be stressed that the inverse of $\\Lambda_t$ need not be CP. One may prove that if $\\Lambda_t$ is CP then $\\Lambda_t^{-1}$ is CP  if and only if $\\Lambda_t(\\rho) = U_t \\rho U_t^\\dagger$ with unitary $U_t$."
   ]
  },
  {
   "cell_type": "markdown",
   "metadata": {},
   "source": [
    "### Example 6 <a id='ex6'></a>"
   ]
  },
  {
   "cell_type": "markdown",
   "metadata": {},
   "source": [
    "> Consider a unitary dynamical map $\\mathcal{U}_t$ defined in ([2.23](preliminaries.html#mjx-eqn-UUU)). It is clear that $\\mathcal{U}_t$ is invertible and $\\mathcal{U}_t^{-1} = \\mathcal{U}_{-t}$ is CP. One finds for the corresponding generator\n",
    "> \\begin{equation}\n",
    "    L_t(\\rho) = [\\dot{\\mathcal{U} }_t \\mathcal{U}_{-t}](\\rho)  = \\dot{U}_t (U_t^\\dagger \\rho U_t) U_t^\\dagger + {U}_t (U_t^\\dagger \\rho U_t) \\dot{U}_t^\\dagger \\ ,\n",
    "\\tag{5.3}\n",
    "\\end{equation}\n",
    "> \n",
    "> and hence recalling that $U_t$ satisfies the Schrödinger equation $\\dot{U}_t = -iHU_t$, one obtains $L_t(\\rho) = -i[H,\\rho]$."
   ]
  },
  {
   "cell_type": "markdown",
   "metadata": {},
   "source": [
    "In this course instead of analyzing this problem in full generality we restrict ourselves to study special classes of dynamical maps and corresponding local generators.\n",
    "Specifically we analyze 3 important classes of generators\n",
    "\n",
    "- $C_1$ - a class of time-independent generators giving rise to Markovian semigroups,\n",
    "- $C_2 $ - a class of time-dependent generators giving rise to commutative dynamics,\n",
    "- $C_3 $ - a class of time-dependent generators giving rise to the so-called divisible dynamical maps."
   ]
  },
  {
   "cell_type": "markdown",
   "metadata": {},
   "source": [
    "## 5.1. Commutative dynamics <a id='com'></a>"
   ]
  },
  {
   "cell_type": "markdown",
   "metadata": {},
   "source": [
    "We call a dynamical map $\\Lambda_t$ commutative if $[\\Lambda_t,\\Lambda_u]=0$ for all $t,u\\geq 0$. It means that for each $A\\in \\Mn$ one has\n",
    "\n",
    "\\begin{equation}\n",
    "    \\Lambda_t(\\Lambda_u(A)) = \\Lambda_u(\\Lambda_t(A)) \\ .\n",
    "\\tag{5.4}\n",
    "\\end{equation}\n",
    "\n",
    "It is easy to show that commutativity of $\\Lambda_t$ is equivalent to commutativity of the local generator\n",
    "\n",
    "\\begin{equation}\\label{[]=0}\n",
    "    [L_t,L_u]=0\\ ,\n",
    "\\tag{5.5}\n",
    "\\end{equation}\n",
    "\n",
    "for any $t,u \\geq 0$.  Note that in this case  the formula ([2.30](preliminaries.html#mjx-eqn-Dyson)) considerably simplifies: the 'T' product drops out and the solution is fully controlled by the integral $\\int_0^t L_u du$:\n",
    "\\begin{equation}\\label{Dyson-com}\n",
    "    \\Lambda_t = \\exp\\left( \\int_0^t L_u du\\right) = \\mathbb{1}_n + \\int_0^t   L_{u}du + \\frac 12 \\left( \\int_0^{t}  L_{u}du \\right)^2 + \\ldots \\ .\n",
    "\\tag{5.6}\n",
    "\\end{equation}"
   ]
  },
  {
   "cell_type": "markdown",
   "metadata": {},
   "source": [
    "Now, it follows from Theorem 3 that if $\\Lambda = e^M$, then $\\Lambda$ is a quantum channel if $M$ is a GKSL generator. Therefore, one has the following\n",
    "\n",
    "**Theorem 4**\n",
    "\n",
    "> If $L_t$ satisfies (\\ref{[]=0}), then $L_t$ is a legitimate generator if $\\int_0^t L_\\tau d\\tau$ is a GKSL generator for all $t\\geq 0$.\n",
    "\n",
    "Note that, if $L_t = L$ is time independent, then $\\int_0^t L_udu = tL$ and the above theorem reproduces **Theorem 3**."
   ]
  },
  {
   "cell_type": "markdown",
   "metadata": {},
   "source": [
    "It is clear that if $L$ is a legitimate GKSL generator and $f: \\mathbb{R}_+ \\ra \\mathbb{R}$ an arbitrary function, then $L_t = f(t) L$ generates a commutative dynamical map $\\Lambda_t$ iff $\\int_0^t f(u) du \\geq 0$ for all $t\\geq 0$. A typical example of commutative dynamics is provided by\n",
    "\n",
    "\\begin{equation}\n",
    "    L_t = \\omega(t) L_0 + a_1(t) L_1 + \\ldots + a_N(t) L_N\\ ,\n",
    "\\tag{5.7}\n",
    "\\end{equation}\n",
    "\n",
    "where $[L_\\alpha,L_\\beta]=0$ with $L_0(\\rho) =  -i[H,\\rho]$, and for $\\alpha>0$ the generators $L_\\alpha$ are purely dephasing, that is, $L_\\alpha(\\rho) = \\Phi_\\alpha(\\rho) - \\frac 12 \\{ \\Phi_\\alpha^*(\\mathbb{I}),\\rho\\}$.  One has for the corresponding dynamical map\n",
    "\n",
    "\\begin{equation}\n",
    "    \\Lambda_t = e^{\\Omega(t)L_0} \\cdot e^{A_1(t)L_1} \\cdot \\ldots\\cdot e^{A_N(t)L_N}\\ ,\n",
    "\\tag{5.8}\n",
    "\\end{equation}\n",
    "\n",
    "with\n",
    "$$ \\Omega(t) = \\int_0^t \\omega(u)du\\ ; \\ \\ \\ \\ A_\\alpha(t) = \\int_0^t a_\\alpha(u)du\\  . $$\n",
    "\n",
    "It is clear that $\\Lambda_t$ is CP iff $A_\\alpha(t) \\geq 0$ for all $\\alpha=1,\\ldots,N$."
   ]
  },
  {
   "cell_type": "markdown",
   "metadata": {},
   "source": [
    "### Example 7 <a id='ex7'></a>"
   ]
  },
  {
   "cell_type": "markdown",
   "metadata": {},
   "source": [
    "> Consider a qubit generator $L_0(\\rho) = -i[\\sigma_3,\\rho]$ together with $L_1,L_2,L_3$ defined in ([5.27](#LLL)). One easily proves\n",
    "> \n",
    "> \\begin{equation}\n",
    "    [L_0,L_\\alpha] = [L_3,L_\\alpha]=0 \\ ; \\ \\ \\ \\alpha=1,2,3\\ ,\n",
    "\\tag{5.9}\n",
    "\\end{equation}\n",
    "> \n",
    "> and\n",
    "> \\begin{equation}\\label{L-L}\n",
    "    [L_1,L_2] = L_1 - L_2 \\ .\n",
    "\\tag{5.10}\n",
    "\\end{equation}\n",
    "> \n",
    "> Define the time-dependent commutative generator\n",
    "> \n",
    "> \\begin{equation}\n",
    "    L_t = \\frac{\\omega(t)}{2} L_0 + \\frac{\\delta(t)}{2} ( \\mu_1 L_1 + \\mu_2 L_2) + \\frac{\\gamma(t)}{2} L_z\\ ,\n",
    "\\tag{5.11}\n",
    "\\end{equation}\n",
    "> \n",
    "> with $\\mu_1,\\mu_2 \\geq 0$ and $\\mu_1 + \\mu_2=1$. Defining\n",
    "> \n",
    "> \\begin{equation}\n",
    "    \\Omega(t) = \\int_0^t \\omega(u)du\\ ; \\ \\ \\Delta(t) = \\int_0^t \\delta(u)du\\ ; \\ \\ \\Gamma(t) = \\int_0^t \\gamma(u)du\\ ,\n",
    "\\tag{5.12}\n",
    "\\end{equation}\n",
    "> \n",
    "> one finds that if $\\Delta(t) \\geq 0$ and $\\Gamma(t) \\geq 0$, then $L_t$ is a legitimate generator.\n",
    "The time evolution of $\\rho$ has the following form: the off-diagonal elements evolve according to\n",
    "> \n",
    "> $$\\rho_{12} \\ra e^{\\Omega(t) + \\frac 12 \\Delta(t) + \\Gamma(t)} \\rho_{12}\\ , $$\n",
    ">\n",
    "> and diagonal elements\n",
    "> \n",
    "> \\begin{eqnarray*}\n",
    "  \\rho_{11} &\\ra & \\rho_{11}\\, e^{-\\Delta(t)} + \\mu_1 \\Big[ 1 - e^{-\\Delta(t)}  \\Big] \\ ,\\\\\n",
    "  \\rho_{22} &\\ra & \\rho_{22}\\, e^{-\\Delta(t)} + \\mu_2 \\Big[ 1 - e^{-\\Delta(t)}  \\Big] \\ .\n",
    "\\end{eqnarray*}\n",
    ">\n",
    "> If $\\Delta(t) \\ra \\infty$ for $t\\ra \\infty$, then the dynamics possess an equilibrium state\n",
    ">\n",
    "> $$  \\rho_t \\ \\ \\longrightarrow \\ \\ \\left( \\begin{array}{cc} \\mu_1 & 0 \\\\ 0 & \\mu_2 \\end{array} \\right) \\ . $$"
   ]
  },
  {
   "cell_type": "markdown",
   "metadata": {},
   "source": [
    "### Example 8 (Random unitary qubit dynamics) <a id='ex8'></a>"
   ]
  },
  {
   "cell_type": "markdown",
   "metadata": {},
   "source": [
    "> Consider the following time-dependent generator\n",
    "> \\begin{equation}\\label{Pauli}\n",
    "    L_t(\\rho) = \\frac 12 \\sum_{k=1}^3 \\gamma_k(t) (\\sigma_k \\rho\\, \\sigma_k - \\rho)\\ ,\n",
    "\\tag{5.13}\n",
    "\\end{equation}\n",
    "> \n",
    "> where $\\{\\sigma_1,\\sigma_2,\\sigma_3\\}$ are Pauli matrices.  It is easy to prove that $[L_t,L_u]=0$ and hence $L_t$ generates a legitimate dynamical map iff\n",
    "> \n",
    "> $$  \\Gamma_1(t) \\geq 0 \\ ; \\ \\ \\Gamma_2(t) \\geq 0 \\ ; \\ \\ \\Gamma_3(t) \\geq 0 \\ , $$\n",
    "> \n",
    "> where $\\Gamma_k(t) = \\int_0^t \\gamma_k(u)du$.  One finds that the corresponding dynamical map $\\Lambda_t$ is given by\n",
    "> \n",
    "> \\begin{equation}\\label{RU}\n",
    "    \\Lambda_t(\\rho) = \\sum_{\\alpha=0}^3 p_\\alpha(t) \\sigma_\\alpha \\rho\\, \\sigma_\\alpha \\ ,\n",
    "\\tag{5.14}\n",
    "\\end{equation}\n",
    "> \n",
    "> where $\\sigma_0 = \\mathbb{I}_2$ and\n",
    "> \n",
    "> \\begin{eqnarray*}\n",
    "p_0(t) &=&\\frac{1}{4}\\, [1+ \\lambda_3(t) + \\lambda_2(t) + \\lambda_1(t)] \\ , \\\\\n",
    "p_1(t) &=&\\frac{1}{4}\\, [1- \\lambda_3(t) - \\lambda_2(t) + \\lambda_1(t)] \\ ,\\\\\n",
    "p_2(t) &=&\\frac{1}{4}\\, [1- \\lambda_3(t) + \\lambda_2(t) - \\lambda_1(t)] \\ ,\\\\\n",
    "p_3(t) &=&\\frac{1}{4}\\, [1+ \\lambda_3(t) - \\lambda_2(t) - \\lambda_1(t)] \\ ,\n",
    "\\end{eqnarray*}\n",
    "> \n",
    "> with\n",
    "> $$ \\lambda_1(t) = e^{-\\Gamma_2(t) - \\Gamma_3(t)}\\ , $$\n",
    "> \n",
    "> and similarly for $\\lambda_2(t)$ and $\\lambda_3(t)$. Interestingly $\\Lambda_t(\\sigma_k)=\\lambda_k(t)\\sigma_k$.\n",
    "The formula (\\ref{RU}) defines so-called random unitary dynamics. Note that\n",
    "> \n",
    "> $$ p_0(t) + p_1(t) + p_2(t) +  p_3(t)=1 \\ . $$\n",
    "> \n",
    "> Moreover, $p_\\alpha(t) \\geq 0$ for $\\alpha=0,1,2,3$ iff $\\Gamma_k(t) \\geq 0$ for $k=1,2,3$. Note that $\\Lambda_t$ is unital. Actually, in the case of qubits any unital dynamical map is random unitary, i.e.\n",
    "> \n",
    "> \\begin{equation}\\label{}\n",
    "    \\Lambda_t(\\rho) = \\sum_k p_k(t) U_k(t) \\rho U_k^\\dagger(t)\\ ,\n",
    "\\tag{5.15}\n",
    "\\end{equation}\n",
    "> \n",
    "> where $p_k(t)$ defines time-dependent probability distribution and $U_k(t)$ is a family of time-dependent unitary matrices. It is no longer true for $n$-level systems with $n>2$."
   ]
  },
  {
   "cell_type": "markdown",
   "metadata": {},
   "source": [
    "## IBM Q example: Pauli channel <a id='IBMPauli'></a>"
   ]
  },
  {
   "cell_type": "markdown",
   "metadata": {},
   "source": [
    "The most general single-qubit open quantum system model is the time-dependent Pauli channel. The master equation in this case takes the form (see Eq. (\\ref{Pauli}))\n",
    "\n",
    "\\begin{equation}\n",
    "\\frac{d\\rho_{S} }{dt}(t)=\\frac{1}{2}\\sum_i\\gamma_i(t)\\left[\\sigma_i\\rho_{S}(t)\\sigma_i-\\rho_{S}(t)\\right].\n",
    "\\label{PauliME}\n",
    "\\end{equation}"
   ]
  },
  {
   "cell_type": "markdown",
   "metadata": {},
   "source": [
    "Generally, the dynamics described by the master equation above is not phase-covariant [[1](#1)], except for the case in which $\\gamma_x(t)=\\gamma_y(t)$. Moreover, since the decay rates may take negative values, conditions for complete positivity must be imposed, and they are given in terms of a set of inequalities involving all the three decay rates, as one can see, e.g., from Ref. [[2](#2)].\n",
    "<!--\n",
    "**In Sec.~\\ref{sec:discussion} we present the simulation of a specific form of time-dependent Pauli channel proposed in Ref.~\\cite{Hall2014} and used as an example of eternal non-Markovianity, i.e.~an open quantum system dynamics for which the dynamical map is non-CP-divisible for all times $t$. More precisely, we use this experimental simulation to demonstrate a phenomenon predicted in Ref.~\\cite{BognaWork}, namely the presence of oscillations in the extractable work. This shows an application of open quantum system simulation on the IBM Q Experience processors to fields other than quantum information theory, specifically quantum thermodynamics for the example here considered.** What? Is example Markovian or non-Markovian???? -->"
   ]
  },
  {
   "cell_type": "markdown",
   "metadata": {},
   "source": [
    "At a specific time instant $t$, the Pauli channel can be written as\n",
    "\\begin{equation} \n",
    " \\mathcal{E} (\\rho) = \\sum_{i=0}^3 p_i \\sigma_i \\rho \\sigma_i,\n",
    "\\end{equation}\n",
    " \n",
    "with $0 \\leq p_i \\leq 1$ and $\\sum_i p_i = 1$. The depolarizing channel is a special case of the Pauli channel where $p_1 = p_2 = p_3 = p/4$. "
   ]
  },
  {
   "cell_type": "markdown",
   "metadata": {},
   "source": [
    "It is possible to implement the general Pauli channel with just two ancillary qubits, by preparing them in the suitable entangled state. The first qubit acts as the control for a controlled-$X$ (CNOT) gate, and the second one for a controlled-$Y$. Notice that applying both an X and a Y gates is effectively equivalent to applying a Z gate."
   ]
  },
  {
   "cell_type": "markdown",
   "metadata": {},
   "source": [
    "The state $|\\psi \\rangle$ of the ancillae needed for the Pauli channel can be implemented by the following circuit:"
   ]
  },
  {
   "cell_type": "code",
   "execution_count": 1,
   "metadata": {},
   "outputs": [
    {
     "output_type": "execute_result",
     "data": {
      "text/plain": [
       "<Figure size 387.597x325.08 with 1 Axes>"
      ],
      "image/svg+xml": "<?xml version=\"1.0\" encoding=\"utf-8\" standalone=\"no\"?>\n<!DOCTYPE svg PUBLIC \"-//W3C//DTD SVG 1.1//EN\"\n  \"http://www.w3.org/Graphics/SVG/1.1/DTD/svg11.dtd\">\n<svg height=\"259.8354pt\" version=\"1.1\" viewBox=\"0 0 307.036036 259.8354\" width=\"307.036036pt\" xmlns=\"http://www.w3.org/2000/svg\" xmlns:xlink=\"http://www.w3.org/1999/xlink\">\n <metadata>\n  <rdf:RDF xmlns:cc=\"http://creativecommons.org/ns#\" xmlns:dc=\"http://purl.org/dc/elements/1.1/\" xmlns:rdf=\"http://www.w3.org/1999/02/22-rdf-syntax-ns#\">\n   <cc:Work>\n    <dc:type rdf:resource=\"http://purl.org/dc/dcmitype/StillImage\"/>\n    <dc:date>2021-05-10T15:18:35.294788</dc:date>\n    <dc:format>image/svg+xml</dc:format>\n    <dc:creator>\n     <cc:Agent>\n      <dc:title>Matplotlib v3.4.2, https://matplotlib.org/</dc:title>\n     </cc:Agent>\n    </dc:creator>\n   </cc:Work>\n  </rdf:RDF>\n </metadata>\n <defs>\n  <style type=\"text/css\">*{stroke-linecap:butt;stroke-linejoin:round;}</style>\n </defs>\n <g id=\"figure_1\">\n  <g id=\"patch_1\">\n   <path d=\"M 0 259.8354 \nL 307.036036 259.8354 \nL 307.036036 0 \nL 0 0 \nz\n\" style=\"fill:#ffffff;\"/>\n  </g>\n  <g id=\"axes_1\">\n   <g id=\"line2d_1\">\n    <path clip-path=\"url(#p4478a1c3f9)\" d=\"M 63.490836 43.5608 \nL 295.290936 43.5608 \n\" style=\"fill:none;stroke:#000000;stroke-linecap:square;stroke-width:2;\"/>\n   </g>\n   <g id=\"line2d_2\">\n    <path clip-path=\"url(#p4478a1c3f9)\" d=\"M 63.490836 89.0118 \nL 295.290936 89.0118 \n\" style=\"fill:none;stroke:#000000;stroke-linecap:square;stroke-width:2;\"/>\n   </g>\n   <g id=\"line2d_3\">\n    <path clip-path=\"url(#p4478a1c3f9)\" d=\"M 63.490836 134.4628 \nL 295.290936 134.4628 \n\" style=\"fill:none;stroke:#000000;stroke-linecap:square;stroke-width:2;\"/>\n   </g>\n   <g id=\"line2d_4\">\n    <path clip-path=\"url(#p4478a1c3f9)\" d=\"M 63.490836 179.9138 \nL 295.290936 179.9138 \n\" style=\"fill:none;stroke:#000000;stroke-linecap:square;stroke-width:2;\"/>\n   </g>\n   <g id=\"line2d_5\">\n    <path clip-path=\"url(#p4478a1c3f9)\" d=\"M 63.490836 225.3648 \nL 295.290936 225.3648 \n\" style=\"fill:none;stroke:#000000;stroke-linecap:square;stroke-width:2;\"/>\n   </g>\n   <g id=\"line2d_6\">\n    <path clip-path=\"url(#p4478a1c3f9)\" d=\"M 133.485376 225.3648 \nL 133.485376 179.9138 \n\" style=\"fill:none;stroke:#6fa4ff;stroke-linecap:square;stroke-width:2;\"/>\n   </g>\n   <g id=\"line2d_7\">\n    <path clip-path=\"url(#p4478a1c3f9)\" d=\"M 224.387376 179.9138 \nL 224.387376 134.4628 \n\" style=\"fill:none;stroke:#6fa4ff;stroke-linecap:square;stroke-width:2;\"/>\n   </g>\n   <g id=\"line2d_8\">\n    <path clip-path=\"url(#p4478a1c3f9)\" d=\"M 269.838376 225.3648 \nL 269.838376 134.4628 \n\" style=\"fill:none;stroke:#6fa4ff;stroke-linecap:square;stroke-width:2;\"/>\n   </g>\n   <g id=\"patch_2\">\n    <path clip-path=\"url(#p4478a1c3f9)\" d=\"M 73.262801 194.685375 \nL 102.805951 194.685375 \nL 102.805951 165.142225 \nL 73.262801 165.142225 \nz\n\" style=\"fill:#bb8bff;stroke:#bb8bff;stroke-linejoin:miter;stroke-width:1.5;\"/>\n   </g>\n   <g id=\"patch_3\">\n    <path clip-path=\"url(#p4478a1c3f9)\" d=\"M 133.485376 184.345272 \nC 134.660616 184.345272 135.78788 183.878345 136.618901 183.047324 \nC 137.449921 182.216304 137.916849 181.08904 137.916849 179.9138 \nC 137.916849 178.73856 137.449921 177.611296 136.618901 176.780276 \nC 135.78788 175.949255 134.660616 175.482327 133.485376 175.482327 \nC 132.310136 175.482327 131.182872 175.949255 130.351852 176.780276 \nC 129.520832 177.611296 129.053904 178.73856 129.053904 179.9138 \nC 129.053904 181.08904 129.520832 182.216304 130.351852 183.047324 \nC 131.182872 183.878345 132.310136 184.345272 133.485376 184.345272 \nz\n\" style=\"fill:#6fa4ff;stroke:#6fa4ff;stroke-linejoin:miter;stroke-width:1.5;\"/>\n   </g>\n   <g id=\"patch_4\">\n    <path clip-path=\"url(#p4478a1c3f9)\" d=\"M 133.485376 235.704902 \nC 136.227603 235.704902 138.857885 234.615404 140.796933 232.676357 \nC 142.73598 230.737309 143.825479 228.107027 143.825479 225.3648 \nC 143.825479 222.622573 142.73598 219.992291 140.796933 218.053243 \nC 138.857885 216.114196 136.227603 215.024697 133.485376 215.024697 \nC 130.743149 215.024697 128.112867 216.114196 126.17382 218.053243 \nC 124.234772 219.992291 123.145274 222.622573 123.145274 225.3648 \nC 123.145274 228.107027 124.234772 230.737309 126.17382 232.676357 \nC 128.112867 234.615404 130.743149 235.704902 133.485376 235.704902 \nz\n\" style=\"fill:#6fa4ff;stroke:#6fa4ff;stroke-linejoin:miter;stroke-width:2;\"/>\n   </g>\n   <g id=\"patch_5\">\n    <path clip-path=\"url(#p4478a1c3f9)\" d=\"M 164.164801 194.685375 \nL 193.707951 194.685375 \nL 193.707951 165.142225 \nL 164.164801 165.142225 \nz\n\" style=\"fill:#bb8bff;stroke:#bb8bff;stroke-linejoin:miter;stroke-width:1.5;\"/>\n   </g>\n   <g id=\"patch_6\">\n    <path clip-path=\"url(#p4478a1c3f9)\" d=\"M 164.164801 240.136375 \nL 193.707951 240.136375 \nL 193.707951 210.593225 \nL 164.164801 210.593225 \nz\n\" style=\"fill:#bb8bff;stroke:#bb8bff;stroke-linejoin:miter;stroke-width:1.5;\"/>\n   </g>\n   <g id=\"patch_7\">\n    <path clip-path=\"url(#p4478a1c3f9)\" d=\"M 224.387376 184.345272 \nC 225.562616 184.345272 226.68988 183.878345 227.520901 183.047324 \nC 228.351921 182.216304 228.818849 181.08904 228.818849 179.9138 \nC 228.818849 178.73856 228.351921 177.611296 227.520901 176.780276 \nC 226.68988 175.949255 225.562616 175.482327 224.387376 175.482327 \nC 223.212136 175.482327 222.084872 175.949255 221.253852 176.780276 \nC 220.422832 177.611296 219.955904 178.73856 219.955904 179.9138 \nC 219.955904 181.08904 220.422832 182.216304 221.253852 183.047324 \nC 222.084872 183.878345 223.212136 184.345272 224.387376 184.345272 \nz\n\" style=\"fill:#6fa4ff;stroke:#6fa4ff;stroke-linejoin:miter;stroke-width:1.5;\"/>\n   </g>\n   <g id=\"patch_8\">\n    <path clip-path=\"url(#p4478a1c3f9)\" d=\"M 224.387376 144.802902 \nC 227.129603 144.802902 229.759885 143.713404 231.698933 141.774357 \nC 233.63798 139.835309 234.727479 137.205027 234.727479 134.4628 \nC 234.727479 131.720573 233.63798 129.090291 231.698933 127.151243 \nC 229.759885 125.212196 227.129603 124.122697 224.387376 124.122697 \nC 221.645149 124.122697 219.014867 125.212196 217.07582 127.151243 \nC 215.136772 129.090291 214.047274 131.720573 214.047274 134.4628 \nC 214.047274 137.205027 215.136772 139.835309 217.07582 141.774357 \nC 219.014867 143.713404 221.645149 144.802902 224.387376 144.802902 \nz\n\" style=\"fill:#6fa4ff;stroke:#6fa4ff;stroke-linejoin:miter;stroke-width:2;\"/>\n   </g>\n   <g id=\"patch_9\">\n    <path clip-path=\"url(#p4478a1c3f9)\" d=\"M 269.838376 229.796272 \nC 271.013616 229.796272 272.14088 229.329345 272.971901 228.498324 \nC 273.802921 227.667304 274.269849 226.54004 274.269849 225.3648 \nC 274.269849 224.18956 273.802921 223.062296 272.971901 222.231276 \nC 272.14088 221.400255 271.013616 220.933327 269.838376 220.933327 \nC 268.663136 220.933327 267.535872 221.400255 266.704852 222.231276 \nC 265.873832 223.062296 265.406904 224.18956 265.406904 225.3648 \nC 265.406904 226.54004 265.873832 227.667304 266.704852 228.498324 \nC 267.535872 229.329345 268.663136 229.796272 269.838376 229.796272 \nz\n\" style=\"fill:#6fa4ff;stroke:#6fa4ff;stroke-linejoin:miter;stroke-width:1.5;\"/>\n   </g>\n   <g id=\"patch_10\">\n    <path clip-path=\"url(#p4478a1c3f9)\" d=\"M 255.066801 149.234375 \nL 284.609951 149.234375 \nL 284.609951 119.691225 \nL 255.066801 119.691225 \nz\n\" style=\"fill:#6fa4ff;stroke:#6fa4ff;stroke-linejoin:miter;stroke-width:1.5;\"/>\n   </g>\n   <g id=\"line2d_9\">\n    <path clip-path=\"url(#p4478a1c3f9)\" d=\"M 133.485376 231.27343 \nL 133.485376 219.45617 \n\" style=\"fill:none;stroke:#ffffff;stroke-linecap:square;stroke-width:2;\"/>\n   </g>\n   <g id=\"line2d_10\">\n    <path clip-path=\"url(#p4478a1c3f9)\" d=\"M 127.576746 225.3648 \nL 139.394006 225.3648 \n\" style=\"fill:none;stroke:#ffffff;stroke-linecap:square;stroke-width:2;\"/>\n   </g>\n   <g id=\"line2d_11\">\n    <path clip-path=\"url(#p4478a1c3f9)\" d=\"M 224.387376 140.37143 \nL 224.387376 128.55417 \n\" style=\"fill:none;stroke:#ffffff;stroke-linecap:square;stroke-width:2;\"/>\n   </g>\n   <g id=\"line2d_12\">\n    <path clip-path=\"url(#p4478a1c3f9)\" d=\"M 218.478746 134.4628 \nL 230.296006 134.4628 \n\" style=\"fill:none;stroke:#ffffff;stroke-linecap:square;stroke-width:2;\"/>\n   </g>\n   <g id=\"text_1\">\n    <g clip-path=\"url(#p4478a1c3f9)\">\n     <!-- $\\mathrm{R}_\\mathrm{Y}$ -->\n     <g transform=\"translate(80.494376 179.069515)scale(0.13 -0.13)\">\n      <defs>\n       <path d=\"M 2841 2188 \nQ 3044 2119 3236 1894 \nQ 3428 1669 3622 1275 \nL 4263 0 \nL 3584 0 \nL 2988 1197 \nQ 2756 1666 2539 1819 \nQ 2322 1972 1947 1972 \nL 1259 1972 \nL 1259 0 \nL 628 0 \nL 628 4666 \nL 2053 4666 \nQ 2853 4666 3247 4331 \nQ 3641 3997 3641 3322 \nQ 3641 2881 3436 2590 \nQ 3231 2300 2841 2188 \nz\nM 1259 4147 \nL 1259 2491 \nL 2053 2491 \nQ 2509 2491 2742 2702 \nQ 2975 2913 2975 3322 \nQ 2975 3731 2742 3939 \nQ 2509 4147 2053 4147 \nL 1259 4147 \nz\n\" id=\"DejaVuSans-52\" transform=\"scale(0.015625)\"/>\n       <path d=\"M -13 4666 \nL 666 4666 \nL 1959 2747 \nL 3244 4666 \nL 3922 4666 \nL 2272 2222 \nL 2272 0 \nL 1638 0 \nL 1638 2222 \nL -13 4666 \nz\n\" id=\"DejaVuSans-59\" transform=\"scale(0.015625)\"/>\n      </defs>\n      <use transform=\"translate(0 0.09375)\" xlink:href=\"#DejaVuSans-52\"/>\n      <use transform=\"translate(70.439453 -16.3125)scale(0.7)\" xlink:href=\"#DejaVuSans-59\"/>\n     </g>\n    </g>\n   </g>\n   <g id=\"text_2\">\n    <g clip-path=\"url(#p4478a1c3f9)\">\n     <!-- 0 -->\n     <g transform=\"translate(85.489376 190.984245)scale(0.08 -0.08)\">\n      <defs>\n       <path d=\"M 2034 4250 \nQ 1547 4250 1301 3770 \nQ 1056 3291 1056 2328 \nQ 1056 1369 1301 889 \nQ 1547 409 2034 409 \nQ 2525 409 2770 889 \nQ 3016 1369 3016 2328 \nQ 3016 3291 2770 3770 \nQ 2525 4250 2034 4250 \nz\nM 2034 4750 \nQ 2819 4750 3233 4129 \nQ 3647 3509 3647 2328 \nQ 3647 1150 3233 529 \nQ 2819 -91 2034 -91 \nQ 1250 -91 836 529 \nQ 422 1150 422 2328 \nQ 422 3509 836 4129 \nQ 1250 4750 2034 4750 \nz\n\" id=\"DejaVuSans-30\" transform=\"scale(0.015625)\"/>\n      </defs>\n      <use xlink:href=\"#DejaVuSans-30\"/>\n     </g>\n    </g>\n   </g>\n   <g id=\"text_3\">\n    <g clip-path=\"url(#p4478a1c3f9)\">\n     <!-- $\\mathrm{R}_\\mathrm{Y}$ -->\n     <g transform=\"translate(171.396376 179.069515)scale(0.13 -0.13)\">\n      <use transform=\"translate(0 0.09375)\" xlink:href=\"#DejaVuSans-52\"/>\n      <use transform=\"translate(70.439453 -16.3125)scale(0.7)\" xlink:href=\"#DejaVuSans-59\"/>\n     </g>\n    </g>\n   </g>\n   <g id=\"text_4\">\n    <g clip-path=\"url(#p4478a1c3f9)\">\n     <!-- 0 -->\n     <g transform=\"translate(176.391376 190.984245)scale(0.08 -0.08)\">\n      <use xlink:href=\"#DejaVuSans-30\"/>\n     </g>\n    </g>\n   </g>\n   <g id=\"text_5\">\n    <g clip-path=\"url(#p4478a1c3f9)\">\n     <!-- $\\mathrm{R}_\\mathrm{Y}$ -->\n     <g transform=\"translate(171.396376 224.520515)scale(0.13 -0.13)\">\n      <use transform=\"translate(0 0.09375)\" xlink:href=\"#DejaVuSans-52\"/>\n      <use transform=\"translate(70.439453 -16.3125)scale(0.7)\" xlink:href=\"#DejaVuSans-59\"/>\n     </g>\n    </g>\n   </g>\n   <g id=\"text_6\">\n    <g clip-path=\"url(#p4478a1c3f9)\">\n     <!-- 0 -->\n     <g transform=\"translate(176.391376 236.435245)scale(0.08 -0.08)\">\n      <use xlink:href=\"#DejaVuSans-30\"/>\n     </g>\n    </g>\n   </g>\n   <g id=\"text_7\">\n    <g clip-path=\"url(#p4478a1c3f9)\">\n     <!-- Y -->\n     <g transform=\"translate(265.868298 138.049987)scale(0.13 -0.13)\">\n      <use xlink:href=\"#DejaVuSans-59\"/>\n     </g>\n    </g>\n   </g>\n   <g id=\"text_8\">\n    <g clip-path=\"url(#p4478a1c3f9)\">\n     <!-- ${q}_{0}$ -->\n     <g transform=\"translate(36.363136 48.011777)scale(0.1625 -0.1625)\">\n      <defs>\n       <path d=\"M 2669 525 \nQ 2438 222 2123 65 \nQ 1809 -91 1428 -91 \nQ 897 -91 595 267 \nQ 294 625 294 1253 \nQ 294 1759 480 2231 \nQ 666 2703 1013 3078 \nQ 1238 3322 1530 3453 \nQ 1822 3584 2144 3584 \nQ 2531 3584 2781 3431 \nQ 3031 3278 3144 2969 \nL 3244 3494 \nL 3822 3494 \nL 2888 -1319 \nL 2309 -1319 \nL 2669 525 \nz\nM 891 1338 \nQ 891 875 1084 633 \nQ 1278 391 1644 391 \nQ 2188 391 2572 911 \nQ 2956 1431 2956 2175 \nQ 2956 2625 2757 2864 \nQ 2559 3103 2188 3103 \nQ 1916 3103 1684 2976 \nQ 1453 2850 1281 2606 \nQ 1100 2350 995 2006 \nQ 891 1663 891 1338 \nz\n\" id=\"DejaVuSans-Oblique-71\" transform=\"scale(0.015625)\"/>\n      </defs>\n      <use xlink:href=\"#DejaVuSans-Oblique-71\"/>\n      <use transform=\"translate(63.476562 -16.40625)scale(0.7)\" xlink:href=\"#DejaVuSans-30\"/>\n     </g>\n    </g>\n   </g>\n   <g id=\"text_9\">\n    <g clip-path=\"url(#p4478a1c3f9)\">\n     <!-- ${q}_{1}$ -->\n     <g transform=\"translate(36.363136 93.462777)scale(0.1625 -0.1625)\">\n      <defs>\n       <path d=\"M 794 531 \nL 1825 531 \nL 1825 4091 \nL 703 3866 \nL 703 4441 \nL 1819 4666 \nL 2450 4666 \nL 2450 531 \nL 3481 531 \nL 3481 0 \nL 794 0 \nL 794 531 \nz\n\" id=\"DejaVuSans-31\" transform=\"scale(0.015625)\"/>\n      </defs>\n      <use xlink:href=\"#DejaVuSans-Oblique-71\"/>\n      <use transform=\"translate(63.476562 -16.40625)scale(0.7)\" xlink:href=\"#DejaVuSans-31\"/>\n     </g>\n    </g>\n   </g>\n   <g id=\"text_10\">\n    <g clip-path=\"url(#p4478a1c3f9)\">\n     <!-- ${q}_{2}$ -->\n     <g transform=\"translate(36.363136 138.913777)scale(0.1625 -0.1625)\">\n      <defs>\n       <path d=\"M 1228 531 \nL 3431 531 \nL 3431 0 \nL 469 0 \nL 469 531 \nQ 828 903 1448 1529 \nQ 2069 2156 2228 2338 \nQ 2531 2678 2651 2914 \nQ 2772 3150 2772 3378 \nQ 2772 3750 2511 3984 \nQ 2250 4219 1831 4219 \nQ 1534 4219 1204 4116 \nQ 875 4013 500 3803 \nL 500 4441 \nQ 881 4594 1212 4672 \nQ 1544 4750 1819 4750 \nQ 2544 4750 2975 4387 \nQ 3406 4025 3406 3419 \nQ 3406 3131 3298 2873 \nQ 3191 2616 2906 2266 \nQ 2828 2175 2409 1742 \nQ 1991 1309 1228 531 \nz\n\" id=\"DejaVuSans-32\" transform=\"scale(0.015625)\"/>\n      </defs>\n      <use xlink:href=\"#DejaVuSans-Oblique-71\"/>\n      <use transform=\"translate(63.476562 -16.40625)scale(0.7)\" xlink:href=\"#DejaVuSans-32\"/>\n     </g>\n    </g>\n   </g>\n   <g id=\"text_11\">\n    <g clip-path=\"url(#p4478a1c3f9)\">\n     <!-- ${q}_{3}$ -->\n     <g transform=\"translate(36.363136 184.364777)scale(0.1625 -0.1625)\">\n      <defs>\n       <path d=\"M 2597 2516 \nQ 3050 2419 3304 2112 \nQ 3559 1806 3559 1356 \nQ 3559 666 3084 287 \nQ 2609 -91 1734 -91 \nQ 1441 -91 1130 -33 \nQ 819 25 488 141 \nL 488 750 \nQ 750 597 1062 519 \nQ 1375 441 1716 441 \nQ 2309 441 2620 675 \nQ 2931 909 2931 1356 \nQ 2931 1769 2642 2001 \nQ 2353 2234 1838 2234 \nL 1294 2234 \nL 1294 2753 \nL 1863 2753 \nQ 2328 2753 2575 2939 \nQ 2822 3125 2822 3475 \nQ 2822 3834 2567 4026 \nQ 2313 4219 1838 4219 \nQ 1578 4219 1281 4162 \nQ 984 4106 628 3988 \nL 628 4550 \nQ 988 4650 1302 4700 \nQ 1616 4750 1894 4750 \nQ 2613 4750 3031 4423 \nQ 3450 4097 3450 3541 \nQ 3450 3153 3228 2886 \nQ 3006 2619 2597 2516 \nz\n\" id=\"DejaVuSans-33\" transform=\"scale(0.015625)\"/>\n      </defs>\n      <use xlink:href=\"#DejaVuSans-Oblique-71\"/>\n      <use transform=\"translate(63.476562 -16.40625)scale(0.7)\" xlink:href=\"#DejaVuSans-33\"/>\n     </g>\n    </g>\n   </g>\n   <g id=\"text_12\">\n    <g clip-path=\"url(#p4478a1c3f9)\">\n     <!-- ${q}_{4}$ -->\n     <g transform=\"translate(36.363136 229.815777)scale(0.1625 -0.1625)\">\n      <defs>\n       <path d=\"M 2419 4116 \nL 825 1625 \nL 2419 1625 \nL 2419 4116 \nz\nM 2253 4666 \nL 3047 4666 \nL 3047 1625 \nL 3713 1625 \nL 3713 1100 \nL 3047 1100 \nL 3047 0 \nL 2419 0 \nL 2419 1100 \nL 313 1100 \nL 313 1709 \nL 2253 4666 \nz\n\" id=\"DejaVuSans-34\" transform=\"scale(0.015625)\"/>\n      </defs>\n      <use xlink:href=\"#DejaVuSans-Oblique-71\"/>\n      <use transform=\"translate(63.476562 -16.40625)scale(0.7)\" xlink:href=\"#DejaVuSans-34\"/>\n     </g>\n    </g>\n   </g>\n  </g>\n </g>\n <defs>\n  <clipPath id=\"p4478a1c3f9\">\n   <rect height=\"245.4354\" width=\"292.636036\" x=\"7.2\" y=\"7.2\"/>\n  </clipPath>\n </defs>\n</svg>\n",
      "image/png": "[encoded data removed]"
     },
     "metadata": {},
     "execution_count": 1
    }
   ],
   "source": [
    "#############################\n",
    "#  Pauli channel on IBMQX2  #\n",
    "#############################\n",
    "\n",
    "from qiskit import QuantumRegister, QuantumCircuit\n",
    "\n",
    "# Quantum register\n",
    "q = QuantumRegister(5, name=\"q\")\n",
    "\n",
    "# Quantum circuit\n",
    "pauli = QuantumCircuit(q)\n",
    "\n",
    "# Pauli channel acting on q_2\n",
    "## Qubit identification\n",
    "system = 2\n",
    "a_0 = 3\n",
    "a_1 = 4\n",
    "\n",
    "## Define rotation angles\n",
    "theta_1 = 0.0\n",
    "theta_2 = 0.0\n",
    "theta_3 = 0.0\n",
    "\n",
    "## Construct circuit\n",
    "pauli.ry(theta_1, q[a_0])\n",
    "pauli.cx(q[a_0], q[a_1])\n",
    "pauli.ry(theta_2, q[a_0])\n",
    "pauli.ry(theta_3, q[a_1])\n",
    "pauli.cx(q[a_0], q[system])\n",
    "pauli.cy(q[a_1], q[system])\n",
    "\n",
    "# Draw circuit\n",
    "pauli.draw(output='mpl')"
   ]
  },
  {
   "cell_type": "markdown",
   "metadata": {},
   "source": [
    "The circuit is parametrised by the three angles $\\theta_1,\\theta_2,\\theta_3$. The state of the two ancillae is as follows:\n",
    "\\begin{equation*}\n",
    "        \\begin{split}\n",
    "        | \\psi \\rangle =& (c_1 c_2 c_3 + s_1 s_2 s_3) | 00 \\rangle + \\\\\n",
    "                    & (c_1 c_2 s_3 - s_1 s_2 c_3) | 01 \\rangle + \\\\\n",
    "                    & (c_1 s_2 c_3 - s_1 c_2 s_3) | 10 \\rangle + \\\\\n",
    "                    & (s_1 c_2 c_3  + c_1 s_2 s_3) | 11 \\rangle\n",
    "        \\end{split}\n",
    "\\end{equation*}\n",
    "    \n",
    "where $c_i \\equiv \\cos \\theta_i$ and $s_i \\equiv \\sin \\theta_i$."
   ]
  },
  {
   "cell_type": "markdown",
   "metadata": {},
   "source": [
    "The angles $\\theta_i$ can be found by solving the following system of equations: \n",
    "\n",
    "\\begin{equation}\\label{eq:pauli_equations}\n",
    "    \\begin{cases}\n",
    "        p_0  = |\\langle 00|\\psi \\rangle|^2 = (c_1 c_2 c_3 + s_1 s_2 s_3)^2 & \\\\\n",
    "        p_1  = |\\langle 01|\\psi \\rangle|^2 = (c_1 c_2 s_3 - s_1 s_2 c_3)^2 & \\\\\n",
    "        p_2  = |\\langle 10|\\psi \\rangle|^2 = (c_1 s_2 c_3 - s_1 c_2 s_3)^2 & \\\\\n",
    "        p_3  = |\\langle 11|\\psi \\rangle|^2 = (s_1 c_2 c_3 + c_1 s_2 s_3)^2 & \n",
    "    \\end{cases}\n",
    "\\end{equation}"
   ]
  },
  {
   "cell_type": "markdown",
   "metadata": {},
   "source": [
    "The above system of equations allows for multiple analytical solutions whose expressions are too cumbersome to be reported here. The choice of the solution to use in each case depends on a number of factors, such as the gate fidelity for the specific values of the parameters."
   ]
  },
  {
   "cell_type": "markdown",
   "metadata": {},
   "source": [
    "## IBM Q Example: Depolarizing channel<a id='IBMDep'></a>"
   ]
  },
  {
   "cell_type": "markdown",
   "metadata": {},
   "source": [
    "The depolarizing channel is one of the most common models of qubit decoherence due to its nice symmetry properties. We can describe it by stating that, with probability $p$ the qubit remains intact, while with probability $1-p$ an error occurs. The error can be a bit flip error, described by the action of $\\sigma_x$, a phase flip error, described by the action of $\\sigma_z$, or both, described by the action of $\\sigma_y$. The dynamical map of a Markovian open quantum system subjected to depolarizing noise can be written as\n",
    "\n",
    "\\begin{eqnarray}\\label{depolarising_channel}\n",
    "\\Phi_t \\rho_S = \\left[1-\\frac 3 4 p(t)\\right] \\rho_S + \\frac{p(t)}{4} \\sum_i \\sigma_i \\rho_S \\sigma_i,\n",
    "\\end{eqnarray}\n",
    "\n",
    "where $i=x,y,z$ and $p(t)=1 - e^{-\\gamma t}$, with $\\gamma$ the Markovian decay rate. "
   ]
  },
  {
   "cell_type": "markdown",
   "metadata": {},
   "source": [
    "Please note that in Pauli channel example for $\\gamma_i(t) = \\gamma$, we recover the Markovian depolarizing channel."
   ]
  },
  {
   "cell_type": "code",
   "execution_count": 3,
   "metadata": {},
   "outputs": [
    {
     "data": {
      "image/png": "[encoded data removed]",
      "text/plain": [
       "<Figure size 397.32x325.08 with 1 Axes>"
      ]
     },
     "execution_count": 3,
     "metadata": {},
     "output_type": "execute_result"
    }
   ],
   "source": [
    "####################################\n",
    "#  Depolarizing channel on IBMQX2  #\n",
    "####################################\n",
    "\n",
    "# Quantum register\n",
    "q = QuantumRegister(5, name=\"q\")\n",
    "\n",
    "# Quantum circuit\n",
    "depolarizing = QuantumCircuit(q)\n",
    "\n",
    "# Depolarizing channel acting on q_2\n",
    "## Qubit identification\n",
    "system = 2\n",
    "a_0 = 1\n",
    "a_1 = 3\n",
    "a_2 = 4\n",
    "\n",
    "\n",
    "## Define rotation angles\n",
    "theta = 0.0\n",
    "\n",
    "## Construct circuit\n",
    "depolarizing.ry(theta, q[a_0])\n",
    "depolarizing.ry(theta, q[a_1])\n",
    "depolarizing.ry(theta, q[a_2])\n",
    "depolarizing.cx(q[a_0], q[system])\n",
    "depolarizing.cy(q[a_1], q[system])\n",
    "depolarizing.cz(q[a_2], q[system])\n",
    "\n",
    "# Draw circuit\n",
    "depolarizing.draw(output='mpl')"
   ]
  },
  {
   "cell_type": "markdown",
   "metadata": {},
   "source": [
    "The depolarizing channel can be implemented, for any value of $p\\equiv p(t) \\in [0, 1]$, with the circuit shown in the figure above. \n",
    "Three ancillary qubits are prepared in a state $| \\psi_\\theta \\rangle = \\cos \\theta/2 | 0 \\rangle + \\sin \\theta/2 | 1 \\rangle$,\n",
    "and are used as controls for, respectively, a controlled-$X$ (CNOT), a controlled-$Y$ and a controlled-$Z$ rotation.\n",
    "This way, each gate will be applied with a probability $\\sin^2 \\theta/2$."
   ]
  },
  {
   "cell_type": "markdown",
   "metadata": {},
   "source": [
    "The rotation angle $\\theta$ must be chosen so that each of the gates is \n",
    "applied with probability $p$. Notice that applying $X$ and then $Y$, \n",
    "but not applying $Z$ is equivalent (up to global phases) to just applying $Z$, and so on. The resulting equation that binds $\\theta$ to $p$ is thus\n",
    "\n",
    "\\begin{equation}\n",
    "    \\sin^2 \\frac \\theta 2 \\cos^4\\frac\\theta2 + \\sin^4 \\frac\\theta 2 \\cos^2 \\frac \\theta 2 = \\frac p 4,\n",
    "\\end{equation}\n",
    "with solution $\\theta(p) = \\frac 12 \\arccos(1 - 2 p)$."
   ]
  },
  {
   "cell_type": "markdown",
   "metadata": {},
   "source": [
    "Notice that the circuit for the Pauli channel can be used also for the depolarizing channel, instead of the three-qubit circuit of the figure above, but it proves to be less accurate on the IBM Q Experience devices, presumably because of the required entanglement between the two qubits."
   ]
  },
  {
   "cell_type": "markdown",
   "metadata": {},
   "source": [
    "One could also think to implement the Pauli channel by generalising the depolarizing channel circuit, specifically, by allowing for the three ancillae to be prepared in different states. One can see, however, that this cannot be done in the most general case."
   ]
  },
  {
   "cell_type": "markdown",
   "metadata": {},
   "source": [
    "<img src=\"images/fig_dep.png\">\n",
    "<a id='fig_1'></a>\n",
    "\n",
    "**Figure 1.** Density matrix elements of a qubit affected by a depolarizing channel for different values of the parameter $p$. Points correspond to the experimental tomographic reconstruction, while dashed lines show the theoretical prediction.\n"
   ]
  },
  {
   "cell_type": "markdown",
   "metadata": {},
   "source": [
    "In [Figure 1](#fig_1), we plot the qubit density matrix elements for various values of $p$, comparing the experimental data with the theoretical prediction. For exemplary purposes, we choose a specific initial state possessing non-zero coherences."
   ]
  },
  {
   "cell_type": "markdown",
   "metadata": {},
   "source": [
    "## 5.2. Markovian evolution - divisible dynamical maps <a id='div'></a>"
   ]
  },
  {
   "cell_type": "markdown",
   "metadata": {},
   "source": [
    "We call a dynamical map $\\Lambda_t$ **_divisible_** if for any $t \\geq s \\geq 0$ one has the following decomposition\n",
    "\n",
    "\\begin{equation}\n",
    "    \\Lambda_t = V_{t,s}\\, \\Lambda_s \\ ,\n",
    "\\tag{5.16}\n",
    "\\end{equation}\n",
    "\n",
    "with a completely positive propagator $V_{t,s}$. Note, that if $\\Lambda_t$ is invertible then\n",
    "\n",
    "\\begin{equation}\n",
    "    V_{t,s} = \\Lambda_t \\, \\Lambda_s^{-1} \\ ,\n",
    "\\tag{5.17}\n",
    "\\end{equation}\n",
    "\n",
    "and hence  $V_{t,s}$ satisfies an inhomogeneous composition law\n",
    "\n",
    "\\begin{equation}\n",
    "    V_{t,s} V_{s,u} = V_{t,u}\\ ,\n",
    "\\tag{5.18}\n",
    "\\end{equation}\n",
    "\n",
    "for any $t\\geq s \\geq u$."
   ]
  },
  {
   "cell_type": "markdown",
   "metadata": {},
   "source": [
    "The above formula provides a generalization of the semi-group composition law ([4.2](markovian_semigroups.html#mjx-eqn-c-low)). Here we assume the following extended definition of Markovian evolution: a\n",
    "dynamical map $\\Lambda_t$ corresponds to Markovian evolution if and only if it is divisible.\n",
    "\n",
    "Interestingly, the property of being Markovian (or divisible) is fully characterized in terms of the local generator $L_t$. Note, that if $\\Lambda_t$ satisfies ([2.28](preliminaries.html#mjx-eqn-ME)) then $V_{t,s}$ satisfies\n",
    "\\begin{equation}\\label{Local-V}\n",
    "    \\frac{d}{dt}\\, V_{t,s} = L_t V_{t,s}\\ ,     \\ \\ \\ V_{s,s}=\\mathbb{1}\\ ,\n",
    "\\tag{5.19}\n",
    "\\end{equation}\n",
    "\n",
    "and the corresponding solution reads\n",
    "\\begin{equation}\n",
    " V_{t,s} = {\\rm T} \\, \\exp\\left( \\int_s^t L_u du \\right)\\ .\n",
    "\\tag{5.20}\n",
    "\\end{equation}\n",
    "\n",
    "It is clear that $\\Lambda_t = V_{t,0}$ which shows that divisibility puts very strong requirements upon the dynamical map $\\Lambda_t$."
   ]
  },
  {
   "cell_type": "markdown",
   "metadata": {},
   "source": [
    "One proves  the following\n",
    "\n",
    "**Theorem 5**\n",
    "\n",
    "> The map $\\Lambda_t$ is divisible if and only if $L_t$ is a GKSL generator  for all $t$, that is,\n",
    "> \n",
    "> \\begin{equation}\n",
    "    L_t(\\rho) = -i[H(t),\\rho] + \\frac 12 \\sum_k \\left( [V_k(t),\\rho V^\\dagger_k(t)] + [V_k(t)\\rho,V^\\dagger_k(t)] \\right) \\ ,\n",
    "\\tag{5.21}\n",
    "\\end{equation}\n",
    "> \n",
    "> with time-dependent Hamiltonian $H(t)$ and noise operators $V_k(t)$."
   ]
  },
  {
   "cell_type": "markdown",
   "metadata": {},
   "source": [
    "**Remark 3**\n",
    "\n",
    "> If\n",
    ">\\begin{equation}\n",
    "    L_t = \\omega(t) L_0 + a_1(t) L_1 + \\ldots + a_N(t) L_N\\ ,\n",
    "\\tag{5.22}\n",
    "\\end{equation}\n",
    ">\n",
    "> where  $L_0(\\rho) =  -i[H,\\rho]$, and for $\\alpha>0$ the generators $L_\\alpha$ are purely dissipative and linearly independent, then $L_t$ generates Markovian  evolution if and only if $a_1(t),\\ldots,a_N(t) \\geq 0$."
   ]
  },
  {
   "cell_type": "markdown",
   "metadata": {},
   "source": [
    "### Example 9 <a id='ex9'></a>"
   ]
  },
  {
   "cell_type": "markdown",
   "metadata": {},
   "source": [
    "> Consider a qubit generator\n",
    "> \\begin{equation}\n",
    "    L_t(\\rho) = \\frac 12 {\\gamma(t)} L_3(\\rho) = \\frac 12 {\\gamma(t)} (\\sigma_z \\rho \\sigma_z - \\rho)\\ ,\n",
    "\\tag{5.23}\n",
    "\\end{equation}\n",
    "> \n",
    "> and introduce $   \\Gamma(t) = \\int_0^t \\gamma(\\tau)d\\tau$, then it is clear that\n",
    "> \n",
    "> \\begin{equation}\n",
    "    \\Lambda_t(\\rho) = \\frac 12 \\Big[ 1+ e^{-\\Gamma(t)} \\Big]\\, \\rho + \\frac 12 \\Big[ 1- e^{-\\Gamma(t)} \\Big]\\, \\sigma_z \\rho \\sigma_z\\ ,\n",
    "\\tag{5.24}\n",
    "\\end{equation}\n",
    "> \n",
    "> and hence\n",
    "> 1. $L_t$ is a legitimate generator iff $\\,\\Gamma(t)\\geq 0$,\n",
    "> 2. $L_t$ generates Markovian evolution iff $\\gamma(t) \\geq 0$,\n",
    "> 3. $L_t$ generates a Markovian semigroup iff $\\gamma(t) = {\\rm const.} >0$."
   ]
  },
  {
   "cell_type": "markdown",
   "metadata": {},
   "source": [
    "### Example 10 <a id='ex10'></a>"
   ]
  },
  {
   "cell_type": "markdown",
   "metadata": {},
   "source": [
    "> Let us consider a qubit generator defined by $H = \\frac \\omega 2 \\sigma_z$ and the following CP map\n",
    "> \n",
    "> \\begin{equation}\n",
    "    \\Phi(\\rho) = \\gamma_1 \\sigma_+ \\rho\\, \\sigma_- + \\gamma_2 \\sigma_-  \\rho\\,\\sigma_+ + \\gamma \\sigma_z  \\rho\\, \\sigma_z\\ ,\n",
    "\\tag{5.25}\n",
    "\\end{equation}\n",
    "> \n",
    "> where $\\sigma_+ = |2 \\rangle \\langle 1|$ and $\\sigma_-=|1 \\rangle \\langle 2|=\\sigma_+^\\dagger$ are standard qubit raising and lowering operators. The corresponding generator reads $L(\\rho) = - i[H,\\rho] + L_D(\\rho)$ with the dissipative part\n",
    "> \n",
    "> \\begin{equation}\n",
    "L_D = \\frac{\\gamma_1}{2}  L_1 + \\frac{\\gamma_2}{2}  L_2 + \\frac{\\gamma}{2} L_z\\ ,\n",
    "\\tag{5.26}\n",
    "\\end{equation}\n",
    "> \n",
    "> where <a id='LLL'></a>\n",
    "\\begin{eqnarray} \\label{LLL}\n",
    "    L_1(\\rho) &=& [\\sigma_+, \\rho\\sigma_-] + [\\sigma_+ \\rho, \\sigma_-]  \\ ,\\nonumber \\\\\n",
    "    L_2(\\rho) &=& [\\sigma_-, \\rho\\sigma_+] + [\\sigma_- \\rho,\\sigma_+] \\ , \\\\\n",
    "    L_3(\\rho) &=& \\sigma_z \\rho\\sigma_z - \\rho \\ . \\nonumber\n",
    "\\tag{5.27}\n",
    "\\end{eqnarray}\n",
    "> \n",
    "> $L_1$ corresponds to pumping (heating) process, $L_2$ corresponds to relaxation (cooling), and $L_3$ is responsible for  pure decoherence.\n",
    "> To solve the master equation $\\dot{\\rho}_t = L\\rho_t$ let us parameterize $\\rho_t$ as follows\n",
    "> \n",
    "> \\begin{equation}\n",
    "    \\rho_t = p_1(t) P_1 + p_2(t) P_2 + \\alpha(t) \\sigma_+ + \\overline{\\alpha(t)} \\sigma_-\\ ,\n",
    "\\tag{5.28}\n",
    "\\end{equation}\n",
    "> \n",
    "> with $P_k=|k \\rangle \\langle k|$. Using the following relations\n",
    "> \n",
    "> \\begin{eqnarray*}\n",
    "  L(P_1) &=& {\\gamma_1} (P_2 - P_1) = - \\gamma_1\\, \\sigma_3\\ , \\\\\n",
    "  L(P_2) &=& {\\gamma_2} (P_1 - P_2) = \\gamma_2\\, \\sigma_3 \\ , \\\\\n",
    "  L(\\sigma_+) &=& (i \\omega - \\eta)\\, \\sigma_+\\ ,\\\\\n",
    "  L(\\sigma_-) &=& (-i\\omega - \\eta)\\, \\sigma_-\\ ,\n",
    "\\end{eqnarray*}\n",
    "> \n",
    "> where one finds the following Pauli master equations  for the probability distribution $(p_1(t),p_2(t))$\n",
    "> \n",
    "> \\begin{eqnarray}\n",
    "  \\dot{p}_1(t)  &=  &- \\gamma_1\\, p_1(t) + \\gamma_2\\, p_2(t) \\ ,\n",
    "\\tag{5.29}\n",
    "\\end{eqnarray}\n",
    "> \\begin{eqnarray}\n",
    "  \\dot{p}_2(t)  &=  & \\ \\ \\, \\gamma_1\\, p_1(t) - \\gamma_2\\, p_2(t) \\ ,\n",
    "  \\tag{5.30}\n",
    "\\end{eqnarray}\n",
    "> \n",
    "> together with $\\alpha(t) = e^{(i \\omega - \\eta)t}\\alpha(0)$. The corresponding solution reads\n",
    "> \n",
    "> \\begin{eqnarray}\n",
    "  p_1(t) &=& p_1(0)\\, e^{-( \\gamma_1 + \\gamma_2)t} + p_1^* \\Big[ 1 - e^{-( \\gamma_1 + \\gamma_1)t}  \\Big] \\ ,\n",
    "\\tag{5.31}\n",
    "\\end{eqnarray}\n",
    "> \\begin{eqnarray}\n",
    "  p_2(t) &=& p_2(0)\\, e^{-( \\gamma_1 + \\gamma_2)t} + p_2^* \\Big[ 1 - e^{-( \\gamma_2 + \\gamma_2)t}  \\Big] \\ ,\n",
    "\\tag{5.32}\n",
    "\\end{eqnarray}\n",
    "> \n",
    "> where we introduced\n",
    "> \n",
    "> \\begin{equation}\\label{p*}\n",
    "    p_1^* = \\frac{\\gamma_1}{\\gamma_1 + \\gamma_2}\\ , \\ \\ \\ \\   p_2^* = \\frac{\\gamma_2}{\\gamma_1 + \\gamma_2}\\ .\n",
    "\\tag{5.33}\n",
    "\\end{equation}\n",
    "> \n",
    "> Hence, we have purely classical evolution of the probability vector $(p_1(t),p_2(t))$ on the diagonal of $\\rho_t$ and very simple evolution of the off-diagonal element $\\alpha(t)$. Note that asymptotically one obtains a completely decohered density operator\n",
    "> \n",
    "> $$  \\rho_t \\ \\ \\longrightarrow \\ \\ \\left( \\begin{array}{cc} p_1^* & 0 \\\\ 0 & p_2^* \\end{array} \\right) \\ . $$\n",
    "> \n",
    "> In particular if $\\gamma_1=\\gamma_2$ a state $\\rho_t$ relaxes to the maximally mixed state (a state becomes completely depolarized)."
   ]
  },
  {
   "cell_type": "markdown",
   "metadata": {},
   "source": [
    "## IBM Q example: Markovian reservoir engineering <a id='IBMMark'></a>"
   ]
  },
  {
   "cell_type": "markdown",
   "metadata": {},
   "source": [
    "### Theory <a id='theory'></a>"
   ]
  },
  {
   "cell_type": "markdown",
   "metadata": {},
   "source": [
    "For decades, noise induced by the environment has been considered the archetype enemy of quantum technologies. This is because very often the interaction between a quantum system and its surroundings leads to the fast disappearance of quantum properties, notoriously coherences and entanglement, playing a key role in providing quantum advantage.\n",
    "This point of view drastically changed as soon as physicists demonstrated that appropriate manipulation of an artificial environment (quantum reservoir engineering) would allow one to steer the open system towards, e.g., a maximally entangled state [[3](#3),[4](#4)], hence turning upside down the perspective of the environment as an enemy. \n",
    "\n",
    "Following the lines of Ref. [[3](#3)], we experimentally simulate a semigroup Markovian master equation for a two-qubit open system having as asymptotic stationary state the Bell state $|\\psi^- \\rangle = \\frac{1}{\\sqrt{2} }(|01\\rangle - |10\\rangle)$, where we indicate with $|0\\rangle$ and $|1\\rangle$ the computational basis of each qubit and we use the notation $| 01\\rangle = |0\\rangle_1 |1\\rangle _2$. This allows us to prepare a maximally entangled state as a result of the dissipative open system dynamics."
   ]
  },
  {
   "cell_type": "markdown",
   "metadata": {},
   "source": [
    "The four Bell states are:\n",
    "\n",
    "\\begin{align}\n",
    "|\\psi^- \\rangle = \\frac{1}{\\sqrt{2} }(|01\\rangle - |10\\rangle) \\\\\n",
    "|\\psi^+ \\rangle = \\frac{1}{\\sqrt{2} }(|01\\rangle + |10\\rangle) \\\\\n",
    "|\\phi^- \\rangle = \\frac{1}{\\sqrt{2} }(|00\\rangle - |11\\rangle)  \\\\\n",
    "|\\phi^+ \\rangle = \\frac{1}{\\sqrt{2} }(|00\\rangle + |11\\rangle) \n",
    "\\end{align}\n",
    "\n",
    "Each of them is uniquely determined as an eigenstate with eigenvalues $\\pm1$ with respect to $\\sigma_z^{(1)} \\otimes \\sigma_z^{(2)}$ and  $\\sigma_x^{(1)}\\otimes\\sigma_x^{(2)}$, where $\\sigma_x^{(i)}$ and $\\sigma_z^{(i)}$, with $i=1,2$, are the $x$ and $z$ Pauli operators of qubit 1 and 2."
   ]
  },
  {
   "cell_type": "markdown",
   "metadata": {},
   "source": [
    "The dissipative dynamics that pumps two qubits from an arbitrary initial state into the Bell state $|\\psi^- \\rangle $ is realised by the composition of two channels that pump from\n",
    "the $+1$ into the $-1$ eigenspaces of the stabiliser operators $\\sigma_z^{(1)} \\otimes \\sigma_z^{(2)}$ and  $\\sigma_x^{(1)} \\otimes \\sigma_x^{(2)}$. "
   ]
  },
  {
   "cell_type": "markdown",
   "metadata": {},
   "source": [
    "Specifically, we consider the two $p$-parametrised families of CPTP maps $\\Phi_{zz} \\rho_S = E_{1z}  \\rho_S  E_{1z}^{\\dagger} + E_{2z}  \\rho_S  E_{2z}^{\\dagger} $, with \n",
    "\n",
    "\\begin{equation}\\label{KrausZZ}\n",
    "\\begin{aligned}\n",
    "E_{1z} &=\\sqrt{p} \\mathbb{I}^{(1)} \\otimes \\sigma_x^{(2)} \\frac{1}{2}\\left( \\mathbb{I}+ \\sigma_z^{(1)} \\otimes \\sigma_z^{(2)} \\right), \\\\\n",
    "E_{2z}  &= \\frac{1}{2} \\left( \\mathbb{I}-\\sigma_z^{(1)}\\otimes\\sigma_z^{(2)} \\right) \\\\\n",
    "&+ \\sqrt{1-p} \\frac{1}{2} \\left( \\mathbb{I}+ \\sigma_z^{(1)}\\otimes\\sigma_z^{(2)} \\right),\n",
    "\\end{aligned}\n",
    "\\end{equation}\n",
    "\n",
    "and $\\Phi_{xx}\\rho_S = E_{1x}  \\rho_S  E_{1x}^{\\dagger} + E_{2x}  \\rho_S  E_{2x}^{\\dagger} $, where $E_{1x}$ and $E_{2x}$ have the same form of  $E_{1z}$ and $E_{2z}$ in equations, provided that we replace $\\sigma_x^{(2)}$ with $\\sigma_z^{(2)}$ and $\\sigma_z^{(1)}\\otimes\\sigma_z^{(2)}$ with $\\sigma_x^{(1)}\\otimes\\sigma_x^{(2)}$."
   ]
  },
  {
   "cell_type": "markdown",
   "metadata": {},
   "source": [
    "By changing the parameter $0 \\le p \\le 1$ we simulate different types of open quantum system dynamics. For $p\\ll1$, the repeated application of, e.g., $\\Phi_{zz}$ generates a master equation of Lindblad form with jump operator $V=\\frac{1}{2}  \\mathbb{I}^{(1)}\\otimes\\sigma_x^{(2)}\\left( \\mathbb{I}+ \\sigma_z^{(1)} \\otimes \\sigma_z^{(2)} \\right)$. For $p=1$, the map $\\Phi_{xx} \\circ \\Phi_{zz}$ generates $|\\psi_- \\rangle $ for any initial state. "
   ]
  },
  {
   "cell_type": "markdown",
   "metadata": {},
   "source": [
    "### Circuit implementation <a id='circuit'></a>"
   ]
  },
  {
   "cell_type": "markdown",
   "metadata": {},
   "source": [
    "In Ref. [[3](#3)], the authors provide the circuits for the implementation of the Bell-state pumping. However, these are composed of gates that are natural to the trapped-ions platform used in that work, so their direct implementation on the IBM Q Experience devices would result in far too long circuits. Therefore, we propose a different set of circuits that follow the same basic working principles, but have been designed specifically keeping in mind the characteristics of the IBM Q Experience platform."
   ]
  },
  {
   "cell_type": "markdown",
   "metadata": {},
   "source": [
    "The pumping circuits proposed in Ref. [[3](#3)] are composed of four parts:\n",
    "\n",
    "   1. The relevant information regarding the state of the system (that is, whether the system is in the $+1$ or the $-1$ eigenspaces of the stabiliser operators) is mapped into an ancilla.\n",
    "\n",
    "   2. The state of the system is modified depending on the state of the ancilla.\n",
    "\n",
    "   3. The mapping circuit is reversed. \n",
    "\n",
    "   4. At this stage, the system has been pumped, but if the ancilla is to be used again for a new pumping cycle, it needs to be reset, which is the fourth step. \n",
    "\n",
    "We follow these same lines, designing circuits that perform these same steps while minimising the number of gates involved. Before we explain the resulting circuits, let us mention that, since the IBM Q Experience devices are not equipped with the reset operation, we must use a different ancilla for every pump."
   ]
  },
  {
   "cell_type": "markdown",
   "metadata": {},
   "source": [
    "The way we map the eigenspace information into an ancilla is by first applying a CNOT gate between the system qubits. Suppose that qubits $s_1$ and $s_2$ are initially in some Bell state, for instance, $| \\phi^{\\pm} \\rangle = (| 00 \\rangle \\pm | 11 \\rangle)/\\sqrt{2}$. A CNOT gate controlled by $s_1$ transforms the state into $|\\pm\\rangle|0\\rangle$. Instead, $| \\psi^{\\pm} \\rangle$ would be transformed into $|\\pm\\rangle|1\\rangle$. Hence, we see that the information regarding the $\\sigma_x^{(1)}\\otimes\\sigma_x^{(2)}$ eigenspace (namely, the sign) is contained in the state of $s_1$ after the transformation, whereas the one corresponding to the $\\sigma_z^{(1)}\\otimes\\sigma_z^{(2)}$ is in qubit $s_2$. "
   ]
  },
  {
   "cell_type": "markdown",
   "metadata": {},
   "source": [
    "Now, let us consider the circuit implementing the $\\sigma_z^{(1)}\\otimes\\sigma_z^{(2)}$ pump:"
   ]
  },
  {
   "cell_type": "code",
   "execution_count": null,
   "metadata": {},
   "outputs": [],
   "source": [
    "#######################\n",
    "#  ZZ pump on IBMQX2  #\n",
    "#######################\n",
    "\n",
    "# Quantum register\n",
    "q = QuantumRegister(5, name='q')\n",
    "\n",
    "# Quantum circuit  \n",
    "zz = QuantumCircuit(q)\n",
    "\n",
    "# ZZ pump acting on system qubits\n",
    "## Qubit identification\n",
    "system = [2, 1]\n",
    "a_zz = 0\n",
    "\n",
    "## Define pump efficiency \n",
    "## and corresponding rotation\n",
    "p = 0.5\n",
    "theta = 2 * np.arcsin(np.sqrt(p))\n",
    "\n",
    "## Construct circuit\n",
    "### Map information to ancilla\n",
    "zz.cx(q[system[0]], q[system[1]])\n",
    "zz.x(q[a_zz])\n",
    "zz.cx(q[system[1]], q[a_zz])\n",
    "    \n",
    "### Conditional rotation\n",
    "zz.cu3(theta, 0.0, 0.0, q[a_zz], q[system[1]])\n",
    "    \n",
    "### Inverse mapping\n",
    "zz.cx(q[system[1]], q[a_zz])\n",
    "zz.cx(q[system[0]], q[system[1]])\n",
    "\n",
    "# Draw circuit\n",
    "zz.draw(output='mpl')"
   ]
  },
  {
   "cell_type": "markdown",
   "metadata": {},
   "source": [
    "To map the eigenspace information into the environment ancilla $a_\\textrm{ZZ}$, we apply a CNOT controlled by the relevant qubit, $s_2$. After these two gates (and considering that the initial state of the ancilla is $|1\\rangle$), $a_\\textrm{ZZ}$ will be in state $|1\\rangle$ if the initial state of the system is $| \\phi^{\\pm} \\rangle$ and $|0\\rangle$ if it is $| \\psi^{\\pm} \\rangle$. Therefore, the conditional rotation gate only acts in the former case, while it does not modify the state in the latter. The angle of the controlled rotation, in turn, controls the efficiency of the pump $p$ via the relation $\\theta = 2 \\arcsin{\\sqrt{p} }$. Finally, the last two CNOT gates simply revert the mapping part of the circuit. \n",
    "\n",
    "The working principle of the $\\sigma_x^{(1)}\\otimes\\sigma_x^{(2)}$ pump is essentially the same. However, we need to add an extra Hadamard gate to transform the state of $s_1$ before mapping the information to the ancilla $a_\\textrm{XX}$:"
   ]
  },
  {
   "cell_type": "code",
   "execution_count": 6,
   "metadata": {},
   "outputs": [
    {
     "data": {
      "image/png": "[encoded data removed]",
      "text/plain": [
       "<Figure size 638.12x325.08 with 1 Axes>"
      ]
     },
     "execution_count": 6,
     "metadata": {},
     "output_type": "execute_result"
    }
   ],
   "source": [
    "#######################\n",
    "#  XX pump on IBMQX2  #\n",
    "#######################\n",
    "\n",
    "# Quantum register\n",
    "q = QuantumRegister(5, name='q')\n",
    "\n",
    "# Quantum circuit  \n",
    "xx = QuantumCircuit(q)\n",
    "\n",
    "# XX pump acting on system qubits\n",
    "## Qubit identification\n",
    "system = [2, 1]\n",
    "a_xx = 4\n",
    "\n",
    "## Define pump efficiency \n",
    "## and corresponding rotation\n",
    "p = 0.5\n",
    "theta = 2 * np.arcsin(np.sqrt(p))\n",
    "\n",
    "## Construct circuit\n",
    "### Map information to ancilla\n",
    "xx.cx(q[system[0]], q[system[1]])\n",
    "xx.h(q[system[0]])\n",
    "xx.x(q[a_xx])\n",
    "xx.cx(q[system[0]], q[a_xx])\n",
    "    \n",
    "### Conditional rotation\n",
    "xx.cu3(theta, 0.0, 0.0, q[a_xx], q[system[0]])\n",
    "    \n",
    "### Inverse mapping\n",
    "xx.cx(q[system[0]], q[a_xx])\n",
    "xx.h(q[system[0]])\n",
    "xx.cx(q[system[0]], q[system[1]])\n",
    "\n",
    "# Draw circuit\n",
    "xx.draw(output='mpl')"
   ]
  },
  {
   "cell_type": "markdown",
   "metadata": {},
   "source": [
    "As for the composite pump, we can simply concatenate the two circuits. Notice that in the direct concatenation there would be two consecutive CNOTs between the system qubits, which can be removed."
   ]
  },
  {
   "cell_type": "code",
   "execution_count": 7,
   "metadata": {},
   "outputs": [
    {
     "data": {
      "image/png": "[encoded data removed]",
      "text/plain": [
       "<Figure size 698.32x325.08 with 1 Axes>"
      ]
     },
     "execution_count": 7,
     "metadata": {},
     "output_type": "execute_result"
    }
   ],
   "source": [
    "###########################\n",
    "#  ZZ-XX pumps on IBMQX2  #\n",
    "###########################\n",
    "\n",
    "# Quantum register\n",
    "q = QuantumRegister(5, name='q')\n",
    "\n",
    "# Quantum circuit  \n",
    "zz_xx = QuantumCircuit(q)\n",
    "\n",
    "# ZZ and XX pumps acting on system qubits\n",
    "## Qubit identification\n",
    "system = [2, 1]\n",
    "a_zz = 0\n",
    "a_xx = 4\n",
    "\n",
    "## Define pump efficiency \n",
    "## and corresponding rotation\n",
    "p = 0.5\n",
    "theta = 2 * np.arcsin(np.sqrt(p))\n",
    "\n",
    "## Construct circuit\n",
    "## ZZ pump\n",
    "### Map information to ancilla\n",
    "zz_xx.cx(q[system[0]], q[system[1]])\n",
    "zz_xx.x(q[a_zz])\n",
    "zz_xx.cx(q[system[1]], q[a_zz])\n",
    "    \n",
    "### Conditional rotation\n",
    "zz_xx.cu3(theta, 0.0, 0.0, q[a_zz], q[system[1]])\n",
    "    \n",
    "### Inverse mapping\n",
    "zz_xx.cx(q[system[1]], q[a_zz])\n",
    "#zz_xx.cx(q[system[0]], q[system[1]])\n",
    "\n",
    "## XX pump\n",
    "### Map information to ancilla\n",
    "#zz_xx.cx(q[system[0]], q[system[1]])\n",
    "zz_xx.h(q[system[0]])\n",
    "zz_xx.x(q[a_xx])\n",
    "zz_xx.cx(q[system[0]], q[a_xx])\n",
    "    \n",
    "### Conditional rotation\n",
    "zz_xx.cu3(theta, 0.0, 0.0, q[a_xx], q[system[0]])\n",
    "    \n",
    "### Inverse mapping\n",
    "zz_xx.cx(q[system[0]], q[a_xx])\n",
    "zz_xx.h(q[system[0]])\n",
    "zz_xx.cx(q[system[0]], q[system[1]])\n",
    "\n",
    "# Draw circuit\n",
    "zz_xx.draw(output='mpl')"
   ]
  },
  {
   "cell_type": "markdown",
   "metadata": {},
   "source": [
    "In the figure below we show the action of the dissipative pumping maps $\\Phi_{xx}$, $\\Phi_{zz}$ and their composition $\\Phi_{xx} \\circ \\Phi_{zz}$ as a function of $p$, for a maximally mixed initial state. We compare the theoretical prediction (dashed lines) with the experimental data. Our results show a very good agreement between theory and experiment for the implementation of both the two families of maps and their composition. In the latter case, the results are more sensitive to errors because of the larger depth of the circuit implementing the composition of maps."
   ]
  },
  {
   "cell_type": "markdown",
   "metadata": {},
   "source": [
    "<a id='fig_2'></a>\n",
    "\n",
    "<img src=\"images/fig_mar_res_eng.png\">\n",
    "\n",
    "**Figure 2.** Overlaps with the different Bell states as a function of the efficiency $p$ for the three different channels a) $\\Phi_{zz}$, b) $\\Phi_{xx}$ and c) $\\Phi_{xx} \\circ \\Phi_{zz}$. The points correspond to the experimental results, while the dashed lines show the theoretical prediction."
   ]
  },
  {
   "cell_type": "markdown",
   "metadata": {},
   "source": [
    "Regarding the measurement process, the IBM Q Experience platform only enables measurement in the computational basis. Hence, to assess the probabilities for each of the Bell states, we need to change basis by applying again a combination of CNOT and Hadamard to the system qubits, so $| \\phi^{+} \\rangle$ is mapped into $|00\\rangle$, etc. Again, notice that this would result in repeated consecutive gates, the effect of which amounts to identity, so they can be removed from the circuits. Finally, in [Figure 2](#fig_2) we show the results starting from the maximally mixed state. To do so, we simulated the circuits preparing the system in four different initial conditions, $| 00 \\rangle$, $| 01 \\rangle$, $| 10 \\rangle$ and $| 11 \\rangle$ and averaged the corresponding results."
   ]
  },
  {
   "cell_type": "markdown",
   "metadata": {},
   "source": [
    "## References <a id='ref'></a>\n",
    "\n",
    "[1] [A. Holevo, Rep. Math. Phys. **32**, 211 (1993).](https://doi.org/10.1016/0034-4877%2893%2990014-6\n",
    ") <a id='1'></a>\n",
    "\n",
    "[2] [D. Chruściński and S. Maniscalco, Phys. Rev. Lett. **112**, 120404 (2014)](https://doi.org/10.1103/PhysRevLett.112.120404) <a id='2'></a> \n",
    "\n",
    "[3] [ J. T. Barreiro, M. Müller, P. Schindler, D. Nigg, T. Monz, M. Chwalla, M. Hennrich, C. F. Roos, P. Zoller, and R. Blatt, Nature **470**, 486 (2011)](https://doi.org/10.1038/nature09801) <a id='3'></a>\n",
    "\n",
    "[4] [ J. T. Barreiro, P. Schindler, O. Gühne, T. Monz, M. Chwalla, C. F. Roos, M. Hennrich, and R. Blatt, Nat. Phys. **6**, 943 (2010).](https://doi.org/10.1038/nphys1781) <a id='4'></a>"
   ]
  }
 ],
 "metadata": {
  "celltoolbar": "Edit Metadata",
  "kernelspec": {
   "display_name": "Python 3",
   "language": "python",
   "name": "python3"
  },
  "language_info": {
   "codemirror_mode": {
    "name": "ipython",
    "version": 3
   },
   "file_extension": ".py",
   "mimetype": "text/x-python",
   "name": "python",
   "nbconvert_exporter": "python",
   "pygments_lexer": "ipython3",
   "version": "3.8.5"
  }
 },
 "nbformat": 4,
 "nbformat_minor": 2
}