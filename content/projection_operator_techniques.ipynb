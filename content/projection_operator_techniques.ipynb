{
 "cells": [
  {
   "cell_type": "markdown",
   "metadata": {},
   "source": [
    "# 6. Projection operator techniques <a id='proj'></a>"
   ]
  },
  {
   "cell_type": "markdown",
   "metadata": {},
   "source": [
    "## Contents\n",
    "\n",
    "6. [Projection operator techniques](#proj)\n",
    " 1. [Nakajima-Zwanzing technique](#NZ)\n",
    " 2. [Time-convolutionless technique](#TCL)\n",
    " \n",
    "   [References](#ref)"
   ]
  },
  {
   "cell_type": "markdown",
   "metadata": {},
   "source": [
    "$\\newcommand{\\Mn}{M_n(\\mathbb{C})}$\n",
    "$\\newcommand{\\Mq}{M_2(\\mathbb{C})}$\n",
    "$\\newcommand{\\Mk}{M_k(\\mathbb{C})}$\n",
    "$\\newcommand{\\Mm}{M_m(\\mathbb{C})}$\n",
    "$\\newcommand{\\Mnm}{M_{n \\times m}(\\mathbb{C})}$\n",
    "$\\newcommand{\\Mnp}{M_n^+(\\mathbb{C})}$\n",
    "$\\newcommand{\\ra}{\\,\\rightarrow\\,}$\n",
    "$\\newcommand{\\id}{\\mbox{id} }$\n",
    "$\\newcommand{\\ot}{ {\\,\\otimes\\,} }$\n",
    "$\\newcommand{\\Cd}{ {\\mathbb{C}^d} }$\n",
    "$\\newcommand{\\Rn}{ {\\mathbb{R}^n} }$"
   ]
  },
  {
   "cell_type": "markdown",
   "metadata": {},
   "source": [
    "This section is based on Ref. [[1](#1)]."
   ]
  },
  {
   "cell_type": "markdown",
   "metadata": {},
   "source": [
    "The projection operators techniques that we will describe in this section aim at deriving the dynamics of an open quantum system starting from the total unitary evolution. We are going to show two possible techniques that go beyond the Born-Markov approximation, allowing us to describe open systems even when system-environment correlations are not negligible. These two techniques are 1) the Nakajima-Zwanzing technique; 2) the time-convolutionless (TCL) technique. They both rely on the idea of describing the partial trace operation in terms of a formal projection operator $\\mathcal{P}$ acting on the total density operator $\\varrho$\n",
    "\n",
    "$$\n",
    "\\varrho= \\mathcal{P} \\varrho(\\textrm{relevant part})+\\mathcal{Q} \\varrho\\textrm{(unrelevant part)},\\qquad \\mathcal{P}+\\mathcal{Q}=\\textrm{I}.\n",
    "$$"
   ]
  },
  {
   "cell_type": "markdown",
   "metadata": {},
   "source": [
    "## 6.1. Nakajima-Zwanzing technique <a id='NZ'></a>"
   ]
  },
  {
   "cell_type": "markdown",
   "metadata": {},
   "source": [
    "We start from the Hamiltonian of the total system $H=H_{0}+\\alpha H_{I}$, with $H_{0}$ the free Hamiltonian of system and environment, and $H_I$ the interaction Hamiltonian. The total density operator evolves in time according to the von Neumann equation (in the interaction picture and in units of $\\hbar$) \n",
    "\n",
    "\\begin{equation}\n",
    "    \\frac{d\\varrho}{dt}(t)=-i\\alpha[H_{I}(t),\\varrho(t)]=\\alpha\\mathcal{L}(t)\\varrho(t).\n",
    "\\label{NZtech1}\n",
    "\\tag{6.1}\n",
    "\\end{equation}"
   ]
  },
  {
   "cell_type": "markdown",
   "metadata": {},
   "source": [
    "We define the projection operator $\\mathcal{P}$, describing the relevant part of the total system (i.e., what we are interested in)\n",
    "\n",
    "\\begin{equation}\n",
    "    \\mathcal{P}\\varrho\\equiv\\textrm{Tr}_{B}[\\varrho]\\otimes\\varrho_{B},\n",
    "\\label{NZtech2}\n",
    "\\tag{6.2}\n",
    "\\end{equation}\n",
    "\n",
    "where $\\varrho_{B}$ is a fixed environment state. We also define the projection operator $\\mathcal{Q}\\varrho=\\varrho-\\mathcal{P}\\varrho$, describing the irrelevant part of the total system. Being projectors,  $\\mathcal{P}$ and $\\mathcal{Q}$ satisfy the properties:\n",
    "\n",
    "- $\\mathcal{P}+\\mathcal{Q}=\\textrm{I}$,\n",
    "- $\\mathcal{P}^{2}=\\mathcal{P},\\qquad\\mathcal{Q}^{2}=\\mathcal{Q}$.\n",
    "- $[\\mathcal{P,Q}]=0$"
   ]
  },
  {
   "cell_type": "markdown",
   "metadata": {},
   "source": [
    "We now make a technical assumption: we require that the odd moments of $H_{I}$ vanish with respect to the environment reference state, i.e.,\n",
    "\n",
    "\\begin{equation}\n",
    "    \\textrm{Tr}_{B}[H_{I}(t_{1})\\cdots H_{I}(t_{2n+1})\\varrho_{B}]=0\\iff\\mathcal{PL}(t_{1})\\cdots\\mathcal{L}(t_{2n+1})\\mathcal{P}=0\\qquad\\forall n.\n",
    "\\label{NZtech3}\n",
    "\\tag{6.3}\n",
    "\\end{equation}\n",
    "\n",
    "Our aim is to derive a closed equation for $\\mathcal{P}{\\varrho}$. By applying the projectors to the von Neumann equation we get\n",
    "\n",
    "$$\n",
    "\\begin{cases}\n",
    "\\frac{\\partial}{\\partial t}\\mathcal{P}\\varrho=\\alpha\\mathcal{P}\\mathcal{L}\\varrho,\\\\\n",
    "\\frac{\\partial}{\\partial t}\\mathcal{Q}\\varrho=\\alpha\\mathcal{Q}\\mathcal{L}\\varrho.\n",
    "\\end{cases}\n",
    "$$\n",
    "\n",
    "Remembering the first of the $\\mathcal{P}$ and $\\mathcal{Q}$ properties one obtains\n",
    "\n",
    "$$\n",
    "\\begin{cases}\n",
    "\\frac{\\partial}{\\partial t}\\mathcal{P}\\varrho=\\alpha\\mathcal{P}\\mathcal{L}\\mathcal{P}\\varrho+\\alpha\\mathcal{P}\\mathcal{L}\\mathcal{Q}\\varrho,\\\\\n",
    "\\frac{\\partial}{\\partial t}\\mathcal{Q}\\varrho=\\alpha\\mathcal{Q}\\mathcal{L}\\mathcal{P}\\varrho+\\alpha\\mathcal{Q}\\mathcal{L}\\mathcal{Q}\\varrho.\n",
    "\\end{cases}\n",
    "$$ "
   ]
  },
  {
   "cell_type": "markdown",
   "metadata": {},
   "source": [
    "Given an initial state $\\varrho(t_{0})$, we get the following formal solution for the second equation\n",
    "\n",
    "\\begin{equation}\n",
    "    \\mathcal{Q}\\varrho(t)=G(t,t_{0})\\mathcal{Q}\\varrho(t_{0})+\\alpha\\int_{t_{0} }^{t}dsG(t,s)\\mathcal{Q}\\mathcal{L}(s)\\mathcal{P}\\varrho(s),\n",
    "\\label{NZtech4}\n",
    "\\tag{6.4}\n",
    "\\end{equation}\n",
    "\n",
    "where we have defined\n",
    "\n",
    "$$\n",
    "G(t,t_{0})\\equiv T_{\\leftarrow}\\exp\\left[\\alpha\\int_{t_{0} }^{t}ds\\mathcal{Q}\\mathcal{L}(s)\\right],\n",
    "$$\n",
    "\n",
    "and where $T_{\\leftarrow}$ is the chronological time-ordering operator. By using this equation we obtain the following closed equation for $\\mathcal{P}\\varrho$ \n",
    "\n",
    "\\begin{equation}\n",
    "    \\frac{\\partial\\mathcal{P}\\varrho}{\\partial t}(t)=\\alpha\\mathcal{PL}(t)G(t,t_{0})\\mathcal{Q}\\varrho(t_{0})+\\alpha^{2}\\int_{t_{0} }^{t}ds\\mathcal{PL}(t)G(t,s)\\mathcal{QL}(s)\\mathcal{P}\\varrho(s).\n",
    "\\label{NZtech5}\n",
    "\\tag{6.5}\n",
    "\\end{equation}"
   ]
  },
  {
   "cell_type": "markdown",
   "metadata": {},
   "source": [
    "The equation above is called the Nakajima-Zwanzig master equation.  It is worth noticing that this is an exact equation for $\\mathcal{P}\\varrho$. We call the integrand in the second term the memory kernel $K(t,s)=\\mathcal{PL}(t)G(t,s)\\mathcal{QL}(s)\\mathcal{P}$. This term describes the memory effects due to non-negligible correlations between system and environment. Note that the Nakajima-Zwanzig equation, contrary to all master equations studied so far, is an integro-differential equation, namely the future dynamics of the open system depends on its past history and not only on its initial state. The first term in Eq. ([6.5](#mjx-eqn-NZtech5)) is known as the inhomogeneity term. This term takes into account the effect of initial correlations between system and environment.  Assuming factorized initial conditions we get $\\mathcal{P}\\varrho(t_{0})=\\varrho(t_{0})$ and $\\mathcal{Q}\\varrho(t_{0})=0$, hence the inhomogeneity term vanishes in the absence of correlations between system and environment at the initial time. Note that, if $K(t,s) \\propto \\delta(t-s)$, then the Nakajima-Zwanzig equation becomes time-local, i.e., there are no memory effects."
   ]
  },
  {
   "cell_type": "markdown",
   "metadata": {},
   "source": [
    "Let us now consider approximations of the Nakajma-Zwanzig equation for small couplings $\\alpha$.\n",
    "Expanding to second order in $\\alpha$ and for factorised initial conditions we get\n",
    "$$\n",
    "\\frac{\\partial\\mathcal{P}\\varrho}{\\partial t}(t)=\\alpha^{2}\\int_{t_{0} }^{t}ds\\mathcal{PL}(t)\\mathcal{QL}(s)\\mathcal{P}\\varrho(s).\n",
    "$$\n",
    "\n",
    "After some manipulations, and remembering the expression for $\\mathcal{P}$ and $\\mathcal{L}$,  we obtain\n",
    "\n",
    "\\begin{equation}\n",
    "    \\frac{\\partial\\varrho_{S} }{\\partial t}(t)=-\\alpha^{2}\\textrm{Tr}_{B}\\{\\int_{t_{0} }^{t}ds[H_{I}(t),[H_{I}(s),\\varrho_{S}(s)\\otimes\\varrho_{B}]]\\}\n",
    "\\label{NZtech6}\n",
    "\\tag{6.6}\n",
    "\\end{equation}\n",
    "\n",
    "which is Eq. (3.9) of the microscopic derivation in **Chapter 3**."
   ]
  },
  {
   "cell_type": "markdown",
   "metadata": {},
   "source": [
    "## 6.2. Time-convolutionless technique <a id='TCL'></a>"
   ]
  },
  {
   "cell_type": "markdown",
   "metadata": {},
   "source": [
    "The main idea behind the TCL projection operator technique is to eliminate the memory kernel  in the Nakajima-Zwanzig equation, transforming it into a time-local equation. The reason why this would be useful is that generally differential equations are simpler to handle than integro-differential equations. Of course, in doing so, we should ask ourselves: Are we performing any additional approximations? In other words are the Nakajima-Zwanzig and the TCL final forms of master equations both exact?"
   ]
  },
  {
   "cell_type": "markdown",
   "metadata": {},
   "source": [
    "Let us begin by again considering the equation for the irrelevant part of the system \n",
    "\n",
    "$$\n",
    "\\mathcal{Q}\\varrho(t)=G(t,t_{0})\\mathcal{Q}\\varrho(t_{0})+\\alpha\\int_{t_{0} }^{t}dsG(t,s)\\mathcal{QL}(s)\\mathcal{P}\\varrho(s).\n",
    "$$"
   ]
  },
  {
   "cell_type": "markdown",
   "metadata": {},
   "source": [
    "We introduce the time-reverse propagator from $s<t$ to $t$ for the total (closed) system \n",
    "\n",
    "\\begin{equation}\n",
    "    \\bar{G}(t,s)\\equiv T_{\\to}\\exp\\left[-\\alpha\\int_{s}^{t}ds'\\mathcal{L}(s')\\right].\n",
    "\\label{tcl1}\n",
    "\\tag{6.7}\n",
    "\\end{equation}\n",
    "\n",
    "We rewrite $\\varrho(s)=\\bar{G}(t,s)(\\mathcal{P+Q})\\varrho(t)$ and we use this expression in the equation for $\\mathcal{Q}\\varrho(t)$, getting\n",
    "\n",
    "$$\n",
    "\\mathcal{Q}\\varrho(t)=G(t,t_{0})\\mathcal{Q}\\varrho(t_{0})+\\alpha\\int_{t_{0} }^{t}dsG(t,s)\\mathcal{QL}(s)\\mathcal{P}\\bar{G}(t,s)(\\mathcal{P+Q})\\varrho(t).\n",
    "$$"
   ]
  },
  {
   "cell_type": "markdown",
   "metadata": {},
   "source": [
    "We define the super-operator\n",
    "\n",
    "\\begin{equation}\n",
    "    \\Sigma(t)\\equiv\\alpha\\int_{t_{0} }^{t}dsG(t,s)\\mathcal{QL}(s)\\mathcal{P}\\bar{G}(t,s)\n",
    "\\label{tcl2}\n",
    "\\tag{6.8}\n",
    "\\end{equation}\n",
    "\n",
    "thus getting \n",
    "\n",
    "$$\n",
    "\\begin{aligned}\n",
    "&\\mathcal{Q}\\varrho(t)=G(t,t_{0})\\mathcal{Q}\\varrho(t_{0})+\\Sigma(t)\\mathcal{P}\\varrho(t)+\\Sigma(t)\\mathcal{Q}\\varrho(t),\\\\\n",
    "\\\\\n",
    "&[\\textrm{I}-\\Sigma(t)]\\mathcal{Q}\\varrho(t)=G(t,t_{0})\\mathcal{Q}\\varrho(t_{0})+\\Sigma(t)\\mathcal{P}\\varrho(t).\n",
    "\\end{aligned}\n",
    "$$\n",
    "\n",
    "The operator $\\Sigma(t)$ has the following properties:\n",
    "\n",
    "- Since it contains both $G(t,t_{0})$ and $\\bar{G}(t,s)$ it does not have a well defined chronological order;\n",
    "- $\\Sigma(t_{0})=0$;\n",
    "- $\\Sigma(t)|_{\\alpha=0}=0$."
   ]
  },
  {
   "cell_type": "markdown",
   "metadata": {},
   "source": [
    "For values of $t-t_{0}$ small enough we can therefore assume that the inverse of the operator $\\textrm{I}-\\Sigma(t)$ exists. Hence we have\n",
    "\n",
    "$$\n",
    "\\mathcal{Q}\\varrho(t)=[\\textrm{I}-\\Sigma(t)]^{-1}G(t,t_{0})\\mathcal{Q}\\varrho(t_{0})+[\\textrm{I}-\\Sigma(t)]^{-1}\\Sigma(t)\\mathcal{P}\\varrho(t).\n",
    "$$\n",
    "\n",
    "The first  term on the r.h.s. is zero for factorised initial conditions, thus we get a time-local equation for the irrelevant part\n",
    "\n",
    "$$\n",
    "\\mathcal{Q}\\varrho(t)=[\\textrm{I}-\\Sigma(t)]^{-1}\\Sigma(t)\\mathcal{P}\\varrho(t).\n",
    "$$"
   ]
  },
  {
   "cell_type": "markdown",
   "metadata": {},
   "source": [
    "Inserting this new expression in the equation for the relevant part $\\mathcal{P}\\varrho$, we get the TCL equation\n",
    "\n",
    "\\begin{equation}\n",
    "    \\frac{\\partial\\mathcal{P}\\varrho}{\\partial t}(t)=\\alpha\\mathcal{PL}(t)[\\textrm{I}-\\Sigma(t)]^{-1}\\Sigma(t)\\mathcal{P}\\varrho(t)\n",
    "\\label{tdl3}\n",
    "\\tag{6.9}\n",
    "\\end{equation}\n",
    "\n",
    "with time-local kernel\n",
    "\n",
    "$$\n",
    "K(t)\\equiv\\alpha\\mathcal{PL}(t)[\\textrm{I}-\\Sigma(t)]^{-1}\\Sigma(t)\\mathcal{P}.\n",
    "$$\n",
    "\n",
    "We expand $[\\textrm{I}-\\Sigma(t)]^{-1}$ as follows\n",
    "\n",
    "$$\n",
    "[\\textrm{I}-\\Sigma(t)]^{-1}=\\sum_{n=0}^{+\\infty}[\\Sigma(t)]^{n},\n",
    "$$\n",
    "\n",
    "so we get the following expansions\n",
    "\n",
    "$$\n",
    "\\begin{aligned}\n",
    "&K(t)=\\alpha\\mathcal{PL}(t)\\sum_{n=1}^{+\\infty}[\\Sigma(t)]^{n}\\mathcal{P}=\\sum_{n=1}^{+\\infty}\\alpha^{n}K_{n}(t)\\\\\n",
    "\\\\\n",
    "&\\Sigma(t)=\\sum_{k=0}^{+\\infty}\\alpha^{k}\\Sigma_{k}(t).\n",
    "\\end{aligned}\n",
    "$$"
   ]
  },
  {
   "cell_type": "markdown",
   "metadata": {},
   "source": [
    "It is instructive to look at the first terms of the expansion,\n",
    "\n",
    "$$\n",
    "\\begin{aligned}\n",
    "&K_{1}(t)=\\mathcal{PL}(t)\\mathcal{P}=0\\\\\n",
    "&K_{2}(t)=\\mathcal{PL}(t)\\Sigma_{1}(t)\\mathcal{P}\n",
    "\\end{aligned}\n",
    "$$\n",
    "\n",
    "where\n",
    "$$\n",
    "\\Sigma_{1}(t)=\\int_{0}^{t}ds\\mathcal{QL}(s)\\mathcal{P} .\n",
    "$$"
   ]
  },
  {
   "cell_type": "markdown",
   "metadata": {},
   "source": [
    "Using this approximation it is easy to show that the 2nd-order TCL master equation (TCL2) coincides with Eq. ([6.6](#mjx-eqn-NZtech6)), which was obtained in **Chapter 3**.\n",
    "Note that both the Nakajima-Zwanzig and the TCL master equations are exact at the same order in $\\alpha$, however the latter one is clearly simpler."
   ]
  },
  {
   "cell_type": "markdown",
   "metadata": {},
   "source": [
    "## References <a id='ref'></a>\n",
    "\n",
    "[1] [H.-P. Breuer and F. Petruccione, *The Theory of Open Quantum Systems* (Oxford Univ. Press, Oxford, 2007)](https://www.oxfordscholarship.com/view/10.1093/acprof:oso/9780199213900.001.0001/acprof-9780199213900) <a id='1'></a>"
   ]
  },
  {
   "cell_type": "code",
   "execution_count": null,
   "metadata": {},
   "outputs": [],
   "source": []
  }
 ],
 "metadata": {
  "kernelspec": {
   "display_name": "Python 3",
   "language": "python",
   "name": "python3"
  },
  "language_info": {
   "codemirror_mode": {
    "name": "ipython",
    "version": 3
   },
   "file_extension": ".py",
   "mimetype": "text/x-python",
   "name": "python",
   "nbconvert_exporter": "python",
   "pygments_lexer": "ipython3",
   "version": "3.7.4"
  }
 },
 "nbformat": 4,
 "nbformat_minor": 2
}
