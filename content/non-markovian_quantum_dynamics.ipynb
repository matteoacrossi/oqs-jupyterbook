{
 "cells": [
  {
   "cell_type": "markdown",
   "metadata": {},
   "source": [
    "$\\newcommand{\\parenthnewln}{\\right.\\\\&\\left.\\quad\\quad{} }$\n",
    "$\\newcommand{\\nc}{\\newcommand}$\n",
    "$\\nc{\\eq}{\\begin{equation} }$\n",
    "$\\nc{\\eeq}{\\end{equation} }$\n",
    "$\\nc{\\eqa}{\\begin{eqnarray} }$\n",
    "$\\nc{\\eeqa}{\\end{eqnarray} }$\n",
    "$\\nc{\\ar}{\\begin{array} }$\n",
    "$\\nc{\\ear}{\\end{array} }$\n",
    "$\\nc{\\bfig}{\\begin{figure} }$\n",
    "$\\nc{\\efig}{\\end{figure} }$\n",
    "$\\nc{\\dg}{\\dagger}$\n",
    "$\\nc{\\eps}{\\frac{\\epsilon}{2} }$\n",
    "$\\nc{\\juuri}{\\sqrt{\\Omega^2+(\\eps)^2} }$\n",
    "$\\nc{\\sx}{\\sigma_x}$\n",
    "$\\nc{\\sy}{\\sigma_y}$\n",
    "$\\nc{\\sz}{\\sigma_z}$\n",
    "$\\nc{\\spl}{\\sigma_+}$\n",
    "$\\nc{\\sm}{\\sigma_-}$\n",
    "$\\nc{\\Sx}{\\bar{\\sigma}_x}$\n",
    "$\\nc{\\Sy}{\\bar{\\sigma}_y}$\n",
    "$\\nc{\\Sz}{\\bar{\\sigma}_z}$\n",
    "$\\nc{\\Spl}{\\bar{\\sigma}_+}$\n",
    "$\\nc{\\Sm}{\\bar{\\sigma}_-}$\n",
    "$\\nc{\\nn}{\\nonumber}$\n",
    "$\\nc{\\noi}{\\noindent}$\n",
    "$\\nc{\\omt}{\\tilde{\\omega} }$\n",
    "$\\nc{\\Somt}{S(\\omt)}$\n",
    "$\\nc{\\Somtd}{S^{\\dg}(\\omt)}$\n",
    "$\\nc{\\got}{\\gamma_{\\omega}(t)}$\n",
    "$\\nc{\\gmot}{\\gamma_{-\\omega}(t)}$\n",
    "$\\nc{\\po}{\\mathcal{P} }$\n",
    "$\\nc{\\qo}{\\mathcal{Q} }$\n",
    "$\\nc{\\adg}{a^{\\dg} }$\n",
    "$\\nc{\\gammat}{\\tilde{\\gamma} }$\n",
    "$\\nc{\\Q}{\\mathcal{Q } }$\n",
    "$\\nc{\\C}{\\mathcal{C } }$\n",
    "$\\nc{\\N}{\\mathcal{N} }$\n",
    "$\\nc{\\kvec}{\\mathbf{k} }$"
   ]
  },
  {
   "cell_type": "markdown",
   "metadata": {},
   "source": [
    "## 8.1. Introduction <a id='intro'></a>"
   ]
  },
  {
   "cell_type": "markdown",
   "metadata": {},
   "source": [
    "The last decade has seen a renewed interest in theoretical and experimental investigations on fundamental studies of open quantum systems.\n",
    "The reasons for such interest are manifold. On the one hand,  we have witnessed a tremendous advance in the development of quantum technologies, stemming from the ability to coherently control in a robust and efficient manner the dynamics of an ever increasing number of particles. Quantum technologies need to be scalable to reach the market, which entails understanding and minimizing environment-induced decoherence effects in order to achieve the required thresholds for error correction. On the other hand the environment itself has been proven to be experimentally controllable and modifiable. Nowadays reservoir engineering techniques are used for both minimizing the effects of environmental noise and as testbeds of theoretical models.\n",
    "\n",
    "All recent investigations on open quantum systems dynamics highlight the existence of two different classes of dynamical behavior  known as Markovian and non-Markovian regimes. Historically, in the quantum domain Markovian dynamics has been associated to the semigroup property of the dynamical map describing the system evolution. If one thinks in terms of a microscopic model of system, environment and interaction, a Markovian description of the open system requires a number of assumptions, such as system-reservoir weak coupling, and leads to a master equation in the so-called Lindblad form [[1](#1), [2](#2)]. In certain scenarios, however, such approximations are not justified and one needs to go beyond perturbation theory. It is clear that, due to the general complexity of the problem to be studied, exact solutions exist only for simple open quantum systems models such as the well-known Jaynes-Cummings model [[3](#3)], the quantum Brownian motion model [[4](#4)], and certain pure dephasing models [[5](#5)]-[[7](#7)]. \n",
    "\n",
    "During the last decade, a new paradigm in the description of open quantum systems has  emerged. Specifically, a formal and rigorous information-theoretical approach  was introduced and used to define Markovian and non-Markovian dynamics in order to give a clear physical interpretation, as well as an operational definition, to memory effects [[8](#8)-[11](#11), [12](#12)]. Markovian dynamics is characterised by a continuous and monotonic loss of information from the open system to the environment while non-Markovian dynamics occurs when part of the information previously lost into the environment comes back due to memory effects, namely information back-flow occurs.  \n",
    "\n",
    "One of the first features that emerges from the analysis of exact models is that memory effects, usually associated to re-coherence and information backflow, do not occur only when the semigroup property of the dynamical map is not satisfied, but are rather associated to another property known as divisibility [[13](#13)]. In this spirit, a non-Markovianity measure quantifying the deviation from divisibility has been proposed in Ref. [[14](#14)]. Other measures (and corresponding definitions) are based on the behavior of quantities such as distinguishability between quantum states, as measured, e.g., by trace distance [[12](#12), [15](#15)] or fidelity [[16](#16)], quantum mutual information between initial and final state [[17](#17)], channel capacities [[18](#18)], Fisher information [[19](#19)], and the volume of accessible physical states of a system [[20](#20)].\n",
    "\n",
    "What one defines as Markovian or non-Markovian dynamics is, in a sense, a question of semantics. It is tautologic to say that, in general, different definitions and corresponding measures of non-Markovianity do not coincide. In this chapter we prefer to follow a more pragmatic approach. We will not insist on the concept of  \"the best\" definition of non-Markovianity  but we rather look at different measures as descriptions of different properties of the open quantum systems. \n",
    "\n",
    "\n",
    "Our study will encompass the Rivas, Huelga, Pleanio (RHP) divisibility measure of  [[14](#14)], the Breuer, Laine, Piilo (BLP) distinguishability measure  [[12](#12)], the Luo, Fu, Song (LFS) coherent information measure [[17](#17)], and the Bylicka, Chruściński, Maniscalco (BCM)  channel capacity measures [[18](#18)]. We will consider as example single qubits immersed in purely dephasing environments as well as dissipative environments."
   ]
  },
  {
   "cell_type": "markdown",
   "metadata": {},
   "source": [
    "## 8.2. Non-Markovian dynamics: definitions and measures <a id='def'></a>"
   ]
  },
  {
   "cell_type": "markdown",
   "metadata": {},
   "source": [
    "The concept of Markovian and non-Markovian stochastic process has a clear and rigorous formulation in the classical domain. The extension to quantum processes, however, is not straightforward. Open quantum systems, indeed, may display dynamical features which do not have a classical counterpart, such as re-coherence, information trapping, entanglement sudden death and revivals, and so on. For this reason, the generalization of the definition of Markovian/non-Markovian process from classical to quantum is still the subject of an intense debate (for reviews see Ref. [[8](#8)-[11](#11)]). Generally speaking, there are two approaches to the definition of quantum non-Markovianity. The first one focuses on the properties of the master equation or the corresponding dynamical map, while the second one emphasizes the need of a more physical approach,  identifying memory effects with the occurrence of information back-flow. The latter approach does not require the knowledge of the explicit form of either  the master equation or dynamical map, and has been pioneered by Breuer, Laine and Piilo, who introduced the now famous BLP non-Markovianity measure [[12](#12)]. In the following we review both perspectives and recall their connection."
   ]
  },
  {
   "cell_type": "markdown",
   "metadata": {},
   "source": [
    "### 8.2.1. Non-Markovianity as non-divisibility <a id='div'></a>"
   ]
  },
  {
   "cell_type": "markdown",
   "metadata": {},
   "source": [
    "Historically, Markovian open quantum dynamics was identified with the GKSL form of the master equation and was extensively used due to its powerful property of guaranteeing complete positivity (CP), and hence physicality, of the density matrix at all times. A straightforward extension of the GKSL theorem [[1](#1), [2](#2)] to time local master equations identifies Markovian and non-Markovian dynamics with the properties of the dynamical map $\\Phi_t: \\rho(t)=\\Phi_t \\rho(0)$ characterizing the open system evolution. More precisely, the dynamics is said to be Markovian whenever the dynamical map possesses the property of being completely-positive (CP) divisible, namely whenever the propagator $V_{t,s}$, defined by $\\Phi_t = V_{t,s} \\Phi_s$, is CP.  On the contrary, non-Markovian dynamics occurs when the dynamical map $\\Phi_t$ is not CP divisible.\n",
    "\n",
    "A common feature of all non-Markovianity measures described in the following subsections is that they are based on the non-monotonic time evolution of certain quantities occurring when the divisibility property is violated. However, while non-monotonic behavior of such quantities always implies non-divisibility, the inverse is not true, i.e., there can be non-divisible maps consistent with monotonic dynamics. In this sense, if one would assume divisibility as the definition of non-Markovianity, all the other non-Markovianity measures should be considered as non-Markovianity witnesses.\n",
    "\n",
    "With the defining attribute of all non-Markovian dynamics in mind, namely the violation of the divisibilty property, Rivas, Huelga and Plenio (RHP) propose a measure based on the Choi-Jamiolkowski isomorphism [[21](#21)]. The inability to write the dynamical map $\\Phi_{t}$ as a concatenation of two independent CPTP maps connects with intuitive reasoning of present dynamics being dependent on memory effects. "
   ]
  },
  {
   "cell_type": "markdown",
   "metadata": {},
   "source": [
    "For master equations written in the standard Lindblad form but with time-dependent coefficients,\n",
    "\n",
    "\\begin{equation}\n",
    "\\frac{d \\rho_t}{dt}= \\mathcal{L}_t \\rho_t= -i[H,\\rho_t]+ \\sum_k\\! \\! \\gamma_k(t) \\! \\! \\left(\\! V_k \\rho_t V^{\\dagger}_k-\\frac{1}{2}\\{V_k^{\\dagger}V_k,\\rho_t\\}\\!\\right),\n",
    "\\tag{8.1}\n",
    "\\end{equation}\n",
    "\n",
    "it is possible to show that the corresponding dynamical map satisfies divisibility if and only if $\\gamma_k(t)\\geq0$. If on the other hand, $\\gamma_k(t)$ becomes temporarily negative, there will exist an intermediate map $\\Phi_{t,t'}$ which is not CPTP, defying the composition law."
   ]
  },
  {
   "cell_type": "markdown",
   "metadata": {},
   "source": [
    "According to the Choi-Jamiolkowski isomorphism [[21](#21)], $\\Phi_{t,t'}$ is completely positive if and only if: \n",
    "\n",
    "\\begin{equation}\n",
    "(\\Phi_{t,t'}\\otimes \\mathbb{I})|\\Omega \\rangle \\langle \\Omega | \\geq 0,\n",
    "\\tag{8.2}\n",
    "\\end{equation}\n",
    "\n",
    "where $| \\Omega \\rangle$ is a maximally entangled state of the open system with an ancilla. In light of this, one can quantify non-Markovianity by considering the departure of the intermediate map from a map which is completely positive [[14](#14)]: \n",
    "\n",
    "\\begin{equation}\n",
    "\\mathcal{N}_{\\text{RHP} }=\\int_{0}^{\\infty} dt\\:g(t),\n",
    "\\label{RHP_One}\n",
    "\\tag{8.3}\n",
    "\\end{equation}\n",
    "where\n",
    "\\begin{equation} \\label{g}\n",
    "g(t)=\\lim_{\\epsilon\\rightarrow0^+}\\frac{||[\\mathbb{I}+(\\mathcal{L}_t\\otimes\\mathbb{I})\\epsilon]|\\Omega \\rangle \\langle \\Omega |\\ \\ ||_{1}-1}{\\epsilon}.\n",
    "\\tag{8.4}\n",
    "\\end{equation}\n",
    "\n",
    "and $\\epsilon$ encapsulates the time elapsed between the initial time $t'$ to the final time $t$. "
   ]
  },
  {
   "cell_type": "markdown",
   "metadata": {},
   "source": [
    "Mathematically, an apparent advantage of this measure is that no optimization over states is required. The measure is most simple to calculate using only the specific form of the master equation. However, Eq. (\\ref{g}) may be also calculated in terms of the intermediate dynamical map $\\Phi_{t,t'}$  [[14](#14)].  "
   ]
  },
  {
   "cell_type": "markdown",
   "metadata": {},
   "source": [
    "### 8.2.2. Non-Markovianity as information back-flow <a id='info'></a>"
   ]
  },
  {
   "cell_type": "markdown",
   "metadata": {},
   "source": [
    "The evolution of a quantum system interacting with its surrounding environment, be it  classical or quantum, relativistic or non-relativistic, can be described in terms of exchange of energy and/or information between the two interacting parties. While the concept of energy is uniquely defined in quantum systems, a unique definition of information is lacking. Indeed, in principle, there are a number of useful and rigorous choices for quantifying information, and hence information flow, and such choices obviously depend on which \"type\" of information one is interested in. Quantum information theory deals with the study of information quantifiers, their properties, their dynamics, and their usefulness in quantum computation, communication, metrology and sensing. In the following we will review different non-Markovianity measures based on different quantifiers of information and, hence, of information flow."
   ]
  },
  {
   "cell_type": "markdown",
   "metadata": {},
   "source": [
    "#### 8.2.2.1. Breuer, Laine, Piilo (BLP) Measure <a id='BLP'></a>"
   ]
  },
  {
   "cell_type": "markdown",
   "metadata": {},
   "source": [
    "The first attempt to quantify system-environment information flow, and connect it to the Markovian or non-Markovian nature of the dynamics, was based on the concept of trace distance between two states $\\rho_1$ and $\\rho_2$ of an open system,\n",
    "\n",
    "\\begin{equation}\n",
    "D(\\rho_1,\\rho_2) = \\tfrac{1}{2} \\text{tr}\\vert \\rho_1-\\rho_2 \\vert .\n",
    "\\tag{8.5}\n",
    "\\end{equation}\n",
    "\n",
    "The trace distance is invariant under unitary transformations and contractive for CP dynamical maps, i.e., given two initial open-system states $\\rho_1(0)$  and $\\rho_2(0)$, the trace distance between the time-evolved states never exceeds its initial value $D[\\rho_1(t),\\rho_S(t)] \\leq D[\\rho_1(0),\\rho_2(0)]$."
   ]
  },
  {
   "cell_type": "markdown",
   "metadata": {},
   "source": [
    "Trace distance is a measure of information content of the open quantum system since it is simply related to the maximum probability $P_D$ to distinguish two quantum states in a single-shot experiment, namely $P_D=\\frac{1}{2}[1+D(\\rho_1,\\rho_2)]$ [[22](#22)]. Therefore, an increase in trace distance signals an increase in our information about which one of the two possible states the system is in. Following Ref. [[12](#12)], one can define information flow as the derivative of trace distance as follows:\n",
    "\n",
    "\\begin{equation}\n",
    "\\sigma(t)= \\frac{d}{dt} D[\\rho_1(t),\\rho_2(t)].\n",
    "\\tag{8.6}\n",
    "\\end{equation}"
   ]
  },
  {
   "cell_type": "markdown",
   "metadata": {},
   "source": [
    "Even though trace distance cannot increase under CP maps, it may not behave always in a monotonic way as a function of time. Specifically, whenever the trace distance decreases monotonically, information flow is negative, meaning that the system continuously lose information due to the presence of the environment. On the other hand, if for certain time intervals information flow becomes positive, then this signals a partial and temporary increase of distinguishability and, correspondingly, a partial recover of information. This information back-flow has been proposed as the physical manifestation of memory effects and non-Markovianity. This idea is known as BLP non-Markovianity.\n",
    "\n",
    "Note that, whenever the dynamical map is BLP non-Markovian, i.e., in presence of information back-flow, then it is also CP non-divisible. However, the inverse is not true, namely, there exist systems that are CP non-divisible but BLP Markovian. In general, the concept of non-divisibility and the concept of BLP non-Markovianity, or information back-flow quantified by trace distance, do not coincide and their relationship has been the subject of numerous studies (see, e.g., Ref. [[10](#10), [11](#11)] for reviews)."
   ]
  },
  {
   "cell_type": "markdown",
   "metadata": {},
   "source": [
    "Based on this approach, the BLP measure of non-Markovianity $\\mathcal{N}_{\\text{BLP} }$ is defined by summing over all periods of non-monotonicity of the information flow, including an optimization over all pairs of initial states of the system: \n",
    "\n",
    "\\begin{equation}\n",
    "\\mathcal{N}_{\\text{BLP} }(\\Phi_t)=\\max_{\\rho^{1,2}_0}\\int_{\\sigma>0}dt\\:\\sigma(t).\n",
    "\\tag{8.7}\n",
    "\\end{equation}"
   ]
  },
  {
   "cell_type": "markdown",
   "metadata": {},
   "source": [
    "The non-additivity of this measure has been numerically proven, highlighting the challenge presented when one wishes to consider higher dimensional systems of qubits  [[23](#23)]-[[25](#25)]. Proofs of specific mathematical attributes of the optimal state pairs have to some degree eased the numerical challenges of this calculation by eliminating regions of the $n$-dimensional Hilbert space one should consider [[26](#26)]. Indeed, it has been shown that the states which maximize the measure must lie on the boundary of the space of physical states and must be orthogonal. Finally, we note that in the spirit of this measure, trace distance is not a unique monotone distance and one may also use others such as the statistical distance [[27](#27)]."
   ]
  },
  {
   "cell_type": "markdown",
   "metadata": {},
   "source": [
    "#### 8.2.2.2. Luo, Fu, Song (LFS) Measure <a id='LFS'></a>"
   ]
  },
  {
   "cell_type": "markdown",
   "metadata": {},
   "source": [
    "Luo, Fu and Song in Ref. [[17](#17)] introduced a measure of non-Markovianity based on the monotonicity property characterizing the time-evolution of correlations between system and ancilla when the dynamics are divisible. They focus on the total correlations, including both classical and quantum, captured by the quantum mutual information \n",
    "\n",
    "\\begin{equation}\n",
    "I(\\rho_{SA})=S(\\rho_S)+S(\\rho_A)-S(\\rho_{SA}),\n",
    "\\tag{8.8}\n",
    "\\end{equation}\n",
    "\n",
    "where $\\rho_S=\\rm{tr}_A\\rho_{SA}$ and $\\rho_A =\\rm{tr}_S \\rho_{SA}$ are marginal states of a system and ancilla, respectively, and $S(\\rho)$ is von Neumann entropy of state $\\rho$. \n",
    "The LFS approach associates non-Markovianity to a memory-induced restoration of previously lost total (quantum + classical) correlations between an open quantum system and an ancilla, as measured by the mutual quantum information. In this case, therefore, memory effects manifest themselves as a partial and temporary return of mutual information between system and ancilla."
   ]
  },
  {
   "cell_type": "markdown",
   "metadata": {},
   "source": [
    "The definition of this measure of non-Markovianiy goes as follows\n",
    "\n",
    "\\begin{equation}\n",
    "\\mathcal{N}_{\\text{LFS} }(\\Phi)=\\sup_{\\rho^{SA} } \\int_{\\frac{d}{dt} I >0} \\frac{d}{dt} I(\\rho_t^{SA}) dt, \\label{troppocomplicata}\n",
    "\\tag{8.9}\n",
    "\\end{equation}\n",
    "\n",
    "where $\\rho^{SA}$ is the initial state of a system plus ancilla and $\\rho^{SA}_t=(\\Phi_t \\otimes \\mathbb{I}) \\rho_{SA}$. The authors insist that the optimization of the formula above is done over all possible initial states $\\rho_{SA}$, where not only the state of the ancilla but also its Hilbert space is arbitrary. Of course this makes the optimization problem extremely complicated. \n",
    "Therefore the authors [[17](#17)] also propose a simpler version of this measure without optimization\n",
    "\n",
    "\\begin{equation}\n",
    "\\mathcal{N}_{\\text{LFS}_0}(\\Phi)= \\int_{\\frac{d}{dt} I >0} \\frac{d}{dt} I(\\rho_t^{SA}) dt, \\label{tropposemplice}\n",
    "\\tag{8.10}\n",
    "\\end{equation}\n",
    "\n",
    "where $\\rho^{SA}_t=(\\Phi_t \\otimes \\mathbb{I}) |\\Psi \\rangle \\langle \\Psi|$ and $|\\Psi \\rangle$ is an arbitrary maximally entangled state."
   ]
  },
  {
   "cell_type": "markdown",
   "metadata": {},
   "source": [
    "When the initial state $\\rho_{SA}$ is pure, and also the initial state of the environment with which the system is interacting, one can rewrite $I(\\rho_{SA})$ as the mutual information between the input and output of the channel defining the system evolution,\n",
    "\n",
    "\\begin{equation} \\label{NI}\n",
    "I(\\rho, \\Phi_t)=S(\\rho)+S(\\Phi_t \\rho )-S(\\rho,\\Phi_t), \n",
    "\\tag{8.11}\n",
    "\\end{equation}\n",
    "\n",
    "with $S(\\rho)$ the von Neumann entropy of the input state, $S(\\Phi_t \\rho)$ the entropy of the output state and $S(\\rho,\\Phi_t)$ the entropy exchange. Now the non-Markovianity measure reads as\n",
    "\n",
    "\\begin{equation}\n",
    "\\mathcal{N}_{\\text{I} }(\\Phi)=\\sup_{\\rho} \\int_{\\frac{d}{dt} I >0} \\frac{d}{dt} I(\\rho,\\Phi_t) dt.\n",
    "\\tag{8.12}\n",
    "\\end{equation}\n",
    "\n",
    "The main advantage of $\\mathcal{N}_{\\text{I} }$ over the original measure $\\mathcal{N}_{\\text{LFS} }$ is that the optimization has to be done only over the input state of the system. \n"
   ]
  },
  {
   "cell_type": "markdown",
   "metadata": {},
   "source": [
    "#### 8.2.2.3. Bylicka, Chruściński, Maniscalco (BCM) Measures <a id='BCM'></a>"
   ]
  },
  {
   "cell_type": "markdown",
   "metadata": {},
   "source": [
    "In Ref. [[18](#18)]  two measures that link non-Markovian dynamics with an increase in the efficiency of quantum information processing and communication are introduced. This is motivated by observing that certain capacities of quantum channels are monotonically decreasing functions of time if the channel is divisible. This behavior is a consequence of the connection between the data processing inequality [[28](#28)] and the divisibility of the dynamical map. In other words, the measures proposed in [[18](#18)] can be treated as witnesses of non-Markovian dynamics that cause revivals of quantum channel capacities. In other words, these measures physically quantify the total increase, due to reservoir memory, of the maximum rate at which information can be transferred in noisy channels for a fixed time interval or, equivalently, a fixed length of the transmission line."
   ]
  },
  {
   "cell_type": "markdown",
   "metadata": {},
   "source": [
    "Let us consider, first, the entanglement-assisted classical capacity $C_{ea}$, which sets a bound on the amount of classical information that can be transmitted along a quantum channel when one allows two parties (Alice and Bob) to share an unlimited amount of entanglement [\\ref{NI}), by optimizing over all initial states $\\rho$\n",
    "\n",
    "\\begin{equation}\n",
    "C_{ea}(\\Phi_t)=\\sup_{\\rho} I(\\rho, \\Phi_t). \\label{eq:Cea}\n",
    "\\tag{8.13}\n",
    "\\end{equation}\n",
    "\n",
    "Since the entanglement-assisted capacity is monotonically decreasing in time when the channel is divisible, any increase of $C_{ea}$ would indicate violation of the divisibility property and so can be considered as a signature of non-Markovianity. Based on this a measure of non-Markovianity was introduced\n",
    "\n",
    "\\begin{equation}\\label{NC}\n",
    "\\mathcal{N}_{\\text{C} }=\\int_{ \\frac{d C_{ea} }{dt}(\\Phi_t) >0} \\frac{dC_{ea}(\\Phi_t)}{dt} dt,\n",
    "\\tag{8.14}\n",
    "\\end{equation}\n",
    "\n",
    "where the integral is extended to all time intervals over which $dC_{ea}/dt$ is positive."
   ]
  },
  {
   "cell_type": "markdown",
   "metadata": {},
   "source": [
    "Note that, the calculation of this measure  requires optimization only over the input state $\\rho$, while the optimization required in the definition of $\\mathcal{N}_{\\text{BLP} }$  has to be done over pairs of initial states making it much more complicated to calculate, even knowing that we can restrict ourselves to only orthogonal pairs of states (having in mind that beyond the one qubit case more than one corresponding orthogonal state may exist). Thanks to the additivity of the mutual information, one can prove the additivity of  $\\mathcal{N}_\\text{C}$ in the case of $n$ identical independent channels, i.e., $\\mathcal{N}_\\text{C}(\\Phi^{\\otimes n})=n \\mathcal{N}_\\text{C}(\\Phi)$. "
   ]
  },
  {
   "cell_type": "markdown",
   "metadata": {},
   "source": [
    "We now consider a second quantity, namely, the quantum capacity $Q$. This quantity gives the limit to the rate at which quantum information can be reliably sent down a quantum channel and is defined in terms of the coherent information between the input and output of the quantum channel $I_c (\\rho, \\Phi_t)$ [[29](#29)]:\n",
    "\n",
    "\\begin{equation} \\label{eq:Q}\n",
    "Q(\\Phi_t) = \\lim_{n \\rightarrow \\infty} \\frac{\\max_{\\rho_n }I_c(\\rho_n,\\Phi_t ^{\\otimes n})}{n},\n",
    "\\tag{8.15}\n",
    "\\end{equation}\n",
    "\n",
    "with $ I_c(\\rho, \\Phi_t)=S(\\Phi_t \\rho)-S(\\rho,\\Phi_t)$ [[30](#30)].\n",
    "\n",
    "Following the same line of reasoning done for $C_{ea}$,  a measure of non-Markovianity based on the non-monotonic behavior of the quantum capacity was introduced\n",
    "\\begin{equation} \\label{NQ}\n",
    "\\mathcal{N}_\\text{Q}=\\int_{\\frac{d Q(\\Phi_t)}{dt} >0} \\frac{d Q(\\Phi_t)}{dt} dt,\n",
    "\\tag{8.16}\n",
    "\\end{equation}"
   ]
  },
  {
   "cell_type": "markdown",
   "metadata": {},
   "source": [
    "The following interactive plot shows the behaviour of the channel capacity for a qubit undergoing the amplitude damping channel and different values of $R$. It can be seen that, for $R > 40$, the non-Markovianity is already revealed in the chosen time range. "
   ]
  },
  {
   "cell_type": "code",
   "execution_count": 1,
   "metadata": {},
   "outputs": [
    {
     "output_type": "execute_result",
     "data": {
      "text/plain": [
       "<IPython.lib.display.IFrame at 0x7fc56098d0a0>"
      ],
      "text/html": "\n        <iframe\n            width=\"450\"\n            height=\"500\"\n            src=\"./gen_plots/channel_cap.html\"\n            frameborder=\"0\"\n            allowfullscreen\n        ></iframe>\n        "
     },
     "metadata": {},
     "execution_count": 1
    }
   ],
   "source": [
    "from IPython.display import IFrame\n",
    "\n",
    "IFrame(src='./gen_plots/channel_cap.html', width=450, height=500)"
   ]
  },
  {
   "cell_type": "markdown",
   "metadata": {},
   "source": [
    "**Figure 1.** This interactive plot shows the channel capacity as a function of time for a qubit undergoing the amplitude damping channel dynamics. Drag the slider to see the curve for different values of $R$."
   ]
  },
  {
   "cell_type": "markdown",
   "metadata": {},
   "source": [
    "It it worth noting that the two measures of non-Markovianity based on capacities, in general, do not coincide. The distinction between them is actually quite subtle. We notice indeed that as $ I(\\rho,\\Phi_t) = S(\\rho)+I_c(\\rho, \\Phi_t)$, with $\\rho$ the input state, we have $\\frac{d}{dt} I(\\rho,\\Phi_t) = \\frac{d}{dt} I_c(\\rho, \\Phi_t)$. Therefore a measure based on the violation of the data processing inequality for certain non divisible maps and $\\mathcal{N}_\\text{I}$ would not be able to distinguish between an increase in the different types of correlations. The optimizing state in the definitions (\\ref{eq:Cea}) and (\\ref{eq:Q}), however, is time dependent and does not coincide for the two quantities, hence  $dQ/dt \\neq dC_{ea}/dt$.\n",
    "\n",
    "Contrarily to the entanglement-assisted classical capacity, the quantum channel capacity is in general not additive. However, for degradable channels [[31](#31)], the general definition coincides with the one-shot capacity, $Q(\\Phi_t) = \\max_{\\rho }I_c(\\rho,\\Phi_t) $, and additivity for identical independent channels holds."
   ]
  },
  {
   "cell_type": "markdown",
   "metadata": {},
   "source": [
    "### 8.2.3. Connection between non-divisibility and information back-flow  <a id='connection'></a>"
   ]
  },
  {
   "cell_type": "markdown",
   "metadata": {},
   "source": [
    "The difference between the concept of CP-divisibility and the concept of memory effects due to information back-flow, as signalled by an increase of distinguishability, can be overcome if one allows for a more general definition of distinguishability between states. More precisely, the concept of distinguishability based on trace distance is based on the idea of equal probabilities of preparing the two states, i.e., the preparation is uniformly random and there is no prior additional information on which one of the two states is prepared. One can, however, generalise this concept by introducing the Helstrom matrix $\\Delta$,\n",
    "\\begin{equation}\n",
    "  \\Delta=p_1 \\rho_1 - p_2 \\rho_2  \n",
    "\\tag{8.17}\n",
    "\\end{equation}\n",
    "\n",
    "where $p_1$ and $p_2$ are the prior probabilities of the corresponding states. The information interpretation in terms of the one-shot two-state discrimination problem is valid also in this more general setting [[32](#32)]. "
   ]
  },
  {
   "cell_type": "markdown",
   "metadata": {},
   "source": [
    "In more detail, one now considers two states and their corresponding ancilla evolving under the CPTP dynamical map $\\Phi_t$ as follows\n",
    "\n",
    "\\begin{eqnarray}\n",
    " \\rho^{1,2}_{SA}(t)= (\\Phi_t\\otimes {\\cal I}_d)  \\rho^{1,2}_{SA}(0),\n",
    "\\tag{8.18} \n",
    "\\end{eqnarray}\n",
    "\n",
    "with $  \\rho_{SA}$ the combined system-ancilla state, ${\\cal I}_d$ the identity map, and $d$ the dimension of the Hilbert space of the system, which in this case is equal to the one of the ancilla.\n",
    "\n",
    "It has been recently shown in Ref. [[32](#32)] that, for bijective maps, the trace norm of the Helstrom, matrix defined as,\n",
    "\n",
    "\\begin{eqnarray}\n",
    " E(t) = |\\Delta(t)|=|p_1  \\rho^{1}_{SA}(t) - p_2 \\rho^{2}_{SA}(t)|\n",
    "\\tag{8.19} \n",
    "\\end{eqnarray}\n",
    "\n",
    "is monotonically decreasing iff the map is CP-divisible. This result has been generalised to non-bijective maps in Ref. [[33](#33)]. \n",
    "This allows one to interpret lack of CP-divisibility in terms of information back-flow for system and ancilla, when having prior information on the state of the system."
   ]
  },
  {
   "cell_type": "markdown",
   "metadata": {},
   "source": [
    "Finally, one can release the assumption of prior information and prove that, if one uses a $d+1$ dimensional ancilla, then the dynamical map $\\Phi_t$  is CP-divisible if and only if the trace distance $D$ decreases or remains constant as a function of time for all pairs of initial system-ancilla states Ref.[[18](#18)]. Therefore, also in this case, one can interpret the loss of CP-divisibility in terms of information back-flow for the system-ancilla pair. For further details on the connection between CP-divisibility and information back-flow we refer the reader to the recent perspective article [[11](#11)]."
   ]
  },
  {
   "cell_type": "markdown",
   "metadata": {},
   "source": [
    "## 8.3. Example: Non-Markovian Pure Dephasing Dynamics <a id='ex1'></a>"
   ]
  },
  {
   "cell_type": "markdown",
   "metadata": {},
   "source": [
    "In this section we consider, as a first example, the dynamics of a single qubit interacting with an environment leading to pure dephasing. Note that, as there is no general monotonicity relation between the different non-Markovianity measures, it does not make sense to compare their absolute values. Therefore, in the following we renormalize all measures to take values between zero and 1, and we look at both their qualitative behavior and the Markovian to non-Markovian crossover when certain physical parameters of the model are changed.\n",
    "\n",
    "A microscopic model of the total system-environment dynamics leading to pure dephasing was derived in Refs. [[5](#5)]-[[7](#7)]. One of the advantages of this model is that it is amenable to an exact solution [[5](#5)]-[[7](#7)]. We will consider initially the case of a single qubit interacting with a reservoir with spectral density of the Ohmic class. The behavior of all non-Markovianity measures in this case has been studied in Refs. [[12](#12)], [[34](#34)]-[[36](#36)]. "
   ]
  },
  {
   "cell_type": "markdown",
   "metadata": {},
   "source": [
    "The dynamics of a purely dephasing single qubit is captured by the time-local master equation [[37](#37)]:\n",
    "\n",
    "\\begin{equation} \\label{twoqubit}\n",
    "\\mathcal{L}_t\\rho_t=\\gamma_1(t)\\left[\\sz\\rho_t\\sz-\\frac{1}{2}\\{\\sz\\sz,\\rho\\}\\right],\n",
    "\\tag{8.20}\n",
    "\\end{equation}\n",
    "\n",
    "with $\\gamma_1(t)$ the time-dependent dephasing rate and $\\sz$ the Pauli spin operator. The decay of the off-diagonal elements of the density matrix is described by the decoherence factor $e^{-\\Gamma(t)}$, where $\\Gamma(t)\\geq 0$ and, for a zero-temperature bosonic environment [[6](#6)],\n",
    "\n",
    "\\begin{eqnarray}\n",
    "\\Gamma(t)&=&2\\int_{0}^{t} dt' \\: \\gamma_1(t')\\nn\\\\&=&4\\int d\\omega \\: J(\\omega) \\frac{1-\\cos(\\omega \\tau)}{\\omega^2},\n",
    "\\label{gamma0}\n",
    "\\tag{8.21}\n",
    "\\end{eqnarray}\n",
    "with $J(\\omega)$ the reservoir spectral density [[6](#6), [36](#36)].\n",
    "\n",
    "We consider a reservoir spectral density of the form,\n",
    "\\begin{equation}\n",
    " J(\\omega)=\\frac{\\omega^s}{\\omega_c^{s-1} } e^{-\\omega/\\omega_c}, \n",
    "\\tag{8.22}\n",
    "\\end{equation}\n",
    "where $\\omega_c$ is the cutoff frequency and $s$ is the Ohmicity parameter. "
   ]
  },
  {
   "cell_type": "markdown",
   "metadata": {},
   "source": [
    "In this model re-coherence occurs when $\\Gamma(t)$ temporarily decreases for certain time intervals, corresponding to a negative value of the dephasing rate $\\gamma_1(t)$. \n",
    "One may analytically determine the times $t\\in[a_i,b_i]$ encapsulating non-monotonic intervals of $\\Gamma(t)$, i.e. corresponding to $\\gamma_1(t)=0$, with $i=1, 2, 3,...$ the number of such time intervals. The extremes of the time intervals, $a_i$ and $b_i$, will depend on the Ohmicity parameter $s$, as changing $s$ one changes the form of the reservoir spectral density.\n",
    "In Ref. [[38](#38)] it is shown that, for $s<2$,  $\\gamma_1(t) > 0$ at all times, or equivalently $\\Gamma(t)$ increases monotonically. For $s\\in [2,4]: a_1=\\tan\\pi/s, b_1=\\infty$ and for  $s\\in [4,6]: a_1=\\tan\\pi/s, b_1=\\tan2\\pi/s$, i.e., we only have one time interval of non-monotonic behavior. For $s>6$, $i>1$, i.e., there are more than one interval of time for which the dephasing rates become negative."
   ]
  },
  {
   "cell_type": "markdown",
   "metadata": {},
   "source": [
    "We give here the analytical expressions of $\\Gamma(t)$ at times $a_i$ and $b_i$ as these will be used in the following. \n",
    "\n",
    "\\begin{eqnarray}\n",
    "\\Gamma(a_1)&=\\frac{2\\tilde\\Gamma[s][1+\\cos^{s}(\\pi/s)]}{s-1} \\label{1gamma1}\n",
    "\\tag{8.23}\n",
    "\\end{eqnarray}\n",
    "\n",
    "\\begin{eqnarray}\n",
    "\\Gamma(b_1 )&=\\frac{2\\tilde\\Gamma[s][1-\\cos^{s}(2\\pi/s)]}{s-1} \\hspace{0.7 cm} s\\in [4,6] \n",
    "\\tag{8.24}\n",
    "\\end{eqnarray}\n",
    "\n",
    "\\begin{eqnarray}\n",
    "\\Gamma(b_1)&=2\\tilde\\Gamma[s-1] \\hspace{2.6 cm} s\\in [2,4], \\label{1gammb1}\n",
    "\\tag{8.25}\n",
    "\\end{eqnarray}\n",
    "where $\\tilde\\Gamma[x]$ is the Euler gamma function"
   ]
  },
  {
   "cell_type": "markdown",
   "metadata": {},
   "source": [
    "**RHP Measure**"
   ]
  },
  {
   "cell_type": "markdown",
   "metadata": {},
   "source": [
    "Inserting Eq. (\\ref{twoqubit}) into Eq. (\\ref{g}) and using Eq. (\\ref{RHP_One}) one immediately obtains the analytical expression for the RHP non-Markovianity measure $\\mathcal{N}_{\\text{RHP} }$ for a single qubit [[14](#14)]:\n",
    "\\begin{equation}\n",
    "\\mathcal{N}_{\\text{RHP} }=-2\\int_{\\gamma_1(t)<0}dt\\:\\gamma_1(t)=\\sum_i\\Gamma(a_i)-\\Gamma(b_i). \\label{RHPdephasing}\n",
    "\\tag{8.26}\n",
    "\\end{equation}\n",
    "\n",
    "For the sake of simplicity we look at values of the Ohmicity parameter in the interval $0 \\le s \\le 6$. In this case there is only one interval of negativity of the decay rates and the only values needed are $\\Gamma(a_1)$ and $\\Gamma(b_{1})$, defined in Eqs. (\\ref{1gamma1})-(\\ref{1gammb1})."
   ]
  },
  {
   "cell_type": "markdown",
   "metadata": {},
   "source": [
    "<a id='fig_2'></a>\n",
    "\n",
    "<img src=\"images/Fig_i.png\">"
   ]
  },
  {
   "cell_type": "markdown",
   "metadata": {},
   "source": [
    "**Figure 2.** Non-Markovianity measures for a single purely dephasing qubit as a function of the Ohmicity parameter $s$. We show the RHP Measure (red star),  the BLP (blue asterisk), the LFS measure (green circle), the quantum capacity measure (purple triangle) and the entanglement-assisted capacity measure (orange diamond). Note that the last three measures in this case coincide. All the measures in this case are normalized to unity. Note that the value of all measures for $s \\ge 2$ is always non-zero, even if all measures except RHP take very small values for $s>4$"
   ]
  },
  {
   "cell_type": "markdown",
   "metadata": {},
   "source": [
    "In [Figure 2](#fig_2) we plot $\\mathcal{N}_{\\text{RHP} }$ for different values of the Ohmicity parameter $s$ (red stars). As one can see from the analytical expression, for increasing $s$ the area of the region of negativity of the dephasing rates increases, hence the measure monotonically increases for higher and higher values of $s$."
   ]
  },
  {
   "cell_type": "markdown",
   "metadata": {},
   "source": [
    "**BLP Measure**"
   ]
  },
  {
   "cell_type": "markdown",
   "metadata": {},
   "source": [
    "It is straightforward to show that $\\mathcal{N}_{\\text{BLP} }$  can be written in terms of the two independent elements of the single qubit density matrix [[39](#39)]\n",
    "\n",
    "\\begin{equation}\n",
    "\\mathcal{N}_{\\text{BLP} }=-2 \\max_{m,n} \\int_{\\gamma_1<0}\\gamma_1(t)\\frac{|n|^2e^{-2\\Gamma(t)} }{\\sqrt{m^2+|n|^2e^{-2\\Gamma(t)} }}, \n",
    "\\label{BLPone}\n",
    "\\tag{8.27}\n",
    "\\end{equation}\n",
    "\n",
    "where $m=\\rho_{11}^1(0)-\\rho_{11}^2(0)$ and $n=\\rho_{12}^1(0)-\\rho_{12}^2(0)$, with $\\rho^i_{jj} (0)$  the diagonal elements of the initial density matrices  of the pair and $\\rho_{jk}^i(0)$ their off diagonal elements, with $(i,j,k=1,2)$.  This expression shows immediately that  $\\sigma(t)>0$ iff $\\gamma_1(t)<0$; i.e. $\\mathcal{N}_{\\text{BLP} }\\neq 0$ only when the dynamical map is non-divisible [[12](#12)]. \n",
    "\n",
    "For the model here considered it is possible to analytically solve the optimization problem of Eq. (\\ref{BLPone}) [[40](#40)]. The pair of states optimizing the increase of the trace distance are antipodal states lying on the equatorial plane, e.g., the states $| \\pm \\rangle=\\frac{1}{\\sqrt{2} }(| 0 \\rangle \\pm | 1\\rangle)$, with $ | 0 \\rangle$ and $| 1 \\rangle$ the two states forming the qubit. Hence, we now have:\n",
    "\\begin{equation}\n",
    "\\mathcal{N}_{\\text{BLP} }=\\sum_i e^{-\\Gamma(b_i)}-e^{-\\Gamma(a_i)} \\label{NBLPdephasing}\n",
    "\\tag{8.28}\n",
    "\\end{equation}\n",
    "where again $t\\in[a_i,b_i]$ indicates the time intervals when $\\gamma_1(t)<0$.\n",
    "\n",
    "[Figure 2](#fig_2) shows the behavior of $\\mathcal{N}_{\\text{BLP} }$ when changing $s$ (blue asterix). The measure remains non-zero for increasing values of $s$ but, contrarily to the RHP measure it starts decreasing taking small but finite values for $s>3.2$. "
   ]
  },
  {
   "cell_type": "markdown",
   "metadata": {},
   "source": [
    "**LFS Measure**"
   ]
  },
  {
   "cell_type": "markdown",
   "metadata": {},
   "source": [
    "Numerical results show that the optimizing state for this measure is the maximally mixed state [[18](#18)]. Since \n",
    "$I\\left(\\frac{\\mathbb{I} }{2}, \\Phi_t \\right)= 2-H_2 \\left( \\frac{1}{2}+ \\frac{e^{-\\Gamma(t)} }{2}\\right)$, where $H_2(.)$ stands for the binary Shannon entropy, one has\n",
    "\n",
    "\\begin{equation}\n",
    "    \\frac{d}{dt} I\\left(\\frac{\\mathbb{I} }{2}, \\Phi_t \\right)=-\\frac{1}{2} \\gamma_1(t) e^{-\\Gamma(t)} \\log_2 \\left(\\frac{1+ e^{-\\Gamma(t)} }{1- e^{-\\Gamma(t)} }\\right),\n",
    "\\tag{8.29}\n",
    "\\end{equation}\n",
    "\n",
    "which indicates that the measure $\\mathcal{N}_{\\text{I} }$ has non-zero value if and only if $\\gamma_1(t)<0$, i.e., whenever the dynamical map is non-divisible.\n",
    "\n",
    "The explicit expression for the measure $\\mathcal{N}_{\\text{I} }$ is then easily written as \n",
    "\n",
    " \\begin{equation}\\label{NID}\n",
    "\\mathcal{N}_\\text{I}(\\Phi_t )=\\sum_{i} \\left[H_2 \\left( \\frac{1}{2}+ \\frac{e^{-\\Gamma(a_i)} }{2}\\right)-H_2 \\left( \\frac{1}{2}+ \\frac{e^{-\\Gamma(b_i)} }{2}\\right) \\right].\n",
    "\\tag{8.30}\n",
    "\\end{equation}\n",
    "\n",
    "It is worth noting that in the case of the dephasing channel here considered, for the simple measure without optimization we have, $\\mathcal{N}_\\text{I}(\\Phi_t)=\\mathcal{N}_{\\text{LFS}_0}(\\Phi_t)$.\n",
    "\n",
    "In [Figure 2](#fig_2) we plot $\\mathcal{N}_{\\text{LFS} }$ as a function of $s$ (green circles). We note that the behavior of this measure is qualitatively similar to that of $\\mathcal{N}_{\\text{BLP} }$."
   ]
  },
  {
   "cell_type": "markdown",
   "metadata": {},
   "source": [
    "**BCM Measures**"
   ]
  },
  {
   "cell_type": "markdown",
   "metadata": {},
   "source": [
    "In case of pure-dephasing channels the state optimizing the formula for the classical entanglement assisted capacity is a maximally mixed state, independently of time or of the specific properties of the environmental spectrum. This means that there is a simple analytical formula characterizing it, namely  $C_{ea}^D=I(\\frac{\\mathbb{I} }{2}, \\Phi_t)$ [[41](#41)]. Hence the measures based on mutual information and classical entanglement assisted capacity, in this particular case, coincide: $\\mathcal{N}_{\\text{C} }(\\Phi_t)=\\mathcal N_\\text{I}(\\Phi_t)$.\n",
    "\n",
    "The dephasing channel is degradable for all admissible dephasing rates $\\gamma(t)$, i.e. whenever $\\Gamma(t) \\ge 0$. This simplifies the calculations of the quantum capacity. Indeed, we find that the state optimizing the coherent information in the definition of the quantum capacity is once again the maximally mixed state. Having this in mind one can show a very simple relation between the two capacities, namely $C_{ea}^D(t) = 1+ Q^D(t)$. It follows immediately that $\\mathcal{N}_\\text{Q}(\\Phi_t)=\\mathcal{N}_\\text{C}(\\Phi_t)=\\mathcal N_I(\\Phi_t)$."
   ]
  },
  {
   "cell_type": "markdown",
   "metadata": {},
   "source": [
    " "
   ]
  },
  {
   "cell_type": "markdown",
   "metadata": {},
   "source": [
    "We conclude this subsection stressing that, for the single qubit case, all non-Markovianity measures detect non-divisibility, hence when studying their behavior as a function of the parameter $s$ we obtain the same crossover between Markovian and non-Markovian dynamics, i.e., $s=2$. A direct comparison between the analytic expressions of Eqs. (\\ref{RHPdephasing}), (\\ref{NBLPdephasing}) and (\\ref{NID}) clarifies the different qualitative behaviour shown by the RHP measure with respect to the other ones in [Figure 2](#fig_2). Indeed, the increasing value of the former measure is due to the fact that, for increasing $s$, the number of periods of negativity of the dephasing rate increases and with it the terms contributing to the sum of  Eq. (\\ref{RHPdephasing}). On the contrary, the other measures all depend on the dephasing factors $e^{-\\Gamma(t)}$ calculated at times at which the direction of information flow changes, i.e. $t=a_i$ and $t=b_i$. For increasing values of $s$, in the $s \\gtrsim 3$ parameter space, however,  $e^{-\\Gamma(a_i)} \\simeq e^{-\\Gamma(b_i)}$, hence the values of both $\\mathcal{N}_\\text{BLP}$ and $\\mathcal{N}_\\text{I}(\\Phi_t)=\\mathcal{N}_\\text{Q}(\\Phi_t)=\\mathcal{N}_\\text{C}(\\Phi_t)$ decreases, as one can easily see from Eqs. (\\ref{NBLPdephasing}) and (\\ref{NID}). "
   ]
  },
  {
   "cell_type": "markdown",
   "metadata": {},
   "source": [
    "## 8.4. Example: Non-Markovian Amplitude Damping Channel <a id='ex2'></a>"
   ]
  },
  {
   "cell_type": "markdown",
   "metadata": {},
   "source": [
    "Let us now consider the case in which the interaction between the quantum system and its environment leads to energy exchange between the two, resulting in dissipative open system dynamics. We will focus on exemplary open system models amenable to an exact analytical solution as this allows us to gain a solid understanding of the physical phenomena associated with reservoir memory. We consider a single qubit interacting with a quantized bosonic field with both Lorentzian and Photonic Band Gap (PBG) spectra."
   ]
  },
  {
   "cell_type": "markdown",
   "metadata": {},
   "source": [
    "### 8.4.1. The model <a id='model'></a>"
   ]
  },
  {
   "cell_type": "markdown",
   "metadata": {},
   "source": [
    "The dynamics of a single amplitude damped qubit is captured by the time-local master equation [[37](#37)]: \n",
    "\n",
    "\\begin{equation} \n",
    "\\frac{d\\rho_t}{dt}=\\gamma_1(t)\\left[\\sigma_{-}\\rho\\sigma_{+}-\\frac{1}{2}\\{\\sigma_{+}\\sigma_{-},\\rho_t\\}\\right],\n",
    "\\label{master}\n",
    "\\tag{8.31}\n",
    "\\end{equation}\n",
    "\n",
    "where $\\sigma_{\\pm}$ are the spin lowering and rising operators and\n",
    "\n",
    "\\begin{equation}\n",
    "\\gamma_1(t)=-2\\Re\\frac{\\dot{G}(t)}{G(t)}. \\label{gammaADC}\n",
    "\\tag{8.32}\n",
    "\\end{equation}\n",
    "\n",
    "The function $G(t)$ depends on the form of the reservoir spectral density."
   ]
  },
  {
   "cell_type": "markdown",
   "metadata": {},
   "source": [
    "If the spectral density has a Lorentzian shape, i.e, $J(\\omega)=\\gamma_M\\lambda^2/2\\pi[(\\omega-\\omega^2)+\\lambda^2]$, then the function $G^L(t)$ takes the form: \n",
    "\n",
    "\\begin{equation}\n",
    "G^L(t)=e^{-\\frac{(\\lambda-i\\delta)t}{2} }\\left[\\text{cosh}\\left(\\frac{\\Omega t}{2}\\right)+\\frac{\\lambda-i\\delta}{\\Omega}\\text {sinh}\\left(\\frac{\\Omega t}{2}\\right)\\right],\n",
    "\\tag{8.33}\n",
    "\\end{equation}\n",
    "\n",
    "with \n",
    "\\begin{equation}\n",
    "\\omega=\\sqrt{\\lambda^2-2i\\delta \\lambda -4\\omega^2}\n",
    "\\tag{8.34}\n",
    "\\end{equation}\n",
    "where $\\omega=\\gamma_M\\lambda/2+\\delta^2/4$ and $\\delta=\\omega_0-\\omega_c$. "
   ]
  },
  {
   "cell_type": "markdown",
   "metadata": {},
   "source": [
    "For $\\delta=0$, one obtains the following solution\n",
    "\n",
    "\\begin{eqnarray}\n",
    "G^L(t)&=&e^{-\\lambda t/2}\\left[\\text{cosh}\\left(\\sqrt{1-2r}\\frac{\\lambda t}{2}\\right)\\right.\\nn\\\\&+&\\left.\\frac{1}{\\sqrt{1-2r} }\\text{sinh}\\left(\\sqrt{1-2r}\\frac{\\lambda t}{2}\\right)\\right]\n",
    "\\tag{8.35}\n",
    "\\end{eqnarray}\n",
    "\n",
    "with $r=\\lambda_M/\\lambda$. "
   ]
  },
  {
   "cell_type": "markdown",
   "metadata": {},
   "source": [
    "For the Photonic Band Gap model, the specific form of $G^P(t)$ is as follows [[42](#42)]:\n",
    "\n",
    "\\begin{eqnarray}\n",
    "G^P(t)&=&2v_1x_1e^{\\beta x_1^2+i\\Delta t}+v_2(x_2+y_2)e^{\\beta x_2^2 t+i \\Delta t}\\nn\\\\&-&\\sum_{j=1}^{3}a_jy_j[1-\\Phi(\\sqrt{\\beta x^2_j t})e^{\\beta x^2_j t+i\\Delta t}]. \n",
    "\\tag{8.36}\n",
    "\\end{eqnarray}\n",
    "\n",
    "where $\\Delta=\\tilde\\omega_0-\\omega_e$ is the detuning from the band gap edge frequency $\\omega_e$, set to equal zero as we consider only the resonant case. In addition: \n",
    "\n",
    "\\begin{eqnarray}\n",
    "& & x_1=(A_++A_-)e^{i(\\pi/4)},\\nn\\\\& & \n",
    "x_2=(A_+e^{-i(\\pi/6)}-A_-e^{i(\\pi/6)})e^{-i(\\pi/4),} \\nn\\\\& & \n",
    "x_3=(A_+e^{i(\\pi/6)}-A_-e^{-i(\\pi/6)})e^{i(3\\pi/4)},\n",
    "\\tag{8.37}\n",
    "\\end{eqnarray}\n",
    "\n",
    "\\begin{equation}\n",
    "A\\pm=\\left[\\frac{1}{2}\\pm\\frac{1}{2}\\left[1+\\frac{4}{27}\\frac{\\Delta^3}{\\beta^3}\\right]^{1/2}\\right]^{1/3},\n",
    "\\tag{8.38}\n",
    "\\end{equation}\n",
    "\n",
    "\\begin{equation}\n",
    "v_j=\\frac{x_j}{(x_j-x_i)(x_j-x_k)} \\: \\:(j\\neq i\\neq k;j,i,k=1,2,3),\n",
    "\\tag{8.39}\n",
    "\\end{equation}\n",
    "\n",
    "\\begin{equation}\n",
    "y_j=\\sqrt{ {x_j}^2} \\: (j=1,2,3),\n",
    "\\tag{8.40}\n",
    "\\end{equation}\n",
    "\n",
    "\\begin{equation}\n",
    "\\beta^{3/2}=\\omega_0^{7/2}d^2/6\\pi\\epsilon_0\\hbar c^3.\n",
    "\\tag{8.41}\n",
    "\\end{equation}\n",
    "\n",
    "The coefficient $\\beta$ is defined as the characteristic frequency, $\\epsilon_0$ the Coulomb constant and $d$ the atomic dipole moment. We have defined in our results $z=\\Delta/\\beta$. "
   ]
  },
  {
   "cell_type": "markdown",
   "metadata": {},
   "source": [
    "In general, for the exact amplitude damping channel, the state of the density matrix of the qubit at time $t$ can be written in terms of the initial density matrix elements $\\rho_{ij}$ ($i,j=1,2$) as follows\n",
    "\n",
    "\\begin{equation}\n",
    "\\rho_t =\n",
    " \\begin{pmatrix}\n",
    " 1-|G(t)|^2\\rho_{22}&G(t)\\rho_{12}\\\\\n",
    " \\\\\n",
    " G^*(t)\\rho_{12}^*&|G(t)|^2\\rho_{22}\\\\\n",
    "\\end{pmatrix}.\n",
    "\\tag{8.42}\n",
    "\\end{equation}"
   ]
  },
  {
   "cell_type": "markdown",
   "metadata": {},
   "source": [
    "### 8.4.2. The Non-Markovianity measures <a id='measures'></a>"
   ]
  },
  {
   "cell_type": "markdown",
   "metadata": {},
   "source": [
    "**RHP Measure**"
   ]
  },
  {
   "cell_type": "markdown",
   "metadata": {},
   "source": [
    "Since the master equation is in GKSL form with time-dependent coefficients it is straightforward to evaluate the RHP measure for a generic spectral density [[39](#39)].\n",
    "\\begin{equation}\n",
    "\\mathcal{N}_{\\text{RHP} }=-\\int_{\\gamma_1(t)<0}dt\\:\\gamma_1(t).\n",
    "\\tag{8.43}\n",
    "\\end{equation}\n",
    "\n",
    "We consider first the case of a Lorentzian spectrum \n",
    "\\begin{equation}\n",
    "J(\\omega)=\\frac{\\gamma_M\\lambda^2}{2\\pi[(\\omega-\\omega_c)^2+\\lambda^2]},\n",
    "\\tag{8.44}\n",
    "\\end{equation}\n",
    "\n",
    "with $\\gamma_M$ an effective coupling constant, $\\lambda$ the width of the Lorentzian and $\\omega_c$ the peak frequency. When the qubit frequency $\\omega_0$ coincides with $\\omega_c$  (resonant Jaynes-Cummings model), the dynamical map is non-divisible for $r>r_{\\text{crit} }=0.5$, with $r=\\gamma_M/\\lambda$ [[37](#37)]. From this critical value $\\mathcal{N}_{\\text{RHP} }$ diverges as a direct consequence of the divergent behavior of $\\gamma_1(t)$. Conversely, in the weak coupling regime, i.e. $r<0.5$, $\\gamma_1(t)$ is positive for all times and hence the channel is always divisible ($\\mathcal{N}_{\\text{RHP} }=0$)."
   ]
  },
  {
   "cell_type": "markdown",
   "metadata": {},
   "source": [
    "<a id='fig_3'></a>\n",
    "\n",
    "<img src=\"images/Fig_ii.png\">"
   ]
  },
  {
   "cell_type": "markdown",
   "metadata": {},
   "source": [
    "**Figure 3.** Non-Markovianity measures for a qubit undergoing amplitude damping for **i)** Lorentzian spectrum (left figure) and **ii)** Photonic Band Gap model (right figure). We plot the RHP measure (red star),  the BLP measure (blue asterisk), the LFS measure (green circle), the quantum capacity measure (purple triangle) and the entanglement-assisted capacity measure (orange diamond). All the measures in this case are normalized to unity. We consider the following times periods: **i)** $0 \\le \\lambda t \\le 40$ and **ii)**  $0 \\le \\beta t \\le 20$. For the Lorentzian spectrum, the RHP measure is zero for $r \\le 0.5$ while it diverges for $r>0.5$."
   ]
  },
  {
   "cell_type": "markdown",
   "metadata": {},
   "source": [
    "For the PBG model [\\ref{gammaADC}) and ([8.55](#8.55)) we can study the Markovian to non-Markovian crossover as a function of the reservoir parameter $z=\\Delta/\\beta$, with $\\Delta$ the detuning of the qubit frequency from the edge frequency $\\omega_e$ of the band gap spectrum,  and $\\beta$ a characteristic frequency.  Positive values of $z$ correspond to the case in which the qubit is outside the band gap region while negative values of $z$ correspond to the qubit in the band gap region. In the latter case the well-known phenomenon of population trapping occurs as the emission of energy in the reservoir is strongly inhibited.\n",
    "\n",
    "For $z<z_{\\text{crit} }=1.7$,  the rate $\\gamma_1 (t)$ temporarily attains negative values for certain time intervals. In fact, due to population trapping, for $z \\ll z_{\\text{crit} }$ the asymptotic long time limit is characterized by small amplitude oscillations between positive and negative values which persist as $t \\rightarrow \\infty$. This eventually leads to a divergency not only of the $\\mathcal{N}_{\\text{RHP} }$ measure but of all non-Markovianity measures. In any practical experimental situation, however, the time of the experiment is finite. We will therefore calculate the measures for a fixed time interval, longer compared to the typical times of the system but, of course, shorter than the system-reservoir correlation time which in this case is $\\infty$.\n",
    "\n",
    "In [Figure 3](#fig_3) ii) we plot the RHP measure (red stars) for the PBG reservoir as a function of the parameter $z$. As we can see from the plot the measure has a sudden peak at values of $z$  close to the edge $z=0$, reaching its maximum value for $z=1.0$ before vanishing for $z=1.7$. For increasingly negative values of $z$ under the critical point, RHP non-Markovianity measure decreases to small but finite values. This is due to the decreasing amplitude of the oscillations in the decay rate."
   ]
  },
  {
   "cell_type": "markdown",
   "metadata": {},
   "source": [
    "**BLP Measure**"
   ]
  },
  {
   "cell_type": "markdown",
   "metadata": {},
   "source": [
    "We begin by deriving the analytical expression for $\\mathcal{N}_{\\text{BLP} }$ [[39](#39)]: \n",
    "\n",
    "\\begin{equation}\n",
    "\\mathcal{N}_{\\text{BLP} }=- \\max_{m,n} \\int_{\\gamma_1<0}\\gamma_1(t)\\frac{|G(t)|^3m^2+0.5|G(t)||n|^2}{\\sqrt{|G(t)|^2m^2+|n|^2} }.\n",
    "\\tag{8.45}\n",
    "\\end{equation}\n",
    "\n",
    "where $m=\\rho_{11}^1(0)-\\rho_{11}^2(0)$ and $n=\\rho_{12}^1(0)-\\rho_{12}^2(0)$ are coefficients to be optimized. \n",
    "We have compelling numerical evidence that the maximizing states are the orthogonal states $| + \\rangle \\langle + |$ and $|- \\rangle \\langle -|$ for both the Lorentzian and the PBG spectral densities for any time $t$.  Hence the BLP measure takes the form\n",
    "\n",
    "\\begin{equation}\n",
    "\\mathcal{N}_{\\text{BLP} }=-\\frac{1}{2}\\int_{\\gamma_1<0}\\gamma_1(t)|G(t)|. \\label{NBLPADC}\n",
    "\\tag{8.46}\n",
    "\\end{equation}\n",
    "\n",
    "As we expect when only one decay rate is present in the master equation, $\\mathcal{N}_{\\text{BLP} }\\neq 0$ if and only if the dynamics are non-divisible i.e., $\\gamma_1(t)<0$. \n",
    "\n",
    "[Figure 3](#fig_3) shows $\\mathcal{N}_{\\text{BLP} }$ (blue asterisk) for different values of i) $r$ and ii) $z$ for the Lorentzian and PBG spectra, respectively. The behavior is qualitatively similar to the one of the RHP measure. In the PBG case the peak of non-Markovianity is slightly shifted towards more negative values of $z$. In Ref. [[43](#43)], the BLP measure and RHP witness are calculated for quantum harmonic oscillators in a band gap showing that both measures are sensitive to the edge of the gap, which is what we also observe."
   ]
  },
  {
   "cell_type": "markdown",
   "metadata": {},
   "source": [
    "**BCM and LFS Measures**"
   ]
  },
  {
   "cell_type": "markdown",
   "metadata": {},
   "source": [
    "For the amplitude damping channel the quantum and entanglement-assisted classical capacities, which we indicate here with $Q^A$ and $C_{ea}^A$, respectively, are calculated numerically [[44](#44), [45](#45)]. The states optimizing $I_c(\\rho_t, \\Phi_t)$ and $I(\\rho_t, \\Phi_t)$ are now time-dependent. One finds [[46](#46)] the following formulas $C_{ea}^A  = \\max_{p\\in [0,1]} \\Big\\{ H_2(p) + H_2(|G(t)|^2p) -   H_2([1-|G(t)|^2]p)\\Big\\}$,\n",
    "and $Q^A = \\max_{p\\in [0,1]} \\Big\\{ H_2(|G(t)|^2p) -   H_2([1-|G(t)|^2]p)\\Big\\}$, which still need a simple optimization over the probability $p\\in [0,1]$. \n",
    "The latter formula holds only for $|G(t)|^2 >  \\frac 12$, otherwise $Q(\\Phi^A_t)\\equiv 0$. This is due to the fact that the amplitude damping channel is  degradable for $|G(t)|^2>\\frac{1}{2}$, while for $|G(t)|^2 \\le \\frac{1}{2}$ is anti-degradable with zero quantum capacity. \n",
    "\n",
    "The behaviour of the BCM and LFS measures in the two cases of amplitude damping channels is illustrated in [Figure 3](#fig_3).\n",
    "For both the Lorentzian reservoir spectrum and the PBG the measures $\\N_{\\text{C} }$ and $\\N_\\text{I}$ take non-zero values if and only if the amplitude damping channel is non-divisible. Notice that the measures $\\N_\\text{I}$ and $\\N_\\text{C}$ have very close values. This may seem not surprising given that both measures are based on quantum mutual information. However, the examples show that there is no relation between them even in the simple amplitude damping model here considered. Indeed a strong dependence on the form of the environmental spectrum can be noticed. More precisely, in the case of the Lorentzian spectrum we have $\\N_\\text{C}(\\Phi^A)>\\N_\\text{I}(\\Phi^A)$, while in the PBG model the opposite relation holds (see [Figure 3](#fig_3) i) and  ii), respectively). \n",
    "\n",
    "We would like to emphasize the difference in the behavior of $\\N_\\text{Q}$ for the Lorentzian reservoir spectrum. As shown in [Figure 3](#fig_3) i), indeed, unlike the other measures  $\\N_\\text{Q}$ is equal to zero even for a non-divisible channel and detects non-Markovianity only in a very strong coupling regime, i.e. when $r>43$. The above example is consistent with the intuitive idea that the transmission of quantum information along a quantum channel is more sensitive to noise than the transmission of classical information (although assisted by entanglement shared between Alice and Bob). Once again this conclusion is, however, spectrum-dependent. In the case of the PBG model ([Figure 3](#fig_3) ii)) it is possible to set the parameters such that the noise in the channel has almost the same effect on both kinds of information. This is possible for  $z<0$, because $|G(t)|^2$ in this regime oscillates only above the value $\\frac{1}{2}$, but it is no longer true for $0\\leq z < 2$ as shown in [Figure 3](#fig_3) ii) -- the biggest difference occurring for $z=0$."
   ]
  },
  {
   "cell_type": "markdown",
   "metadata": {},
   "source": [
    "## IBM Q example: Amplitude damping channel <a id='IBMAmpl'></a>"
   ]
  },
  {
   "cell_type": "markdown",
   "metadata": {},
   "source": [
    "In previous chapter we obtained an exact solution for Jaynes-Cummings model with losses, which is a generalised amplitude damping model. The master equation is given by Eq. ([7.10](jaynes_cummings_with_losses.html#me)), where the time dependent decay rate $\\gamma(t)$ has the following analytical form\n",
    "\n",
    "\\begin{equation} \\label{ampD}\n",
    "\\gamma(t)=-2\\Re\\left[\\frac{\\dot{c}_{1}(t)}{c_{1}(t)}\\right],\n",
    "\\end{equation}\n",
    "\n",
    "with\n",
    "\\begin{eqnarray}\n",
    "c_{1}(t)&=&c_{1}(0)e^{-\\lambda t/2}\\left[\\cosh\\left(\\frac{\\lambda t}{2}\\sqrt{1-2R}\\right) + \\frac{1}{\\sqrt{1-2R} }\\sinh\\left(\\frac{\\lambda t}{2}\\sqrt{1-2R}\\right)\\right].\n",
    "\\label{c1lor}\n",
    "\\end{eqnarray}\n",
    "\n",
    "It is a straightforward calculation to show that the time-dependent decay rate $\\gamma(t)$ takes negative values for certain time intervals whenever $2 R\\ge 1$. In this case the dynamical map is not CP-divisible, and therefore non-Markovian. The left plot in interactive [Figure 4](#fig_4) below shows the population of the excited state. It can be seen that, for small $R$, it decays monotonically, while the population oscillates for large values of $R$, since the qubit exchanges information and energy with the central mode of the Lorentzian peak, resonant with the qubit's Bohr frequency.\n",
    "\n",
    "We also implement an experimentally friendly witness of non-Markovianity proposed in Ref. [[47](#47)] which stems from the spectral properties of the dynamical map. The witness is based on the behaviour of an initial maximally entangled state of qubit and auxiliary ancilla, and requires only the measurement of the expectation values of local observables such as $\\sigma_i \\otimes \\sigma_i$, ($i=x,y,z$). Non-monotonic behaviour of the witness as a function of time signals non-Markovianity. Other witnesses of non-Markovianity (such as the BLP measure [[12](#12)]) could be implemented, and may be more efficient at detecting memory effects, but they generally require a larger number of measurements or optimization over initial states."
   ]
  },
  {
   "cell_type": "code",
   "execution_count": 6,
   "metadata": {},
   "outputs": [
    {
     "data": {
      "text/html": [
       "\n",
       "        <iframe\n",
       "            width=\"700\"\n",
       "            height=\"350\"\n",
       "            src=\"./gen_plots/nonmark_witness.html\"\n",
       "            frameborder=\"0\"\n",
       "            allowfullscreen\n",
       "        ></iframe>\n",
       "        "
      ],
      "text/plain": [
       "<IPython.lib.display.IFrame at 0x103094a50>"
      ]
     },
     "execution_count": 6,
     "metadata": {},
     "output_type": "execute_result"
    }
   ],
   "source": [
    "from IPython.display import IFrame\n",
    "\n",
    "IFrame(src='./gen_plots/nonmark_witness.html', width=700, height=350)"
   ]
  },
  {
   "cell_type": "markdown",
   "metadata": {},
   "source": [
    "<a id=\"fig_4\"></a>\n",
    "**Figure 4.** The left plot shows the population of the excited state of a qubit undergoing the amplitude damping channel dynamics, while the right plot depicts the value of the non-Markovianity witness. Drag the slider to modify the value of $R$."
   ]
  },
  {
   "cell_type": "markdown",
   "metadata": {},
   "source": [
    "Here we will use as a basis the circuit from previous chapter and add to it the non-Markovianity witness. The non-Markovianity witness for the mentioned above channel proposed in Ref. [[47](#47)] is based on the dynamical behaviour of the entanglement between the system and an ancilla initially prepared in a maximally entangled state. Namely, this quantity is defined as $f_{\\Phi} = \\langle \\phi^{+} | \\mathbb{I} \\otimes \\Phi_t [| \\phi^{+} \\rangle \\langle \\phi^{+} | ] | \\phi^{+} \\rangle$. Hence, implementing this quantity requires preparing the state $| \\phi^{+} \\rangle$ between the system and an ancilla, which can be achieved using a Hadamard and a CNOT gates, applying the dynamical map to the system and measuring the probability of finding the joint system and ancilla state in $| \\phi^{+} \\rangle$. [Figure 4](#fig_4) (right plot) also depicts the behaviour of the witness for different values of $R$, and shows its oscillations in the non-Markovian regime. As suggested in Ref. [[47](#47)], we need not use an extra CNOT gate to project on the Bell basis; instead, we can take advantage of the fact that $| \\phi^{+} \\rangle \\langle \\phi^{+} | = (\\mathbb{I}\\otimes \\mathbb{I} + \\sigma_{x}\\otimes \\sigma_{x} - \\sigma_{y}\\otimes \\sigma_{y} + \\sigma_{z}\\otimes \\sigma_{z})/4$ and measure the corresponding local observables. We now show the circuit corresponding to the measurement of $\\sigma_{y}\\otimes \\sigma_{y}$."
   ]
  },
  {
   "cell_type": "code",
   "execution_count": 4,
   "metadata": {},
   "outputs": [
    {
     "output_type": "execute_result",
     "data": {
      "text/plain": [
       "<Figure size 507.997x385.28 with 1 Axes>"
      ],
      "image/svg+xml": "<?xml version=\"1.0\" encoding=\"utf-8\" standalone=\"no\"?>\n<!DOCTYPE svg PUBLIC \"-//W3C//DTD SVG 1.1//EN\"\n  \"http://www.w3.org/Graphics/SVG/1.1/DTD/svg11.dtd\">\n<svg height=\"305.2864pt\" version=\"1.1\" viewBox=\"0 0 397.938036 305.2864\" width=\"397.938036pt\" xmlns=\"http://www.w3.org/2000/svg\" xmlns:xlink=\"http://www.w3.org/1999/xlink\">\n <metadata>\n  <rdf:RDF xmlns:cc=\"http://creativecommons.org/ns#\" xmlns:dc=\"http://purl.org/dc/elements/1.1/\" xmlns:rdf=\"http://www.w3.org/1999/02/22-rdf-syntax-ns#\">\n   <cc:Work>\n    <dc:type rdf:resource=\"http://purl.org/dc/dcmitype/StillImage\"/>\n    <dc:date>2021-05-10T15:15:41.747861</dc:date>\n    <dc:format>image/svg+xml</dc:format>\n    <dc:creator>\n     <cc:Agent>\n      <dc:title>Matplotlib v3.4.2, https://matplotlib.org/</dc:title>\n     </cc:Agent>\n    </dc:creator>\n   </cc:Work>\n  </rdf:RDF>\n </metadata>\n <defs>\n  <style type=\"text/css\">*{stroke-linecap:butt;stroke-linejoin:round;}</style>\n </defs>\n <g id=\"figure_1\">\n  <g id=\"patch_1\">\n   <path d=\"M 0 305.2864 \nL 397.938036 305.2864 \nL 397.938036 0 \nL 0 0 \nz\n\" style=\"fill:#ffffff;\"/>\n  </g>\n  <g id=\"axes_1\">\n   <g id=\"patch_2\">\n    <path clip-path=\"url(#pcc9a13b43e)\" d=\"M 263.929746 260.475697 \nL 275.747006 260.475697 \nL 269.838376 268.99776 \nz\n\" style=\"fill:#778899;\"/>\n   </g>\n   <g id=\"patch_3\">\n    <path clip-path=\"url(#pcc9a13b43e)\" d=\"M 354.831746 260.475697 \nL 366.649006 260.475697 \nL 360.740376 268.99776 \nz\n\" style=\"fill:#778899;\"/>\n   </g>\n   <g id=\"line2d_1\">\n    <path clip-path=\"url(#pcc9a13b43e)\" d=\"M 63.490836 43.5608 \nL 386.192936 43.5608 \n\" style=\"fill:none;stroke:#000000;stroke-linecap:square;stroke-width:2;\"/>\n   </g>\n   <g id=\"line2d_2\">\n    <path clip-path=\"url(#pcc9a13b43e)\" d=\"M 63.490836 89.0118 \nL 386.192936 89.0118 \n\" style=\"fill:none;stroke:#000000;stroke-linecap:square;stroke-width:2;\"/>\n   </g>\n   <g id=\"line2d_3\">\n    <path clip-path=\"url(#pcc9a13b43e)\" d=\"M 63.490836 134.4628 \nL 386.192936 134.4628 \n\" style=\"fill:none;stroke:#000000;stroke-linecap:square;stroke-width:2;\"/>\n   </g>\n   <g id=\"line2d_4\">\n    <path clip-path=\"url(#pcc9a13b43e)\" d=\"M 63.490836 179.9138 \nL 386.192936 179.9138 \n\" style=\"fill:none;stroke:#000000;stroke-linecap:square;stroke-width:2;\"/>\n   </g>\n   <g id=\"line2d_5\">\n    <path clip-path=\"url(#pcc9a13b43e)\" d=\"M 63.490836 225.3648 \nL 386.192936 225.3648 \n\" style=\"fill:none;stroke:#000000;stroke-linecap:square;stroke-width:2;\"/>\n   </g>\n   <g id=\"line2d_6\">\n    <path clip-path=\"url(#pcc9a13b43e)\" d=\"M 63.490836 269.338642 \nL 386.192936 269.338642 \n\" style=\"fill:none;stroke:#778899;stroke-linecap:square;stroke-width:2;\"/>\n   </g>\n   <g id=\"line2d_7\">\n    <path clip-path=\"url(#pcc9a13b43e)\" d=\"M 63.490836 272.292957 \nL 386.192936 272.292957 \n\" style=\"fill:none;stroke:#778899;stroke-linecap:square;stroke-width:2;\"/>\n   </g>\n   <g id=\"line2d_8\">\n    <path clip-path=\"url(#pcc9a13b43e)\" d=\"M 133.485376 179.9138 \nL 133.485376 89.0118 \n\" style=\"fill:none;stroke:#6fa4ff;stroke-linecap:square;stroke-width:2;\"/>\n   </g>\n   <g id=\"line2d_9\">\n    <path clip-path=\"url(#pcc9a13b43e)\" d=\"M 178.936376 134.4628 \nL 178.936376 89.0118 \n\" style=\"fill:none;stroke:#bb8bff;stroke-linecap:square;stroke-width:2;\"/>\n   </g>\n   <g id=\"line2d_10\">\n    <path clip-path=\"url(#pcc9a13b43e)\" d=\"M 224.387376 134.4628 \nL 224.387376 89.0118 \n\" style=\"fill:none;stroke:#6fa4ff;stroke-linecap:square;stroke-width:2;\"/>\n   </g>\n   <g id=\"line2d_11\">\n    <path clip-path=\"url(#pcc9a13b43e)\" d=\"M 271.315534 179.9138 \nL 271.315534 260.475697 \n\" style=\"fill:none;stroke:#778899;stroke-linecap:square;stroke-width:2;\"/>\n   </g>\n   <g id=\"line2d_12\">\n    <path clip-path=\"url(#pcc9a13b43e)\" d=\"M 268.361219 179.9138 \nL 268.361219 260.475697 \n\" style=\"fill:none;stroke:#778899;stroke-linecap:square;stroke-width:2;\"/>\n   </g>\n   <g id=\"line2d_13\">\n    <path clip-path=\"url(#pcc9a13b43e)\" d=\"M 362.217534 89.0118 \nL 362.217534 260.475697 \n\" style=\"fill:none;stroke:#778899;stroke-linecap:square;stroke-width:2;\"/>\n   </g>\n   <g id=\"line2d_14\">\n    <path clip-path=\"url(#pcc9a13b43e)\" d=\"M 359.263219 89.0118 \nL 359.263219 260.475697 \n\" style=\"fill:none;stroke:#778899;stroke-linecap:square;stroke-width:2;\"/>\n   </g>\n   <g id=\"line2d_15\">\n    <path clip-path=\"url(#pcc9a13b43e)\" d=\"M 72.581036 275.3609 \nL 77.126136 266.2707 \n\" style=\"fill:none;stroke:#778899;stroke-linecap:square;stroke-width:1.5;\"/>\n   </g>\n   <g id=\"patch_4\">\n    <path clip-path=\"url(#pcc9a13b43e)\" d=\"M 73.262801 103.783375 \nL 102.805951 103.783375 \nL 102.805951 74.240225 \nL 73.262801 74.240225 \nz\n\" style=\"fill:#6fa4ff;stroke:#6fa4ff;stroke-linejoin:miter;stroke-width:1.5;\"/>\n   </g>\n   <g id=\"patch_5\">\n    <path clip-path=\"url(#pcc9a13b43e)\" d=\"M 133.485376 93.443272 \nC 134.660616 93.443272 135.78788 92.976345 136.618901 92.145324 \nC 137.449921 91.314304 137.916849 90.18704 137.916849 89.0118 \nC 137.916849 87.83656 137.449921 86.709296 136.618901 85.878276 \nC 135.78788 85.047255 134.660616 84.580327 133.485376 84.580327 \nC 132.310136 84.580327 131.182872 85.047255 130.351852 85.878276 \nC 129.520832 86.709296 129.053904 87.83656 129.053904 89.0118 \nC 129.053904 90.18704 129.520832 91.314304 130.351852 92.145324 \nC 131.182872 92.976345 132.310136 93.443272 133.485376 93.443272 \nz\n\" style=\"fill:#6fa4ff;stroke:#6fa4ff;stroke-linejoin:miter;stroke-width:1.5;\"/>\n   </g>\n   <g id=\"patch_6\">\n    <path clip-path=\"url(#pcc9a13b43e)\" d=\"M 133.485376 190.253902 \nC 136.227603 190.253902 138.857885 189.164404 140.796933 187.225357 \nC 142.73598 185.286309 143.825479 182.656027 143.825479 179.9138 \nC 143.825479 177.171573 142.73598 174.541291 140.796933 172.602243 \nC 138.857885 170.663196 136.227603 169.573697 133.485376 169.573697 \nC 130.743149 169.573697 128.112867 170.663196 126.17382 172.602243 \nC 124.234772 174.541291 123.145274 177.171573 123.145274 179.9138 \nC 123.145274 182.656027 124.234772 185.286309 126.17382 187.225357 \nC 128.112867 189.164404 130.743149 190.253902 133.485376 190.253902 \nz\n\" style=\"fill:#6fa4ff;stroke:#6fa4ff;stroke-linejoin:miter;stroke-width:2;\"/>\n   </g>\n   <g id=\"patch_7\">\n    <path clip-path=\"url(#pcc9a13b43e)\" d=\"M 178.936376 93.443272 \nC 180.111616 93.443272 181.23888 92.976345 182.069901 92.145324 \nC 182.900921 91.314304 183.367849 90.18704 183.367849 89.0118 \nC 183.367849 87.83656 182.900921 86.709296 182.069901 85.878276 \nC 181.23888 85.047255 180.111616 84.580327 178.936376 84.580327 \nC 177.761136 84.580327 176.633872 85.047255 175.802852 85.878276 \nC 174.971832 86.709296 174.504904 87.83656 174.504904 89.0118 \nC 174.504904 90.18704 174.971832 91.314304 175.802852 92.145324 \nC 176.633872 92.976345 177.761136 93.443272 178.936376 93.443272 \nz\n\" style=\"fill:#bb8bff;stroke:#bb8bff;stroke-linejoin:miter;stroke-width:1.5;\"/>\n   </g>\n   <g id=\"patch_8\">\n    <path clip-path=\"url(#pcc9a13b43e)\" d=\"M 164.164801 149.234375 \nL 193.707951 149.234375 \nL 193.707951 119.691225 \nL 164.164801 119.691225 \nz\n\" style=\"fill:#bb8bff;stroke:#bb8bff;stroke-linejoin:miter;stroke-width:1.5;\"/>\n   </g>\n   <g id=\"patch_9\">\n    <path clip-path=\"url(#pcc9a13b43e)\" d=\"M 164.164801 194.685375 \nL 193.707951 194.685375 \nL 193.707951 165.142225 \nL 164.164801 165.142225 \nz\n\" style=\"fill:#6fa4ff;stroke:#6fa4ff;stroke-linejoin:miter;stroke-width:1.5;\"/>\n   </g>\n   <g id=\"patch_10\">\n    <path clip-path=\"url(#pcc9a13b43e)\" d=\"M 224.387376 138.894272 \nC 225.562616 138.894272 226.68988 138.427345 227.520901 137.596324 \nC 228.351921 136.765304 228.818849 135.63804 228.818849 134.4628 \nC 228.818849 133.28756 228.351921 132.160296 227.520901 131.329276 \nC 226.68988 130.498255 225.562616 130.031327 224.387376 130.031327 \nC 223.212136 130.031327 222.084872 130.498255 221.253852 131.329276 \nC 220.422832 132.160296 219.955904 133.28756 219.955904 134.4628 \nC 219.955904 135.63804 220.422832 136.765304 221.253852 137.596324 \nC 222.084872 138.427345 223.212136 138.894272 224.387376 138.894272 \nz\n\" style=\"fill:#6fa4ff;stroke:#6fa4ff;stroke-linejoin:miter;stroke-width:1.5;\"/>\n   </g>\n   <g id=\"patch_11\">\n    <path clip-path=\"url(#pcc9a13b43e)\" d=\"M 224.387376 99.351902 \nC 227.129603 99.351902 229.759885 98.262404 231.698933 96.323357 \nC 233.63798 94.384309 234.727479 91.754027 234.727479 89.0118 \nC 234.727479 86.269573 233.63798 83.639291 231.698933 81.700243 \nC 229.759885 79.761196 227.129603 78.671697 224.387376 78.671697 \nC 221.645149 78.671697 219.014867 79.761196 217.07582 81.700243 \nC 215.136772 83.639291 214.047274 86.269573 214.047274 89.0118 \nC 214.047274 91.754027 215.136772 94.384309 217.07582 96.323357 \nC 219.014867 98.262404 221.645149 99.351902 224.387376 99.351902 \nz\n\" style=\"fill:#6fa4ff;stroke:#6fa4ff;stroke-linejoin:miter;stroke-width:2;\"/>\n   </g>\n   <g id=\"patch_12\">\n    <path clip-path=\"url(#pcc9a13b43e)\" d=\"M 209.615801 194.685375 \nL 239.158951 194.685375 \nL 239.158951 165.142225 \nL 209.615801 165.142225 \nz\n\" style=\"fill:#6fa4ff;stroke:#6fa4ff;stroke-linejoin:miter;stroke-width:1.5;\"/>\n   </g>\n   <g id=\"patch_13\">\n    <path clip-path=\"url(#pcc9a13b43e)\" d=\"M 255.066801 103.783375 \nL 284.609951 103.783375 \nL 284.609951 74.240225 \nL 255.066801 74.240225 \nz\n\" style=\"fill:#6fa4ff;stroke:#6fa4ff;stroke-linejoin:miter;stroke-width:1.5;\"/>\n   </g>\n   <g id=\"patch_14\">\n    <path clip-path=\"url(#pcc9a13b43e)\" d=\"M 255.066801 194.685375 \nL 284.609951 194.685375 \nL 284.609951 165.142225 \nL 255.066801 165.142225 \nz\n\" style=\"stroke:#000000;stroke-linejoin:miter;stroke-width:1.5;\"/>\n   </g>\n   <g id=\"patch_15\">\n    <path clip-path=\"url(#pcc9a13b43e)\" d=\"M 280.178479 184.345272 \nC 280.178479 181.603959 279.088335 178.972118 277.149933 177.033716 \nC 275.211531 175.095314 272.57969 174.00517 269.838376 174.00517 \nC 267.097062 174.00517 264.465221 175.095314 262.52682 177.033716 \nC 260.588418 178.972118 259.498274 181.603959 259.498274 184.345272 \n\" style=\"fill:none;stroke:#ffffff;stroke-linejoin:miter;stroke-width:2;\"/>\n   </g>\n   <g id=\"patch_16\">\n    <path clip-path=\"url(#pcc9a13b43e)\" d=\"M 300.517801 103.783375 \nL 330.060951 103.783375 \nL 330.060951 74.240225 \nL 300.517801 74.240225 \nz\n\" style=\"fill:#6fa4ff;stroke:#6fa4ff;stroke-linejoin:miter;stroke-width:1.5;\"/>\n   </g>\n   <g id=\"patch_17\">\n    <path clip-path=\"url(#pcc9a13b43e)\" d=\"M 345.968801 103.783375 \nL 375.511951 103.783375 \nL 375.511951 74.240225 \nL 345.968801 74.240225 \nz\n\" style=\"stroke:#000000;stroke-linejoin:miter;stroke-width:1.5;\"/>\n   </g>\n   <g id=\"patch_18\">\n    <path clip-path=\"url(#pcc9a13b43e)\" d=\"M 371.080479 93.443272 \nC 371.080479 90.701959 369.990335 88.070118 368.051933 86.131716 \nC 366.113531 84.193314 363.48169 83.10317 360.740376 83.10317 \nC 357.999062 83.10317 355.367221 84.193314 353.42882 86.131716 \nC 351.490418 88.070118 350.400274 90.701959 350.400274 93.443272 \n\" style=\"fill:none;stroke:#ffffff;stroke-linejoin:miter;stroke-width:2;\"/>\n   </g>\n   <g id=\"line2d_16\">\n    <path clip-path=\"url(#pcc9a13b43e)\" d=\"M 269.838376 184.345272 \nL 280.178479 174.00517 \n\" style=\"fill:none;stroke:#ffffff;stroke-linecap:square;stroke-width:2;\"/>\n   </g>\n   <g id=\"line2d_17\">\n    <path clip-path=\"url(#pcc9a13b43e)\" d=\"M 360.740376 93.443272 \nL 371.080479 83.10317 \n\" style=\"fill:none;stroke:#ffffff;stroke-linecap:square;stroke-width:2;\"/>\n   </g>\n   <g id=\"line2d_18\">\n    <path clip-path=\"url(#pcc9a13b43e)\" d=\"M 133.485376 185.82243 \nL 133.485376 174.00517 \n\" style=\"fill:none;stroke:#ffffff;stroke-linecap:square;stroke-width:2;\"/>\n   </g>\n   <g id=\"line2d_19\">\n    <path clip-path=\"url(#pcc9a13b43e)\" d=\"M 127.576746 179.9138 \nL 139.394006 179.9138 \n\" style=\"fill:none;stroke:#ffffff;stroke-linecap:square;stroke-width:2;\"/>\n   </g>\n   <g id=\"line2d_20\">\n    <path clip-path=\"url(#pcc9a13b43e)\" d=\"M 224.387376 94.92043 \nL 224.387376 83.10317 \n\" style=\"fill:none;stroke:#ffffff;stroke-linecap:square;stroke-width:2;\"/>\n   </g>\n   <g id=\"line2d_21\">\n    <path clip-path=\"url(#pcc9a13b43e)\" d=\"M 218.478746 89.0118 \nL 230.296006 89.0118 \n\" style=\"fill:none;stroke:#ffffff;stroke-linecap:square;stroke-width:2;\"/>\n   </g>\n   <g id=\"text_1\">\n    <g clip-path=\"url(#pcc9a13b43e)\">\n     <!-- H -->\n     <g transform=\"translate(83.146173 92.598987)scale(0.13 -0.13)\">\n      <defs>\n       <path d=\"M 628 4666 \nL 1259 4666 \nL 1259 2753 \nL 3553 2753 \nL 3553 4666 \nL 4184 4666 \nL 4184 0 \nL 3553 0 \nL 3553 2222 \nL 1259 2222 \nL 1259 0 \nL 628 0 \nL 628 4666 \nz\n\" id=\"DejaVuSans-48\" transform=\"scale(0.015625)\"/>\n      </defs>\n      <use xlink:href=\"#DejaVuSans-48\"/>\n     </g>\n    </g>\n   </g>\n   <g id=\"text_2\">\n    <g clip-path=\"url(#pcc9a13b43e)\">\n     <!-- $\\mathrm{U}_3$ -->\n     <g transform=\"translate(171.006376 133.618515)scale(0.13 -0.13)\">\n      <defs>\n       <path d=\"M 556 4666 \nL 1191 4666 \nL 1191 1831 \nQ 1191 1081 1462 751 \nQ 1734 422 2344 422 \nQ 2950 422 3222 751 \nQ 3494 1081 3494 1831 \nL 3494 4666 \nL 4128 4666 \nL 4128 1753 \nQ 4128 841 3676 375 \nQ 3225 -91 2344 -91 \nQ 1459 -91 1007 375 \nQ 556 841 556 1753 \nL 556 4666 \nz\n\" id=\"DejaVuSans-55\" transform=\"scale(0.015625)\"/>\n       <path d=\"M 2597 2516 \nQ 3050 2419 3304 2112 \nQ 3559 1806 3559 1356 \nQ 3559 666 3084 287 \nQ 2609 -91 1734 -91 \nQ 1441 -91 1130 -33 \nQ 819 25 488 141 \nL 488 750 \nQ 750 597 1062 519 \nQ 1375 441 1716 441 \nQ 2309 441 2620 675 \nQ 2931 909 2931 1356 \nQ 2931 1769 2642 2001 \nQ 2353 2234 1838 2234 \nL 1294 2234 \nL 1294 2753 \nL 1863 2753 \nQ 2328 2753 2575 2939 \nQ 2822 3125 2822 3475 \nQ 2822 3834 2567 4026 \nQ 2313 4219 1838 4219 \nQ 1578 4219 1281 4162 \nQ 984 4106 628 3988 \nL 628 4550 \nQ 988 4650 1302 4700 \nQ 1616 4750 1894 4750 \nQ 2613 4750 3031 4423 \nQ 3450 4097 3450 3541 \nQ 3450 3153 3228 2886 \nQ 3006 2619 2597 2516 \nz\n\" id=\"DejaVuSans-33\" transform=\"scale(0.015625)\"/>\n      </defs>\n      <use transform=\"translate(0 0.09375)\" xlink:href=\"#DejaVuSans-55\"/>\n      <use transform=\"translate(74.150391 -16.3125)scale(0.7)\" xlink:href=\"#DejaVuSans-33\"/>\n     </g>\n    </g>\n   </g>\n   <g id=\"text_3\">\n    <g clip-path=\"url(#pcc9a13b43e)\">\n     <!-- 0, 0, 0 -->\n     <g transform=\"translate(166.216376 145.533245)scale(0.08 -0.08)\">\n      <defs>\n       <path d=\"M 2034 4250 \nQ 1547 4250 1301 3770 \nQ 1056 3291 1056 2328 \nQ 1056 1369 1301 889 \nQ 1547 409 2034 409 \nQ 2525 409 2770 889 \nQ 3016 1369 3016 2328 \nQ 3016 3291 2770 3770 \nQ 2525 4250 2034 4250 \nz\nM 2034 4750 \nQ 2819 4750 3233 4129 \nQ 3647 3509 3647 2328 \nQ 3647 1150 3233 529 \nQ 2819 -91 2034 -91 \nQ 1250 -91 836 529 \nQ 422 1150 422 2328 \nQ 422 3509 836 4129 \nQ 1250 4750 2034 4750 \nz\n\" id=\"DejaVuSans-30\" transform=\"scale(0.015625)\"/>\n       <path d=\"M 750 794 \nL 1409 794 \nL 1409 256 \nL 897 -744 \nL 494 -744 \nL 750 256 \nL 750 794 \nz\n\" id=\"DejaVuSans-2c\" transform=\"scale(0.015625)\"/>\n       <path id=\"DejaVuSans-20\" transform=\"scale(0.015625)\"/>\n      </defs>\n      <use xlink:href=\"#DejaVuSans-30\"/>\n      <use x=\"63.623047\" xlink:href=\"#DejaVuSans-2c\"/>\n      <use x=\"95.410156\" xlink:href=\"#DejaVuSans-20\"/>\n      <use x=\"127.197266\" xlink:href=\"#DejaVuSans-30\"/>\n      <use x=\"190.820312\" xlink:href=\"#DejaVuSans-2c\"/>\n      <use x=\"222.607422\" xlink:href=\"#DejaVuSans-20\"/>\n      <use x=\"254.394531\" xlink:href=\"#DejaVuSans-30\"/>\n     </g>\n    </g>\n   </g>\n   <g id=\"text_4\">\n    <g clip-path=\"url(#pcc9a13b43e)\">\n     <!-- $\\mathrm{S}^\\dagger$ -->\n     <g transform=\"translate(170.486376 183.500987)scale(0.13 -0.13)\">\n      <defs>\n       <path d=\"M 3425 4513 \nL 3425 3897 \nQ 3066 4069 2747 4153 \nQ 2428 4238 2131 4238 \nQ 1616 4238 1336 4038 \nQ 1056 3838 1056 3469 \nQ 1056 3159 1242 3001 \nQ 1428 2844 1947 2747 \nL 2328 2669 \nQ 3034 2534 3370 2195 \nQ 3706 1856 3706 1288 \nQ 3706 609 3251 259 \nQ 2797 -91 1919 -91 \nQ 1588 -91 1214 -16 \nQ 841 59 441 206 \nL 441 856 \nQ 825 641 1194 531 \nQ 1563 422 1919 422 \nQ 2459 422 2753 634 \nQ 3047 847 3047 1241 \nQ 3047 1584 2836 1778 \nQ 2625 1972 2144 2069 \nL 1759 2144 \nQ 1053 2284 737 2584 \nQ 422 2884 422 3419 \nQ 422 4038 858 4394 \nQ 1294 4750 2059 4750 \nQ 2388 4750 2728 4690 \nQ 3069 4631 3425 4513 \nz\n\" id=\"DejaVuSans-53\" transform=\"scale(0.015625)\"/>\n       <path d=\"M 1325 4666 \nL 1875 4666 \nL 1875 3353 \nL 3022 3353 \nL 3022 2875 \nL 1875 2875 \nL 1875 -616 \nL 1325 -616 \nL 1325 2875 \nL 178 2875 \nL 178 3353 \nL 1325 3353 \nL 1325 4666 \nz\n\" id=\"DejaVuSans-2020\" transform=\"scale(0.015625)\"/>\n      </defs>\n      <use transform=\"translate(0 0.684375)\" xlink:href=\"#DejaVuSans-53\"/>\n      <use transform=\"translate(78.071289 38.965625)scale(0.7)\" xlink:href=\"#DejaVuSans-2020\"/>\n     </g>\n    </g>\n   </g>\n   <g id=\"text_5\">\n    <g clip-path=\"url(#pcc9a13b43e)\">\n     <!-- H -->\n     <g transform=\"translate(219.499173 183.500987)scale(0.13 -0.13)\">\n      <use xlink:href=\"#DejaVuSans-48\"/>\n     </g>\n    </g>\n   </g>\n   <g id=\"text_6\">\n    <g clip-path=\"url(#pcc9a13b43e)\">\n     <!-- $\\mathrm{S}^\\dagger$ -->\n     <g transform=\"translate(261.388376 92.598987)scale(0.13 -0.13)\">\n      <use transform=\"translate(0 0.684375)\" xlink:href=\"#DejaVuSans-53\"/>\n      <use transform=\"translate(78.071289 38.965625)scale(0.7)\" xlink:href=\"#DejaVuSans-2020\"/>\n     </g>\n    </g>\n   </g>\n   <g id=\"text_7\">\n    <g clip-path=\"url(#pcc9a13b43e)\">\n     <!-- 1 -->\n     <g transform=\"translate(281.201126 264.107825)scale(0.104 -0.104)\">\n      <defs>\n       <path d=\"M 794 531 \nL 1825 531 \nL 1825 4091 \nL 703 3866 \nL 703 4441 \nL 1819 4666 \nL 2450 4666 \nL 2450 531 \nL 3481 531 \nL 3481 0 \nL 794 0 \nL 794 531 \nz\n\" id=\"DejaVuSans-31\" transform=\"scale(0.015625)\"/>\n      </defs>\n      <use xlink:href=\"#DejaVuSans-31\"/>\n     </g>\n    </g>\n   </g>\n   <g id=\"text_8\">\n    <g clip-path=\"url(#pcc9a13b43e)\">\n     <!-- H -->\n     <g transform=\"translate(310.401173 92.598987)scale(0.13 -0.13)\">\n      <use xlink:href=\"#DejaVuSans-48\"/>\n     </g>\n    </g>\n   </g>\n   <g id=\"text_9\">\n    <g clip-path=\"url(#pcc9a13b43e)\">\n     <!-- 0 -->\n     <g transform=\"translate(372.103126 264.107825)scale(0.104 -0.104)\">\n      <use xlink:href=\"#DejaVuSans-30\"/>\n     </g>\n    </g>\n   </g>\n   <g id=\"text_10\">\n    <g clip-path=\"url(#pcc9a13b43e)\">\n     <!-- ${q}_{0}$ -->\n     <g transform=\"translate(36.363136 48.011777)scale(0.1625 -0.1625)\">\n      <defs>\n       <path d=\"M 2669 525 \nQ 2438 222 2123 65 \nQ 1809 -91 1428 -91 \nQ 897 -91 595 267 \nQ 294 625 294 1253 \nQ 294 1759 480 2231 \nQ 666 2703 1013 3078 \nQ 1238 3322 1530 3453 \nQ 1822 3584 2144 3584 \nQ 2531 3584 2781 3431 \nQ 3031 3278 3144 2969 \nL 3244 3494 \nL 3822 3494 \nL 2888 -1319 \nL 2309 -1319 \nL 2669 525 \nz\nM 891 1338 \nQ 891 875 1084 633 \nQ 1278 391 1644 391 \nQ 2188 391 2572 911 \nQ 2956 1431 2956 2175 \nQ 2956 2625 2757 2864 \nQ 2559 3103 2188 3103 \nQ 1916 3103 1684 2976 \nQ 1453 2850 1281 2606 \nQ 1100 2350 995 2006 \nQ 891 1663 891 1338 \nz\n\" id=\"DejaVuSans-Oblique-71\" transform=\"scale(0.015625)\"/>\n      </defs>\n      <use xlink:href=\"#DejaVuSans-Oblique-71\"/>\n      <use transform=\"translate(63.476562 -16.40625)scale(0.7)\" xlink:href=\"#DejaVuSans-30\"/>\n     </g>\n    </g>\n   </g>\n   <g id=\"text_11\">\n    <g clip-path=\"url(#pcc9a13b43e)\">\n     <!-- ${q}_{1}$ -->\n     <g transform=\"translate(36.363136 93.462777)scale(0.1625 -0.1625)\">\n      <use xlink:href=\"#DejaVuSans-Oblique-71\"/>\n      <use transform=\"translate(63.476562 -16.40625)scale(0.7)\" xlink:href=\"#DejaVuSans-31\"/>\n     </g>\n    </g>\n   </g>\n   <g id=\"text_12\">\n    <g clip-path=\"url(#pcc9a13b43e)\">\n     <!-- ${q}_{2}$ -->\n     <g transform=\"translate(36.363136 138.913777)scale(0.1625 -0.1625)\">\n      <defs>\n       <path d=\"M 1228 531 \nL 3431 531 \nL 3431 0 \nL 469 0 \nL 469 531 \nQ 828 903 1448 1529 \nQ 2069 2156 2228 2338 \nQ 2531 2678 2651 2914 \nQ 2772 3150 2772 3378 \nQ 2772 3750 2511 3984 \nQ 2250 4219 1831 4219 \nQ 1534 4219 1204 4116 \nQ 875 4013 500 3803 \nL 500 4441 \nQ 881 4594 1212 4672 \nQ 1544 4750 1819 4750 \nQ 2544 4750 2975 4387 \nQ 3406 4025 3406 3419 \nQ 3406 3131 3298 2873 \nQ 3191 2616 2906 2266 \nQ 2828 2175 2409 1742 \nQ 1991 1309 1228 531 \nz\n\" id=\"DejaVuSans-32\" transform=\"scale(0.015625)\"/>\n      </defs>\n      <use xlink:href=\"#DejaVuSans-Oblique-71\"/>\n      <use transform=\"translate(63.476562 -16.40625)scale(0.7)\" xlink:href=\"#DejaVuSans-32\"/>\n     </g>\n    </g>\n   </g>\n   <g id=\"text_13\">\n    <g clip-path=\"url(#pcc9a13b43e)\">\n     <!-- ${q}_{3}$ -->\n     <g transform=\"translate(36.363136 184.364777)scale(0.1625 -0.1625)\">\n      <use xlink:href=\"#DejaVuSans-Oblique-71\"/>\n      <use transform=\"translate(63.476562 -16.40625)scale(0.7)\" xlink:href=\"#DejaVuSans-33\"/>\n     </g>\n    </g>\n   </g>\n   <g id=\"text_14\">\n    <g clip-path=\"url(#pcc9a13b43e)\">\n     <!-- ${q}_{4}$ -->\n     <g transform=\"translate(36.363136 229.815777)scale(0.1625 -0.1625)\">\n      <defs>\n       <path d=\"M 2419 4116 \nL 825 1625 \nL 2419 1625 \nL 2419 4116 \nz\nM 2253 4666 \nL 3047 4666 \nL 3047 1625 \nL 3713 1625 \nL 3713 1100 \nL 3047 1100 \nL 3047 0 \nL 2419 0 \nL 2419 1100 \nL 313 1100 \nL 313 1709 \nL 2253 4666 \nz\n\" id=\"DejaVuSans-34\" transform=\"scale(0.015625)\"/>\n      </defs>\n      <use xlink:href=\"#DejaVuSans-Oblique-71\"/>\n      <use transform=\"translate(63.476562 -16.40625)scale(0.7)\" xlink:href=\"#DejaVuSans-34\"/>\n     </g>\n    </g>\n   </g>\n   <g id=\"text_15\">\n    <g clip-path=\"url(#pcc9a13b43e)\">\n     <!-- 2 -->\n     <g transform=\"translate(68.035936 264.107825)scale(0.104 -0.104)\">\n      <use xlink:href=\"#DejaVuSans-32\"/>\n     </g>\n    </g>\n   </g>\n   <g id=\"text_16\">\n    <g clip-path=\"url(#pcc9a13b43e)\">\n     <!-- c -->\n     <g transform=\"translate(45.465675 275.299784)scale(0.1625 -0.1625)\">\n      <defs>\n       <path d=\"M 3122 3366 \nL 3122 2828 \nQ 2878 2963 2633 3030 \nQ 2388 3097 2138 3097 \nQ 1578 3097 1268 2742 \nQ 959 2388 959 1747 \nQ 959 1106 1268 751 \nQ 1578 397 2138 397 \nQ 2388 397 2633 464 \nQ 2878 531 3122 666 \nL 3122 134 \nQ 2881 22 2623 -34 \nQ 2366 -91 2075 -91 \nQ 1284 -91 818 406 \nQ 353 903 353 1747 \nQ 353 2603 823 3093 \nQ 1294 3584 2113 3584 \nQ 2378 3584 2631 3529 \nQ 2884 3475 3122 3366 \nz\n\" id=\"DejaVuSans-63\" transform=\"scale(0.015625)\"/>\n      </defs>\n      <use xlink:href=\"#DejaVuSans-63\"/>\n     </g>\n    </g>\n   </g>\n  </g>\n </g>\n <defs>\n  <clipPath id=\"pcc9a13b43e\">\n   <rect height=\"290.8864\" width=\"383.538036\" x=\"7.2\" y=\"7.2\"/>\n  </clipPath>\n </defs>\n</svg>\n",
      "image/png": "[encoded data removed]"
     },
     "metadata": {},
     "execution_count": 4
    }
   ],
   "source": [
    "#######################################\n",
    "#  Amplitude damping channel          #\n",
    "#   with non-M. witness on IBMQ_VIGO  #\n",
    "#######################################\n",
    "from qiskit import QuantumRegister, ClassicalRegister, QuantumCircuit\n",
    "# Quantum and classical register\n",
    "q = QuantumRegister(5, name='q')\n",
    "c = ClassicalRegister(2, name='c')\n",
    "\n",
    "# Quantum circuit\n",
    "ad = QuantumCircuit(q, c)\n",
    "\n",
    "# Amplitude damping channel acting on system qubit\n",
    "# with non-Markovianity witness\n",
    "## Qubit identification\n",
    "system = 1\n",
    "environment = 2\n",
    "ancilla = 3\n",
    "\n",
    "# Define rotation angle\n",
    "theta = 0.0\n",
    "\n",
    "# Construct circuit\n",
    "## Bell state between system and ancilla\n",
    "ad.h(q[system])\n",
    "ad.cx(q[system], q[ancilla])\n",
    "\n",
    "## Channel acting on system qubit\n",
    "ad.cu3(theta, 0.0, 0.0, q[system], q[environment])\n",
    "ad.cx(q[environment], q[system])\n",
    "\n",
    "## Local measurement for the witness\n",
    "### Choose observable\n",
    "observable = 'YY'\n",
    "### Change to the corresponding basis\n",
    "if observable == 'XX':\n",
    "    ad.h(q[system])\n",
    "    ad.h(q[ancilla])\n",
    "elif observable == 'YY':\n",
    "    ad.sdg(q[system])\n",
    "    ad.h(q[system])\n",
    "    ad.sdg(q[ancilla])\n",
    "    ad.h(q[ancilla])\n",
    "### Measure\n",
    "ad.measure(q[system], c[0])\n",
    "ad.measure(q[ancilla], c[1])\n",
    "\n",
    "# Draw circuit\n",
    "ad.draw(output='mpl')"
   ]
  },
  {
   "cell_type": "markdown",
   "metadata": {},
   "source": [
    "In [Figure 5](#fig_5), we plot the experimental results of the entanglement witness for the amplitude damping channel. The witness clearly shows oscillatory behaviour, and therefore properly signals the presence of memory effects."
   ]
  },
  {
   "cell_type": "markdown",
   "metadata": {},
   "source": [
    "<a id='fig_5'></a>\n",
    "\n",
    "<img src=\"images/fig_ad_wit.png\">"
   ]
  },
  {
   "cell_type": "markdown",
   "metadata": {},
   "source": [
    "**Figure 5.** Dynamical behaviour of the non-Markovianity witness for a) $R=0.2$ and b) $R=100$. The dots correspond to the experimental results simulated on `ibmq_vigo`, while the dashed curves show the theoretical prediction."
   ]
  },
  {
   "cell_type": "markdown",
   "metadata": {},
   "source": [
    "## 8.5. Appendix: Mathematical Description of Physical Models <a id='app'></a>"
   ]
  },
  {
   "cell_type": "markdown",
   "metadata": {},
   "source": [
    "In this Appendix, we present in detail the mathematical description of each system considered in this work."
   ]
  },
  {
   "cell_type": "markdown",
   "metadata": {},
   "source": [
    "### 8.5.1. Purely Dephasing Model <a id='dephas'></a>"
   ]
  },
  {
   "cell_type": "markdown",
   "metadata": {},
   "source": [
    "**One Qubit** \n",
    "\n",
    "The Hamiltonian of the system is given as [[6](#6)]: \n",
    "\n",
    "\\begin{equation}\n",
    "H=\\omega_0\\sigma_z+\\sum_k\\omega_k a^{\\dagger}_ka_k+\\sum_k\\sigma_z(g_za_k+g^*_ka_k^{\\dagger}),\n",
    "\\tag{8.47}\n",
    "\\end{equation}\n",
    "\n",
    "with $\\omega_0$ the qubit frequency, $\\omega_k$ the frequencies of the reservoir modes, $a_k(a_k^{\\dagger})$ the annihilation (creation) operators of the bosonic environment and $g_k$ the coupling constant between each reservoir mode and the qubit. In the continuum limit $\\sum_k|g_k|^2\\rightarrow\\int d\\omega \\: J(\\omega) \\delta (\\omega_k-\\omega)$, where $J(\\omega)$ is the reservoir spectral density [[6](#6), [36](#36)]. \n",
    "\n",
    "It is simple to obtain the operator-sum representation $\\phi^D_t(\\rho)=\\sum_{i=1}^2 K_i(t)\\rho K_i^{\\dagger}(t)$ with time-dependent Kraus operators; $K_1(t)=\\sqrt{\\frac{1+e^{-\\Gamma(t)} }{2} }\\mathbb{I}$ and $K_2(t)=\\sqrt{\\frac{1-e^{-\\Gamma(t)} }{2} }\\mathbb{I}$. \n",
    "\n",
    "Knowledge of the Kraus operators allows one to immediately also write the complementary map, needed to calculate both the coherent information and the entropy exchange which appears in the definition of the mutual information of the channel: \n",
    "\n",
    "\\begin{eqnarray}\n",
    "\\tilde{\\phi}_t^D&=&\\frac{1}{2}\\left[(1+e^{-\\Gamma(t)})| 1 \\rangle_e \\langle 1 |+(1-e^{\\Gamma(t)})| 2 \\rangle_E \\langle 2 |\\right]\\nn\\\\&+&\\frac{1}{2}\\sqrt{1-e^{2\\Gamma(t)} }\\text{Tr}(\\rho\\sigma_z)\\left(| 1 \\rangle_E \\langle 2 |+| 2 \\rangle_E \\langle 1| \\right).\n",
    "\\tag{8.48}\n",
    "\\end{eqnarray}\n",
    "\n",
    "We write in full Eq. (\\ref{gamma0}) to give the explicit form of $\\Gamma(t)$: \n",
    "\\begin{eqnarray}\n",
    "\\Gamma(t)&=&\\frac{2\\tilde \\Gamma[s]}{-1 + s}(1-(1+\\tau^2)^{-s/2}(\\cos[s\\arctan[\\tau]]\\nn\\\\&+&\\tau\\sin[s\\arctan[\\tau]]).\n",
    "\\tag{8.49}\n",
    "\\end{eqnarray}"
   ]
  },
  {
   "cell_type": "markdown",
   "metadata": {},
   "source": [
    "### 8.5.2. Amplitude Damping Models <a id='ampl'></a>"
   ]
  },
  {
   "cell_type": "markdown",
   "metadata": {},
   "source": [
    "**One Qubit** \n",
    "\n",
    "The following microscopic Hamiltonian model describing a two-state system interacting with a bosonic quantum reservoir at zero temperature is given by [[37](#37)]\n",
    "\n",
    "\\begin{equation}\n",
    "H=\\omega_o\\sigma_z+\\sum_k\\omega_k a^{\\dagger}_k a_k +\\sum_k (g_k a_k\\sigma_+ +g^*_k a_k^{\\dagger}a_k\\sigma_-)\n",
    "\\tag{8.50}\n",
    "\\end{equation}\n",
    "As usual, $\\sigma_{\\pm}$ are standard raising and lowering operators respectively. \n",
    "\n",
    "The Kraus representation $\\phi_t^A(\\rho)=\\sum_{i=1}^2K_i(t)\\rho K_i^{\\dagger}(t)$ for the amplitude damping channel is given by $K_1=\\bigl(\\begin{smallmatrix}1&0\\\\ 0&G(t)\\end{smallmatrix} \\bigr)$ and $K_2=\\bigl(\\begin{smallmatrix}0&\\sqrt{1-|G(t)|^2}\\\\ 0&0\\end{smallmatrix} \\bigr)$ which gives us a complementary map defined by: \n",
    "\\begin{eqnarray}\n",
    "\\tilde{\\phi}_t^A(\\rho)&=&[1-(1-|G(t)|^2)\\rho_{22}]|1 \\rangle_E \\langle 1| \\nn\\\\&+&(1-|G(t)|^2)\\rho_{22}| 2 \\rangle_E \\langle 2 |\\nn\\\\&+&\\sqrt{1-|G(t)|^2}(\\rho_{12}| 1 \\rangle_E \\langle 2 |+\\rho_{21} | 2 \\rangle_E \\langle 1|).\n",
    "\\tag{8.51}\n",
    "\\end{eqnarray}"
   ]
  },
  {
   "cell_type": "markdown",
   "metadata": {},
   "source": [
    "We now discuss the specific forms of $G(t)$ for both amplitude damped systems, starting with the Lorentzian spectrum [[37](#37)] using notation $G^L(t)$. \n",
    "\n",
    "If the spectral density has a Lorentzian shape, i.e, $J(\\omega)=\\gamma_M\\lambda^2/2\\pi[(\\omega-\\omega^2)+\\lambda^2]$, then the function $G^L(t)$ takes the form: \n",
    "\n",
    "\\begin{equation}\n",
    "G^L(t)=e^{-\\frac{(\\lambda-i\\delta)t}{2} }\\left[\\text{cosh}\\left(\\frac{\\Omega t}{2}\\right)+\\frac{\\lambda-i\\delta}{\\Omega}\\text {sinh}\\left(\\frac{\\Omega t}{2}\\right)\\right],\n",
    "\\tag{8.52}\n",
    "\\end{equation}\n",
    "\n",
    "with \n",
    "\\begin{equation}\n",
    "\\omega=\\sqrt{\\lambda^2-2i\\delta \\lambda -4\\omega^2}\n",
    "\\tag{8.53}\n",
    "\\end{equation}\n",
    "\n",
    "where $\\omega=\\gamma_M\\lambda/2+\\delta^2/4$ and $\\delta=\\omega_0-\\omega_c$. "
   ]
  },
  {
   "cell_type": "markdown",
   "metadata": {},
   "source": [
    "For $\\delta=0$, one obtains the following solution\n",
    "\\begin{eqnarray}\n",
    "G^L(t)&=&e^{-\\lambda t/2}\\left[\\text{cosh}\\left(\\sqrt{1-2r}\\frac{\\lambda t}{2}\\right)\\right.\\nn\\\\&+&\\left.\\frac{1}{\\sqrt{1-2r} }\\text{sinh}\\left(\\sqrt{1-2r}\\frac{\\lambda t}{2}\\right)\\right]\n",
    "\\tag{8.54}\n",
    "\\end{eqnarray}\n",
    "with $r=\\lambda_M/\\lambda$. "
   ]
  },
  {
   "cell_type": "markdown",
   "metadata": {},
   "source": [
    "<a id='8.55'></a>\n",
    "\n",
    "For the Photonic Band Gap model, the specific form of $G^P(t)$ is as follows [[42](#42)]:\n",
    "\n",
    "\\begin{eqnarray}\n",
    "G^P(t)&=&2v_1x_1e^{\\beta x_1^2+i\\Delta t}+v_2(x_2+y_2)e^{\\beta x_2^2 t+i \\Delta t}\\nn\\\\\n",
    "&-&\\sum_{j=1}^{3}a_jy_j[1-\\Phi(\\sqrt{\\beta x^2_j t})e^{\\beta x^2_j t+i\\Delta t}]. \n",
    "\\label{gPBG}\n",
    "\\tag{8.55}\n",
    "\\end{eqnarray}"
   ]
  },
  {
   "cell_type": "markdown",
   "metadata": {},
   "source": [
    "where $\\Delta=\\tilde\\omega_0-\\omega_e$ is the detuning from the band gap edge frequency $\\omega_e$, set to equal zero as we consider only the resonant case. In addition: \n",
    "\n",
    "\\begin{eqnarray}\n",
    "& & x_1=(A_++A_-)e^{i(\\pi/4)},\\nn\\\\& & \n",
    "x_2=(A_+e^{-i(\\pi/6)}-A_-e^{i(\\pi/6)})e^{-i(\\pi/4),} \\nn\\\\& & \n",
    "x_3=(A_+e^{i(\\pi/6)}-A_-e^{-i(\\pi/6)})e^{i(3\\pi/4)},\n",
    "\\tag{8.56}\n",
    "\\end{eqnarray}\n",
    "\n",
    "\\begin{equation}\n",
    "A\\pm=\\left[\\frac{1}{2}\\pm\\frac{1}{2}\\left[1+\\frac{4}{27}\\frac{\\Delta^3}{\\beta^3}\\right]^{1/2}\\right]^{1/3},\n",
    "\\tag{8.57}\n",
    "\\end{equation}\n",
    "\n",
    "\\begin{equation}\n",
    "v_j=\\frac{x_j}{(x_j-x_i)(x_j-x_k)} \\: \\:(j\\neq i\\neq k;j,i,k=1,2,3),\n",
    "\\tag{8.58}\n",
    "\\end{equation}\n",
    "\n",
    "\\begin{equation}\n",
    "y_j=\\sqrt{ {x_j}^2} \\: (j=1,2,3),\n",
    "\\tag{8.59}\n",
    "\\end{equation}\n",
    "\n",
    "\\begin{equation}\n",
    "\\beta^{3/2}=\\omega_0^{7/2}d^2/6\\pi\\epsilon_0\\hbar c^3.\n",
    "\\tag{8.60}\n",
    "\\end{equation}\n",
    "\n",
    "The coefficient $\\beta$ is defined as the characteristic frequency, $\\epsilon_0$ the Coulomb constant and $d$ the atomic dipole moment. We have defined in our results $z=\\Delta/\\beta$. "
   ]
  },
  {
   "cell_type": "markdown",
   "metadata": {},
   "source": [
    "We note, that $G(t)$ satisfies the non-local equation $\\dot{G}(t)=-\\int_0^tf(t-t')G(t')dt'$ with initial condition $G(0)=1$, and f(t) is the reservoir correlation function which is related via the Fourier transform with a spectral density $J(\\omega)$. "
   ]
  },
  {
   "cell_type": "markdown",
   "metadata": {},
   "source": [
    "## References <a id='ref'></a>\n",
    "\n",
    "[1]  [G. Lindblad, Commun. Math. Phys. **48**, 119 (1976)](https://doi.org/10.1007/BF01608499) <a id='1'></a>\n",
    "\n",
    "[2]  [V. Gorini, A. Kossakowski, and E. C. G. Sudarshan, J.Math. Phys. **17**, 821 (1976)](https://doi.org/10.1063/1.522979) <a id='2'></a>\n",
    "\n",
    "[3]  [B. J. Dalton, Stephen M. Barnett, and B. M. Garraway, Phys. Rev. A **64**, 053813 (2001)](https://doi.org/10.1103/PhysRevA.64.053813) <a id='3'></a>\n",
    "\n",
    "[4]  [F. Intravaia, S. Maniscalco, and A. Messina, Phys. Rev. A **67**, 042108 (2003)](https://doi.org/10.1103/PhysRevA.67.042108) <a id='4'></a>\n",
    "\n",
    "[5]  [J. Luczka, Physica A **167**, 919 (1990)](https://doi.org/10.1016/0378-4371%2890%2990299-8) <a id='5'></a>\n",
    "\n",
    "[6]  [G. M. Palma, K.-A. Suominen, and A. K. Ekert, Proc. Roy. Soc. Lond. A **452**, 567 (1996)](https://doi.org/10.1098/rspa.1996.0029) <a id='6'></a>\n",
    "\n",
    "[7]  [J. H. Reina, L. Quiroga and N. F. Johnson, Phys. Rev. A **65**, 032326 (2002)](https://doi.org/10.1103/PhysRevA.65.032326) <a id='7'></a>\n",
    "\n",
    "[8]  [H.-P. Breuer, E.-M. Laine, J. Piilo, and B. Vacchini, Rev. Mod. Phys. **88**, 021002 (2016)](https://doi.org/10.1103/RevModPhys.88.021002) <a id='8'></a>\n",
    "\n",
    "[9]  [A. Rivas, S. F. Huelga, and M. B. Plenio, Rep. Prog. Phys. **77**, 094001 (2014)](https://doi.org/10.1088/0034-4885/77/9/094001) <a id='9'></a>\n",
    "\n",
    "[10]  [Li Li, M. J. W. Hall, H. M. Wiseman, Phys. Rep. **759**, 1-51 (2018)](https://doi.org/10.1016/j.physrep.2018.07.001) <a id='10'></a>\n",
    "\n",
    "[11]  [C.-F. Li, G.-C. Guo, and J. Piilo, Eur. Lett. **127**, 50001 (2019)](https://doi.org/10.1209/0295-5075/127/50001) <a id='11'></a>\n",
    "\n",
    "[12]  [H.-P. Breuer, E.-M. Laine, and J. Piilo, Phys. Rev. Lett. **103**, 210401 (2009)](https://doi.org/10.1103/PhysRevLett.103.210401) <a id='12'></a>\n",
    "\n",
    "[13]  [J. Piilo, S. Maniscalco, K. Harkonen, K.-A.  Suominen, Phys. Rev. Lett. **100**, 180402 (2008)](https://doi.org/10.1103/PhysRevLett.100.180402) <a id='13'></a>\n",
    "\n",
    "[14]  [A. Rivas, S. F. Huelga, and M. B. Plenio, Phys. Rev. Lett. **105**, 050403 (2010)](https://doi.org/10.1103/PhysRevLett.105.050403) <a id='14'></a>\n",
    "\n",
    "[15]  [E.-M. Laine, J. Piilo, and H-P. Breuer, Phys. Rev. A **81**, 062115 (2010)](https://doi.org/10.1103/PhysRevA.81.062115) <a id='15'></a>\n",
    "\n",
    "[16]  [R. Vasile, S. Maniscalco, M. G. A. Paris, H.-P. Breuer, and J. Piilo, Phys. Rev. A **84**, 052118 (2011)](https://doi.org/10.1103/PhysRevA.84.052118) <a id='16'></a>\n",
    "\n",
    "[17]  [S. Luo, S. Fu, and H. Song, Phys. Rev. A **86**, 044101(2012)](https://doi.org/10.1103/PhysRevA.86.044101) <a id='17'></a>\n",
    "\n",
    "[18]  [B. Bylicka, D. Chruściński, and S. Maniscalco, arXiv:1301.2585, in press in Scientific Reports](https://arxiv.org/abs/1301.2585) <a id='18'></a>\n",
    "\n",
    "[19]  [X.-M. Lu, X. Wang, and C.P. Sun, Phys. Rev. A **82**, 042103 (2010)](https://doi.org/10.1103/PhysRevA.82.042103) <a id='19'></a>\n",
    "\n",
    "[20]  [S. Lorenzo, F. Plastina, and M. Paternostro, Phys. Rev. A **88**, 020102(R) (2013)](https://doi.org/10.1103/PhysRevA.88.020102) <a id='20'></a>\n",
    "\n",
    "[21]  [A. Jamiolkowski, Rep. Math. Phys. **3**, 275 (1972)](https://doi.org/10.1016/0034-4877%2872%2990011-0); [M.-D. Choi, Lin. Alg. and Appl. **10**, 285 (1975)](https://doi.org/10.1016/0024-3795%2875%2990075-0) <a id='21'></a>\n",
    "\n",
    "[22]  [I. Chuang and  M. Nielsen, *Quantum Computation and Quantum Information* (Cambridge University Press, Cambridge, 2000)](www.cambridge.org/9781107002173) <a id='22'></a>\n",
    "\n",
    "[23]  [F. F. Fanchini, G. Karpat, L. K. Castelano, and D. Z. Rossatto, Phys. Rev. A **88**, 012105 (2013)](https://doi.org/10.1103/PhysRevA.88.012105) <a id='23'></a>\n",
    "\n",
    "[24]  [C. Addis, P. Haikka, S. McEndoo, C. Macchiavello, and S. Maniscalco, Phys. Rev. A **87**, 052109 (2013)](https://doi.org/10.1103/PhysRevA.87.052109) <a id='24'></a>\n",
    "\n",
    "[25]  [E.-M. Laine, H.-P. Breuer, J. Piilo, C.-F. Li, and G.-C.Guo, Phys. Rev. Lett. **108**, 210402 (2012)](https://doi.org/10.1103/PhysRevLett.108.210402) <a id='25'></a>\n",
    "\n",
    "[26]  [S. Wissmann, A. Karlsson, E.-M. Laine, J. Piilo, H.-P.Breuer, Phys. Rev. A **86**, 062108 (2012)](https://doi.org/10.1103/PhysRevA.86.062108) <a id='26'></a>\n",
    "\n",
    "[27]  [D. Petz, Linear Algebra Appl. **244**, 81 (1996)](https://doi.org/10.1016/0024-3795%2894%2900211-8) <a id='27'></a>\n",
    "\n",
    "[28]  [B. Schumacher and M. A. Nielsen, Phys. Rev. A **54**, 26292635 (1996)](https://doi.org/10.1103/PhysRevA.54.2629) <a id='28'></a>\n",
    "\n",
    "[29]  [A. S. Holevo and V. Giovannetti, Rep. Prog. Phys. **75**, 046001 (2012)](https://doi.org/10.1088/0034-4885/75/4/046001) <a id='29'></a>\n",
    "\n",
    "[30]  [S. Loyd, Phys. Rev. A **55**, 16131622 (1997)](https://doi.org/10.1103/PhysRevA.55.3184) <a id='30'></a>\n",
    "\n",
    "[31]  [I. Devetak and P. W. Shor, Commun. Math. Phys. **256**, 287 (2005)](https://doi.org/10.1007/s00220-005-1317-6) <a id='31'></a>\n",
    "\n",
    "[32]  [D. Chruściński, A. Kossakowski, and A. Rivas, Phys. Rev. A **83**, 052128 (2011)](https://doi.org/10.1103/PhysRevA.83.052128) <a id='32'></a>\n",
    "\n",
    "[33]  [D. Chruściński, A. Rivas, and E. Stormer, Phys. Rev. Lett. **121**, 080407 (2018)](https://doi.org/10.1103/PhysRevLett.121.080407) <a id='33'></a>\n",
    "\n",
    "[34] ́[A. Rivas, S. Huelga, and M. Plenio, Phys. Rev. Lett. **105**, 050403 (2010)](https://doi.org/10.1103/PhysRevLett.105.050403) <a id='34'></a>\n",
    "\n",
    "[35]  [X.-M. Lu, X. Wang, and C. P. Sun, Phys. Rev. A **82**, 042103 (2010)](https://doi.org/10.1103/PhysRevA.82.042103) <a id='35'></a>\n",
    "\n",
    "[36]  [P. Haikka, S. McEndoo, G. De Chiara, M. Palma, S. Maniscalco, Phys. Rev. A **84**, 031602 (2011)](https://doi.org/10.1103/PhysRevA.84.031602) <a id='36'></a>\n",
    "\n",
    "[37]  [H.-P. Breuer and F. Petruccione, *The Theory of Open Quantum Systems*, (Oxford Univ. Press, 2007)](https://dx.doi.org/10.1093/acprof:oso/9780199213900.001.0001) <a id='37'></a>\n",
    "\n",
    "[38]  [P. Haikka, T. Johnson and S. Maniscalco, Phys. Rev. A **87**, 010103(R) (2013)](https://doi.org/10.1103/PhysRevA.87.010103) <a id='38'></a>\n",
    "\n",
    "[39]  [H.-S. Zeng, N. Tang, Yan-Ping Zheng, and Guo-YouWang, Phys. Rev. A **84**, 032118 (2011)](https://doi.org/10.1103/PhysRevA.84.032118) <a id='52'></a>\n",
    "\n",
    "[40]  [Z. He, J. Zou, L. Li, and B. Shao, Phys. Rev. A **83**, 012108 (2011)](https://doi.org/10.1103/PhysRevA.83.012108) <a id='40'></a>\n",
    "\n",
    "[41]  [I. Devetak and P. W. Shor, Commun. Math. Phys. **256**, 287 (2005)](https://doi.org/10.1007/s00220-005-1317-6) <a id='41'></a>\n",
    "\n",
    "[42]  [S. John and T. Quang, Phys. Rev. A **50**, 1764 (1994)](https://doi.org/10.1103/PhysRevA.50.1764) <a id='42'></a>\n",
    "\n",
    "[43]  [R. Vasile, F. Galve, and R. Zambrini, Phys. Rev. A **89**, 022109 (2014)](https://doi.org/10.1103/PhysRevA.89.022109) <a id='43'></a>\n",
    "\n",
    "[44]  [V. Giovannetti and R. Fazio, Phys. Rev. A **71**, 032314 (2005)](https://doi.org/10.1103/PhysRevA.71.032314) <a id='44'></a>\n",
    "\n",
    "[45]  [G. Benenti, A. D’ Arrigo, and G. Falci, Phys. Rev. Lett. **103**, 020502 (2009)](https://doi.org/10.1103/PhysRevLett.103.020502) <a id='45'></a>\n",
    "\n",
    "[46]  [M. Wilde, *Quantum Information Theory*, (CambridgeUniv. Press, 2013)](https://doi.org/10.1017/CBO9781139525343) <a id='46'></a>\n",
    "\n",
    "[47]  [D. Chruściński, C. Macchiavello, and S. Maniscalco, Phys. Rev. Lett. **118**, 080404 (2017)](https://doi.org/10.1103/PhysRevLett.118.080404)"
   ]
  }
 ],
 "metadata": {
  "kernelspec": {
   "display_name": "Python 3",
   "language": "python",
   "name": "python3"
  },
  "language_info": {
   "codemirror_mode": {
    "name": "ipython",
    "version": 3
   },
   "file_extension": ".py",
   "mimetype": "text/x-python",
   "name": "python",
   "nbconvert_exporter": "python",
   "pygments_lexer": "ipython3",
   "version": "3.8.5"
  }
 },
 "nbformat": 4,
 "nbformat_minor": 2
}