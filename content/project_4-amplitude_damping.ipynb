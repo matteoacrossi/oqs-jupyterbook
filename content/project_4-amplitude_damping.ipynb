{
 "cells": [
  {
   "cell_type": "markdown",
   "metadata": {},
   "source": [
    "In Chapter 7, we introduced the Jaynes-Cummings model. In this project, we will simulate it along with the Markovianity of the dynamics depending on the coupling strength.\n",
    "\n",
    "You can find the circuit decomposition for the amplitude damping below."
   ]
  },
  {
   "cell_type": "code",
   "execution_count": 5,
   "metadata": {},
   "outputs": [],
   "source": [
    "from qiskit import QuantumRegister, ClassicalRegister, QuantumCircuit\n",
    "import numpy as np"
   ]
  },
  {
   "cell_type": "code",
   "execution_count": 9,
   "metadata": {},
   "outputs": [
    {
     "data": {
      "image/png": "[encoded data removed]",
      "text/plain": [
       "<Figure size 397.32x325.08 with 1 Axes>"
      ]
     },
     "execution_count": 9,
     "metadata": {},
     "output_type": "execute_result"
    }
   ],
   "source": [
    "###########################################\n",
    "#  Amplitude damping channel on IBMQ_VIGO #\n",
    "###########################################\n",
    "\n",
    "# Quantum register\n",
    "q = QuantumRegister(5, name='q')\n",
    "\n",
    "# Quantum circuit\n",
    "ad = QuantumCircuit(q)\n",
    "\n",
    "# Amplitude damping channel acting on system qubit\n",
    "## Qubit identification\n",
    "system = 1\n",
    "environment = 2\n",
    "\n",
    "# Define rotation angle\n",
    "theta = 0.0\n",
    "\n",
    "# Construct circuit\n",
    "ad.x(q[system])\n",
    "ad.cu3(theta, 0.0, 0.0, q[system], q[environment])\n",
    "ad.cx(q[environment], q[system])\n",
    "\n",
    "# Draw circuit\n",
    "ad.draw(output='mpl')"
   ]
  },
  {
   "cell_type": "markdown",
   "metadata": {},
   "source": [
    "Recall that, in the above circuit, $\\theta = \\arccos{c_1(t)}$ with\n",
    "\\begin{equation}\n",
    "c_{1}(t)=e^{-\\lambda t/2}\\left[\\cosh\\left(\\frac{\\lambda t}{2}\\sqrt{1-2R}\\right)+\\frac{1}{\\sqrt{1-2R} }\\sinh\\left(\\frac{\\lambda t}{2}\\sqrt{1-2R}\\right)\\right].\n",
    "\\end{equation}"
   ]
  },
  {
   "cell_type": "markdown",
   "metadata": {},
   "source": [
    "### Task 1\n",
    "\n",
    "Write a function that returns $c_1(t)$. The function should admit an extra parameter $R$ and return the correct value for $R > 1/2$ and $R < 1/2$.\n",
    "\n",
    "Here is the suggested structure:"
   ]
  },
  {
   "cell_type": "code",
   "execution_count": null,
   "metadata": {},
   "outputs": [],
   "source": [
    "def c1(R,t):\n",
    "    \"\"\"Returns the coherence factor in the amplitude damping channel\n",
    "    \n",
    "    Args:\n",
    "        R (float): value of R = \\gamma_0/\\lambda\n",
    "        t (float): value of the time variable\n",
    "    \n",
    "    Returns:\n",
    "        A float number\n",
    "    \"\"\""
   ]
  },
  {
   "cell_type": "markdown",
   "metadata": {},
   "source": [
    "### Task 2\n",
    "\n",
    "Write a function that returns the amplitude damping channel given the values of $R$ and $t$. You can choose to include the initial state of the system ($|1\\rangle$) into the function or to initialize its state elsewhere later.\n",
    "\n",
    "The suggested structure is"
   ]
  },
  {
   "cell_type": "code",
   "execution_count": null,
   "metadata": {},
   "outputs": [],
   "source": [
    "def amplitude_damping_channel(q, c, sys, env, R, t):\n",
    "    \"\"\"Returns a QuantumCircuit implementing the amplitude damping channel on the system qubit\n",
    "    \n",
    "    Args:\n",
    "        q (QuantumRegister): the register to use for the circuit\n",
    "        c (ClassicalRegister): the register to use for the measurement of the system qubit\n",
    "        sys (int): index for the system qubit\n",
    "        env (int): index for the environment qubit\n",
    "        R (float): value of R = \\gamma_0/\\lambda\n",
    "        t (float): value of the time variable\n",
    "    \n",
    "    Returns:\n",
    "        A QuantumCircuit object\n",
    "    \"\"\""
   ]
  },
  {
   "cell_type": "markdown",
   "metadata": {},
   "source": [
    "### Task 3\n",
    "\n",
    "Choose some (at least 2) values of $R$. There should be values above and below $1/2$. For each value, simulate the amplitude damping channel at several values of $t$ and measure the probability for the atom to be in the excited state ($|1\\rangle$)."
   ]
  },
  {
   "cell_type": "markdown",
   "metadata": {},
   "source": [
    "### Task 4\n",
    "\n",
    "We now turn our atention towards the Markovianity of the dynamics. To that end, we will simulate the channel introducing the non-Markovianity witness (you can find the circuit below). "
   ]
  },
  {
   "cell_type": "code",
   "execution_count": 7,
   "metadata": {},
   "outputs": [
    {
     "data": {
      "image/png": "[encoded data removed]",
      "text/plain": [
       "<Figure size 638.12x385.28 with 1 Axes>"
      ]
     },
     "execution_count": 7,
     "metadata": {},
     "output_type": "execute_result"
    }
   ],
   "source": [
    "#######################################\n",
    "#  Amplitude damping channel          #\n",
    "#   with non-M. witness on IBMQ_VIGO  #\n",
    "#######################################\n",
    "\n",
    "# Quantum and classical register\n",
    "q = QuantumRegister(5, name='q')\n",
    "c = ClassicalRegister(2, name='c')\n",
    "\n",
    "# Quantum circuit\n",
    "ad = QuantumCircuit(q, c)\n",
    "\n",
    "# Amplitude damping channel acting on system qubit\n",
    "# with non-Markovianity witness\n",
    "## Qubit identification\n",
    "system = 1\n",
    "environment = 2\n",
    "ancilla = 3\n",
    "\n",
    "# Define rotation angle\n",
    "theta = 0.0\n",
    "\n",
    "# Construct circuit\n",
    "## Bell state between system and ancilla\n",
    "ad.h(q[system])\n",
    "ad.cx(q[system], q[ancilla])\n",
    "\n",
    "## Channel acting on system qubit\n",
    "ad.cu3(theta, 0.0, 0.0, q[system], q[environment])\n",
    "ad.cx(q[environment], q[system])\n",
    "\n",
    "## Local measurement for the witness\n",
    "### Choose observable\n",
    "observable = 'YY'\n",
    "### Change to the corresponding basis\n",
    "if observable == 'XX':\n",
    "    ad.h(q[system])\n",
    "    ad.h(q[ancilla])\n",
    "elif observable == 'YY':\n",
    "    ad.sdg(q[system])\n",
    "    ad.h(q[system])\n",
    "    ad.sdg(q[ancilla])\n",
    "    ad.h(q[ancilla])\n",
    "### Measure\n",
    "ad.measure(q[system], c[0])\n",
    "ad.measure(q[ancilla], c[1])\n",
    "\n",
    "# Draw circuit\n",
    "ad.draw(output='mpl')"
   ]
  },
  {
   "cell_type": "markdown",
   "metadata": {},
   "source": [
    "The witness is given by the probability of measuring the system and the ancilla in state $| \\phi^{+} \\rangle \\langle \\phi^{+} | = (\\mathbb{I}\\otimes \\mathbb{I} + \\sigma_{x}\\otimes \\sigma_{x} - \\sigma_{y}\\otimes \\sigma_{y} + \\sigma_{z}\\otimes \\sigma_{z})/4$, and the above circuit allows for the measurement of the corresponding observables.\n",
    "\n",
    "Write a function returning, for a given witness observable, $R$ and $t$, the corresponding circuit.\n",
    "\n",
    "Suggested structure below."
   ]
  },
  {
   "cell_type": "code",
   "execution_count": null,
   "metadata": {},
   "outputs": [],
   "source": [
    "def amplitude_damping_channel_witness(q, c, sys, env, anc, observable, R, t):\n",
    "    \"\"\"Returns a QuantumCircuit implementing the amplitude damping channel on the system qubit with non-Markovianity witness\n",
    "    \n",
    "    Args:\n",
    "        q (QuantumRegister): the register to use for the circuit\n",
    "        c (ClassicalRegister): the register to use for the measurement of the system and ancilla qubits\n",
    "        sys (int): index for the system qubit\n",
    "        env (int): index for the environment qubit\n",
    "        anc (int): index for the ancillary qubit\n",
    "        observable (str): the observable to be measured. Possible values \"XX\", \"YY\", \"ZZ\"\n",
    "        R (float): value of R = \\gamma_0/\\lambda\n",
    "        t (float): value of the time variable\n",
    "    \n",
    "    Returns:\n",
    "        A QuantumCircuit object\n",
    "    \"\"\""
   ]
  },
  {
   "cell_type": "markdown",
   "metadata": {},
   "source": [
    "### Task 5\n",
    "\n",
    "Simulate the dynamics with the witness for the same values of $R$ and $t$ as in Task 3. To do so, run the circuits for the three observables, $\\sigma_{x}\\otimes \\sigma_{x}$, $\\sigma_{y}\\otimes \\sigma_{y}$, and $\\sigma_{z}\\otimes \\sigma_{z}$ and compute their expected values. This allows to compute the value of the witness as $1 + \\left\\langle \\sigma_{x}\\otimes \\sigma_{x} \\right\\rangle - \\left\\langle\\sigma_{y}\\otimes \\sigma_{y} \\right\\rangle + \\left\\langle\\sigma_{z}\\otimes \\sigma_{z} \\right\\rangle)/4$. Plot the results as a function of $t$."
   ]
  }
 ],
 "metadata": {
  "kernelspec": {
   "display_name": "Python 3",
   "language": "python",
   "name": "python3"
  },
  "language_info": {
   "codemirror_mode": {
    "name": "ipython",
    "version": 3
   },
   "file_extension": ".py",
   "mimetype": "text/x-python",
   "name": "python",
   "nbconvert_exporter": "python",
   "pygments_lexer": "ipython3",
   "version": "3.7.4"
  }
 },
 "nbformat": 4,
 "nbformat_minor": 2
}
