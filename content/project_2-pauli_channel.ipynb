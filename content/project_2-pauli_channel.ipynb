{
 "cells": [
  {
   "cell_type": "markdown",
   "metadata": {},
   "source": [
    "In this project we will implement the general **Pauli channel** in qiskit. \n",
    "\n",
    "As an application, we will evaluate a quantity that is relevant in quantum thermodynamics, known as extractable work, trying to reproduce the result of the paper [*G. García-Pérez et al., arXiv:1906.07099*](https://arxiv.org/abs/1906.07099).\n",
    "\n",
    "We introduced the Pauli channel in Chapter 5 where we showed the circuit that implements it."
   ]
  },
  {
   "cell_type": "code",
   "execution_count": 1,
   "metadata": {},
   "outputs": [
    {
     "output_type": "execute_result",
     "data": {
      "text/plain": [
       "<Figure size 387.597x204.68 with 1 Axes>"
      ],
      "image/svg+xml": "<?xml version=\"1.0\" encoding=\"utf-8\" standalone=\"no\"?>\n<!DOCTYPE svg PUBLIC \"-//W3C//DTD SVG 1.1//EN\"\n  \"http://www.w3.org/Graphics/SVG/1.1/DTD/svg11.dtd\">\n<svg height=\"168.9334pt\" version=\"1.1\" viewBox=\"0 0 307.036036 168.9334\" width=\"307.036036pt\" xmlns=\"http://www.w3.org/2000/svg\" xmlns:xlink=\"http://www.w3.org/1999/xlink\">\n <metadata>\n  <rdf:RDF xmlns:cc=\"http://creativecommons.org/ns#\" xmlns:dc=\"http://purl.org/dc/elements/1.1/\" xmlns:rdf=\"http://www.w3.org/1999/02/22-rdf-syntax-ns#\">\n   <cc:Work>\n    <dc:type rdf:resource=\"http://purl.org/dc/dcmitype/StillImage\"/>\n    <dc:date>2021-05-10T15:20:48.914638</dc:date>\n    <dc:format>image/svg+xml</dc:format>\n    <dc:creator>\n     <cc:Agent>\n      <dc:title>Matplotlib v3.4.2, https://matplotlib.org/</dc:title>\n     </cc:Agent>\n    </dc:creator>\n   </cc:Work>\n  </rdf:RDF>\n </metadata>\n <defs>\n  <style type=\"text/css\">*{stroke-linecap:butt;stroke-linejoin:round;}</style>\n </defs>\n <g id=\"figure_1\">\n  <g id=\"patch_1\">\n   <path d=\"M 0 168.9334 \nL 307.036036 168.9334 \nL 307.036036 0 \nL 0 0 \nz\n\" style=\"fill:#ffffff;\"/>\n  </g>\n  <g id=\"axes_1\">\n   <g id=\"line2d_1\">\n    <path clip-path=\"url(#ped7d7404c7)\" d=\"M 63.490836 43.5608 \nL 295.290936 43.5608 \n\" style=\"fill:none;stroke:#000000;stroke-linecap:square;stroke-width:2;\"/>\n   </g>\n   <g id=\"line2d_2\">\n    <path clip-path=\"url(#ped7d7404c7)\" d=\"M 63.490836 89.0118 \nL 295.290936 89.0118 \n\" style=\"fill:none;stroke:#000000;stroke-linecap:square;stroke-width:2;\"/>\n   </g>\n   <g id=\"line2d_3\">\n    <path clip-path=\"url(#ped7d7404c7)\" d=\"M 63.490836 134.4628 \nL 295.290936 134.4628 \n\" style=\"fill:none;stroke:#000000;stroke-linecap:square;stroke-width:2;\"/>\n   </g>\n   <g id=\"line2d_4\">\n    <path clip-path=\"url(#ped7d7404c7)\" d=\"M 133.485376 134.4628 \nL 133.485376 89.0118 \n\" style=\"fill:none;stroke:#6fa4ff;stroke-linecap:square;stroke-width:2;\"/>\n   </g>\n   <g id=\"line2d_5\">\n    <path clip-path=\"url(#ped7d7404c7)\" d=\"M 224.387376 89.0118 \nL 224.387376 43.5608 \n\" style=\"fill:none;stroke:#6fa4ff;stroke-linecap:square;stroke-width:2;\"/>\n   </g>\n   <g id=\"line2d_6\">\n    <path clip-path=\"url(#ped7d7404c7)\" d=\"M 269.838376 134.4628 \nL 269.838376 43.5608 \n\" style=\"fill:none;stroke:#6fa4ff;stroke-linecap:square;stroke-width:2;\"/>\n   </g>\n   <g id=\"patch_2\">\n    <path clip-path=\"url(#ped7d7404c7)\" d=\"M 73.262801 103.783375 \nL 102.805951 103.783375 \nL 102.805951 74.240225 \nL 73.262801 74.240225 \nz\n\" style=\"fill:#bb8bff;stroke:#bb8bff;stroke-linejoin:miter;stroke-width:1.5;\"/>\n   </g>\n   <g id=\"patch_3\">\n    <path clip-path=\"url(#ped7d7404c7)\" d=\"M 133.485376 93.443273 \nC 134.660616 93.443273 135.78788 92.976345 136.618901 92.145324 \nC 137.449921 91.314304 137.916849 90.18704 137.916849 89.0118 \nC 137.916849 87.83656 137.449921 86.709296 136.618901 85.878276 \nC 135.78788 85.047255 134.660616 84.580328 133.485376 84.580328 \nC 132.310136 84.580328 131.182872 85.047255 130.351852 85.878276 \nC 129.520832 86.709296 129.053904 87.83656 129.053904 89.0118 \nC 129.053904 90.18704 129.520832 91.314304 130.351852 92.145324 \nC 131.182872 92.976345 132.310136 93.443273 133.485376 93.443273 \nz\n\" style=\"fill:#6fa4ff;stroke:#6fa4ff;stroke-linejoin:miter;stroke-width:1.5;\"/>\n   </g>\n   <g id=\"patch_4\">\n    <path clip-path=\"url(#ped7d7404c7)\" d=\"M 133.485376 144.802902 \nC 136.227603 144.802902 138.857885 143.713404 140.796933 141.774357 \nC 142.73598 139.835309 143.825479 137.205027 143.825479 134.4628 \nC 143.825479 131.720573 142.73598 129.090291 140.796933 127.151243 \nC 138.857885 125.212196 136.227603 124.122697 133.485376 124.122697 \nC 130.743149 124.122697 128.112867 125.212196 126.17382 127.151243 \nC 124.234772 129.090291 123.145274 131.720573 123.145274 134.4628 \nC 123.145274 137.205027 124.234772 139.835309 126.17382 141.774357 \nC 128.112867 143.713404 130.743149 144.802902 133.485376 144.802902 \nz\n\" style=\"fill:#6fa4ff;stroke:#6fa4ff;stroke-linejoin:miter;stroke-width:2;\"/>\n   </g>\n   <g id=\"patch_5\">\n    <path clip-path=\"url(#ped7d7404c7)\" d=\"M 164.164801 103.783375 \nL 193.707951 103.783375 \nL 193.707951 74.240225 \nL 164.164801 74.240225 \nz\n\" style=\"fill:#bb8bff;stroke:#bb8bff;stroke-linejoin:miter;stroke-width:1.5;\"/>\n   </g>\n   <g id=\"patch_6\">\n    <path clip-path=\"url(#ped7d7404c7)\" d=\"M 164.164801 149.234375 \nL 193.707951 149.234375 \nL 193.707951 119.691225 \nL 164.164801 119.691225 \nz\n\" style=\"fill:#bb8bff;stroke:#bb8bff;stroke-linejoin:miter;stroke-width:1.5;\"/>\n   </g>\n   <g id=\"patch_7\">\n    <path clip-path=\"url(#ped7d7404c7)\" d=\"M 224.387376 93.443273 \nC 225.562616 93.443273 226.68988 92.976345 227.520901 92.145324 \nC 228.351921 91.314304 228.818849 90.18704 228.818849 89.0118 \nC 228.818849 87.83656 228.351921 86.709296 227.520901 85.878276 \nC 226.68988 85.047255 225.562616 84.580328 224.387376 84.580328 \nC 223.212136 84.580328 222.084872 85.047255 221.253852 85.878276 \nC 220.422832 86.709296 219.955904 87.83656 219.955904 89.0118 \nC 219.955904 90.18704 220.422832 91.314304 221.253852 92.145324 \nC 222.084872 92.976345 223.212136 93.443273 224.387376 93.443273 \nz\n\" style=\"fill:#6fa4ff;stroke:#6fa4ff;stroke-linejoin:miter;stroke-width:1.5;\"/>\n   </g>\n   <g id=\"patch_8\">\n    <path clip-path=\"url(#ped7d7404c7)\" d=\"M 224.387376 53.900903 \nC 227.129603 53.900903 229.759885 52.811404 231.698933 50.872357 \nC 233.63798 48.933309 234.727479 46.303027 234.727479 43.5608 \nC 234.727479 40.818573 233.63798 38.188291 231.698933 36.249243 \nC 229.759885 34.310196 227.129603 33.220698 224.387376 33.220698 \nC 221.645149 33.220698 219.014867 34.310196 217.07582 36.249243 \nC 215.136772 38.188291 214.047274 40.818573 214.047274 43.5608 \nC 214.047274 46.303027 215.136772 48.933309 217.07582 50.872357 \nC 219.014867 52.811404 221.645149 53.900903 224.387376 53.900903 \nz\n\" style=\"fill:#6fa4ff;stroke:#6fa4ff;stroke-linejoin:miter;stroke-width:2;\"/>\n   </g>\n   <g id=\"patch_9\">\n    <path clip-path=\"url(#ped7d7404c7)\" d=\"M 269.838376 138.894272 \nC 271.013616 138.894272 272.14088 138.427345 272.971901 137.596324 \nC 273.802921 136.765304 274.269849 135.63804 274.269849 134.4628 \nC 274.269849 133.28756 273.802921 132.160296 272.971901 131.329276 \nC 272.14088 130.498255 271.013616 130.031327 269.838376 130.031327 \nC 268.663136 130.031327 267.535872 130.498255 266.704852 131.329276 \nC 265.873832 132.160296 265.406904 133.28756 265.406904 134.4628 \nC 265.406904 135.63804 265.873832 136.765304 266.704852 137.596324 \nC 267.535872 138.427345 268.663136 138.894272 269.838376 138.894272 \nz\n\" style=\"fill:#6fa4ff;stroke:#6fa4ff;stroke-linejoin:miter;stroke-width:1.5;\"/>\n   </g>\n   <g id=\"patch_10\">\n    <path clip-path=\"url(#ped7d7404c7)\" d=\"M 255.066801 58.332375 \nL 284.609951 58.332375 \nL 284.609951 28.789225 \nL 255.066801 28.789225 \nz\n\" style=\"fill:#6fa4ff;stroke:#6fa4ff;stroke-linejoin:miter;stroke-width:1.5;\"/>\n   </g>\n   <g id=\"line2d_7\">\n    <path clip-path=\"url(#ped7d7404c7)\" d=\"M 133.485376 140.37143 \nL 133.485376 128.55417 \n\" style=\"fill:none;stroke:#ffffff;stroke-linecap:square;stroke-width:2;\"/>\n   </g>\n   <g id=\"line2d_8\">\n    <path clip-path=\"url(#ped7d7404c7)\" d=\"M 127.576746 134.4628 \nL 139.394006 134.4628 \n\" style=\"fill:none;stroke:#ffffff;stroke-linecap:square;stroke-width:2;\"/>\n   </g>\n   <g id=\"line2d_9\">\n    <path clip-path=\"url(#ped7d7404c7)\" d=\"M 224.387376 49.46943 \nL 224.387376 37.65217 \n\" style=\"fill:none;stroke:#ffffff;stroke-linecap:square;stroke-width:2;\"/>\n   </g>\n   <g id=\"line2d_10\">\n    <path clip-path=\"url(#ped7d7404c7)\" d=\"M 218.478746 43.5608 \nL 230.296006 43.5608 \n\" style=\"fill:none;stroke:#ffffff;stroke-linecap:square;stroke-width:2;\"/>\n   </g>\n   <g id=\"text_1\">\n    <g clip-path=\"url(#ped7d7404c7)\">\n     <!-- $\\mathrm{R}_\\mathrm{Y}$ -->\n     <g transform=\"translate(80.494376 88.167515)scale(0.13 -0.13)\">\n      <defs>\n       <path d=\"M 2841 2188 \nQ 3044 2119 3236 1894 \nQ 3428 1669 3622 1275 \nL 4263 0 \nL 3584 0 \nL 2988 1197 \nQ 2756 1666 2539 1819 \nQ 2322 1972 1947 1972 \nL 1259 1972 \nL 1259 0 \nL 628 0 \nL 628 4666 \nL 2053 4666 \nQ 2853 4666 3247 4331 \nQ 3641 3997 3641 3322 \nQ 3641 2881 3436 2590 \nQ 3231 2300 2841 2188 \nz\nM 1259 4147 \nL 1259 2491 \nL 2053 2491 \nQ 2509 2491 2742 2702 \nQ 2975 2913 2975 3322 \nQ 2975 3731 2742 3939 \nQ 2509 4147 2053 4147 \nL 1259 4147 \nz\n\" id=\"DejaVuSans-52\" transform=\"scale(0.015625)\"/>\n       <path d=\"M -13 4666 \nL 666 4666 \nL 1959 2747 \nL 3244 4666 \nL 3922 4666 \nL 2272 2222 \nL 2272 0 \nL 1638 0 \nL 1638 2222 \nL -13 4666 \nz\n\" id=\"DejaVuSans-59\" transform=\"scale(0.015625)\"/>\n      </defs>\n      <use transform=\"translate(0 0.09375)\" xlink:href=\"#DejaVuSans-52\"/>\n      <use transform=\"translate(70.439453 -16.3125)scale(0.7)\" xlink:href=\"#DejaVuSans-59\"/>\n     </g>\n    </g>\n   </g>\n   <g id=\"text_2\">\n    <g clip-path=\"url(#ped7d7404c7)\">\n     <!-- θ1 -->\n     <g transform=\"translate(83.041876 100.082245)scale(0.08 -0.08)\">\n      <defs>\n       <path d=\"M 2953 2219 \nL 963 2219 \nQ 1009 1284 1225 888 \nQ 1494 400 1959 400 \nQ 2428 400 2688 891 \nQ 2916 1322 2953 2219 \nz\nM 2944 2750 \nQ 2856 3638 2688 3950 \nQ 2419 4444 1959 4444 \nQ 1481 4444 1228 3956 \nQ 1028 3563 969 2750 \nL 2944 2750 \nz\nM 1959 4913 \nQ 2709 4913 3138 4250 \nQ 3566 3591 3566 2422 \nQ 3566 1256 3138 594 \nQ 2709 -72 1959 -72 \nQ 1206 -72 781 594 \nQ 353 1256 353 2422 \nQ 353 3591 781 4250 \nQ 1206 4913 1959 4913 \nz\n\" id=\"DejaVuSans-3b8\" transform=\"scale(0.015625)\"/>\n       <path d=\"M 794 531 \nL 1825 531 \nL 1825 4091 \nL 703 3866 \nL 703 4441 \nL 1819 4666 \nL 2450 4666 \nL 2450 531 \nL 3481 531 \nL 3481 0 \nL 794 0 \nL 794 531 \nz\n\" id=\"DejaVuSans-31\" transform=\"scale(0.015625)\"/>\n      </defs>\n      <use xlink:href=\"#DejaVuSans-3b8\"/>\n      <use x=\"61.181641\" xlink:href=\"#DejaVuSans-31\"/>\n     </g>\n    </g>\n   </g>\n   <g id=\"text_3\">\n    <g clip-path=\"url(#ped7d7404c7)\">\n     <!-- $\\mathrm{R}_\\mathrm{Y}$ -->\n     <g transform=\"translate(171.396376 88.167515)scale(0.13 -0.13)\">\n      <use transform=\"translate(0 0.09375)\" xlink:href=\"#DejaVuSans-52\"/>\n      <use transform=\"translate(70.439453 -16.3125)scale(0.7)\" xlink:href=\"#DejaVuSans-59\"/>\n     </g>\n    </g>\n   </g>\n   <g id=\"text_4\">\n    <g clip-path=\"url(#ped7d7404c7)\">\n     <!-- θ2 -->\n     <g transform=\"translate(173.943876 100.082245)scale(0.08 -0.08)\">\n      <defs>\n       <path d=\"M 1228 531 \nL 3431 531 \nL 3431 0 \nL 469 0 \nL 469 531 \nQ 828 903 1448 1529 \nQ 2069 2156 2228 2338 \nQ 2531 2678 2651 2914 \nQ 2772 3150 2772 3378 \nQ 2772 3750 2511 3984 \nQ 2250 4219 1831 4219 \nQ 1534 4219 1204 4116 \nQ 875 4013 500 3803 \nL 500 4441 \nQ 881 4594 1212 4672 \nQ 1544 4750 1819 4750 \nQ 2544 4750 2975 4387 \nQ 3406 4025 3406 3419 \nQ 3406 3131 3298 2873 \nQ 3191 2616 2906 2266 \nQ 2828 2175 2409 1742 \nQ 1991 1309 1228 531 \nz\n\" id=\"DejaVuSans-32\" transform=\"scale(0.015625)\"/>\n      </defs>\n      <use xlink:href=\"#DejaVuSans-3b8\"/>\n      <use x=\"61.181641\" xlink:href=\"#DejaVuSans-32\"/>\n     </g>\n    </g>\n   </g>\n   <g id=\"text_5\">\n    <g clip-path=\"url(#ped7d7404c7)\">\n     <!-- $\\mathrm{R}_\\mathrm{Y}$ -->\n     <g transform=\"translate(171.396376 133.618515)scale(0.13 -0.13)\">\n      <use transform=\"translate(0 0.09375)\" xlink:href=\"#DejaVuSans-52\"/>\n      <use transform=\"translate(70.439453 -16.3125)scale(0.7)\" xlink:href=\"#DejaVuSans-59\"/>\n     </g>\n    </g>\n   </g>\n   <g id=\"text_6\">\n    <g clip-path=\"url(#ped7d7404c7)\">\n     <!-- θ3 -->\n     <g transform=\"translate(173.943876 145.533245)scale(0.08 -0.08)\">\n      <defs>\n       <path d=\"M 2597 2516 \nQ 3050 2419 3304 2112 \nQ 3559 1806 3559 1356 \nQ 3559 666 3084 287 \nQ 2609 -91 1734 -91 \nQ 1441 -91 1130 -33 \nQ 819 25 488 141 \nL 488 750 \nQ 750 597 1062 519 \nQ 1375 441 1716 441 \nQ 2309 441 2620 675 \nQ 2931 909 2931 1356 \nQ 2931 1769 2642 2001 \nQ 2353 2234 1838 2234 \nL 1294 2234 \nL 1294 2753 \nL 1863 2753 \nQ 2328 2753 2575 2939 \nQ 2822 3125 2822 3475 \nQ 2822 3834 2567 4026 \nQ 2313 4219 1838 4219 \nQ 1578 4219 1281 4162 \nQ 984 4106 628 3988 \nL 628 4550 \nQ 988 4650 1302 4700 \nQ 1616 4750 1894 4750 \nQ 2613 4750 3031 4423 \nQ 3450 4097 3450 3541 \nQ 3450 3153 3228 2886 \nQ 3006 2619 2597 2516 \nz\n\" id=\"DejaVuSans-33\" transform=\"scale(0.015625)\"/>\n      </defs>\n      <use xlink:href=\"#DejaVuSans-3b8\"/>\n      <use x=\"61.181641\" xlink:href=\"#DejaVuSans-33\"/>\n     </g>\n    </g>\n   </g>\n   <g id=\"text_7\">\n    <g clip-path=\"url(#ped7d7404c7)\">\n     <!-- Y -->\n     <g transform=\"translate(265.868298 47.147988)scale(0.13 -0.13)\">\n      <use xlink:href=\"#DejaVuSans-59\"/>\n     </g>\n    </g>\n   </g>\n   <g id=\"text_8\">\n    <g clip-path=\"url(#ped7d7404c7)\">\n     <!-- ${q}_{0}$ -->\n     <g transform=\"translate(36.363136 48.011777)scale(0.1625 -0.1625)\">\n      <defs>\n       <path d=\"M 2669 525 \nQ 2438 222 2123 65 \nQ 1809 -91 1428 -91 \nQ 897 -91 595 267 \nQ 294 625 294 1253 \nQ 294 1759 480 2231 \nQ 666 2703 1013 3078 \nQ 1238 3322 1530 3453 \nQ 1822 3584 2144 3584 \nQ 2531 3584 2781 3431 \nQ 3031 3278 3144 2969 \nL 3244 3494 \nL 3822 3494 \nL 2888 -1319 \nL 2309 -1319 \nL 2669 525 \nz\nM 891 1338 \nQ 891 875 1084 633 \nQ 1278 391 1644 391 \nQ 2188 391 2572 911 \nQ 2956 1431 2956 2175 \nQ 2956 2625 2757 2864 \nQ 2559 3103 2188 3103 \nQ 1916 3103 1684 2976 \nQ 1453 2850 1281 2606 \nQ 1100 2350 995 2006 \nQ 891 1663 891 1338 \nz\n\" id=\"DejaVuSans-Oblique-71\" transform=\"scale(0.015625)\"/>\n       <path d=\"M 2034 4250 \nQ 1547 4250 1301 3770 \nQ 1056 3291 1056 2328 \nQ 1056 1369 1301 889 \nQ 1547 409 2034 409 \nQ 2525 409 2770 889 \nQ 3016 1369 3016 2328 \nQ 3016 3291 2770 3770 \nQ 2525 4250 2034 4250 \nz\nM 2034 4750 \nQ 2819 4750 3233 4129 \nQ 3647 3509 3647 2328 \nQ 3647 1150 3233 529 \nQ 2819 -91 2034 -91 \nQ 1250 -91 836 529 \nQ 422 1150 422 2328 \nQ 422 3509 836 4129 \nQ 1250 4750 2034 4750 \nz\n\" id=\"DejaVuSans-30\" transform=\"scale(0.015625)\"/>\n      </defs>\n      <use xlink:href=\"#DejaVuSans-Oblique-71\"/>\n      <use transform=\"translate(63.476562 -16.40625)scale(0.7)\" xlink:href=\"#DejaVuSans-30\"/>\n     </g>\n    </g>\n   </g>\n   <g id=\"text_9\">\n    <g clip-path=\"url(#ped7d7404c7)\">\n     <!-- ${q}_{1}$ -->\n     <g transform=\"translate(36.363136 93.462777)scale(0.1625 -0.1625)\">\n      <use xlink:href=\"#DejaVuSans-Oblique-71\"/>\n      <use transform=\"translate(63.476562 -16.40625)scale(0.7)\" xlink:href=\"#DejaVuSans-31\"/>\n     </g>\n    </g>\n   </g>\n   <g id=\"text_10\">\n    <g clip-path=\"url(#ped7d7404c7)\">\n     <!-- ${q}_{2}$ -->\n     <g transform=\"translate(36.363136 138.913777)scale(0.1625 -0.1625)\">\n      <use xlink:href=\"#DejaVuSans-Oblique-71\"/>\n      <use transform=\"translate(63.476562 -16.40625)scale(0.7)\" xlink:href=\"#DejaVuSans-32\"/>\n     </g>\n    </g>\n   </g>\n  </g>\n </g>\n <defs>\n  <clipPath id=\"ped7d7404c7\">\n   <rect height=\"154.5334\" width=\"292.636036\" x=\"7.2\" y=\"7.2\"/>\n  </clipPath>\n </defs>\n</svg>\n",
      "image/png": "[encoded data removed]"
     },
     "metadata": {},
     "execution_count": 1
    }
   ],
   "source": [
    "from qiskit import QuantumRegister, QuantumCircuit\n",
    "from qiskit.circuit import Parameter\n",
    "\n",
    "#############################\n",
    "#  Pauli channel on IBMQX2  #\n",
    "#############################\n",
    "\n",
    "# Quantum register\n",
    "q = QuantumRegister(3, name=\"q\")\n",
    "\n",
    "# Quantum circuit\n",
    "pauli = QuantumCircuit(q)\n",
    "\n",
    "# Pauli channel acting on q_2\n",
    "## Qubit identification\n",
    "system = 0\n",
    "a_0 = 1\n",
    "a_1 = 2\n",
    "\n",
    "# ## Define rotation angles\n",
    "theta_1 = Parameter('θ1')\n",
    "theta_2 = Parameter('θ2')\n",
    "theta_3 = Parameter('θ3')\n",
    "\n",
    "## Construct circuit\n",
    "pauli.ry(theta_1, q[a_0])\n",
    "pauli.cx(q[a_0], q[a_1])\n",
    "pauli.ry(theta_2, q[a_0])\n",
    "pauli.ry(theta_3, q[a_1])\n",
    "pauli.cx(q[a_0], q[system])\n",
    "pauli.cy(q[a_1], q[system])\n",
    "\n",
    "# Draw circuit\n",
    "pauli.draw(output='mpl')"
   ]
  },
  {
   "cell_type": "markdown",
   "metadata": {},
   "source": [
    "At a specific time instant $t$, the Pauli channel can be written as\n",
    "\\begin{equation} \n",
    " \\mathcal{E} (\\rho) = \\sum_{i=0}^3 p_i \\sigma_i \\rho \\sigma_i,\n",
    "\\end{equation}\n",
    "with $0 \\leq p_i \\leq 1$ and $\\sum_i p_i = 1$."
   ]
  },
  {
   "cell_type": "markdown",
   "metadata": {},
   "source": [
    "## Task 1\n",
    "\n",
    "The depolarizing channel is a special case of the Pauli channel where $p_1 = p_2 = p_3 = p/4$. It can thus be implemented using the circuit above (This is one of the homework assignments). But why can't a general Pauli channel be implemented with the circuit used in the previous project, if we allow each of the three ancillary qubits to be rotated by a different angle $\\theta$?\n",
    "\n",
    "Find a counterexample of Pauli channel that can't be implemented with the circuit used in Project 1.\n",
    "\n"
   ]
  },
  {
   "cell_type": "markdown",
   "metadata": {},
   "source": [
    "## Task 2\n",
    "The crucial part of the circuit implementation of the Pauli channel is the inversion of the system of equations \n",
    "\n",
    "\\begin{equation}\\label{eq:pauli_equations}\n",
    "    \\begin{cases}\n",
    "        p_1  = |\\langle 01|\\psi \\rangle|^2 = (c_1 c_2 s_3 - s_1 s_2 c_3)^2 & \\\\\n",
    "        p_2  = |\\langle 10|\\psi \\rangle|^2 = (c_1 s_2 c_3 - s_1 c_2 s_3)^2 & \\\\\n",
    "        p_3  = |\\langle 11|\\psi \\rangle|^2 = (s_1 c_2 c_3 + c_1 s_2 s_3)^2 &\n",
    "    \\end{cases}\n",
    "\\end{equation}\n",
    "\n",
    "where $c_i \\equiv \\cos 2\\theta_i$ and $s_i \\equiv \\sin 2\\theta_i$, that gives us the three angles $\\theta_1$, $\\theta_2$ and $\\theta_3$.\n",
    "\n",
    "The system allows for multiple solutions, but we just need to find one (we can restrict to angles between 0 and $2\\pi$.\n",
    "\n",
    "1. *Find such a solution, either analytically (e.g. by using Mathematica) or numerically (e.g. using `scipy.optimize.root`)*\n",
    "2. *Implement a function that returns the circuit implementing the Pauli Channel for a list of values `[p_1, p_2, p_3]`.*\n"
   ]
  },
  {
   "cell_type": "code",
   "execution_count": 7,
   "metadata": {},
   "outputs": [],
   "source": [
    "def pauli_channel(q, p, system, pauli_ancillae):\n",
    "    \"\"\"\n",
    "        Apply the Pauli channel to system with probabilities p\n",
    "        \n",
    "    Args:\n",
    "    q (QuantumRegister): the quantum register for the circuit\n",
    "    system (int): index of the system qubit\n",
    "    pauli_ancillae (list): list of indices of the ancillary qubits\n",
    "    p (list): list of probabilities [p_1, p_2, p_3] for the Pauli channel\n",
    "    \n",
    "    Returns:\n",
    "    A QuantumCircuit implementing the Pauli channel\n",
    "    \"\"\"\n",
    "    \n",
    "    # Write code"
   ]
  },
  {
   "cell_type": "markdown",
   "metadata": {},
   "source": [
    "## Task 3\n",
    "\n",
    "We are going to evaluate the amount of work that can be extracted by erasure in our system qubit prepared in an initially entangled state with a quantum memory Q. This quantity is relevant in quantum thermodynamics. It was introduced in *L. del Rio et al., Nature 474, 61 (2011)* and also studied in the context of non-Markovian dynamics, [*B. Bylicka et al., Sci. Rep. 6, 27989 (2016)*](https://www.nature.com/articles/srep27989) (an experimental implementation on IBM Q devices is here: [*G. García-Pérez et al., arXiv:1906.07099*](https://arxiv.org/abs/1906.07099).\n",
    "\n",
    "We are going to implement a function that evaluates Eq. (4) of [*B. Bylicka et al., Sci. Rep. 6, 27989 (2016)*](https://www.nature.com/articles/srep27989).\n",
    "\n",
    "*For that, we first need a `conditional_entropy` function that takes a two-qubit state vector or density operator* and returns the conditional entropy $S(A|B) = S(AB) - S(B)$ where $S$ denotes the von-Neumann entropy."
   ]
  },
  {
   "cell_type": "code",
   "execution_count": null,
   "metadata": {},
   "outputs": [],
   "source": [
    "# Suggested imports...\n",
    "from qiskit.tools.qi.qi import entropy, partial_trace\n",
    "\n",
    "def conditional_entropy(state, qubit_a, qubit_b):\n",
    "    \"\"\"Conditional entropy S(A|B) = S(AB) - S(B)\n",
    "    \n",
    "    Args:\n",
    "        state: a vector or density operator\n",
    "        qubit_a: 0-based index of the qubit A\n",
    "        qubit_b: 0-based index of the qubit B\n",
    "        \n",
    "    Returns:\n",
    "        int: the conditional entropy\n",
    "    \"\"\"\n",
    "    # Write code here"
   ]
  },
  {
   "cell_type": "markdown",
   "metadata": {},
   "source": [
    "And now you can implement the `extractable_work` function, that also takes a two-qubit system and returns the amount of extractable work."
   ]
  },
  {
   "cell_type": "code",
   "execution_count": null,
   "metadata": {},
   "outputs": [],
   "source": [
    "def extractable_work(state, system_qubit, memory_qubit):\n",
    "    \"\"\"Extractable work from a two-qubit state\n",
    "    =\n",
    "    Cfr. Eq. (4) Bylicka et al., Sci. Rep. 6, 27989 (2016)\n",
    "    \n",
    "    Args:\n",
    "        qubit_a: 0-based index of the system qubit S\n",
    "        qubit_b: 0-based index of the memory qubit M\n",
    "    \"\"\"\n",
    "    # Write code here"
   ]
  },
  {
   "cell_type": "markdown",
   "metadata": {},
   "source": [
    "## Task 4\n",
    "\n",
    "We are now going to implement two different types of dynamics, i.e. functions that return the values of p as function of time. One is a non-CP-divisible map (see [Chapter 8](https://matteoacrossi.github.io/open_quantum_systems_course/non-markovian_quantum_dynamics.html))\n",
    "\n",
    "    p_ncp =  [1/4 * (1 - np.exp(-2 * t *eta)), \n",
    "              1/4 * (1 - np.exp(-2 * t *eta)),\n",
    "              1/4 * (1 + np.exp(-2 * t * eta) - 2 *np.exp(-t *eta) * np.cosh(t *omega))]\n",
    "         \n",
    "and the other is eternally non-Markovian (cf. [*G. García-Pérez et al., arXiv:1906.07099*](https://arxiv.org/abs/1906.07099))\n",
    "\n",
    "    p_enm = [1/4 * (1 - np.exp(-2 * t *eta)), \n",
    "             1/4 * (1 - np.exp(-2 * t *eta)),\n",
    "             1/4 * (1 + np.exp(-2 * t * eta) - 2 *np.exp(-t *eta) * np.cos(t *omega))]\n",
    "\n",
    "1. Write the functions `p_ncp(t)` and `p_enm(t)` that return the circuit simulating the Pauli channel at time $t$ for the two dynamics above.\n",
    "1. Write a circuit in which you prepare two qubits (the system and memory) in a $|\\Psi^-\\rangle$ state.\n",
    "3. Let's use the following time steps and parameters for the dynamics.\n",
    "\n",
    "        t_values = np.linspace(0, 3, 11)\n",
    "\n",
    "        params_ncp = {'eta': 0.1, 'omega': 2.0}\n",
    "        params_enm = {'eta': 1.0, 'omega': 0.5}\n",
    "\n",
    "    write the circuits implementing the dynamics for each of the `t_values`, and append two-qubit tomography circuits (for the system and memory qubit) to them.\n",
    "   \n",
    "4. Execute the circuits on the simulator, collect the results and plot the extractable work as a function of time for both dynamics.\n"
   ]
  },
  {
   "cell_type": "markdown",
   "metadata": {},
   "source": [
    "## Homework\n",
    "\n",
    "1. Use the circuit of the general Pauli channel to implement the depolarizing channel on the real machine, and compare the experimental outcome with the ones from the previous project. Which one has higher fidelities?\n",
    "\n",
    "2. Run the code above on a real device and compare it with the simulation."
   ]
  },
  {
   "cell_type": "code",
   "execution_count": null,
   "metadata": {},
   "outputs": [],
   "source": []
  }
 ],
 "metadata": {
  "kernelspec": {
   "display_name": "Python 3",
   "language": "python",
   "name": "python3"
  },
  "language_info": {
   "codemirror_mode": {
    "name": "ipython",
    "version": 3
   },
   "file_extension": ".py",
   "mimetype": "text/x-python",
   "name": "python",
   "nbconvert_exporter": "python",
   "pygments_lexer": "ipython3",
   "version": "3.8.5"
  }
 },
 "nbformat": 4,
 "nbformat_minor": 2
}