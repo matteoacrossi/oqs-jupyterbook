{
 "cells": [
  {
   "cell_type": "markdown",
   "metadata": {},
   "source": [
    "$\\newcommand{\\Mn}{M_n(\\mathbb{C})}$\n",
    "$\\newcommand{\\Mq}{M_2(\\mathbb{C})}$\n",
    "$\\newcommand{\\Mk}{M_k(\\mathbb{C})}$\n",
    "$\\newcommand{\\Mm}{M_m(\\mathbb{C})}$\n",
    "$\\newcommand{\\Mnm}{M_{n \\times m}(\\mathbb{C})}$\n",
    "$\\newcommand{\\Mnp}{M_n^+(\\mathbb{C})}$\n",
    "$\\newcommand{\\ra}{\\,\\rightarrow\\,}$\n",
    "$\\newcommand{\\id}{\\mbox{id} }$\n",
    "$\\newcommand{\\ot}{ {\\,\\otimes\\,} }$\n",
    "$\\newcommand{\\Cd}{ {\\mathbb{C}^d} }$\n",
    "$\\newcommand{\\Rn}{ {\\mathbb{R}^n} }$"
   ]
  },
  {
   "cell_type": "markdown",
   "metadata": {},
   "source": [
    "This section is based on Ref. [[1](#1)]."
   ]
  },
  {
   "cell_type": "markdown",
   "metadata": {},
   "source": [
    "An open quantum system is a system $S$ which is coupled to an environment $B$. It is therefore a subsystem of the total system $S+B$. The total system is usually considered a closed system, i.e., its evolution follows Hamiltonian dynamics. The state of the system $S$ will change due to both its internal dynamics and the interaction with the environment $B$. Due to the establishment of system-environment correlations the dynamics of $S$ cannot be considered unitary anymore. The dynamics of $S$ induced by the total system dynamics is called reduced system dynamics and $S$ is also known as reduced system. The density matrix of the reduced system $\\varrho_{S}$ is obtained from the density matrix of the total system $\\varrho_{SB}$ by performing a partial trace over the environmental degrees of freedom $\\varrho_{S}\\equiv \\textrm{Tr}_{B}[\\varrho_{SB}]$.\n",
    "If we indicate with $\\mathcal{H}_S$ and $\\mathcal{H}_B$ the Hilbert spaces of system and environment, respectively, and with $\\{ \\vert e_j \\rangle \\}$ an orthonormal basis of $\\mathcal{H}_B$, then \n",
    "\\begin{eqnarray}\n",
    "\\varrho_{S}\\equiv {\\rm Tr}_{B}[\\varrho_{SB}] = \\sum_j \\langle e_j \\vert \\varrho_{SB} \\vert e_j \\rangle .\n",
    "\\tag{3.1}\n",
    " \\end{eqnarray}"
   ]
  },
  {
   "cell_type": "markdown",
   "metadata": {},
   "source": [
    "## 3.1. Microscopic approach <a id='approach'></a>"
   ]
  },
  {
   "cell_type": "markdown",
   "metadata": {},
   "source": [
    "In the microscopic approach to open quantum systems dynamics we start by modeling the total closed system, whose Hilbert space is $\\mathcal{H}_S  \\otimes  \\mathcal{H}_B$, by means of the microscopic Hamiltonian\n",
    "\\begin{eqnarray}\n",
    "H=H_{S} \\otimes  {\\rm I} _B +H_{B}  \\otimes  {\\rm I} _S +H_{I},\n",
    "\\tag{3.2}\n",
    "\\end{eqnarray}\n",
    "\n",
    " where $H_{S}$ and $H_{B}$ are the free Hamiltonians of the system and of the environment, respectively, and $H_{I}$ is the interaction term.\n",
    " Generally, the initial state of the total system, i.e. the state of the total system at $t=0$, is assumed to be of the form $\\varrho_{SB} (0) = \\varrho_{S} (0) \\otimes \\varrho_{B}$. This means that no correlations between system and environment are initially present. As the total system is closed, we can write its unitary evolution as \n",
    " \n",
    "\\begin{equation}\n",
    "\\varrho_{SB} (t) = U(t) \\varrho_{SB} (0) U^{\\dagger} (t),\n",
    "\\tag{3.3}\n",
    "\\end{equation}\n",
    " \n",
    " with $U(t)= \\exp [-i H t]$. If we now take the partial trace over the environment in the equation above, we have:\n",
    " \n",
    "\\begin{equation}\n",
    "\\varrho_{S} (t) = {\\rm Tr}_B \\{ U(t) \\varrho_{SB} (0) U^{\\dagger} (t)\\} =  {\\rm Tr}_B \\{ U(t) \\ \\varrho_{S} (0) \\otimes \\varrho_{B} U^{\\dagger} (t)\\} \\equiv \\Lambda_t   \\varrho_{S} (0) .\n",
    "\\tag{3.4}\n",
    "\\end{equation}\n",
    " \n",
    "where $\\Lambda_t$  is the dynamical map."
   ]
  },
  {
   "cell_type": "markdown",
   "metadata": {},
   "source": [
    "In the following we will describe the assumptions that allow us, starting from a microscopic description of system plus environment, to derive a master equation which is physically meaningful. These are not the minimal assumptions, however. Namely, there exist physically meaningful master equations that are more general than the type we are going to derive in the following. We will examine the more general cases later during the course. For now, let us focus on what are known as Markovian master equations and let us describe the assumptions that are needed to derive them following a microscopic approach. It is important to stress that Markovian master equations have played a prominent role in the advancement of fields of importance such as quantum optics and quantum information theory as they are very good approximations in a number of physical scenarios  (e.g., for trapped ions and cavity QED systems)."
   ]
  },
  {
   "cell_type": "markdown",
   "metadata": {},
   "source": [
    "Let us consider the dynamics of the overall density operator $\\varrho_{SB}$ given by the von Neumann equation which, in units of $\\hbar$ and in the interaction picture, reads as follows\n",
    "\\begin{equation}\n",
    "\\frac{d{\\varrho}_{SB} (t)}{dt}=-i[H_{I}(t),\\varrho_{SB} (t)], \\label{eq:1}\n",
    "\\tag{3.5}\n",
    "\\end{equation}\n",
    "\n",
    "where we omit for simplicity of notation the subscript $I$ which we should use to indicate the density matrix in the interaction picture.\n",
    "The integral form of this equation is \n",
    "\\begin{equation}\n",
    "\\varrho_{SB}(t)= \\varrho_{SB}(0) - i \\int_{0}^{t}ds [H_{I}(s),\\varrho_{SB}(s)]. \n",
    "\\label{eq:2}\n",
    "\\tag{3.6}\n",
    "\\end{equation}\n",
    " \n",
    "Inserting Eq. (\\ref{eq:2}) into Eq. (\\ref{eq:1}) and taking the partial trace over the environmental degrees of freedom we get \\ref{eq:2}\n",
    "\n",
    "\\begin{equation}\n",
    "\\frac{d\\varrho_{S} }{dt}(t)=-\\int_{0}^{t}ds\\textrm{Tr}_{B}\\{[H_{I}(t),[H_{I}(s),\\varrho_{SB}(s)]]\\},\n",
    "\\label{micro1}\n",
    "\\tag{3.7}\n",
    "\\end{equation}\n",
    " \n",
    "where we have assumed $\\textrm{Tr}_{B}[H_{I}(t),\\varrho_{SB}(0)]=0$."
   ]
  },
  {
   "cell_type": "markdown",
   "metadata": {},
   "source": [
    "We assume now that system and environment are weakly coupled (Born approximation). This approximation amounts to assuming that the correlations established between system and environment are negligible at all times (remember that they were initially zero), i.e.,\n",
    "\n",
    "$$\n",
    " \\varrho_{SB}(t)\\approx\\varrho_{S}(t)\\otimes\\varrho_{B} .\n",
    "$$\n",
    " \n",
    "Within this approximation we get a closed integro-differential equation for $\\varrho_{S}(t)$\n",
    "\n",
    "\\begin{equation}\n",
    "\\frac{d\\varrho_{S} (t)}{dt}=-\\int_{0}^{t}ds\\textrm{Tr}_{B}\\{[H_{I}(t),[H_{I}(s),\\varrho_{S}(s)\\otimes\\varrho_{B}]]\\} .\n",
    "\\label{micro2}\n",
    "\\tag{3.8}\n",
    "\\end{equation}\n",
    "\n",
    "Note that, in the equation above, the future evolution of the system, described by $\\frac{d\\varrho_{s} }{dt}(t)$, depends on the past states of the system $\\varrho_{S}(s)$ for times $s < t$ through the integral.  "
   ]
  },
  {
   "cell_type": "markdown",
   "metadata": {},
   "source": [
    "A further simplification to this equation is obtained by assuming that we can replace $\\varrho_{S}(s)$ appearing inside the integral with its value at time $t$, $\\varrho_{S}(t)$. This is possible if the density matrix does not change sensibly in the interval of time $0 \\le s \\le t$. But $t$ here is a variable so one may think that this approximation gets worse and worse for bigger and bigger values of time $t$. This reasoning would be correct if the integrand of Eq. (\\ref{micro2}) were, e.g., constant in time. However, in many physical situations this integrand (or rather that part of it describing the environment correlations) quickly decays to zero after a short characteristic correlation time $\\tau_B$. This time scale quantifies the memory time of the reservoir. Hence, if the density matrix of the system does not change sensibly in the correlation time $\\tau_B$, then we can approximate $\\varrho_{S}(s)$ with $\\varrho_{S}(t)$ in Eq. (\\ref{micro2}). The resulting equation is known as the Redfield equation  \n",
    "\n",
    "\\begin{equation}\n",
    "\\frac{d\\varrho_{S} (t)}{dt}=-\\int_{0}^{t}ds\\textrm{Tr}_{B}\\{[H_{I}(t),[H_{I}(s),\\varrho_{S}(t)\\otimes\\varrho_{B}]]\\}.\n",
    "\\label{micro4}\n",
    "\\tag{3.9}\n",
    "\\end{equation}\n",
    " \n",
    "Equation (\\ref{micro4}) is local in time, i.e., the future evolution of the state of the system does not depend on its past state. However, it still retains memory of the initial state $\\varrho_{S} (0)$."
   ]
  },
  {
   "cell_type": "markdown",
   "metadata": {},
   "source": [
    "Until now we have assumed the the density matrix does not change much within the correlation time $\\tau_B$. The next step will be to neglect such a change altogether, by performing a coarse-graining in time. This is mathematically achieved by replacing the upper limit of the integral in Eq. (\\ref{micro4})  with $\\infty$: \n",
    "\n",
    "\\begin{equation}\n",
    "\\frac{d\\varrho_{S} }{dt}(t)=-\\int_{0}^{\\infty}ds\\textrm{Tr}_{B}\\{[H_{I}(t),[H_{I}(t-s),\\varrho_{S}(t)\\otimes\\varrho_{B}]]\\},\n",
    "\\label{micro44}\n",
    "\\tag{3.10}\n",
    "\\end{equation}\n",
    " \n",
    "where we have replaced for the sake of convenience $s$ with $t-s$.\n",
    "\n",
    "The two-step approximation described in Eqs. (\\ref{micro4}) and (\\ref{micro44}) is known as the Markov approximation. So we say that  Eq. (\\ref{micro44}) is derived from a microscopic model under the Born-Markov approximation, i.e., for weak coupling and quickly decaying reservoir correlations (memoryless dynamics)."
   ]
  },
  {
   "cell_type": "markdown",
   "metadata": {},
   "source": [
    "Let us decompose the interaction Hamiltonian $H_{I}$ in terms of operators of the system and of the environment:\n",
    " \n",
    "$$\n",
    "H_{I}=\\sum_{\\alpha}A_{\\alpha}\\otimes B_{\\alpha}\n",
    "$$\n",
    "with $A_{\\alpha} (B_{\\alpha})$ Hermitian operators of the system (environment). \n",
    "\n",
    "Let us assume that $H_{S}$ has a discrete spectrum and let us indicate with $\\epsilon$ the eigenvalues and with $\\Pi(\\epsilon)$ the corresponding projectors into the corresponding eigenspace. We define the eigenoperators of the system as follows\n",
    "\n",
    "\\begin{equation} \n",
    "A_{\\alpha}(\\omega)=\\sum_{\\epsilon'-\\epsilon=\\omega}\\Pi(\\epsilon)A_{\\alpha}\\Pi(\\epsilon').\n",
    "\\tag{3.11}\n",
    "\\end{equation}\n",
    "\n",
    "These operators have some important properties:\n",
    "\n",
    "- $[H_{S},A_{\\alpha}(\\omega)]=-\\omega A_{\\alpha}(\\omega)$; ($A_{\\alpha}$ is an eigenoperator of $H_S$ with eigenvalue $- \\omega$).\n",
    "- $[H_{S},A_{\\alpha}^{\\dagger}(\\omega)]=\\omega A_{\\alpha}^{\\dagger}(\\omega)$; ($A_{\\alpha}$ is an eigenoperator of $H_S$ with eigenvalue $ \\omega$).\n",
    "- Eigenoperators in the interaction picture: $A_{\\alpha}^{\\textrm{I} }(\\omega)=e^{-i\\omega t}A_{\\alpha}(\\omega), A_{\\alpha}^{\\dagger\\textrm{I} }(\\omega)=e^{i\\omega t}A_{\\alpha}^{\\dagger}(\\omega)$.\n",
    "- $A_{\\alpha}^{\\dagger}(\\omega)=A_{\\alpha}(-\\omega)$.\n",
    "- Completeness: $\\sum_{\\omega}A_{\\alpha}(\\omega)=\\sum_{\\omega}A_{\\alpha}^{\\dagger}(\\omega)=A_{\\alpha}$."
   ]
  },
  {
   "cell_type": "markdown",
   "metadata": {},
   "source": [
    "We can rewrite the interaction Hamiltonian in terms of eigenoperators of $H_{S}$, and then pass to the interaction picture exploiting the fact that the system eigenoperators have a simple time dependency in this picture. The environment operator in the interaction picture are simply given by $B_{\\alpha}(t) = e^{i H_B t} B_{\\alpha}  e^{- i H_B t}.$"
   ]
  },
  {
   "cell_type": "markdown",
   "metadata": {},
   "source": [
    "After some algebra, we can rewrite the master equation in the following form\n",
    "\n",
    "\\begin{equation}\n",
    "\\frac{d\\varrho_{s} }{dt}(t)=\\sum_{\\omega,\\omega'}\\sum_{\\alpha,\\beta}e^{i(\\omega'-\\omega)t}\\Gamma_{\\alpha\\beta}(\\omega)[A_{\\beta}(\\omega)\\varrho_{S}(t)A_{\\alpha}^{\\dagger}(\\omega')-A_{\\alpha}^{\\dagger}(\\omega')A_{\\beta}(\\omega)\\varrho_{S}(t)]+\\textrm{h.c.}\n",
    "\\label{micro5}\n",
    "\\tag{3.12}\n",
    "\\end{equation}\n",
    "where we introduced\n",
    "$$\n",
    "\\Gamma_{\\alpha\\beta}(\\omega)\\equiv\\int_{0}^{\\infty}dse^{i\\omega s}\\langle B_{\\alpha}^{\\dagger}(t)B_{\\beta}(t-s)\\rangle ,\n",
    "$$\n",
    "\n",
    "with the reservoir correlation functions given by\n",
    "$$\n",
    "\\langle B_{\\alpha}^{\\dagger}(t)B_{\\beta}(t-s)\\rangle\\equiv\\textrm{Tr}_{B}\\{B_{\\alpha}^{\\dagger}(t)B_{\\beta}(t-s)\\varrho_{B}\\}.\n",
    "$$\n",
    "\n",
    "Such correlation functions are homogeneous in time if the reservoir is stationary, i.e.\n",
    "\n",
    "$$\n",
    "\\langle B_{\\alpha}^{\\dagger}(t)B_{\\beta}(t-s)\\rangle=\\langle B_{\\alpha}^{\\dagger}(s)B_{\\beta}(0)\\rangle.\n",
    "$$"
   ]
  },
  {
   "cell_type": "markdown",
   "metadata": {},
   "source": [
    "We now make the last approximation, known as the secular approximation. First we define $\\tau_{S}$ as the characteristic intrinsic evolution time of the system. This timescale is generally of the order of $\\tau_{S}\\approx|\\omega'-\\omega|^{-1}, \\omega'\\ne\\omega$. We indicate with $\\tau_{R}$ the relaxation time of the open system. If $\\tau_{S}\\gg\\tau_{R}$ we can neglect all the exponential terms oscillating at frequency $|\\omega'-\\omega| \\ne0$ as they oscillate very rapidly (averaging out to zero) over the time scale $\\tau_R$ over which $\\varrho_{S}$ changes appreciably. We then decompose the environment correlation functions into its real and imaginary parts\n",
    "\n",
    "$$\n",
    "\\Gamma_{\\alpha\\beta}(\\omega)=\\frac{1}{2}\\gamma_{\\alpha\\beta}(\\omega)+iS_{\\alpha\\beta}(\\omega),\n",
    "$$\n",
    "where, for fixed $\\omega$, \n",
    "$$\n",
    "\\gamma_{\\alpha\\beta}(\\omega)=\\Gamma_{\\alpha\\beta}(\\omega)+\\Gamma_{\\beta\\alpha}^{*}(\\omega)=\\int_{-\\infty}^{+\\infty}dse^{i\\omega s}\\langle B_{\\alpha}^{\\dagger}(s)B_{\\beta}(0)\\rangle,\n",
    "$$\n",
    "\n",
    "form a positive matrix and \n",
    "$$\n",
    "S_{\\alpha\\beta}(\\omega)=\\frac{1}{2i} [\\Gamma_{\\alpha\\beta}(\\omega)-\\Gamma_{\\beta\\alpha}^{*}(\\omega)],\n",
    "$$\n",
    "form a Hermitian matrix."
   ]
  },
  {
   "cell_type": "markdown",
   "metadata": {},
   "source": [
    "With these definitions we finally arrive at the interaction picture master equation\n",
    "\n",
    "\\begin{equation}\n",
    "\\frac{d\\varrho_{S} }{dt}(t)=-i[H_{LS},\\varrho_{S}(t)]+L\\varrho_{S}(t)\n",
    "\\label{micro6}\n",
    "\\tag{3.13}\n",
    "\\end{equation}\n",
    "\n",
    "where\n",
    "$$\n",
    "H_{LS}=\\sum_{\\omega}\\sum_{\\alpha,\\beta}S_{\\alpha\\beta}(\\omega)A_{\\alpha}^{\\dagger}(\\omega)A_{\\beta}(\\omega)\n",
    "$$\n",
    "is a Lamb-Shift term which provides a Hamiltonian contribution to the dynamics and\n",
    "\n",
    "$$\n",
    "L\\varrho_{S}=\\sum_{\\omega}\\sum_{\\alpha,\\beta}\\gamma_{\\alpha\\beta}\\left[A_{\\beta}(\\omega)\\varrho_{S}A_{\\alpha}^{\\dagger}(\\omega)-\\frac{1}{2}\\{A_{\\alpha}^{\\dagger}(\\omega)A_{\\beta}(\\omega),\\varrho_{S}\\}\\right].\n",
    "$$ \n",
    "\n",
    "This form of the dissipator (generator of the dynamics) $L$ is know as first standard form. Diagonalizing the real positive matrix $\\gamma_{\\alpha\\beta}(\\omega)$ we get the Gorini, Kossakowski, Sudarshan, Lindblad (GKSL) Markovian master equation\n",
    "\n",
    "$$\n",
    "L\\varrho_{S}=\\sum_{\\omega}\\sum_{\\alpha}\\gamma_{\\alpha}(\\omega)\\left[\\bar{A}_{\\alpha}(\\omega)\\varrho_{S}\\bar{A}_{\\alpha}^{\\dagger}(\\omega)-\\frac{1}{2}\\{\\bar{A}_{\\alpha}^{\\dagger}(\\omega)\\bar{A}_{\\alpha}(\\omega),\\varrho_{S}\\}\\right].\n",
    "$$"
   ]
  },
  {
   "cell_type": "markdown",
   "metadata": {},
   "source": [
    "### Examples <a id='ex'></a>"
   ]
  },
  {
   "cell_type": "markdown",
   "metadata": {},
   "source": [
    "> 1) Two-level atom in the vacuum (spontaneous emission)\n",
    ">\n",
    "> \\begin{equation}\n",
    "\\frac{d\\varrho}{dt}=-i[H,\\varrho]+\\Gamma\\left[\\sigma_{-}\\varrho\\sigma_{+}-\\frac{1}{2}\\{\\sigma_{+}\\sigma_{-},\\varrho\\}\\right]\n",
    "\\label{spontem}\n",
    "\\tag{3.14}\n",
    "\\end{equation}\n",
    ">\n",
    "> where  \n",
    "> $$\n",
    "H=\\omega_{0}\\sigma_{z} .\n",
    "$$"
   ]
  },
  {
   "cell_type": "markdown",
   "metadata": {},
   "source": [
    "> 2) Lossy quantum harmonic oscillator (electromagnetic field in a cavity) \n",
    "> \n",
    "> \\begin{equation}\n",
    "\\frac{d\\varrho}{dt}=-i[H,\\varrho]+\\gamma(N+1)\\left[a\\varrho a^{\\dagger}-\\frac{1}{2}\\{a^{\\dagger}a,\\varrho\\}\\right]+\\gamma N\\left[a^{\\dagger}\\varrho a-\\frac{1}{2}\\{aa^{\\dagger},\\varrho\\}\\right]\n",
    "\\label{qharmosc}\n",
    "\\tag{3.15}\n",
    "\\end{equation}\n",
    "> \n",
    "> where  \n",
    "> $$\n",
    "H=\\omega_{0}a^{\\dagger}a .\n",
    "$$ "
   ]
  },
  {
   "cell_type": "markdown",
   "metadata": {},
   "source": [
    "## References <a id='ref'></a>\n",
    "\n",
    "[1] [H.-P. Breuer and F. Petruccione, *The Theory of Open Quantum Systems* (Oxford Univ. Press, Oxford, 2007)](https://dx.doi.org/10.1093/acprof:oso/9780199213900.001.0001) <a id='1'></a>"
   ]
  },
  {
   "cell_type": "code",
   "execution_count": null,
   "metadata": {},
   "outputs": [],
   "source": []
  }
 ],
 "metadata": {
  "celltoolbar": "Edit Metadata",
  "kernelspec": {
   "display_name": "Python 3",
   "language": "python",
   "name": "python3"
  },
  "language_info": {
   "codemirror_mode": {
    "name": "ipython",
    "version": 3
   },
   "file_extension": ".py",
   "mimetype": "text/x-python",
   "name": "python",
   "nbconvert_exporter": "python",
   "pygments_lexer": "ipython3",
   "version": "3.7.4"
  }
 },
 "nbformat": 4,
 "nbformat_minor": 2
}
