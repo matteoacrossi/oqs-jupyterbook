{
 "cells": [
  {
   "cell_type": "code",
   "execution_count": null,
   "metadata": {},
   "outputs": [],
   "source": [
    "import numpy as np\n",
    "from bokeh.layouts import row, column\n",
    "from bokeh.models import ColumnDataSource, Slider, CustomJS, Text\n",
    "from bokeh.plotting import Figure, show\n",
    "from bokeh.io import output_notebook "
   ]
  },
  {
   "cell_type": "markdown",
   "metadata": {},
   "source": [
    "\n",
    "\n",
    "#### Testing two parameters (doesn't work yet) (maybe with pandas multilevel dataframes?)"
   ]
  },
  {
   "cell_type": "markdown",
   "metadata": {},
   "source": [
    "#### Jaynes Cummings"
   ]
  },
  {
   "cell_type": "code",
   "execution_count": null,
   "metadata": {},
   "outputs": [],
   "source": [
    "def c1t(t, lam = 1., R = .25, c10 = 1.):\n",
    "    \n",
    "    expt = lam * t / 2\n",
    "    \n",
    "    if R == .5:\n",
    "        output = c10 * np.exp(-expt) * (1 + expt)\n",
    "    #elif R == 0:\n",
    "    #    output = c10 * np.exp(-expt) * (np.cosh(expt * sqt) + np.sinh(expt*sqt) / sqt)\n",
    "    elif R < .5:\n",
    "        sqt = np.sqrt(1-2*R)\n",
    "        output = c10 * np.exp(-expt) * (np.cosh(expt * sqt) + np.sinh(expt*sqt) / sqt)\n",
    "    elif R > .5:\n",
    "        sqt = np.sqrt(-1+2*R)\n",
    "        output = c10 * np.exp(-expt) * (np.cos(expt * sqt) + np.sin(expt*sqt) / sqt)\n",
    "\n",
    "        \n",
    "    return output"
   ]
  },
  {
   "cell_type": "code",
   "execution_count": null,
   "metadata": {},
   "outputs": [],
   "source": [
    "ts = [t*0.02 for t in range(0, 500)]\n",
    "\n",
    "Rmin = 0\n",
    "Rmax = 10\n",
    "Rstep = .2\n",
    "Rrange = np.arange(Rmin, Rmax, Rstep)\n",
    "Rrange_str = [str(i) for i in range(len(Rrange))]\n",
    "lamrange = np.arange(.1,2.,.1)\n",
    "lamrange_str = [str(lam) for lam in range(len(lamrange))]\n",
    "\n",
    "Rrange_str_R = ['R = {:.1f}'.format(R) for R in Rrange]\n",
    "#Rrange_str = ['{:.1f}'.format(i) for i in Rrange] # truncate to two decimals\n",
    "\n",
    "# make a dictionary of form {'0': 0.0, '1': 0.2, .. }\n",
    "Rrange_dict = {Rrange_str[i]:Rrange.round(2)[i] for i,_ in enumerate(Rrange)} # rounding to two decimals\n",
    "\n",
    "\n",
    "ys = {r_str:{lam_str:[c1t(t, R = Rrange[int(r_str)], lam = lamrange[int(lam_str)])**2 for t in ts] for lam_str in lamrange_str} for r_str in Rrange_str}\n",
    "#ys = {r_str:[c1t(t, R = Rrange_dict[r_str])**2 for t in ts] for r_str in Rrange_str}\n",
    "\n",
    "initial_r = Rrange_str[1]\n",
    "initial_lam = lamrange_str[1]\n"
   ]
  },
  {
   "cell_type": "code",
   "execution_count": null,
   "metadata": {},
   "outputs": [],
   "source": [
    "rs = {Rrange_str[i] : [Rrange_str_R[i]] for i,_ in enumerate(Rrange)} \n"
   ]
  },
  {
   "cell_type": "code",
   "execution_count": null,
   "metadata": {},
   "outputs": [],
   "source": [
    "ys['0'].keys()"
   ]
  },
  {
   "cell_type": "code",
   "execution_count": null,
   "metadata": {},
   "outputs": [],
   "source": [
    "# Wrap the data in two ColumnDataSources\n",
    "source_visible = ColumnDataSource(data=dict(\n",
    "    x = ts, y = ys[initial_r][initial_lam]))\n",
    "source_available = ColumnDataSource(data=ys)\n",
    "\n",
    "# Define plot elements\n",
    "plot = Figure(plot_width=400, plot_height=400, x_range=(-.1, 10), y_range=(-.01, 1))\n",
    "plot.line('x', 'y', source=source_visible, legend_label=\"ρ₁₁\", line_width=3, line_alpha=0.6)\n",
    "#plot.text(10,10,text='lalala',source=)\n",
    "\n",
    "# Add text\n",
    "text_source = ColumnDataSource({'r_value': ['%s' % Rrange_str_R[1]]})\n",
    "r_available = ColumnDataSource(data=rs)\n",
    "text = Text(x=7.5, y=.8, text='r_value', text_font_size='15pt')\n",
    "plot.add_glyph(text_source, text)\n",
    "\n",
    "# Add slider\n",
    "slider = Slider(value=int(initial_r),\n",
    "                start=np.min([int(i) for i in ys.keys()]),\n",
    "                end=np.max([int(i) for i in ys.keys()]),\n",
    "                step=1,\n",
    "                show_value = False)\n",
    "\n",
    "slider2 = Slider(value=int(initial_lam),\n",
    "                start=np.min([int(i) for i in ys['0'].keys()]),\n",
    "                end=np.max([int(i) for i in ys['0'].keys()]),\n",
    "                step=1,\n",
    "                show_value = False)\n",
    "\n",
    "\n",
    "\n",
    "# Define CustomJS callback, which updates the plot based on selected function\n",
    "# by updating the source_visible ColumnDataSource.\n",
    "slider.callback = CustomJS(\n",
    "    args=dict(source_visible=source_visible,\n",
    "              source_available=source_available,\n",
    "              text_source = text_source,\n",
    "              r_available = r_available), code=\"\"\"\n",
    "        var r_idx = cb_obj.value;\n",
    "        \n",
    "        // Get the data from the data sources\n",
    "        var data_visible = source_visible.data;\n",
    "        var data_available = source_available.data;\n",
    "        \n",
    "        // Change y-axis data according to the selected value\n",
    "        data_visible.y = data_available[r_idx];\n",
    "        \n",
    "        // text\n",
    "        text_source.data = {'r_value': [String(r_available.data[r_idx])]};\n",
    "        \n",
    "        // Update the plot\n",
    "        source_visible.change.emit();\n",
    "    \"\"\")\n",
    "\n",
    "slider2.callback = CustomJS(\n",
    "    args=dict(source_visible=source_visible,\n",
    "              source_available=source_available,\n",
    "              text_source = text_source,\n",
    "              r_available = r_available), code=\"\"\"\n",
    "        var lam_idx = cb_obj.value;\n",
    "        \n",
    "        // Get the data from the data sources\n",
    "        var data_visible = source_visible.data;\n",
    "        var data_available = source_available.data;\n",
    "        \n",
    "        // Change y-axis data according to the selected value\n",
    "        data_visible.y = data_available[lam_idx];\n",
    "        \n",
    "        // Update the plot\n",
    "        source_visible.change.emit();\n",
    "    \"\"\")\n",
    "\n",
    "layout = row(plot, slider)\n",
    "\n",
    "output_notebook()\n",
    "\n",
    "show(layout)"
   ]
  },
  {
   "cell_type": "code",
   "execution_count": null,
   "metadata": {},
   "outputs": [],
   "source": []
  }
 ],
 "metadata": {
  "kernelspec": {
   "display_name": "Python 3",
   "language": "python",
   "name": "python3"
  },
  "language_info": {
   "codemirror_mode": {
    "name": "ipython",
    "version": 3
   },
   "file_extension": ".py",
   "mimetype": "text/x-python",
   "name": "python",
   "nbconvert_exporter": "python",
   "pygments_lexer": "ipython3",
   "version": "3.7.2"
  }
 },
 "nbformat": 4,
 "nbformat_minor": 2
}
