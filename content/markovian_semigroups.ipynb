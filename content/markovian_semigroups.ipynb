{
 "cells": [
  {
   "cell_type": "markdown",
   "metadata": {
    "tags": [
     "hide_input"
    ]
   },
   "source": [
    "$\\newcommand{\\Mn}{M_n(\\mathbb{C})}$\n",
    "$\\newcommand{\\Mq}{M_2(\\mathbb{C})}$\n",
    "$\\newcommand{\\Mk}{M_k(\\mathbb{C})}$\n",
    "$\\newcommand{\\Mm}{M_m(\\mathbb{C})}$\n",
    "$\\newcommand{\\Mnm}{M_{n \\times m}(\\mathbb{C})}$\n",
    "$\\newcommand{\\Mnp}{M_n^+(\\mathbb{C})}$\n",
    "$\\newcommand{\\ra}{\\,\\rightarrow\\,}$\n",
    "$\\newcommand{\\id}{\\mbox{id} }$\n",
    "$\\newcommand{\\ot}{ {\\,\\otimes\\,} }$\n",
    "$\\newcommand{\\Cd}{ {\\mathbb{C}^d} }$\n",
    "$\\newcommand{\\Rn}{ {\\mathbb{R}^n} }$\n",
    "$\\newcommand{\\asterisk}{*}$"
   ]
  },
  {
   "cell_type": "markdown",
   "metadata": {},
   "source": [
    "Starting from a microscopic description of system, environment and their interaction, and performing a number of approximations, the most notable of which are the weak-coupling, the Markovian and the rotating-wave (secular) approximations, we have derived a master equation in a specific operatorial form, known as the Gorini, Kossakowski, Sudarshan, Lindblad (GKSL) form, often referred to as the Lindblad form. The importance of this master equation is connected to its particularly useful properties that guarantee, for a physical initial density operator, the time evolution remains physical at all subsequent times. In other words the dissipator $L$ is the generator of a  CPTP dynamical map."
   ]
  },
  {
   "cell_type": "markdown",
   "metadata": {},
   "source": [
    "In this section we recall the celebrated result derived independently by Gorini, Kossakowski and Sudarshan [[1](#1)] and Lindblad [[2](#2)].\n",
    "Consider the simplest case of a time independent generator $L$\n",
    "\\begin{equation}\\label{ME0}\n",
    "\\dot{\\Lambda}_t = L\\Lambda_t\\ ,\\ \\ \\ \\Lambda_0 = \\mathbb{1}_n\\ .\n",
    "\\tag{4.1} \n",
    "\\end{equation}\n",
    "\n",
    "The formal solution is given by $\\Lambda_t = e^{tL}$ for $t \\geq 0$ and hence satisfies the following composition law\n",
    "\n",
    "\\begin{equation}\\label{c-low}\n",
    "\\Lambda_t \\, \\Lambda_s = \\Lambda_{t+s}\\ ,\n",
    "\\tag{4.2}\n",
    "\\end{equation}\n",
    "\n",
    "for $t,s \\geq 0$. This proves that $\\Lambda_t$ provides a semigroup of linear maps (it is a semigroup since the inverse $\\Lambda_t^{-1}$ need not be  CP)."
   ]
  },
  {
   "cell_type": "markdown",
   "metadata": {},
   "source": [
    "The properties of $L$ are summarized in the following\n",
    "\n",
    "**Theorem 3 ([[1](#1), [2](#2)])**\n",
    "\n",
    "> A linear map $L : \\Mn \\ra \\Mn$ generates a legitimate dynamical semigroup if and only if\n",
    "> \n",
    "> \\begin{equation}\\label{MAIN}\n",
    "L(\\rho) = -i[H,\\rho] + \\Phi(\\rho) - \\frac 12 \\{ \\Phi^*(\\mathbb{I}_n),\\rho\\} \\ ,\n",
    "\\tag{4.3}\n",
    "\\end{equation}\n",
    "> \n",
    "> where $\\Phi : \\Mn \\ra \\Mn$ is CP, $\\Phi^\\asterisk$ denotes the dual map, and $H=H^\\dagger \\in \\Mn$.\n",
    "\n",
    "In what follows we call  $L$ satisfying ([4.3](#mjx-eqn-MAIN)) a GKSL generator."
   ]
  },
  {
   "cell_type": "markdown",
   "metadata": {},
   "source": [
    "**Remark 1**\n",
    "\n",
    "> If $\\Phi$ is only a positive map, then $L$ generates a semigroup of positive maps $\\Lambda_t$ which need not be CP.\n",
    "\n",
    "Let\n",
    "\\begin{equation}\\label{kr}\n",
    "\\Phi(\\rho) = \\sum_k V_k \\rho V_k^\\dagger\\ ,\n",
    "\\tag{4.4}\n",
    "\\end{equation}\n",
    "\n",
    "be a Kraus representation of $\\Phi$. Its dual is represented by $ \\Phi^*(X) = \\sum_k V_k^\\dagger X V_k$."
   ]
  },
  {
   "cell_type": "markdown",
   "metadata": {},
   "source": [
    "**Corollary 2**\n",
    "\n",
    "> A generator of a dynamical semigroup can be written in the following form\n",
    "> \n",
    "> \\begin{equation}\n",
    "L(\\rho) = -i[H,\\rho] +  \\sum_k \\left( V_k\\rho V_k^\\dagger - \\frac 12 \\{   V_k^\\dagger V_k, \\rho\\} \\right) \\ ,\n",
    "\\tag{4.5}\n",
    "\\end{equation}\n",
    "> \n",
    "> or equivalently\n",
    "> \n",
    "> \\begin{equation}\n",
    "L(\\rho) = -i[H,\\rho] + \\frac 12 \\sum_k \\left( [V_k,\\rho V_k^\\dagger] + [V_k\\rho,V_k^\\dagger] \\right) \\ .\n",
    "\\tag{4.6}\n",
    "\\end{equation}"
   ]
  },
  {
   "cell_type": "markdown",
   "metadata": {},
   "source": [
    "**Remark 2**\n",
    "\n",
    "> Note, that if $\\Phi$ is CP and trace preserving (i.e. a quantum channel), then $\\Phi^*(\\mathbb{I}_n) = \\mathbb{I}_n$ and hence the formula ([4.3](#mjx-eqn-MAIN)) simplifies to\n",
    "> \n",
    "> \\begin{equation}\\label{MAIN1}\n",
    "L(\\rho) = -i[H,\\rho] + \\Phi(\\rho) - \\rho\\ .\n",
    "\\tag{4.7}\n",
    "\\end{equation}\n",
    "\n",
    "Note that the dual map $L^*$ defines the generator of  quantum evolution in the Heisenberg picture\n",
    "\n",
    "\\begin{equation}\n",
    "L^*(X) = i[H,X] + \\Phi^*(X) - \\frac 12 \\{ \\Phi^*(\\mathbb{I}_n),X\\} \\ ,\n",
    "\\tag{4.8}\n",
    "\\end{equation}\n",
    "\n",
    "or using the Kraus representation ([4.4](#mjx-eqn-kr))\n",
    "\n",
    "\\begin{equation}\\label{}\n",
    "L^*(X) = i[H,X] + \\frac 12 \\sum_k \\left( [V^\\dagger_k,X V_k] + [V_k^\\dagger X,V_k] \\right) \\ .\n",
    "\\tag{4.9}\n",
    "\\end{equation}"
   ]
  },
  {
   "cell_type": "markdown",
   "metadata": {},
   "source": [
    "Let us consider simple examples of Markovian semigroups $\\Lambda_t$ and corresponding generators $L$."
   ]
  },
  {
   "cell_type": "markdown",
   "metadata": {},
   "source": [
    "### Example 4 <a id='ex4'></a> "
   ]
  },
  {
   "cell_type": "markdown",
   "metadata": {},
   "source": [
    "> Suppose that $\\Phi : \\Mn \\ra \\Mn$ is a quantum channel such that $\\Phi$ is a CP projector, i.e. $\\Phi^2=\\Phi$,  and consider\n",
    "> \n",
    "> \\begin{equation} \\label{L-Phi}\n",
    "    L = \\gamma (\\Phi - \\mathbb{1}_n)\\ ,\n",
    "\\tag{4.10}\n",
    "\\end{equation}\n",
    "> \n",
    "> where $\\gamma >0$ and we have assumed $H=0$. One finds  the corresponding solution\n",
    "> \n",
    "> \\begin{eqnarray}\n",
    "    \\Lambda_t &=& e^{tL} = e^{-\\gamma t} e^{\\gamma t\\Phi} = e^{-\\gamma t} \\left(  \\mathbb{1}_n + \\gamma t \\Phi  + \\frac 12 (\\gamma t)^2 \\Phi + \\ldots  \\right)  \\nonumber \\\\\n",
    "    &=&  e^{-\\gamma t} \\mathbb{1}_n + (1-e^{-\\gamma t}) \\Phi\\ ,\n",
    "\\tag{4.11}\n",
    "\\end{eqnarray}\n",
    "> \n",
    "> that is, $\\Lambda_t$ is a convex combination of two quantum channels: $\\mathbb{1}_n$ and $\\Phi$. A typical example of a completely positive projector is given by\n",
    "> \n",
    "> \\begin{equation}\n",
    "    \\Phi(\\rho) = \\sum_{k=1}^n P_k \\rho P_{k}\\ ,\n",
    "\\tag{4.12}\n",
    "\\end{equation}\n",
    "> \n",
    "> where $P_k = |k \\rangle \\langle k|$, i.e. $\\Phi$ projects $\\rho$ onto the diagonal: $\\Phi(\\rho) = \\sum_k \\rho_{kk} P_k$.  Hence\n",
    "> \n",
    "> \\begin{eqnarray}\n",
    "    \\rho_t = e^{-\\gamma t} \\rho  + (1-e^{-\\gamma t}) \\sum_{k=1}^n P_k \\rho\\, P_{k} \\ ,\n",
    "\\tag{4.13}\n",
    "\\end{eqnarray}\n",
    "> \n",
    "> which shows that diagonal elements $\\rho_{kk}$ remain invariant and off-diagonal $\\rho_{kl}$ are multiplied by the damping factor $e^{-\\gamma t}$. It is, therefore, clear that these dynamics describe pure decoherence with respect to an orthonormal basis $\\{|1\\rangle,\\ldots,|n\\rangle \\}$."
   ]
  },
  {
   "cell_type": "markdown",
   "metadata": {},
   "source": [
    "### Example 5 <a id='ex5'></a> "
   ]
  },
  {
   "cell_type": "markdown",
   "metadata": {},
   "source": [
    "> Suppose that $\\Phi : \\Mn \\ra \\Mn$ is a quantum channel such that $\\Phi^2=\\mathbb{1}_n$ and consider $L$ defined by ([4.10](#mjx-eqn-L-Phi)). One finds  the corresponding solution\n",
    ">\n",
    ">\\begin{eqnarray}\n",
    "    \\Lambda_t &=& e^{tL} = e^{-\\gamma t} e^{\\gamma t \\Phi} = e^{-\\gamma t} \\left(  \\mathbb{1}_n + \\gamma t \\Phi  + \\frac 12 (\\gamma t)^2 \\mathbb{1}_n  + \\frac{1}{3!} (\\gamma t)^3 \\Phi + \\ldots  \\right)  \\nonumber \\\\\n",
    "    &=&  e^{-\\gamma t} \\Big[ \\cosh(\\gamma t) \\mathbb{1}_n + \\sinh(\\gamma t) \\Phi \\Big]\\ ,\n",
    "\\end{eqnarray}\n",
    "> \n",
    "> or equivalently\n",
    "> \n",
    "> \\begin{equation}\n",
    "    \\Lambda_t = \\frac 12 ( 1+ e^{-2\\gamma t}) \\mathbb{1}_n + \\frac 12 (1- e^{-2\\gamma t}) \\Phi\\ ,\n",
    "\\end{equation}\n",
    "> \n",
    "> which is another convex combination of $\\mathbb{1}_n$ and $\\Phi$. To illustrate this class consider $n=2$ and let $\\Phi(\\rho) = \\sigma_z \\rho \\sigma_z$ which gives rise to the following generator\n",
    "> \\begin{equation}\n",
    "    L(\\rho) = \\gamma ( \\sigma_z \\rho \\sigma_z - \\rho)\\ .\n",
    "\\end{equation}\n",
    "> \n",
    "> One finds $\\, \\Phi^2(\\rho) = \\sigma_z(\\sigma_z \\rho \\sigma_z)\\sigma_z = \\rho$ and hence the corresponding evolution is given by\n",
    "> \n",
    "> \\begin{equation}\n",
    "    \\rho_t = \\Lambda_t(\\rho) = \\frac 12 ( 1+ e^{-2\\gamma t})\\, \\rho + \\frac 12 ( 1- e^{-2\\gamma t})\\, \\sigma_z \\rho \\sigma_z\\ .\n",
    "\\end{equation}\n",
    "> \n",
    "> Again this corresponds to a pure decoherence: $\\rho_{12} \\ra e^{-2 \\gamma t}\\rho_{12}$ while the diagonal elements $\\rho_{11}$ and $\\rho_{22}$ remain invariant."
   ]
  },
  {
   "cell_type": "markdown",
   "metadata": {},
   "source": [
    "## References <a id='ref'></a>\n",
    "\n",
    "[1] [V. Gorini, A. Kossakowski, and E. C. G. Sudarshan, J. Math. Phys. **17**, 821 (1976)](https://doi.org/10.1063/1.522979) <a id='1'></a>\n",
    "\n",
    "[2] [G. Lindblad, Comm. Math. Phys. **48**, 119 (1976)](https://doi.org/10.1007/BF01608499) <a id='2'></a>"
   ]
  },
  {
   "cell_type": "code",
   "execution_count": null,
   "metadata": {},
   "outputs": [],
   "source": []
  }
 ],
 "metadata": {
  "celltoolbar": "Edit Metadata",
  "kernelspec": {
   "display_name": "Python 3",
   "language": "python",
   "name": "python3"
  },
  "language_info": {
   "codemirror_mode": {
    "name": "ipython",
    "version": 3
   },
   "file_extension": ".py",
   "mimetype": "text/x-python",
   "name": "python",
   "nbconvert_exporter": "python",
   "pygments_lexer": "ipython3",
   "version": "3.7.4"
  }
 },
 "nbformat": 4,
 "nbformat_minor": 2
}
