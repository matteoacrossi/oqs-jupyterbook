{
 "cells": [
  {
   "cell_type": "markdown",
   "metadata": {},
   "source": [
    "# Project 2: Pauli channel\n",
    "\n",
    "# Solution"
   ]
  },
  {
   "cell_type": "code",
   "execution_count": 1,
   "metadata": {},
   "outputs": [],
   "source": [
    "import numpy as np\n",
    "from scipy.optimize import fsolve, differential_evolution\n",
    "from tqdm import tqdm\n",
    "\n",
    "# Main qiskit imports\n",
    "from qiskit import QuantumRegister, ClassicalRegister\n",
    "from qiskit import QuantumCircuit, execute, Aer, IBMQ\n",
    "\n",
    "# Tomography\n",
    "from qiskit.ignis.verification.tomography import state_tomography_circuits\n",
    "from qiskit.ignis.verification.tomography import StateTomographyFitter\n",
    "\n",
    "# Plots\n",
    "import matplotlib.pyplot as plt"
   ]
  },
  {
   "cell_type": "markdown",
   "metadata": {},
   "source": [
    "## Task 1\n",
    "An example of a Pauli channel that can't be implemented with the circuit introduced in Project 1, is indeed the eternally non-Markovian channel that we are implementing in this project!"
   ]
  },
  {
   "cell_type": "markdown",
   "metadata": {},
   "source": [
    "## Task 2"
   ]
  },
  {
   "cell_type": "code",
   "execution_count": 2,
   "metadata": {},
   "outputs": [],
   "source": [
    "# We have an analytical solution of the system of equations\n",
    "def theta_from_p(p):\n",
    "    \"\"\" Returns the angles [theta_1, theta_2, theta_3] that implement the Pauli channel with\n",
    "    probabilities p = [p_1, p_2, p_3]\"\"\"\n",
    "    \n",
    "    p = np.asarray(p, dtype=complex)\n",
    "    c = [np.sqrt(1 - np.sqrt(-4*p[0]**2 + (1 - 2*p[2])**2 + 8*p[0]*(p[2] + np.sqrt(-(p[2]*(-1 + 2*p[0] + p[2]))))))/np.sqrt(2),\n",
    "      np.sqrt(8*p[0]**3 - 4*p[0]**2*(-1 - 6*p[2] + np.sqrt(-4*p[0]**2 + (1 - 2*p[2])**2 + 8*p[0]*(p[2] + np.sqrt(-(p[2]*(-1 + 2*p[0] + p[2])))))) + \n",
    "           (1 - 2*p[2])**2*(-1 + 2*p[2] + np.sqrt(-4*p[0]**2 + (1 - 2*p[2])**2 + 8*p[0]*(p[2] + np.sqrt(-(p[2]*(-1 + 2*p[0] + p[2])))))) - \n",
    "           2*p[0]*(1 + 4*(p[2] - 3*p[2]**2 - p[2]*np.sqrt(-4*p[0]**2 + (1 - 2*p[2])**2 + 8*p[0]*(p[2] + np.sqrt(-(p[2]*(-1 + 2*p[0] + p[2]))))) + \n",
    "                 np.sqrt(-(p[2]*(-1 + 2*p[0] + p[2])))*np.sqrt(-4*p[0]**2 + (1 - 2*p[2])**2 + 8*p[0]*(p[2] + np.sqrt(-(p[2]*(-1 + 2*p[0] + p[2]))))))))/\n",
    "         (np.sqrt(2)*np.sqrt((-1 + 2*p[0] + 2*p[2])*(4*p[0]**2 + (1 - 2*p[2])**2 + p[0]*(4 + 8*p[2])))),\n",
    "      np.sqrt((8*p[0]**3 - 4*p[0]**2*(-1 - 6*p[2] + np.sqrt(-4*p[0]**2 + (1 - 2*p[2])**2 + 8*p[0]*(p[2] + np.sqrt(-(p[2]*(-1 + 2*p[0] + p[2])))))) + \n",
    "             (1 - 2*p[2])**2*(-1 + 2*p[2] + np.sqrt(-4*p[0]**2 + (1 - 2*p[2])**2 + 8*p[0]*(p[2] + np.sqrt(-(p[2]*(-1 + 2*p[0] + p[2])))))) - \n",
    "             2*p[0]*(1 + 4*(p[2] - 3*p[2]**2 - p[2]*np.sqrt(-4*p[0]**2 + (1 - 2*p[2])**2 + 8*p[0]*(p[2] + np.sqrt(-(p[2]*(-1 + 2*p[0] + p[2]))))) + \n",
    "                   np.sqrt(-(p[2]*(-1 + 2*p[0] + p[2])))*np.sqrt(-4*p[0]**2 + (1 - 2*p[2])**2 + 8*p[0]*(p[2] + np.sqrt(-(p[2]*(-1 + 2*p[0] + p[2]))))))))/\n",
    "           (4*p[0]**2 + (1 - 2*p[2])**2 + p[0]*(4 + 8*p[2])))/np.sqrt(-2 + 4*p[0] + 4*p[2])]\n",
    "\n",
    "    theta = 2*np.arccos(np.real(c))\n",
    "    return theta"
   ]
  },
  {
   "cell_type": "code",
   "execution_count": 3,
   "metadata": {},
   "outputs": [],
   "source": [
    "def pauli_channel(q, p, system, pauli_ancillae):\n",
    "    \"\"\"\n",
    "        Apply the Pauli channel to system with probabilities p\n",
    "        \n",
    "    Args:\n",
    "    q (QuantumRegister): the quantum register for the circuit\n",
    "    system (int): index of the system qubit\n",
    "    pauli_ancillae (list): list of indices of the ancillary qubits\n",
    "    p (list): list of probabilities [p_1, p_2, p_3] for the Pauli channel\n",
    "    \n",
    "    Returns:\n",
    "    A QuantumCircuit implementing the Pauli channel\n",
    "    \"\"\"\n",
    "    \n",
    "    theta = theta_from_p(p)\n",
    "    \n",
    "    dc = QuantumCircuit(q)\n",
    "    dc.ry(theta[0], q[pauli_ancillae[0]])\n",
    "    dc.cx(q[pauli_ancillae[0]], q[pauli_ancillae[1]])\n",
    "    dc.ry(theta[1], q[pauli_ancillae[0]])\n",
    "    dc.ry(theta[2], q[pauli_ancillae[1]])\n",
    "\n",
    "    dc.cx(q[pauli_ancillae[0]], q[system])\n",
    "    dc.cy(q[pauli_ancillae[1]], q[system])\n",
    "\n",
    "    return dc"
   ]
  },
  {
   "cell_type": "markdown",
   "metadata": {},
   "source": [
    "## Task 3\n",
    "\n",
    "By using the suggested imports, the functions `conditional_entropy` and `extractable_work` are actually\n",
    "one-liners..."
   ]
  },
  {
   "cell_type": "code",
   "execution_count": 4,
   "metadata": {},
   "outputs": [],
   "source": [
    "from qiskit.tools.qi.qi import entropy, partial_trace\n",
    "\n",
    "def conditional_entropy(state, qubit_a, qubit_b):\n",
    "    \"\"\"Conditional entropy S(A|B) = S(AB) - S(B)\n",
    "    \n",
    "    Args:\n",
    "        state: a vector or density operator\n",
    "        qubit_a: 0-based index of the qubit A\n",
    "        qubit_b: 0-based index of the qubit B\n",
    "        \n",
    "    Returns:\n",
    "        int: the conditional entropy\n",
    "    \"\"\"\n",
    "    return entropy(state) - entropy(partial_trace(state, [qubit_b]))\n",
    "\n",
    "def extractable_work(state, system_qubit, memory_qubit, n=1):\n",
    "    \"\"\"Extractable work from a two-qubit state\n",
    "    =\n",
    "    Cfr. Eq. (3-4) Bylicka et al., Sci. Rep. 6, 27989 (2016)\n",
    "    \n",
    "    Args:\n",
    "        qubit_a: 0-based index of the system qubit S\n",
    "        qubit_b: 0-based index of the memory qubit M\n",
    "    \"\"\"\n",
    "    return (n - conditional_entropy(state, system_qubit, memory_qubit)/np.log(2))"
   ]
  },
  {
   "cell_type": "markdown",
   "metadata": {},
   "source": [
    "## Task 4\n",
    "First of all, we define the function returning the probabilities as function of time:"
   ]
  },
  {
   "cell_type": "code",
   "execution_count": 5,
   "metadata": {},
   "outputs": [],
   "source": [
    "def p_enm(t, eta=1., omega=1.):\n",
    "    p = [1/4 * (1 - np.exp(-2 * t *eta)), \n",
    "         1/4 * (1 - np.exp(-2 * t *eta)),\n",
    "         1/4 * (1 + np.exp(-2 * t * eta) - 2 *np.exp(-t *eta) * np.cosh(t *omega))]\n",
    "    return p\n",
    "\n",
    "def p_ncp(t, eta=1., omega=1.):\n",
    "    p = [1/4 * (1 - np.exp(-2 * t *eta)), \n",
    "         1/4 * (1 - np.exp(-2 * t *eta)),\n",
    "         1/4 * (1 + np.exp(-2 * t * eta) - 2 *np.exp(-t *eta) * np.cos(t *omega))]\n",
    "    return p"
   ]
  },
  {
   "cell_type": "code",
   "execution_count": 6,
   "metadata": {},
   "outputs": [],
   "source": [
    "# Here are the parameters\n",
    "t_values = np.linspace(0, 3, 11)\n",
    "\n",
    "# Parameters\n",
    "params_ncp = {'eta': 0.1, 'omega': 2.0}\n",
    "params_enm = {'eta': 1.0, 'omega': .5}\n",
    "\n",
    "# And the qubit assignments\n",
    "SHOTS = 8192\n",
    "\n",
    "q = QuantumRegister(5, name='q')\n",
    "c = ClassicalRegister(2, name='c')\n",
    "\n",
    "system = 2\n",
    "ancilla = 4\n",
    "\n",
    "pauli_ancillae = [0, 1]"
   ]
  },
  {
   "cell_type": "markdown",
   "metadata": {},
   "source": [
    "The state preparation circuit"
   ]
  },
  {
   "cell_type": "code",
   "execution_count": 7,
   "metadata": {},
   "outputs": [
    {
     "data": {
      "text/plain": [
       "<qiskit.circuit.instructionset.InstructionSet at 0x1360595d0>"
      ]
     },
     "execution_count": 7,
     "metadata": {},
     "output_type": "execute_result"
    }
   ],
   "source": [
    "# Prepare the two qubits 0 and 2 in a psi- state\n",
    "prepare_two_qubit = QuantumCircuit(q)\n",
    "\n",
    "prepare_two_qubit.x(q[ancilla])\n",
    "prepare_two_qubit.x(q[system])\n",
    "prepare_two_qubit.h(q[ancilla])\n",
    "prepare_two_qubit.cx(q[ancilla], q[system]) \n",
    "prepare_two_qubit.barrier()"
   ]
  },
  {
   "cell_type": "markdown",
   "metadata": {},
   "source": [
    "And finally the simulation of the Pauli channel"
   ]
  },
  {
   "cell_type": "code",
   "execution_count": 9,
   "metadata": {},
   "outputs": [
    {
     "name": "stderr",
     "output_type": "stream",
     "text": [
      "100%|██████████| 11/11 [00:04<00:00,  2.41it/s]\n",
      "100%|██████████| 11/11 [00:04<00:00,  2.51it/s]\n"
     ]
    },
    {
     "data": {
      "image/png": "[encoded data removed]",
      "text/plain": [
       "<Figure size 432x288 with 1 Axes>"
      ]
     },
     "metadata": {
      "needs_background": "light"
     },
     "output_type": "display_data"
    }
   ],
   "source": [
    "wext_ncp = []\n",
    "\n",
    "for t in tqdm(t_values):\n",
    "    circ = prepare_two_qubit + pauli_channel(q, p_ncp(t, **params_ncp), system, pauli_ancillae)\n",
    "    tomo_circuits_ncp = state_tomography_circuits(circ, [q[ancilla], q[system]])\n",
    "\n",
    "    job = execute(tomo_circuits_ncp, Aer.get_backend('qasm_simulator'), shots=SHOTS)\n",
    "    result = job.result()\n",
    "    \n",
    "    tomo_fitter = StateTomographyFitter(result, tomo_circuits_ncp)\n",
    "    rho = tomo_fitter.fit()\n",
    "    \n",
    "    wext_ncp.append(extractable_work(rho, 1, 0))\n",
    "\n",
    "wext_enm = []\n",
    "\n",
    "for t in tqdm(t_values):\n",
    "    circ = prepare_two_qubit + pauli_channel(q, p_enm(t, **params_enm), system, pauli_ancillae)\n",
    "    tomo_circuits_enm = state_tomography_circuits(circ, [q[ancilla], q[system]])\n",
    "\n",
    "    job = execute(tomo_circuits_enm, Aer.get_backend('qasm_simulator'), shots=SHOTS)\n",
    "    result = job.result()\n",
    "    \n",
    "    tomo_fitter = StateTomographyFitter(result, tomo_circuits_enm)\n",
    "    rho = tomo_fitter.fit()\n",
    "    \n",
    "    wext_enm.append(extractable_work(rho, 1, 0))\n",
    "    \n",
    "plt.plot(t_values, wext_ncp, 'x', label='Non CP-div.')\n",
    "plt.plot(t_values, wext_enm, 'x', label='Et. Non-M')\n",
    "plt.legend()\n",
    "plt.xlabel('t')\n",
    "plt.ylabel('$W_{ex}$');"
   ]
  },
  {
   "cell_type": "code",
   "execution_count": null,
   "metadata": {},
   "outputs": [],
   "source": []
  }
 ],
 "metadata": {
  "kernelspec": {
   "display_name": "Python 3",
   "language": "python",
   "name": "python3"
  },
  "language_info": {
   "codemirror_mode": {
    "name": "ipython",
    "version": 3
   },
   "file_extension": ".py",
   "mimetype": "text/x-python",
   "name": "python",
   "nbconvert_exporter": "python",
   "pygments_lexer": "ipython3",
   "version": "3.7.2"
  }
 },
 "nbformat": 4,
 "nbformat_minor": 2
}
