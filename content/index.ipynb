{
 "cells": [
  {
   "cell_type": "markdown",
   "metadata": {},
   "source": [
    "# Open Quantum Systems with Qiskit\n",
    "\n",
    "This set of notebooks contains the material for a comprehensive 54-hour course on open quantum systems (OQS), starting from basic concepts and covering the most essential concepts in the literature of OQS. Moreover, we present a novel idea: to teach how to simulate many paradigmatic examples of OQS dynamics with Qiskit and the IBM Q processors. This idea finds its origin in a recent publication (https://arxiv.org/abs/1906.07099, currently in press at NPJ Quantum Information), in which we demonstrate that the IBM Q Experience is a versatile and robust platform for simulating open quantum systems.\n",
    "\n",
    "The course is aimed at master students with a background in Quantum Mechanincs and Quantum Information theory who are also familiar with Qiskit. It is divided into lectures and projects. Throught the lecture notes, the lecturer will find several examples of important concepts for OQS in terms of circuits, with which we assume the student to be acquainted. The lecture material also includes many circuits that enable the simulation of OQS dynamics on the real IBM Q devices, with comprehensive explanations on their working principles. Finally, the lectures are to be supplemented with guided practical \"hands-on\" sessions in which the students must implement the corresponding circuits and analyze the results.\n",
    "\n",
    "<img src=\"images/oqs.001.png\" width=500px style=\"float:right\"/>\n",
    "\n",
    "## Lectures\n",
    "\n",
    "1. [Introduction](introduction.html)\n",
    "2. [Preliminaries](preliminaries.html)\n",
    "3. [Microscopic derivation of the master equation](microscopic_derivation_of_the_markovian_master_equation.html)\n",
    "4. [Dynamical maps: Markovian semigroups](markovian_semigroups.html)\n",
    "5. [Dynamical maps: divisibility](divisible_maps.html#commanddiv)\n",
    "6. [Projection operator techniques](projection_operator_techniques.html)\n",
    "7. [Jaynes-Cummings with losses](jaynes_cummings_with_losses.html)\n",
    "8. [Non-Markovian quantum dynamics](non-markovian_quantum_dynamics.html)\n",
    "\n",
    "## Projects\n",
    "1. [Depolarizing channel](project_1-depolarizing_channel.html) ([Solution](project_1-solution.html))\n",
    "2. [Pauli channel](project_2-pauli_channel.html) ([Solution](project_2-solution.html))\n",
    "3. [Markovian reservoir engineering](project_3-reservoir-engineering.html) ([Solution](project_3-solution.html))\n",
    "3. [Amplitude damping channel](project_4-amplitude_damping.html) ([Solution](project_4-solution.html))\n"
   ]
  }
 ],
 "metadata": {
  "kernelspec": {
   "display_name": "Python 3",
   "language": "python",
   "name": "python3"
  },
  "language_info": {
   "codemirror_mode": {
    "name": "ipython",
    "version": 3
   },
   "file_extension": ".py",
   "mimetype": "text/x-python",
   "name": "python",
   "nbconvert_exporter": "python",
   "pygments_lexer": "ipython3",
   "version": "3.7.4"
  }
 },
 "nbformat": 4,
 "nbformat_minor": 2
}
